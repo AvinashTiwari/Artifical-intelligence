{
  "nbformat": 4,
  "nbformat_minor": 0,
  "metadata": {
    "colab": {
      "name": "Creating Image classification API with TensorFlow Serving.ipynb",
      "provenance": [],
      "collapsed_sections": []
    },
    "kernelspec": {
      "name": "python3",
      "display_name": "Python 3"
    },
    "accelerator": "GPU"
  },
  "cells": [
    {
      "cell_type": "markdown",
      "metadata": {
        "id": "yCrzPgLp7W1h",
        "colab_type": "text"
      },
      "source": [
        "## Stage 1: Install dependencies and setting up GPU environment"
      ]
    },
    {
      "cell_type": "code",
      "metadata": {
        "id": "w0KGbZuk7T7F",
        "colab_type": "code",
        "outputId": "e62f5fa9-4736-46bf-f5e8-d712c1441d95",
        "colab": {
          "base_uri": "https://localhost:8080/",
          "height": 111
        }
      },
      "source": [
        "!echo \"deb [arch=amd64] http://storage.googleapis.com/tensorflow-serving-apt stable tensorflow-model-server tensorflow-model-server-universal\" | sudo tee /etc/apt/sources.list.d/tensorflow-serving.list && curl https://storage.googleapis.com/tensorflow-serving-apt/tensorflow-serving.release.pub.gpg | sudo apt-key add -"
      ],
      "execution_count": 0,
      "outputs": [
        {
          "output_type": "stream",
          "text": [
            "deb [arch=amd64] http://storage.googleapis.com/tensorflow-serving-apt stable tensorflow-model-server tensorflow-model-server-universal\n",
            "  % Total    % Received % Xferd  Average Speed   Time    Time     Time  Current\n",
            "                                 Dload  Upload   Total   Spent    Left  Speed\n",
            "\r  0     0    0     0    0     0      0      0 --:--:-- --:--:-- --:--:--     0\r100  2343  100  2343    0     0   127k      0 --:--:-- --:--:-- --:--:--  127k\n",
            "OK\n"
          ],
          "name": "stdout"
        }
      ]
    },
    {
      "cell_type": "code",
      "metadata": {
        "id": "-AoEpKnD94Lj",
        "colab_type": "code",
        "outputId": "f93c76bc-ec68-48f7-aa30-995af2494eba",
        "colab": {
          "base_uri": "https://localhost:8080/",
          "height": 579
        }
      },
      "source": [
        "!apt-get update & apt-get install tensorflow-model-server"
      ],
      "execution_count": 0,
      "outputs": [
        {
          "output_type": "stream",
          "text": [
            "\rReading package lists... 0%\r\r0% [Working]\rReading package lists... 0%\r\r            \rHit:1 http://storage.googleapis.com/tensorflow-serving-apt stable InRelease\n",
            "\r0% [Connecting to archive.ubuntu.com (91.189.88.161)] [Connecting to security.u\r0% [1 InRelease gpgv 3,012 B] [Connecting to archive.ubuntu.com (91.189.88.161)\rReading package lists... 0%\r\rReading package lists... 7%\r\rReading package lists... 7%\r\rReading package lists... 8%\r\rReading package lists... 8%\r\r                                                                               \rHit:2 https://cloud.r-project.org/bin/linux/ubuntu bionic-cran35/ InRelease\n",
            "\r0% [1 InRelease gpgv 3,012 B] [Connecting to archive.ubuntu.com (91.189.88.161)\r                                                                               \rIgn:3 https://developer.download.nvidia.com/compute/cuda/repos/ubuntu1804/x86_64  InRelease\n",
            "\r0% [1 InRelease gpgv 3,012 B] [Connecting to archive.ubuntu.com (91.189.88.161)\r0% [Connecting to archive.ubuntu.com (91.189.88.161)] [Connecting to security.u\r0% [2 InRelease gpgv 3,609 B] [Connecting to archive.ubuntu.com (91.189.88.161)\r                                                                               \rIgn:4 https://developer.download.nvidia.com/compute/machine-learning/repos/ubuntu1804/x86_64  InRelease\n",
            "\r0% [2 InRelease gpgv 3,609 B] [Waiting for headers] [Waiting for headers] [Wait\r                                                                               \rHit:5 https://developer.download.nvidia.com/compute/cuda/repos/ubuntu1804/x86_64  Release\n",
            "\r0% [2 InRelease gpgv 3,609 B] [Waiting for headers] [Waiting for headers] [Wait\r                                                                               \rHit:6 https://developer.download.nvidia.com/compute/machine-learning/repos/ubuntu1804/x86_64  Release\n",
            "\r0% [2 InRelease gpgv 3,609 B] [Waiting for headers] [Waiting for headers] [Wait\r                                                                               \r0% [Waiting for headers] [Waiting for headers] [Waiting for headers]\r0% [Release.gpg gpgv 564 B] [Waiting for headers] [Waiting for headers] [Waitin\r                                                                               \rHit:7 http://archive.ubuntu.com/ubuntu bionic InRelease\n",
            "\r0% [Release.gpg gpgv 564 B] [Waiting for headers] [Waiting for headers] [Waitin\r                                                                               \rGet:8 http://security.ubuntu.com/ubuntu bionic-security InRelease [88.7 kB]\n",
            "\r0% [Release.gpg gpgv 564 B] [Waiting for headers] [8 InRelease 2,586 B/88.7 kB \r                                                                               \rHit:9 http://ppa.launchpad.net/graphics-drivers/ppa/ubuntu bionic InRelease\n",
            "\r0% [Release.gpg gpgv 564 B] [Waiting for headers] [8 InRelease 2,586 B/88.7 kB \r0% [Waiting for headers] [8 InRelease 11.3 kB/88.7 kB 13%] [Connecting to ppa.l\r0% [Release.gpg gpgv 564 B] [Waiting for headers] [8 InRelease 11.3 kB/88.7 kB \rReading package lists... 62%\r\r0% [Waiting for headers] [8 InRelease 14.2 kB/88.7 kB 16%] [Connecting to ppa.l\r0% [7 InRelease gpgv 242 kB] [Waiting for headers] [8 InRelease 14.2 kB/88.7 kB\rReading package lists... 72%\r\rReading package lists... 72%\r\rReading package lists... 73%\r\rReading package lists... 73%\r\r                                                                               \rGet:12 http://archive.ubuntu.com/ubuntu bionic-updates InRelease [88.7 kB]\n",
            "\r0% [7 InRelease gpgv 242 kB] [12 InRelease 1,153 B/88.7 kB 1%] [8 InRelease 14.\rReading package lists... 79%\r\rReading package lists... 79%\r\rReading package lists... 79%\r\rReading package lists... 79%\r\rReading package lists... 88%\r\rReading package lists... 88%\r\rReading package lists... 88%\r\rReading package lists... 88%\r\rReading package lists... 88%\r\rReading package lists... 88%\r\rReading package lists... 88%\r\rReading package lists... 88%\r\rReading package lists... 91%\r\rReading package lists... 91%\r\rReading package lists... 91%\r\rReading package lists... 91%\r\rReading package lists... 93%\r\rReading package lists... 93%\r\rReading package lists... 93%\r\rReading package lists... 93%\r\rReading package lists... 94%\r\rReading package lists... 94%\r\rReading package lists... 94%\r\rReading package lists... 94%\r\r0% [12 InRelease 15.6 kB/88.7 kB 18%] [8 InRelease 41.7 kB/88.7 kB 47%] [Waitin\r0% [9 InRelease gpgv 21.3 kB] [12 InRelease 15.6 kB/88.7 kB 18%] [8 InRelease 4\rReading package lists... 94%\r\rReading package lists... 94%\r\rReading package lists... 98%\r\rReading package lists... 98%\r\rReading package lists... 98%\r\rReading package lists... 98%\r\rReading package lists... 98%\r\rReading package lists... 98%\r\rReading package lists... 98%\r\rReading package lists... 98%\r\rReading package lists... Done\r\n",
            "\r                                                                               \rHit:13 http://ppa.launchpad.net/marutter/c2d4u3.5/ubuntu bionic InRelease\n",
            "\r0% [9 InRelease gpgv 21.3 kB] [12 InRelease 15.6 kB/88.7 kB 18%] [8 InRelease 4\rBuilding dependency tree... 0%\r\rBuilding dependency tree... 0%\r\rBuilding dependency tree... 50%\r\rBuilding dependency tree... 50%\r\r                                                                               \r0% [12 InRelease 30.1 kB/88.7 kB 34%] [8 InRelease 60.5 kB/88.7 kB 68%]\r0% [13 InRelease gpgv 15.4 kB] [12 InRelease 30.1 kB/88.7 kB 34%] [8 InRelease \r                                                                               \r0% [13 InRelease gpgv 15.4 kB] [12 InRelease 47.5 kB/88.7 kB 54%]\rBuilding dependency tree... 97%\r\rBuilding dependency tree       \r\n",
            "Reading state information... Done\n",
            "0% [8 InRelease gpgv 88.7 kB]The following package was automatically installed and is no longer required:\n",
            "  libnvidia-common-410\n",
            "Use 'apt autoremove' to remove it.\n",
            "0% [12 InRelease gpgv 88.7 kB] [Waiting for headers]The following NEW packages will be installed:\n",
            "  tensorflow-model-server\n",
            "0 upgraded, 1 newly installed, 0 to remove and 12 not upgraded.\n",
            "Need to get 136 MB of archives.\n",
            "After this operation, 0 B of additional disk space will be used.\n",
            "Get:14 http://archive.ubuntu.com/ubuntu bionic-backports InRelease [74.6 kB]\n",
            "Get:1 http://storage.googleapis.com/tensorflow-serving-apt stable/tensorflow-model-server amd64 tensorflow-model-server all 1.13.0 [136 MB]\n",
            "Fetched 252 kB in 2s (109 kB/s)\n",
            "Reading package lists... Done\n",
            "Fetched 136 MB in 4s (37.8 MB/s)\n",
            "E: Failed to fetch http://storage.googleapis.com/tensorflow-serving-apt/pool/tensorflow-model-server/t/tensorflow-model-server/tensorflow-model-server_1.13.0_all.deb  rename failed, No such file or directory (/var/cache/apt/archives/partial/tensorflow-model-server_1.13.0_all.deb -> /var/cache/apt/archives/tensorflow-model-server_1.13.0_all.deb).\n",
            "E: Unable to fetch some archives, maybe run apt-get update or try with --fix-missing?\n"
          ],
          "name": "stdout"
        }
      ]
    },
    {
      "cell_type": "code",
      "metadata": {
        "id": "a1cAehxr-M9p",
        "colab_type": "code",
        "outputId": "69ea043f-a279-4a28-994e-275807ad76a7",
        "colab": {
          "base_uri": "https://localhost:8080/",
          "height": 392
        }
      },
      "source": [
        "!pip install tensorflow-gpu==1.13.1"
      ],
      "execution_count": 0,
      "outputs": [
        {
          "output_type": "stream",
          "text": [
            "Requirement already satisfied: tensorflow-gpu==1.13.1 in /usr/local/lib/python3.6/dist-packages (1.13.1)\n",
            "Requirement already satisfied: tensorflow-estimator<1.14.0rc0,>=1.13.0 in /usr/local/lib/python3.6/dist-packages (from tensorflow-gpu==1.13.1) (1.13.0)\n",
            "Requirement already satisfied: termcolor>=1.1.0 in /usr/local/lib/python3.6/dist-packages (from tensorflow-gpu==1.13.1) (1.1.0)\n",
            "Requirement already satisfied: grpcio>=1.8.6 in /usr/local/lib/python3.6/dist-packages (from tensorflow-gpu==1.13.1) (1.15.0)\n",
            "Requirement already satisfied: absl-py>=0.1.6 in /usr/local/lib/python3.6/dist-packages (from tensorflow-gpu==1.13.1) (0.7.1)\n",
            "Requirement already satisfied: wheel>=0.26 in /usr/local/lib/python3.6/dist-packages (from tensorflow-gpu==1.13.1) (0.33.4)\n",
            "Requirement already satisfied: gast>=0.2.0 in /usr/local/lib/python3.6/dist-packages (from tensorflow-gpu==1.13.1) (0.2.2)\n",
            "Requirement already satisfied: keras-preprocessing>=1.0.5 in /usr/local/lib/python3.6/dist-packages (from tensorflow-gpu==1.13.1) (1.0.9)\n",
            "Requirement already satisfied: keras-applications>=1.0.6 in /usr/local/lib/python3.6/dist-packages (from tensorflow-gpu==1.13.1) (1.0.7)\n",
            "Requirement already satisfied: astor>=0.6.0 in /usr/local/lib/python3.6/dist-packages (from tensorflow-gpu==1.13.1) (0.7.1)\n",
            "Requirement already satisfied: numpy>=1.13.3 in /usr/local/lib/python3.6/dist-packages (from tensorflow-gpu==1.13.1) (1.16.3)\n",
            "Requirement already satisfied: tensorboard<1.14.0,>=1.13.0 in /usr/local/lib/python3.6/dist-packages (from tensorflow-gpu==1.13.1) (1.13.1)\n",
            "Requirement already satisfied: protobuf>=3.6.1 in /usr/local/lib/python3.6/dist-packages (from tensorflow-gpu==1.13.1) (3.7.1)\n",
            "Requirement already satisfied: six>=1.10.0 in /usr/local/lib/python3.6/dist-packages (from tensorflow-gpu==1.13.1) (1.12.0)\n",
            "Requirement already satisfied: mock>=2.0.0 in /usr/local/lib/python3.6/dist-packages (from tensorflow-estimator<1.14.0rc0,>=1.13.0->tensorflow-gpu==1.13.1) (3.0.5)\n",
            "Requirement already satisfied: h5py in /usr/local/lib/python3.6/dist-packages (from keras-applications>=1.0.6->tensorflow-gpu==1.13.1) (2.8.0)\n",
            "Requirement already satisfied: werkzeug>=0.11.15 in /usr/local/lib/python3.6/dist-packages (from tensorboard<1.14.0,>=1.13.0->tensorflow-gpu==1.13.1) (0.15.3)\n",
            "Requirement already satisfied: markdown>=2.6.8 in /usr/local/lib/python3.6/dist-packages (from tensorboard<1.14.0,>=1.13.0->tensorflow-gpu==1.13.1) (3.1)\n",
            "Requirement already satisfied: setuptools in /usr/local/lib/python3.6/dist-packages (from protobuf>=3.6.1->tensorflow-gpu==1.13.1) (41.0.1)\n"
          ],
          "name": "stdout"
        }
      ]
    },
    {
      "cell_type": "code",
      "metadata": {
        "id": "zfxOPCl7-Wp7",
        "colab_type": "code",
        "outputId": "ba1fa66f-154a-42d2-a1ce-0ff9e50d3384",
        "colab": {
          "base_uri": "https://localhost:8080/",
          "height": 111
        }
      },
      "source": [
        "!pip install requests"
      ],
      "execution_count": 0,
      "outputs": [
        {
          "output_type": "stream",
          "text": [
            "Requirement already satisfied: requests in /usr/local/lib/python3.6/dist-packages (2.21.0)\n",
            "Requirement already satisfied: certifi>=2017.4.17 in /usr/local/lib/python3.6/dist-packages (from requests) (2019.3.9)\n",
            "Requirement already satisfied: urllib3<1.25,>=1.21.1 in /usr/local/lib/python3.6/dist-packages (from requests) (1.24.3)\n",
            "Requirement already satisfied: idna<2.9,>=2.5 in /usr/local/lib/python3.6/dist-packages (from requests) (2.8)\n",
            "Requirement already satisfied: chardet<3.1.0,>=3.0.2 in /usr/local/lib/python3.6/dist-packages (from requests) (3.0.4)\n"
          ],
          "name": "stdout"
        }
      ]
    },
    {
      "cell_type": "markdown",
      "metadata": {
        "id": "qsgbM_R2-ud_",
        "colab_type": "text"
      },
      "source": [
        "## Stage 2: Import project dependencies"
      ]
    },
    {
      "cell_type": "code",
      "metadata": {
        "id": "Y3taHerg-nkS",
        "colab_type": "code",
        "outputId": "da3d495e-eda6-4904-8563-13c00a1b3e7d",
        "colab": {
          "base_uri": "https://localhost:8080/",
          "height": 36
        }
      },
      "source": [
        "import os\n",
        "import json\n",
        "import random\n",
        "import requests\n",
        "import subprocess\n",
        "import numpy as np\n",
        "import tensorflow as tf\n",
        "import matplotlib.pyplot as plt\n",
        "\n",
        "from tensorflow.keras.datasets import cifar10\n",
        "\n",
        "%matplotlib inline\n",
        "tf.__version__"
      ],
      "execution_count": 0,
      "outputs": [
        {
          "output_type": "execute_result",
          "data": {
            "text/plain": [
              "'1.13.1'"
            ]
          },
          "metadata": {
            "tags": []
          },
          "execution_count": 1
        }
      ]
    },
    {
      "cell_type": "markdown",
      "metadata": {
        "id": "90mWV1g6_TSt",
        "colab_type": "text"
      },
      "source": [
        "## Stage 3: Dataset preprocessing"
      ]
    },
    {
      "cell_type": "markdown",
      "metadata": {
        "id": "dJsURBeA_XEe",
        "colab_type": "text"
      },
      "source": [
        "### Loading the dataset"
      ]
    },
    {
      "cell_type": "code",
      "metadata": {
        "id": "FVgkziGT_RQZ",
        "colab_type": "code",
        "colab": {}
      },
      "source": [
        "(X_train, y_train), (X_test, y_test) = cifar10.load_data()"
      ],
      "execution_count": 0,
      "outputs": []
    },
    {
      "cell_type": "code",
      "metadata": {
        "id": "hqOyARxY_kC2",
        "colab_type": "code",
        "colab": {}
      },
      "source": [
        "class_names = ['airplane', 'automobile', 'bird', 'cat', 'deer', 'dog', 'frog', 'horse', 'ship', 'truck']"
      ],
      "execution_count": 0,
      "outputs": []
    },
    {
      "cell_type": "markdown",
      "metadata": {
        "id": "B_adA5GI_ZGK",
        "colab_type": "text"
      },
      "source": [
        "### Image normalization"
      ]
    },
    {
      "cell_type": "code",
      "metadata": {
        "id": "VK4HUwLC_akD",
        "colab_type": "code",
        "colab": {}
      },
      "source": [
        "X_train = X_train / 255.0\n",
        "X_test = X_test / 255.0"
      ],
      "execution_count": 0,
      "outputs": []
    },
    {
      "cell_type": "code",
      "metadata": {
        "id": "Q2A1OrRg_bD8",
        "colab_type": "code",
        "outputId": "06ccde72-ee6f-4132-aa45-a35274d3af81",
        "colab": {
          "base_uri": "https://localhost:8080/",
          "height": 36
        }
      },
      "source": [
        "X_train.shape"
      ],
      "execution_count": 0,
      "outputs": [
        {
          "output_type": "execute_result",
          "data": {
            "text/plain": [
              "(50000, 32, 32, 3)"
            ]
          },
          "metadata": {
            "tags": []
          },
          "execution_count": 5
        }
      ]
    },
    {
      "cell_type": "markdown",
      "metadata": {
        "id": "HO6nL_9sBLPo",
        "colab_type": "text"
      },
      "source": [
        "## Stage 4: Defining the model\n",
        "\n",
        "NOTE: We are using the model from the Section for Convolutional neural networks"
      ]
    },
    {
      "cell_type": "code",
      "metadata": {
        "id": "FHyAvU8OA_aq",
        "colab_type": "code",
        "outputId": "71d2afb7-377d-412e-b813-235e9f3a390a",
        "colab": {
          "base_uri": "https://localhost:8080/",
          "height": 93
        }
      },
      "source": [
        "model = tf.keras.models.Sequential()\n",
        "model.add(tf.keras.layers.Conv2D(filters=32, kernel_size=3, padding=\"same\", activation=\"relu\", input_shape=[32, 32, 3]))\n",
        "model.add(tf.keras.layers.Conv2D(filters=32, kernel_size=3, padding=\"same\", activation=\"relu\"))\n",
        "model.add(tf.keras.layers.MaxPool2D(pool_size=2, strides=2, padding='valid'))\n",
        "model.add(tf.keras.layers.Conv2D(filters=64, kernel_size=3, padding=\"same\", activation=\"relu\"))\n",
        "model.add(tf.keras.layers.Conv2D(filters=64, kernel_size=3, padding=\"same\", activation=\"relu\"))\n",
        "model.add(tf.keras.layers.MaxPool2D(pool_size=2, strides=2, padding='valid'))\n",
        "model.add(tf.keras.layers.Flatten())\n",
        "model.add(tf.keras.layers.Dense(units=128, activation='relu'))\n",
        "model.add(tf.keras.layers.Dense(units=10, activation='softmax'))"
      ],
      "execution_count": 0,
      "outputs": [
        {
          "output_type": "stream",
          "text": [
            "WARNING:tensorflow:From /usr/local/lib/python3.6/dist-packages/tensorflow/python/ops/resource_variable_ops.py:435: colocate_with (from tensorflow.python.framework.ops) is deprecated and will be removed in a future version.\n",
            "Instructions for updating:\n",
            "Colocations handled automatically by placer.\n"
          ],
          "name": "stdout"
        }
      ]
    },
    {
      "cell_type": "markdown",
      "metadata": {
        "id": "J-7vFhykBgMj",
        "colab_type": "text"
      },
      "source": [
        "### Compiling the model"
      ]
    },
    {
      "cell_type": "code",
      "metadata": {
        "id": "5nqrVFn3BkeS",
        "colab_type": "code",
        "colab": {}
      },
      "source": [
        "model.compile(optimizer='Adam', \n",
        "              loss='sparse_categorical_crossentropy', \n",
        "              metrics=['sparse_categorical_accuracy'])"
      ],
      "execution_count": 0,
      "outputs": []
    },
    {
      "cell_type": "markdown",
      "metadata": {
        "id": "JJ1X_hgBBmx9",
        "colab_type": "text"
      },
      "source": [
        "### Training the model"
      ]
    },
    {
      "cell_type": "code",
      "metadata": {
        "id": "I7FSeHUkBpUq",
        "colab_type": "code",
        "outputId": "be1f5cb8-907f-4a04-dd1d-62fe6e9248c0",
        "colab": {
          "base_uri": "https://localhost:8080/",
          "height": 410
        }
      },
      "source": [
        "model.fit(X_train, \n",
        "          y_train, \n",
        "          batch_size=128, \n",
        "          epochs=10)"
      ],
      "execution_count": 0,
      "outputs": [
        {
          "output_type": "stream",
          "text": [
            "Epoch 1/10\n",
            "50000/50000 [==============================] - 7s 141us/sample - loss: 1.4657 - sparse_categorical_accuracy: 0.4686\n",
            "Epoch 2/10\n",
            "50000/50000 [==============================] - 5s 96us/sample - loss: 1.0144 - sparse_categorical_accuracy: 0.6450\n",
            "Epoch 3/10\n",
            "50000/50000 [==============================] - 5s 96us/sample - loss: 0.8384 - sparse_categorical_accuracy: 0.7076\n",
            "Epoch 4/10\n",
            "50000/50000 [==============================] - 5s 95us/sample - loss: 0.7225 - sparse_categorical_accuracy: 0.7475\n",
            "Epoch 5/10\n",
            "50000/50000 [==============================] - 5s 96us/sample - loss: 0.6239 - sparse_categorical_accuracy: 0.7837\n",
            "Epoch 6/10\n",
            "50000/50000 [==============================] - 5s 96us/sample - loss: 0.5285 - sparse_categorical_accuracy: 0.8161\n",
            "Epoch 7/10\n",
            "50000/50000 [==============================] - 5s 96us/sample - loss: 0.4438 - sparse_categorical_accuracy: 0.8440\n",
            "Epoch 8/10\n",
            "50000/50000 [==============================] - 5s 96us/sample - loss: 0.3632 - sparse_categorical_accuracy: 0.8737\n",
            "Epoch 9/10\n",
            "50000/50000 [==============================] - 5s 96us/sample - loss: 0.2873 - sparse_categorical_accuracy: 0.8995\n",
            "Epoch 10/10\n",
            "50000/50000 [==============================] - 5s 97us/sample - loss: 0.2249 - sparse_categorical_accuracy: 0.9218\n"
          ],
          "name": "stdout"
        },
        {
          "output_type": "execute_result",
          "data": {
            "text/plain": [
              "<tensorflow.python.keras.callbacks.History at 0x7fa93c426eb8>"
            ]
          },
          "metadata": {
            "tags": []
          },
          "execution_count": 12
        }
      ]
    },
    {
      "cell_type": "markdown",
      "metadata": {
        "id": "g6k_gnv5BqdT",
        "colab_type": "text"
      },
      "source": [
        "### Model evaluation"
      ]
    },
    {
      "cell_type": "code",
      "metadata": {
        "id": "l0nHalVeBtAy",
        "colab_type": "code",
        "outputId": "11a50a8b-ccb7-455d-8b40-39270a88822b",
        "colab": {
          "base_uri": "https://localhost:8080/",
          "height": 36
        }
      },
      "source": [
        "test_loss, test_accuracy = model.evaluate(X_test, y_test)"
      ],
      "execution_count": 0,
      "outputs": [
        {
          "output_type": "stream",
          "text": [
            "10000/10000 [==============================] - 1s 98us/sample - loss: 0.9765 - sparse_categorical_accuracy: 0.7377\n"
          ],
          "name": "stdout"
        }
      ]
    },
    {
      "cell_type": "code",
      "metadata": {
        "id": "u9q7jsTuBuxT",
        "colab_type": "code",
        "outputId": "a14aa710-b056-467b-a651-f171e221d83b",
        "colab": {
          "base_uri": "https://localhost:8080/",
          "height": 36
        }
      },
      "source": [
        "print(\"Test accuracy is {}\".format(test_accuracy))"
      ],
      "execution_count": 0,
      "outputs": [
        {
          "output_type": "stream",
          "text": [
            "Test accuracy is 0.7376999855041504\n"
          ],
          "name": "stdout"
        }
      ]
    },
    {
      "cell_type": "markdown",
      "metadata": {
        "id": "945L3-2rDjFe",
        "colab_type": "text"
      },
      "source": [
        "## Stage 5: Saving the model for production"
      ]
    },
    {
      "cell_type": "markdown",
      "metadata": {
        "id": "5a5uCiniDmgY",
        "colab_type": "text"
      },
      "source": [
        "### Creating the directory for the model"
      ]
    },
    {
      "cell_type": "code",
      "metadata": {
        "id": "YonroqRrC3sM",
        "colab_type": "code",
        "colab": {}
      },
      "source": [
        "MODEL_DIR = \"model/\"\n",
        "version = 1"
      ],
      "execution_count": 0,
      "outputs": []
    },
    {
      "cell_type": "code",
      "metadata": {
        "id": "07NyMUGYEMNF",
        "colab_type": "code",
        "outputId": "70166744-1c90-44fe-b750-d6df8a4469dd",
        "colab": {
          "base_uri": "https://localhost:8080/",
          "height": 36
        }
      },
      "source": [
        "export_path = os.path.join(MODEL_DIR, str(version))\n",
        "export_path"
      ],
      "execution_count": 0,
      "outputs": [
        {
          "output_type": "execute_result",
          "data": {
            "text/plain": [
              "'model/1'"
            ]
          },
          "metadata": {
            "tags": []
          },
          "execution_count": 7
        }
      ]
    },
    {
      "cell_type": "code",
      "metadata": {
        "id": "jln7YavbEczA",
        "colab_type": "code",
        "colab": {}
      },
      "source": [
        "if os.path.isdir(export_path):\n",
        "    !rm -r {export_path}"
      ],
      "execution_count": 0,
      "outputs": []
    },
    {
      "cell_type": "markdown",
      "metadata": {
        "id": "0RA2HuIUDrDQ",
        "colab_type": "text"
      },
      "source": [
        "### Saving the model for the TensorFlow Serving"
      ]
    },
    {
      "cell_type": "code",
      "metadata": {
        "id": "19DG8IkIDv4S",
        "colab_type": "code",
        "outputId": "9a041e49-2537-435f-ec96-446407d1d267",
        "colab": {
          "base_uri": "https://localhost:8080/",
          "height": 205
        }
      },
      "source": [
        "tf.saved_model.simple_save(tf.keras.backend.get_session(), export_dir=export_path, inputs={\"input_image\":model.input}, outputs={t.name:t for t in model.outputs})"
      ],
      "execution_count": 0,
      "outputs": [
        {
          "output_type": "stream",
          "text": [
            "WARNING:tensorflow:From <ipython-input-18-f70a5d463003>:1: simple_save (from tensorflow.python.saved_model.simple_save) is deprecated and will be removed in a future version.\n",
            "Instructions for updating:\n",
            "This function will only be available through the v1 compatibility library as tf.compat.v1.saved_model.simple_save.\n",
            "WARNING:tensorflow:From /usr/local/lib/python3.6/dist-packages/tensorflow/python/saved_model/signature_def_utils_impl.py:205: build_tensor_info (from tensorflow.python.saved_model.utils_impl) is deprecated and will be removed in a future version.\n",
            "Instructions for updating:\n",
            "This function will only be available through the v1 compatibility library as tf.compat.v1.saved_model.utils.build_tensor_info or tf.compat.v1.saved_model.build_tensor_info.\n",
            "INFO:tensorflow:Assets added to graph.\n",
            "INFO:tensorflow:No assets to write.\n",
            "INFO:tensorflow:SavedModel written to: model/1/saved_model.pb\n"
          ],
          "name": "stdout"
        }
      ]
    },
    {
      "cell_type": "markdown",
      "metadata": {
        "id": "1o8BlXcBFvIm",
        "colab_type": "text"
      },
      "source": [
        "## Stage 6: Setting up the production environment"
      ]
    },
    {
      "cell_type": "markdown",
      "metadata": {
        "id": "rSFWzxOrF0ft",
        "colab_type": "text"
      },
      "source": [
        "### Exporting the MODEL_DIR to environment variables"
      ]
    },
    {
      "cell_type": "code",
      "metadata": {
        "id": "BS6wsQthLX_i",
        "colab_type": "code",
        "colab": {}
      },
      "source": [
        "os.environ['MODEL_DIR'] = os.path.abspath(MODEL_DIR)"
      ],
      "execution_count": 0,
      "outputs": []
    },
    {
      "cell_type": "markdown",
      "metadata": {
        "id": "8TXejqj5F5oj",
        "colab_type": "text"
      },
      "source": [
        "### Running the TensorFlow Serving REST API"
      ]
    },
    {
      "cell_type": "code",
      "metadata": {
        "id": "oWjUhJA4KGWy",
        "colab_type": "code",
        "outputId": "4afe9b28-fc80-446d-a5b6-f1cf31d2c3bf",
        "colab": {
          "base_uri": "https://localhost:8080/",
          "height": 36
        }
      },
      "source": [
        "%%bash --bg\n",
        "nohup tensorflow_model_server --rest_api_port=8501 --model_name=cifar10 --model_base_path=\"${MODEL_DIR}\" >server.log 2>&1"
      ],
      "execution_count": 0,
      "outputs": [
        {
          "output_type": "stream",
          "text": [
            "Starting job # 0 in a separate thread.\n"
          ],
          "name": "stdout"
        }
      ]
    },
    {
      "cell_type": "code",
      "metadata": {
        "id": "iPa7fGZ5NHL5",
        "colab_type": "code",
        "outputId": "3a402a20-83a5-4156-a3d3-10cfd5b4a158",
        "colab": {
          "base_uri": "https://localhost:8080/",
          "height": 224
        }
      },
      "source": [
        "!tail server.log"
      ],
      "execution_count": 0,
      "outputs": [
        {
          "output_type": "stream",
          "text": [
            "2019-05-18 20:29:27.796175: E tensorflow_serving/sources/storage_path/file_system_storage_path_source.cc:369] FileSystemStoragePathSource encountered a file-system access error: Could not find base path /content//content/model for servable cifar10\n",
            "2019-05-18 20:29:28.796442: E tensorflow_serving/sources/storage_path/file_system_storage_path_source.cc:369] FileSystemStoragePathSource encountered a file-system access error: Could not find base path /content//content/model for servable cifar10\n",
            "2019-05-18 20:29:29.796596: E tensorflow_serving/sources/storage_path/file_system_storage_path_source.cc:369] FileSystemStoragePathSource encountered a file-system access error: Could not find base path /content//content/model for servable cifar10\n",
            "2019-05-18 20:29:30.796709: E tensorflow_serving/sources/storage_path/file_system_storage_path_source.cc:369] FileSystemStoragePathSource encountered a file-system access error: Could not find base path /content//content/model for servable cifar10\n",
            "2019-05-18 20:29:31.796896: E tensorflow_serving/sources/storage_path/file_system_storage_path_source.cc:369] FileSystemStoragePathSource encountered a file-system access error: Could not find base path /content//content/model for servable cifar10\n",
            "2019-05-18 20:29:32.797055: E tensorflow_serving/sources/storage_path/file_system_storage_path_source.cc:369] FileSystemStoragePathSource encountered a file-system access error: Could not find base path /content//content/model for servable cifar10\n",
            "2019-05-18 20:29:33.797140: E tensorflow_serving/sources/storage_path/file_system_storage_path_source.cc:369] FileSystemStoragePathSource encountered a file-system access error: Could not find base path /content//content/model for servable cifar10\n",
            "2019-05-18 20:29:34.797238: E tensorflow_serving/sources/storage_path/file_system_storage_path_source.cc:369] FileSystemStoragePathSource encountered a file-system access error: Could not find base path /content//content/model for servable cifar10\n",
            "2019-05-18 20:29:35.797337: E tensorflow_serving/sources/storage_path/file_system_storage_path_source.cc:369] FileSystemStoragePathSource encountered a file-system access error: Could not find base path /content//content/model for servable cifar10\n",
            "2019-05-18 20:29:36.797524: E tensorflow_serving/sources/storage_path/file_system_storage_path_source.cc:369] FileSystemStoragePathSource encountered a file-system access error: Could not find base path /content//content/model for servable cifar10\n"
          ],
          "name": "stdout"
        }
      ]
    },
    {
      "cell_type": "markdown",
      "metadata": {
        "id": "ICEqKpKUOC2F",
        "colab_type": "text"
      },
      "source": [
        "## Stage 7: Creating the first POST request"
      ]
    },
    {
      "cell_type": "code",
      "metadata": {
        "id": "AvjZyyPIN3Zq",
        "colab_type": "code",
        "outputId": "a73f414d-6473-43b8-c677-d092ee6ec477",
        "colab": {
          "base_uri": "https://localhost:8080/",
          "height": 36
        }
      },
      "source": [
        "random_image = np.random.randint(0, len(X_test))\n",
        "random_image"
      ],
      "execution_count": 0,
      "outputs": [
        {
          "output_type": "execute_result",
          "data": {
            "text/plain": [
              "620"
            ]
          },
          "metadata": {
            "tags": []
          },
          "execution_count": 16
        }
      ]
    },
    {
      "cell_type": "markdown",
      "metadata": {
        "id": "tqOfIBMNOK8p",
        "colab_type": "text"
      },
      "source": [
        "### Creating the JSON data object"
      ]
    },
    {
      "cell_type": "code",
      "metadata": {
        "id": "nB57JR6wONOI",
        "colab_type": "code",
        "colab": {}
      },
      "source": [
        "data = json.dumps({\"signature_name\":\"serving_default\", \"instances\":[X_test[random_image].tolist()]})"
      ],
      "execution_count": 0,
      "outputs": []
    },
    {
      "cell_type": "code",
      "metadata": {
        "id": "ez6JF3yIPdYZ",
        "colab_type": "code",
        "outputId": "7841ac03-e204-47ba-9d8c-a5d39c6f27b0",
        "colab": {
          "base_uri": "https://localhost:8080/",
          "height": 56
        }
      },
      "source": [
        "data"
      ],
      "execution_count": 0,
      "outputs": [
        {
          "output_type": "execute_result",
          "data": {
            "text/plain": [
              "'{\"signature_name\": \"serving_default\", \"instances\": [[[[0.4823529411764706, 0.47058823529411764, 0.5019607843137255], [0.5019607843137255, 0.48627450980392156, 0.5215686274509804], [0.4588235294117647, 0.44313725490196076, 0.47843137254901963], [0.44313725490196076, 0.42745098039215684, 0.4627450980392157], [0.47843137254901963, 0.4666666666666667, 0.5058823529411764], [0.5098039215686274, 0.4980392156862745, 0.5450980392156862], [0.5333333333333333, 0.5176470588235295, 0.5647058823529412], [0.5450980392156862, 0.5215686274509804, 0.5568627450980392], [0.5529411764705883, 0.5176470588235295, 0.5490196078431373], [0.5411764705882353, 0.5019607843137255, 0.5372549019607843], [0.5254901960784314, 0.5019607843137255, 0.5372549019607843], [0.49411764705882355, 0.48627450980392156, 0.5254901960784314], [0.49019607843137253, 0.4823529411764706, 0.5215686274509804], [0.49411764705882355, 0.48627450980392156, 0.5254901960784314], [0.47058823529411764, 0.4627450980392157, 0.5019607843137255], [0.4588235294117647, 0.45098039215686275, 0.49019607843137253], [0.44313725490196076, 0.44313725490196076, 0.4666666666666667], [0.48627450980392156, 0.48627450980392156, 0.5176470588235295], [0.5019607843137255, 0.4980392156862745, 0.5568627450980392], [0.5058823529411764, 0.5019607843137255, 0.5686274509803921], [0.4980392156862745, 0.49411764705882355, 0.5529411764705883], [0.49019607843137253, 0.4823529411764706, 0.5294117647058824], [0.49019607843137253, 0.47058823529411764, 0.5098039215686274], [0.5333333333333333, 0.5137254901960784, 0.5529411764705883], [0.5254901960784314, 0.5058823529411764, 0.5450980392156862], [0.5490196078431373, 0.5294117647058824, 0.5686274509803921], [0.5686274509803921, 0.5490196078431373, 0.592156862745098], [0.5294117647058824, 0.5058823529411764, 0.5411764705882353], [0.5490196078431373, 0.5215686274509804, 0.5490196078431373], [0.5568627450980392, 0.5294117647058824, 0.5568627450980392], [0.5176470588235295, 0.49411764705882355, 0.5215686274509804], [0.48627450980392156, 0.4588235294117647, 0.48627450980392156]], [[0.4588235294117647, 0.43137254901960786, 0.4588235294117647], [0.4666666666666667, 0.4392156862745098, 0.4666666666666667], [0.4627450980392157, 0.43529411764705883, 0.4627450980392157], [0.4470588235294118, 0.4196078431372549, 0.44313725490196076], [0.47058823529411764, 0.4470588235294118, 0.4823529411764706], [0.49411764705882355, 0.47843137254901963, 0.5254901960784314], [0.5176470588235295, 0.5058823529411764, 0.5490196078431373], [0.5215686274509804, 0.4980392156862745, 0.5372549019607843], [0.5019607843137255, 0.4666666666666667, 0.5019607843137255], [0.4980392156862745, 0.4588235294117647, 0.49019607843137253], [0.5333333333333333, 0.4980392156862745, 0.5254901960784314], [0.5372549019607843, 0.5098039215686274, 0.5333333333333333], [0.5333333333333333, 0.5019607843137255, 0.5254901960784314], [0.5529411764705883, 0.5215686274509804, 0.5450980392156862], [0.5019607843137255, 0.47058823529411764, 0.49411764705882355], [0.43137254901960786, 0.403921568627451, 0.42745098039215684], [0.42745098039215684, 0.40784313725490196, 0.41568627450980394], [0.4470588235294118, 0.43137254901960786, 0.4470588235294118], [0.4588235294117647, 0.43529411764705883, 0.47843137254901963], [0.5098039215686274, 0.48627450980392156, 0.5372549019607843], [0.5058823529411764, 0.48627450980392156, 0.5254901960784314], [0.5019607843137255, 0.4823529411764706, 0.5137254901960784], [0.4980392156862745, 0.47843137254901963, 0.5137254901960784], [0.5372549019607843, 0.5176470588235295, 0.5529411764705883], [0.5215686274509804, 0.4980392156862745, 0.5372549019607843], [0.5333333333333333, 0.5098039215686274, 0.5490196078431373], [0.5137254901960784, 0.49019607843137253, 0.5294117647058824], [0.49411764705882355, 0.4666666666666667, 0.49411764705882355], [0.5215686274509804, 0.48627450980392156, 0.5058823529411764], [0.5019607843137255, 0.4666666666666667, 0.48627450980392156], [0.49411764705882355, 0.4588235294117647, 0.4823529411764706], [0.4980392156862745, 0.4627450980392157, 0.4823529411764706]], [[0.4392156862745098, 0.403921568627451, 0.4235294117647059], [0.4549019607843137, 0.4196078431372549, 0.4392156862745098], [0.4627450980392157, 0.42745098039215684, 0.4470588235294118], [0.42745098039215684, 0.39215686274509803, 0.40784313725490196], [0.4470588235294118, 0.41568627450980394, 0.4470588235294118], [0.47843137254901963, 0.4627450980392157, 0.5098039215686274], [0.4980392156862745, 0.48627450980392156, 0.5294117647058824], [0.5176470588235295, 0.49411764705882355, 0.5294117647058824], [0.4823529411764706, 0.4470588235294118, 0.4823529411764706], [0.47058823529411764, 0.43137254901960786, 0.4666666666666667], [0.48627450980392156, 0.4470588235294118, 0.4666666666666667], [0.5137254901960784, 0.4666666666666667, 0.47843137254901963], [0.5058823529411764, 0.4588235294117647, 0.47058823529411764], [0.5176470588235295, 0.4745098039215686, 0.4823529411764706], [0.5215686274509804, 0.4745098039215686, 0.48627450980392156], [0.5058823529411764, 0.4627450980392157, 0.47058823529411764], [0.4470588235294118, 0.4117647058823529, 0.403921568627451], [0.4196078431372549, 0.38823529411764707, 0.39215686274509803], [0.4627450980392157, 0.42745098039215684, 0.4588235294117647], [0.49019607843137253, 0.4549019607843137, 0.49019607843137253], [0.47058823529411764, 0.43529411764705883, 0.4627450980392157], [0.47843137254901963, 0.44313725490196076, 0.4627450980392157], [0.49411764705882355, 0.4470588235294118, 0.4666666666666667], [0.47058823529411764, 0.4235294117647059, 0.44313725490196076], [0.5176470588235295, 0.47058823529411764, 0.48627450980392156], [0.5411764705882353, 0.49411764705882355, 0.5137254901960784], [0.5372549019607843, 0.49019607843137253, 0.5098039215686274], [0.5098039215686274, 0.4627450980392157, 0.4823529411764706], [0.4470588235294118, 0.403921568627451, 0.4196078431372549], [0.4588235294117647, 0.41568627450980394, 0.43137254901960786], [0.47843137254901963, 0.43529411764705883, 0.45098039215686275], [0.49019607843137253, 0.44313725490196076, 0.4588235294117647]], [[0.4392156862745098, 0.4, 0.41568627450980394], [0.44313725490196076, 0.403921568627451, 0.4196078431372549], [0.4588235294117647, 0.4196078431372549, 0.43529411764705883], [0.42745098039215684, 0.38823529411764707, 0.403921568627451], [0.43529411764705883, 0.39215686274509803, 0.41568627450980394], [0.4588235294117647, 0.4117647058823529, 0.44313725490196076], [0.47843137254901963, 0.4392156862745098, 0.4666666666666667], [0.4980392156862745, 0.4627450980392157, 0.48627450980392156], [0.4666666666666667, 0.43529411764705883, 0.4549019607843137], [0.4470588235294118, 0.4196078431372549, 0.4392156862745098], [0.4470588235294118, 0.403921568627451, 0.4117647058823529], [0.47058823529411764, 0.4117647058823529, 0.4196078431372549], [0.5254901960784314, 0.47058823529411764, 0.48627450980392156], [0.5490196078431373, 0.5019607843137255, 0.5176470588235295], [0.5686274509803921, 0.5294117647058824, 0.5333333333333333], [0.5411764705882353, 0.5098039215686274, 0.5019607843137255], [0.4627450980392157, 0.4392156862745098, 0.44313725490196076], [0.47058823529411764, 0.403921568627451, 0.3843137254901961], [0.4196078431372549, 0.32941176470588235, 0.3058823529411765], [0.4117647058823529, 0.36470588235294116, 0.39215686274509803], [0.42745098039215684, 0.4, 0.43529411764705883], [0.49019607843137253, 0.43137254901960786, 0.4392156862745098], [0.396078431372549, 0.3176470588235294, 0.3058823529411765], [0.3058823529411765, 0.23529411764705882, 0.2235294117647059], [0.5058823529411764, 0.4392156862745098, 0.4392156862745098], [0.5254901960784314, 0.47058823529411764, 0.47843137254901963], [0.5333333333333333, 0.48627450980392156, 0.5019607843137255], [0.5098039215686274, 0.4666666666666667, 0.47843137254901963], [0.5215686274509804, 0.4745098039215686, 0.4823529411764706], [0.4666666666666667, 0.4196078431372549, 0.42745098039215684], [0.4666666666666667, 0.4196078431372549, 0.42745098039215684], [0.47843137254901963, 0.43137254901960786, 0.4392156862745098]], [[0.4470588235294118, 0.403921568627451, 0.4196078431372549], [0.4235294117647059, 0.3803921568627451, 0.396078431372549], [0.4549019607843137, 0.4117647058823529, 0.42745098039215684], [0.4745098039215686, 0.43137254901960786, 0.4470588235294118], [0.4588235294117647, 0.4117647058823529, 0.42745098039215684], [0.47058823529411764, 0.41568627450980394, 0.43137254901960786], [0.4745098039215686, 0.4235294117647059, 0.4392156862745098], [0.4823529411764706, 0.4392156862745098, 0.4549019607843137], [0.4745098039215686, 0.43529411764705883, 0.4470588235294118], [0.47058823529411764, 0.44313725490196076, 0.45098039215686275], [0.4627450980392157, 0.4392156862745098, 0.4392156862745098], [0.44313725490196076, 0.40784313725490196, 0.41568627450980394], [0.4549019607843137, 0.4117647058823529, 0.43529411764705883], [0.47843137254901963, 0.42745098039215684, 0.4549019607843137], [0.5254901960784314, 0.47058823529411764, 0.47843137254901963], [0.5058823529411764, 0.44313725490196076, 0.43137254901960786], [0.5215686274509804, 0.43137254901960786, 0.38823529411764707], [0.45098039215686275, 0.3176470588235294, 0.25098039215686274], [0.3137254901960784, 0.19215686274509805, 0.1450980392156863], [0.43529411764705883, 0.3607843137254902, 0.35294117647058826], [0.5058823529411764, 0.40784313725490196, 0.39215686274509803], [0.47058823529411764, 0.3333333333333333, 0.2901960784313726], [0.2, 0.10980392156862745, 0.08627450980392157], [0.34509803921568627, 0.27058823529411763, 0.25882352941176473], [0.5058823529411764, 0.44313725490196076, 0.4392156862745098], [0.47843137254901963, 0.43529411764705883, 0.4470588235294118], [0.49411764705882355, 0.4588235294117647, 0.47843137254901963], [0.5098039215686274, 0.4666666666666667, 0.48627450980392156], [0.5294117647058824, 0.4823529411764706, 0.49019607843137253], [0.4392156862745098, 0.39215686274509803, 0.4], [0.4588235294117647, 0.4117647058823529, 0.4196078431372549], [0.5058823529411764, 0.4588235294117647, 0.4666666666666667]], [[0.4392156862745098, 0.396078431372549, 0.4117647058823529], [0.4235294117647059, 0.3843137254901961, 0.4], [0.44313725490196076, 0.4, 0.41568627450980394], [0.4392156862745098, 0.396078431372549, 0.4117647058823529], [0.396078431372549, 0.3568627450980392, 0.3686274509803922], [0.4392156862745098, 0.396078431372549, 0.4117647058823529], [0.4588235294117647, 0.4196078431372549, 0.43137254901960786], [0.4666666666666667, 0.4235294117647059, 0.4392156862745098], [0.47843137254901963, 0.43529411764705883, 0.45098039215686275], [0.4745098039215686, 0.43137254901960786, 0.4470588235294118], [0.45098039215686275, 0.4196078431372549, 0.4235294117647059], [0.43529411764705883, 0.40784313725490196, 0.40784313725490196], [0.4745098039215686, 0.4235294117647059, 0.44313725490196076], [0.5215686274509804, 0.44313725490196076, 0.4588235294117647], [0.5411764705882353, 0.4392156862745098, 0.4392156862745098], [0.5294117647058824, 0.403921568627451, 0.3764705882352941], [0.5098039215686274, 0.36470588235294116, 0.29411764705882354], [0.27450980392156865, 0.16470588235294117, 0.11764705882352941], [0.23529411764705882, 0.17254901960784313, 0.17647058823529413], [0.44313725490196076, 0.37254901960784315, 0.36470588235294116], [0.5058823529411764, 0.3686274509803922, 0.3215686274509804], [0.34509803921568627, 0.19215686274509805, 0.13333333333333333], [0.25882352941176473, 0.1843137254901961, 0.17254901960784313], [0.4823529411764706, 0.42745098039215684, 0.42745098039215684], [0.4823529411764706, 0.43137254901960786, 0.4392156862745098], [0.48627450980392156, 0.44313725490196076, 0.4549019607843137], [0.4627450980392157, 0.4235294117647059, 0.44313725490196076], [0.47843137254901963, 0.43529411764705883, 0.4470588235294118], [0.49019607843137253, 0.44313725490196076, 0.4470588235294118], [0.4470588235294118, 0.4, 0.40784313725490196], [0.4823529411764706, 0.43529411764705883, 0.44313725490196076], [0.4666666666666667, 0.4196078431372549, 0.42745098039215684]], [[0.44313725490196076, 0.4, 0.41568627450980394], [0.4392156862745098, 0.396078431372549, 0.4117647058823529], [0.43137254901960786, 0.38823529411764707, 0.403921568627451], [0.39215686274509803, 0.34901960784313724, 0.36470588235294116], [0.3803921568627451, 0.3411764705882353, 0.3568627450980392], [0.41568627450980394, 0.39215686274509803, 0.4], [0.4392156862745098, 0.40784313725490196, 0.4196078431372549], [0.42745098039215684, 0.38823529411764707, 0.403921568627451], [0.403921568627451, 0.3568627450980392, 0.37254901960784315], [0.4588235294117647, 0.403921568627451, 0.4235294117647059], [0.4666666666666667, 0.396078431372549, 0.4], [0.4549019607843137, 0.3686274509803922, 0.36470588235294116], [0.49411764705882355, 0.39215686274509803, 0.39215686274509803], [0.5098039215686274, 0.3803921568627451, 0.3686274509803922], [0.5843137254901961, 0.43529411764705883, 0.39215686274509803], [0.5686274509803921, 0.40784313725490196, 0.3411764705882353], [0.3568627450980392, 0.23529411764705882, 0.17647058823529413], [0.09803921568627451, 0.047058823529411764, 0.0392156862745098], [0.12941176470588237, 0.08627450980392157, 0.09803921568627451], [0.30196078431372547, 0.19607843137254902, 0.1607843137254902], [0.4392156862745098, 0.2980392156862745, 0.24705882352941178], [0.35294117647058826, 0.2549019607843137, 0.23921568627450981], [0.43137254901960786, 0.3843137254901961, 0.396078431372549], [0.4823529411764706, 0.44313725490196076, 0.4588235294117647], [0.4745098039215686, 0.43137254901960786, 0.45098039215686275], [0.5098039215686274, 0.4666666666666667, 0.4823529411764706], [0.4666666666666667, 0.4235294117647059, 0.4392156862745098], [0.4588235294117647, 0.41568627450980394, 0.42745098039215684], [0.47843137254901963, 0.43137254901960786, 0.4392156862745098], [0.4627450980392157, 0.4117647058823529, 0.4235294117647059], [0.4470588235294118, 0.4, 0.40784313725490196], [0.4470588235294118, 0.4, 0.40784313725490196]], [[0.4196078431372549, 0.37254901960784315, 0.4], [0.4117647058823529, 0.36470588235294116, 0.38823529411764707], [0.396078431372549, 0.34901960784313724, 0.3686274509803922], [0.38823529411764707, 0.3333333333333333, 0.35294117647058826], [0.3607843137254902, 0.3176470588235294, 0.3333333333333333], [0.3607843137254902, 0.3333333333333333, 0.33725490196078434], [0.3411764705882353, 0.2980392156862745, 0.30196078431372547], [0.4196078431372549, 0.34901960784313724, 0.3568627450980392], [0.4745098039215686, 0.3803921568627451, 0.38823529411764707], [0.49411764705882355, 0.3843137254901961, 0.39215686274509803], [0.4980392156862745, 0.37254901960784315, 0.3686274509803922], [0.5176470588235295, 0.37254901960784315, 0.34901960784313724], [0.5647058823529412, 0.41568627450980394, 0.396078431372549], [0.5764705882352941, 0.4392156862745098, 0.4235294117647059], [0.5647058823529412, 0.4235294117647059, 0.3803921568627451], [0.5725490196078431, 0.4117647058823529, 0.33725490196078434], [0.3843137254901961, 0.2627450980392157, 0.21176470588235294], [0.2823529411764706, 0.18823529411764706, 0.15294117647058825], [0.4588235294117647, 0.3215686274509804, 0.25882352941176473], [0.5568627450980392, 0.36470588235294116, 0.26666666666666666], [0.5333333333333333, 0.36470588235294116, 0.2901960784313726], [0.4117647058823529, 0.3137254901960784, 0.30196078431372547], [0.4470588235294118, 0.38823529411764707, 0.40784313725490196], [0.4549019607843137, 0.403921568627451, 0.4235294117647059], [0.4470588235294118, 0.4, 0.4117647058823529], [0.47058823529411764, 0.43137254901960786, 0.43529411764705883], [0.47058823529411764, 0.43529411764705883, 0.43529411764705883], [0.4588235294117647, 0.4196078431372549, 0.4196078431372549], [0.4745098039215686, 0.43137254901960786, 0.43137254901960786], [0.4588235294117647, 0.41568627450980394, 0.41568627450980394], [0.43137254901960786, 0.38823529411764707, 0.38823529411764707], [0.42745098039215684, 0.3843137254901961, 0.3843137254901961]], [[0.34901960784313724, 0.3058823529411765, 0.32941176470588235], [0.3137254901960784, 0.26666666666666666, 0.2823529411764706], [0.2784313725490196, 0.2235294117647059, 0.23137254901960785], [0.2627450980392157, 0.20392156862745098, 0.20784313725490197], [0.26666666666666666, 0.21176470588235294, 0.21568627450980393], [0.25882352941176473, 0.21176470588235294, 0.21176470588235294], [0.21568627450980393, 0.13725490196078433, 0.13725490196078433], [0.4, 0.27450980392156865, 0.27450980392156865], [0.5254901960784314, 0.37254901960784315, 0.36470588235294116], [0.5411764705882353, 0.3764705882352941, 0.3568627450980392], [0.5764705882352941, 0.4196078431372549, 0.4], [0.6, 0.4392156862745098, 0.40784313725490196], [0.5803921568627451, 0.4196078431372549, 0.3803921568627451], [0.5568627450980392, 0.43529411764705883, 0.4235294117647059], [0.5137254901960784, 0.39215686274509803, 0.3686274509803922], [0.6392156862745098, 0.4745098039215686, 0.4117647058823529], [0.6823529411764706, 0.5333333333333333, 0.4745098039215686], [0.6352941176470588, 0.47058823529411764, 0.396078431372549], [0.6039215686274509, 0.39215686274509803, 0.2901960784313726], [0.611764705882353, 0.41568627450980394, 0.3215686274509804], [0.5568627450980392, 0.4117647058823529, 0.3568627450980392], [0.5294117647058824, 0.43137254901960786, 0.4196078431372549], [0.4196078431372549, 0.3411764705882353, 0.35294117647058826], [0.4392156862745098, 0.36470588235294116, 0.3803921568627451], [0.4549019607843137, 0.39215686274509803, 0.403921568627451], [0.4392156862745098, 0.38823529411764707, 0.396078431372549], [0.42745098039215684, 0.3843137254901961, 0.39215686274509803], [0.4470588235294118, 0.4, 0.403921568627451], [0.45098039215686275, 0.4, 0.40784313725490196], [0.44313725490196076, 0.39215686274509803, 0.4], [0.41568627450980394, 0.36470588235294116, 0.37254901960784315], [0.4117647058823529, 0.3607843137254902, 0.36470588235294116]], [[0.23137254901960785, 0.19215686274509805, 0.1843137254901961], [0.16470588235294117, 0.12156862745098039, 0.11372549019607843], [0.15294117647058825, 0.09803921568627451, 0.08235294117647059], [0.16862745098039217, 0.11372549019607843, 0.09411764705882353], [0.17254901960784313, 0.11372549019607843, 0.09803921568627451], [0.1411764705882353, 0.07450980392156863, 0.06274509803921569], [0.23921568627450981, 0.1450980392156863, 0.13725490196078433], [0.5058823529411764, 0.3764705882352941, 0.36470588235294116], [0.611764705882353, 0.47058823529411764, 0.45098039215686275], [0.6078431372549019, 0.47058823529411764, 0.44313725490196076], [0.5647058823529412, 0.43529411764705883, 0.41568627450980394], [0.5333333333333333, 0.3803921568627451, 0.34901960784313724], [0.5490196078431373, 0.3764705882352941, 0.3215686274509804], [0.5058823529411764, 0.3607843137254902, 0.3176470588235294], [0.4470588235294118, 0.3058823529411765, 0.2627450980392157], [0.5607843137254902, 0.3843137254901961, 0.30196078431372547], [0.6823529411764706, 0.5058823529411764, 0.4196078431372549], [0.7215686274509804, 0.5411764705882353, 0.4588235294117647], [0.7333333333333333, 0.5450980392156862, 0.4549019607843137], [0.6862745098039216, 0.5294117647058824, 0.4627450980392157], [0.596078431372549, 0.4980392156862745, 0.47843137254901963], [0.8901960784313725, 0.8392156862745098, 0.8470588235294118], [0.7019607843137254, 0.6627450980392157, 0.6666666666666666], [0.41568627450980394, 0.36470588235294116, 0.37254901960784315], [0.41568627450980394, 0.3607843137254902, 0.37254901960784315], [0.4392156862745098, 0.3764705882352941, 0.39215686274509803], [0.42745098039215684, 0.36470588235294116, 0.3764705882352941], [0.45098039215686275, 0.39215686274509803, 0.403921568627451], [0.4392156862745098, 0.38823529411764707, 0.396078431372549], [0.42745098039215684, 0.3764705882352941, 0.3843137254901961], [0.39215686274509803, 0.3411764705882353, 0.34901960784313724], [0.40784313725490196, 0.3568627450980392, 0.36470588235294116]], [[0.0784313725490196, 0.043137254901960784, 0.03137254901960784], [0.054901960784313725, 0.011764705882352941, 0.00392156862745098], [0.054901960784313725, 0.00784313725490196, 0.0], [0.054901960784313725, 0.00392156862745098, 0.0], [0.10196078431372549, 0.0392156862745098, 0.027450980392156862], [0.2784313725490196, 0.18823529411764706, 0.16470588235294117], [0.5058823529411764, 0.39215686274509803, 0.36470588235294116], [0.592156862745098, 0.4627450980392157, 0.43529411764705883], [0.5843137254901961, 0.4588235294117647, 0.43137254901960786], [0.5058823529411764, 0.4, 0.36470588235294116], [0.4392156862745098, 0.32941176470588235, 0.3058823529411765], [0.4980392156862745, 0.34901960784313724, 0.3058823529411765], [0.5411764705882353, 0.36470588235294116, 0.29411764705882354], [0.49019607843137253, 0.34901960784313724, 0.2980392156862745], [0.4980392156862745, 0.39215686274509803, 0.3568627450980392], [0.5294117647058824, 0.4, 0.34509803921568627], [0.6745098039215687, 0.5137254901960784, 0.4392156862745098], [0.7450980392156863, 0.5764705882352941, 0.5019607843137255], [0.7803921568627451, 0.6235294117647059, 0.5529411764705883], [0.6509803921568628, 0.5254901960784314, 0.4823529411764706], [0.6352941176470588, 0.5529411764705883, 0.5490196078431373], [0.9411764705882353, 0.9019607843137255, 0.9176470588235294], [0.9764705882352941, 0.9607843137254902, 0.9686274509803922], [0.7490196078431373, 0.7333333333333333, 0.7294117647058823], [0.5098039215686274, 0.5019607843137255, 0.47058823529411764], [0.4588235294117647, 0.4588235294117647, 0.4], [0.48627450980392156, 0.49019607843137253, 0.41568627450980394], [0.5098039215686274, 0.5058823529411764, 0.43137254901960786], [0.49411764705882355, 0.47843137254901963, 0.4196078431372549], [0.4980392156862745, 0.48627450980392156, 0.4235294117647059], [0.4980392156862745, 0.4823529411764706, 0.4235294117647059], [0.48627450980392156, 0.4745098039215686, 0.4117647058823529]], [[0.06666666666666667, 0.0196078431372549, 0.023529411764705882], [0.10588235294117647, 0.047058823529411764, 0.043137254901960784], [0.16470588235294117, 0.09411764705882353, 0.08627450980392157], [0.2823529411764706, 0.20784313725490197, 0.2], [0.4588235294117647, 0.37254901960784315, 0.34901960784313724], [0.5529411764705883, 0.4392156862745098, 0.4], [0.5176470588235295, 0.38823529411764707, 0.35294117647058826], [0.4745098039215686, 0.34901960784313724, 0.3215686274509804], [0.4549019607843137, 0.3411764705882353, 0.30980392156862746], [0.36470588235294116, 0.27450980392156865, 0.23529411764705882], [0.34901960784313724, 0.24313725490196078, 0.21176470588235294], [0.45098039215686275, 0.30196078431372547, 0.24705882352941178], [0.47058823529411764, 0.2980392156862745, 0.2235294117647059], [0.4588235294117647, 0.3333333333333333, 0.2784313725490196], [0.5372549019607843, 0.4627450980392157, 0.4470588235294118], [0.615686274509804, 0.5490196078431373, 0.5372549019607843], [0.6392156862745098, 0.5254901960784314, 0.49019607843137253], [0.611764705882353, 0.48627450980392156, 0.4470588235294118], [0.7529411764705882, 0.6470588235294118, 0.6196078431372549], [0.6901960784313725, 0.596078431372549, 0.5843137254901961], [0.6470588235294118, 0.5725490196078431, 0.5725490196078431], [0.8901960784313725, 0.8313725490196079, 0.8431372549019608], [0.9647058823529412, 0.9372549019607843, 0.9568627450980393], [0.9803921568627451, 0.9921568627450981, 0.984313725490196], [0.7568627450980392, 0.796078431372549, 0.7294117647058823], [0.5490196078431373, 0.6039215686274509, 0.4745098039215686], [0.5411764705882353, 0.6196078431372549, 0.44313725490196076], [0.5568627450980392, 0.6235294117647059, 0.4549019607843137], [0.5686274509803921, 0.6039215686274509, 0.4588235294117647], [0.5647058823529412, 0.6039215686274509, 0.4588235294117647], [0.596078431372549, 0.6352941176470588, 0.49019607843137253], [0.5843137254901961, 0.6235294117647059, 0.47843137254901963]], [[0.4196078431372549, 0.3176470588235294, 0.3176470588235294], [0.43529411764705883, 0.3058823529411765, 0.2823529411764706], [0.48627450980392156, 0.3411764705882353, 0.3058823529411765], [0.5176470588235295, 0.3686274509803922, 0.33725490196078434], [0.5058823529411764, 0.36470588235294116, 0.32941176470588235], [0.4745098039215686, 0.3333333333333333, 0.2980392156862745], [0.4470588235294118, 0.3215686274509804, 0.2980392156862745], [0.41568627450980394, 0.3137254901960784, 0.2980392156862745], [0.33725490196078434, 0.23921568627450981, 0.21568627450980393], [0.2980392156862745, 0.19607843137254902, 0.15294117647058825], [0.403921568627451, 0.27450980392156865, 0.22745098039215686], [0.43137254901960786, 0.27450980392156865, 0.2196078431372549], [0.43529411764705883, 0.27450980392156865, 0.2], [0.47843137254901963, 0.3333333333333333, 0.2627450980392157], [0.45098039215686275, 0.3333333333333333, 0.2980392156862745], [0.5647058823529412, 0.47058823529411764, 0.4666666666666667], [0.7450980392156863, 0.6705882352941176, 0.6784313725490196], [0.5215686274509804, 0.47058823529411764, 0.49019607843137253], [0.3411764705882353, 0.30980392156862746, 0.34901960784313724], [0.39215686274509803, 0.3568627450980392, 0.396078431372549], [0.5294117647058824, 0.48627450980392156, 0.5098039215686274], [0.8, 0.7137254901960784, 0.7215686274509804], [0.8588235294117647, 0.7725490196078432, 0.7803921568627451], [0.9333333333333333, 0.9529411764705882, 0.9607843137254902], [0.6980392156862745, 0.7529411764705882, 0.7098039215686275], [0.5490196078431373, 0.5764705882352941, 0.4549019607843137], [0.5450980392156862, 0.611764705882353, 0.4392156862745098], [0.5294117647058824, 0.6235294117647059, 0.4392156862745098], [0.5411764705882353, 0.611764705882353, 0.4392156862745098], [0.5372549019607843, 0.6078431372549019, 0.43137254901960786], [0.5176470588235295, 0.592156862745098, 0.41568627450980394], [0.5333333333333333, 0.6039215686274509, 0.43137254901960786]], [[0.5607843137254902, 0.396078431372549, 0.37254901960784315], [0.5019607843137255, 0.3254901960784314, 0.27450980392156865], [0.4588235294117647, 0.29411764705882354, 0.23137254901960785], [0.4235294117647059, 0.2784313725490196, 0.21176470588235294], [0.43137254901960786, 0.30196078431372547, 0.24313725490196078], [0.48627450980392156, 0.3568627450980392, 0.3176470588235294], [0.48627450980392156, 0.37254901960784315, 0.34901960784313724], [0.4117647058823529, 0.3137254901960784, 0.29411764705882354], [0.34509803921568627, 0.24313725490196078, 0.2196078431372549], [0.4392156862745098, 0.32941176470588235, 0.2901960784313726], [0.4666666666666667, 0.3333333333333333, 0.28627450980392155], [0.4196078431372549, 0.2627450980392157, 0.20392156862745098], [0.44313725490196076, 0.28627450980392155, 0.20392156862745098], [0.49019607843137253, 0.33725490196078434, 0.25098039215686274], [0.48627450980392156, 0.35294117647058826, 0.29411764705882354], [0.4235294117647059, 0.30980392156862746, 0.2901960784313726], [0.7137254901960784, 0.6313725490196078, 0.6274509803921569], [0.7843137254901961, 0.7215686274509804, 0.7254901960784313], [0.6313725490196078, 0.5764705882352941, 0.5843137254901961], [0.5607843137254902, 0.5058823529411764, 0.5176470588235295], [0.611764705882353, 0.5490196078431373, 0.5529411764705883], [0.8352941176470589, 0.7490196078431373, 0.7372549019607844], [0.8313725490196079, 0.7333333333333333, 0.7254901960784313], [0.9254901960784314, 0.8941176470588236, 0.9058823529411765], [0.7215686274509804, 0.7490196078431373, 0.7137254901960784], [0.5372549019607843, 0.5843137254901961, 0.4588235294117647], [0.5411764705882353, 0.6196078431372549, 0.44313725490196076], [0.5176470588235295, 0.6078431372549019, 0.42745098039215684], [0.5411764705882353, 0.6196078431372549, 0.44313725490196076], [0.5372549019607843, 0.6196078431372549, 0.4392156862745098], [0.5215686274509804, 0.6039215686274509, 0.42745098039215684], [0.5294117647058824, 0.6078431372549019, 0.43137254901960786]], [[0.4745098039215686, 0.29411764705882354, 0.23921568627450981], [0.4549019607843137, 0.27450980392156865, 0.2], [0.4666666666666667, 0.2980392156862745, 0.2196078431372549], [0.47843137254901963, 0.3411764705882353, 0.2627450980392157], [0.5254901960784314, 0.403921568627451, 0.33725490196078434], [0.5411764705882353, 0.42745098039215684, 0.3803921568627451], [0.49019607843137253, 0.38823529411764707, 0.3568627450980392], [0.4196078431372549, 0.3215686274509804, 0.30196078431372547], [0.47843137254901963, 0.37254901960784315, 0.35294117647058826], [0.5529411764705883, 0.42745098039215684, 0.396078431372549], [0.396078431372549, 0.2549019607843137, 0.21176470588235294], [0.3803921568627451, 0.23137254901960785, 0.16470588235294117], [0.43137254901960786, 0.27058823529411763, 0.17647058823529413], [0.4549019607843137, 0.2980392156862745, 0.1843137254901961], [0.48627450980392156, 0.33725490196078434, 0.25098039215686274], [0.49019607843137253, 0.3568627450980392, 0.30980392156862746], [0.596078431372549, 0.5019607843137255, 0.4745098039215686], [0.6784313725490196, 0.592156862745098, 0.5647058823529412], [0.7137254901960784, 0.615686274509804, 0.5803921568627451], [0.6941176470588235, 0.596078431372549, 0.5607843137254902], [0.7058823529411765, 0.615686274509804, 0.5882352941176471], [0.796078431372549, 0.7176470588235294, 0.6823529411764706], [0.8431372549019608, 0.7450980392156863, 0.7137254901960784], [0.8745098039215686, 0.7843137254901961, 0.796078431372549], [0.8196078431372549, 0.807843137254902, 0.7764705882352941], [0.5333333333333333, 0.611764705882353, 0.47058823529411764], [0.5058823529411764, 0.6039215686274509, 0.42745098039215684], [0.5098039215686274, 0.596078431372549, 0.4235294117647059], [0.5019607843137255, 0.6, 0.41568627450980394], [0.5137254901960784, 0.6078431372549019, 0.42745098039215684], [0.5294117647058824, 0.6235294117647059, 0.44313725490196076], [0.5254901960784314, 0.6235294117647059, 0.4392156862745098]], [[0.4470588235294118, 0.2901960784313726, 0.22745098039215686], [0.4823529411764706, 0.3176470588235294, 0.24313725490196078], [0.5137254901960784, 0.35294117647058826, 0.2784313725490196], [0.49019607843137253, 0.34901960784313724, 0.28627450980392155], [0.5294117647058824, 0.40784313725490196, 0.3607843137254902], [0.4980392156862745, 0.396078431372549, 0.35294117647058826], [0.4196078431372549, 0.3215686274509804, 0.2901960784313726], [0.4627450980392157, 0.3607843137254902, 0.3411764705882353], [0.5686274509803921, 0.4549019607843137, 0.43137254901960786], [0.4823529411764706, 0.34901960784313724, 0.3176470588235294], [0.3215686274509804, 0.1803921568627451, 0.13333333333333333], [0.35294117647058826, 0.21176470588235294, 0.13725490196078433], [0.403921568627451, 0.24705882352941178, 0.13725490196078433], [0.42745098039215684, 0.25882352941176473, 0.13725490196078433], [0.47843137254901963, 0.3176470588235294, 0.21176470588235294], [0.5215686274509804, 0.3803921568627451, 0.30196078431372547], [0.5254901960784314, 0.4196078431372549, 0.37254901960784315], [0.5803921568627451, 0.47843137254901963, 0.4235294117647059], [0.6549019607843137, 0.5372549019607843, 0.47058823529411764], [0.7215686274509804, 0.6039215686274509, 0.5372549019607843], [0.7137254901960784, 0.6078431372549019, 0.5607843137254902], [0.796078431372549, 0.7098039215686275, 0.6588235294117647], [0.8784313725490196, 0.7843137254901961, 0.7333333333333333], [0.8549019607843137, 0.7215686274509804, 0.7333333333333333], [0.9137254901960784, 0.8705882352941177, 0.8431372549019608], [0.6705882352941176, 0.7607843137254902, 0.6196078431372549], [0.48627450980392156, 0.596078431372549, 0.4196078431372549], [0.5215686274509804, 0.611764705882353, 0.43529411764705883], [0.5254901960784314, 0.6274509803921569, 0.4392156862745098], [0.5333333333333333, 0.6313725490196078, 0.4470588235294118], [0.5333333333333333, 0.6313725490196078, 0.45098039215686275], [0.5294117647058824, 0.6274509803921569, 0.44313725490196076]], [[0.5019607843137255, 0.34901960784313724, 0.2823529411764706], [0.5254901960784314, 0.3607843137254902, 0.2823529411764706], [0.5294117647058824, 0.37254901960784315, 0.2980392156862745], [0.49019607843137253, 0.3607843137254902, 0.3058823529411765], [0.44313725490196076, 0.34509803921568627, 0.30196078431372547], [0.4, 0.3215686274509804, 0.27450980392156865], [0.4117647058823529, 0.30980392156862746, 0.2549019607843137], [0.4823529411764706, 0.3568627450980392, 0.30196078431372547], [0.4235294117647059, 0.3058823529411765, 0.2549019607843137], [0.2823529411764706, 0.18823529411764706, 0.1450980392156863], [0.23529411764705882, 0.15294117647058825, 0.09411764705882353], [0.29411764705882354, 0.1843137254901961, 0.10980392156862745], [0.3607843137254902, 0.2196078431372549, 0.12941176470588237], [0.4196078431372549, 0.25098039215686274, 0.14901960784313725], [0.4666666666666667, 0.2980392156862745, 0.1843137254901961], [0.5176470588235295, 0.3686274509803922, 0.24705882352941178], [0.5647058823529412, 0.44313725490196076, 0.3607843137254902], [0.5490196078431373, 0.4588235294117647, 0.396078431372549], [0.4627450980392157, 0.39215686274509803, 0.33725490196078434], [0.5529411764705883, 0.4745098039215686, 0.42745098039215684], [0.6431372549019608, 0.5333333333333333, 0.4980392156862745], [0.7411764705882353, 0.6235294117647059, 0.5764705882352941], [0.8823529411764706, 0.7764705882352941, 0.7215686274509804], [0.9098039215686274, 0.8, 0.7843137254901961], [0.9372549019607843, 0.8823529411764706, 0.8588235294117647], [0.9058823529411765, 0.9411764705882353, 0.8588235294117647], [0.6039215686274509, 0.6941176470588235, 0.5450980392156862], [0.5098039215686274, 0.6235294117647059, 0.4196078431372549], [0.5294117647058824, 0.6352941176470588, 0.4196078431372549], [0.5607843137254902, 0.6313725490196078, 0.45098039215686275], [0.5725490196078431, 0.6235294117647059, 0.4666666666666667], [0.5725490196078431, 0.6274509803921569, 0.4666666666666667]], [[0.5450980392156862, 0.39215686274509803, 0.32941176470588235], [0.5254901960784314, 0.3764705882352941, 0.3058823529411765], [0.5490196078431373, 0.4117647058823529, 0.34509803921568627], [0.5058823529411764, 0.396078431372549, 0.3411764705882353], [0.396078431372549, 0.2980392156862745, 0.24705882352941178], [0.403921568627451, 0.2901960784313726, 0.23137254901960785], [0.4588235294117647, 0.3254901960784314, 0.2627450980392157], [0.3686274509803922, 0.23529411764705882, 0.17647058823529413], [0.23137254901960785, 0.12941176470588237, 0.07450980392156863], [0.11372549019607843, 0.06274509803921569, 0.0196078431372549], [0.15294117647058825, 0.11764705882352941, 0.054901960784313725], [0.2627450980392157, 0.2, 0.11372549019607843], [0.28627450980392155, 0.1803921568627451, 0.09803921568627451], [0.3764705882352941, 0.2235294117647059, 0.1450980392156863], [0.4392156862745098, 0.2627450980392157, 0.17254901960784313], [0.5019607843137255, 0.3215686274509804, 0.23137254901960785], [0.5803921568627451, 0.4470588235294118, 0.38823529411764707], [0.5176470588235295, 0.4235294117647059, 0.3843137254901961], [0.39215686274509803, 0.3176470588235294, 0.28627450980392155], [0.3607843137254902, 0.2784313725490196, 0.24313725490196078], [0.5411764705882353, 0.4196078431372549, 0.3764705882352941], [0.6549019607843137, 0.5137254901960784, 0.45098039215686275], [0.7529411764705882, 0.611764705882353, 0.5529411764705883], [0.8705882352941177, 0.7450980392156863, 0.7137254901960784], [0.8941176470588236, 0.8117647058823529, 0.792156862745098], [0.9725490196078431, 0.9568627450980393, 0.9137254901960784], [0.8156862745098039, 0.8666666666666667, 0.7725490196078432], [0.5411764705882353, 0.6431372549019608, 0.4666666666666667], [0.5058823529411764, 0.615686274509804, 0.403921568627451], [0.5333333333333333, 0.615686274509804, 0.43529411764705883], [0.5647058823529412, 0.6313725490196078, 0.47058823529411764], [0.5568627450980392, 0.6274509803921569, 0.4627450980392157]], [[0.5333333333333333, 0.4, 0.3411764705882353], [0.5176470588235295, 0.403921568627451, 0.34509803921568627], [0.5137254901960784, 0.4117647058823529, 0.3607843137254902], [0.4235294117647059, 0.3333333333333333, 0.2823529411764706], [0.3843137254901961, 0.28627450980392155, 0.22745098039215686], [0.45098039215686275, 0.3215686274509804, 0.25882352941176473], [0.4549019607843137, 0.32941176470588235, 0.27450980392156865], [0.27450980392156865, 0.17647058823529413, 0.12549019607843137], [0.11372549019607843, 0.06274509803921569, 0.01568627450980392], [0.10980392156862745, 0.10196078431372549, 0.0392156862745098], [0.3568627450980392, 0.37254901960784315, 0.26666666666666666], [0.5176470588235295, 0.5294117647058824, 0.396078431372549], [0.34509803921568627, 0.3254901960784314, 0.20784313725490197], [0.24313725490196078, 0.1803921568627451, 0.08235294117647059], [0.3176470588235294, 0.20392156862745098, 0.12549019607843137], [0.3803921568627451, 0.23529411764705882, 0.17254901960784313], [0.3568627450980392, 0.2549019607843137, 0.20784313725490197], [0.34509803921568627, 0.26666666666666666, 0.23137254901960785], [0.3843137254901961, 0.2980392156862745, 0.27450980392156865], [0.4745098039215686, 0.37254901960784315, 0.33725490196078434], [0.6470588235294118, 0.5215686274509804, 0.4666666666666667], [0.7019607843137254, 0.5647058823529412, 0.4980392156862745], [0.7058823529411765, 0.5725490196078431, 0.5176470588235295], [0.7333333333333333, 0.6039215686274509, 0.5686274509803921], [0.8117647058823529, 0.7019607843137254, 0.6823529411764706], [0.9019607843137255, 0.8392156862745098, 0.8117647058823529], [0.9568627450980393, 0.9450980392156862, 0.8980392156862745], [0.6941176470588235, 0.7411764705882353, 0.6313725490196078], [0.5137254901960784, 0.6, 0.43137254901960786], [0.5215686274509804, 0.615686274509804, 0.4392156862745098], [0.5215686274509804, 0.6235294117647059, 0.4392156862745098], [0.5254901960784314, 0.6235294117647059, 0.44313725490196076]], [[0.5176470588235295, 0.396078431372549, 0.33725490196078434], [0.4745098039215686, 0.3843137254901961, 0.34509803921568627], [0.3686274509803922, 0.29411764705882354, 0.2549019607843137], [0.33725490196078434, 0.25882352941176473, 0.20784313725490197], [0.3843137254901961, 0.30196078431372547, 0.23921568627450981], [0.3333333333333333, 0.24705882352941178, 0.19607843137254902], [0.25098039215686274, 0.1843137254901961, 0.1411764705882353], [0.13725490196078433, 0.10196078431372549, 0.054901960784313725], [0.10980392156862745, 0.11372549019607843, 0.0392156862745098], [0.3607843137254902, 0.38823529411764707, 0.26666666666666666], [0.5450980392156862, 0.611764705882353, 0.43529411764705883], [0.5450980392156862, 0.6509803921568628, 0.4392156862745098], [0.49019607843137253, 0.592156862745098, 0.4], [0.34901960784313724, 0.42745098039215684, 0.26666666666666666], [0.2627450980392157, 0.2901960784313726, 0.17254901960784313], [0.2549019607843137, 0.24313725490196078, 0.1450980392156863], [0.18823529411764706, 0.16862745098039217, 0.08235294117647059], [0.24313725490196078, 0.20784313725490197, 0.13725490196078433], [0.44313725490196076, 0.3803921568627451, 0.33725490196078434], [0.3607843137254902, 0.26666666666666666, 0.23529411764705882], [0.48627450980392156, 0.37254901960784315, 0.3333333333333333], [0.7607843137254902, 0.6588235294117647, 0.615686274509804], [0.8392156862745098, 0.7607843137254902, 0.7333333333333333], [0.8313725490196079, 0.7450980392156863, 0.7215686274509804], [0.8392156862745098, 0.7411764705882353, 0.7137254901960784], [0.8431372549019608, 0.7450980392156863, 0.7176470588235294], [0.8862745098039215, 0.807843137254902, 0.7764705882352941], [0.8470588235294118, 0.8274509803921568, 0.7568627450980392], [0.596078431372549, 0.6392156862745098, 0.5137254901960784], [0.5490196078431373, 0.6274509803921569, 0.4588235294117647], [0.5254901960784314, 0.6274509803921569, 0.43529411764705883], [0.5333333333333333, 0.6274509803921569, 0.44313725490196076]], [[0.43137254901960786, 0.35294117647058826, 0.30980392156862746], [0.30196078431372547, 0.2549019607843137, 0.2196078431372549], [0.27450980392156865, 0.23137254901960785, 0.19607843137254902], [0.37254901960784315, 0.3137254901960784, 0.2627450980392157], [0.32941176470588235, 0.25882352941176473, 0.21176470588235294], [0.18823529411764706, 0.13725490196078433, 0.10196078431372549], [0.10196078431372549, 0.08235294117647059, 0.027450980392156862], [0.14901960784313725, 0.1568627450980392, 0.07450980392156863], [0.4, 0.44313725490196076, 0.3176470588235294], [0.5764705882352941, 0.6352941176470588, 0.4823529411764706], [0.5568627450980392, 0.6352941176470588, 0.4549019607843137], [0.5372549019607843, 0.6274509803921569, 0.43529411764705883], [0.5294117647058824, 0.6274509803921569, 0.4392156862745098], [0.5254901960784314, 0.6196078431372549, 0.44313725490196076], [0.5411764705882353, 0.6196078431372549, 0.4588235294117647], [0.5411764705882353, 0.6, 0.45098039215686275], [0.5176470588235295, 0.5568627450980392, 0.4235294117647059], [0.36470588235294116, 0.36470588235294116, 0.2549019607843137], [0.2549019607843137, 0.20392156862745098, 0.12941176470588237], [0.2823529411764706, 0.21176470588235294, 0.17254901960784313], [0.3058823529411765, 0.23921568627450981, 0.23921568627450981], [0.6078431372549019, 0.5686274509803921, 0.5843137254901961], [0.8980392156862745, 0.8784313725490196, 0.8941176470588236], [0.9333333333333333, 0.8941176470588236, 0.8980392156862745], [0.8235294117647058, 0.7450980392156863, 0.7294117647058823], [0.7019607843137254, 0.5882352941176471, 0.5529411764705883], [0.6823529411764706, 0.5490196078431373, 0.5058823529411764], [0.8, 0.7058823529411765, 0.6549019607843137], [0.7254901960784313, 0.6980392156862745, 0.6235294117647059], [0.5568627450980392, 0.5803921568627451, 0.44313725490196076], [0.5529411764705883, 0.611764705882353, 0.43529411764705883], [0.5450980392156862, 0.611764705882353, 0.4392156862745098]], [[0.23137254901960785, 0.20392156862745098, 0.17647058823529413], [0.21568627450980393, 0.19215686274509805, 0.17254901960784313], [0.3137254901960784, 0.2784313725490196, 0.25098039215686274], [0.29411764705882354, 0.23529411764705882, 0.19215686274509805], [0.19607843137254902, 0.13333333333333333, 0.08235294117647059], [0.12549019607843137, 0.09803921568627451, 0.043137254901960784], [0.20392156862745098, 0.2, 0.10980392156862745], [0.4392156862745098, 0.4666666666666667, 0.32941176470588235], [0.5647058823529412, 0.6235294117647059, 0.4549019607843137], [0.5529411764705883, 0.6274509803921569, 0.4549019607843137], [0.5607843137254902, 0.6352941176470588, 0.4666666666666667], [0.5725490196078431, 0.6352941176470588, 0.4666666666666667], [0.5647058823529412, 0.6274509803921569, 0.4588235294117647], [0.5568627450980392, 0.6196078431372549, 0.45098039215686275], [0.5843137254901961, 0.6509803921568628, 0.47843137254901963], [0.5764705882352941, 0.6431372549019608, 0.4745098039215686], [0.5686274509803921, 0.6392156862745098, 0.48627450980392156], [0.596078431372549, 0.6392156862745098, 0.49411764705882355], [0.5058823529411764, 0.5019607843137255, 0.37254901960784315], [0.3176470588235294, 0.30196078431372547, 0.2235294117647059], [0.23529411764705882, 0.23529411764705882, 0.2196078431372549], [0.4980392156862745, 0.5098039215686274, 0.5333333333333333], [0.7843137254901961, 0.7803921568627451, 0.807843137254902], [0.8745098039215686, 0.8509803921568627, 0.8705882352941177], [0.788235294117647, 0.7333333333333333, 0.7372549019607844], [0.5450980392156862, 0.4627450980392157, 0.4549019607843137], [0.5176470588235295, 0.41568627450980394, 0.396078431372549], [0.7529411764705882, 0.6627450980392157, 0.6549019607843137], [0.7098039215686275, 0.6666666666666666, 0.6431372549019608], [0.5568627450980392, 0.5607843137254902, 0.4627450980392157], [0.5529411764705883, 0.6, 0.4392156862745098], [0.5411764705882353, 0.6, 0.42745098039215684]], [[0.17647058823529413, 0.16862745098039217, 0.14901960784313725], [0.26666666666666666, 0.24705882352941178, 0.23529411764705882], [0.23137254901960785, 0.2, 0.17647058823529413], [0.16470588235294117, 0.12156862745098039, 0.07058823529411765], [0.13725490196078433, 0.10980392156862745, 0.0392156862745098], [0.18823529411764706, 0.19215686274509805, 0.10588235294117647], [0.4745098039215686, 0.49411764705882355, 0.3686274509803922], [0.5607843137254902, 0.6039215686274509, 0.43529411764705883], [0.5372549019607843, 0.6039215686274509, 0.4117647058823529], [0.5372549019607843, 0.615686274509804, 0.4117647058823529], [0.5411764705882353, 0.6235294117647059, 0.43137254901960786], [0.5372549019607843, 0.615686274509804, 0.43137254901960786], [0.5372549019607843, 0.615686274509804, 0.43529411764705883], [0.5411764705882353, 0.6196078431372549, 0.4392156862745098], [0.5411764705882353, 0.6196078431372549, 0.4392156862745098], [0.5372549019607843, 0.6196078431372549, 0.4392156862745098], [0.5137254901960784, 0.611764705882353, 0.4392156862745098], [0.5294117647058824, 0.615686274509804, 0.4392156862745098], [0.5647058823529412, 0.6313725490196078, 0.45098039215686275], [0.5137254901960784, 0.5647058823529412, 0.42745098039215684], [0.3137254901960784, 0.36470588235294116, 0.2823529411764706], [0.35294117647058826, 0.39215686274509803, 0.36470588235294116], [0.5372549019607843, 0.5372549019607843, 0.5450980392156862], [0.7450980392156863, 0.7333333333333333, 0.7450980392156863], [0.7176470588235294, 0.6941176470588235, 0.7058823529411765], [0.3843137254901961, 0.35294117647058826, 0.36470588235294116], [0.4196078431372549, 0.3803921568627451, 0.396078431372549], [0.5254901960784314, 0.49019607843137253, 0.5137254901960784], [0.41568627450980394, 0.403921568627451, 0.396078431372549], [0.49019607843137253, 0.5215686274509804, 0.42745098039215684], [0.5215686274509804, 0.5882352941176471, 0.4235294117647059], [0.5176470588235295, 0.592156862745098, 0.403921568627451]], [[0.17647058823529413, 0.16470588235294117, 0.13333333333333333], [0.20392156862745098, 0.1803921568627451, 0.15294117647058825], [0.14901960784313725, 0.13725490196078433, 0.07450980392156863], [0.16470588235294117, 0.1843137254901961, 0.07450980392156863], [0.34509803921568627, 0.3843137254901961, 0.25882352941176473], [0.30980392156862746, 0.3411764705882353, 0.25882352941176473], [0.30196078431372547, 0.3411764705882353, 0.23921568627450981], [0.5254901960784314, 0.5803921568627451, 0.41568627450980394], [0.5529411764705883, 0.6235294117647059, 0.43137254901960786], [0.5450980392156862, 0.6196078431372549, 0.4235294117647059], [0.5294117647058824, 0.611764705882353, 0.41568627450980394], [0.5215686274509804, 0.611764705882353, 0.41568627450980394], [0.5215686274509804, 0.611764705882353, 0.41568627450980394], [0.5176470588235295, 0.6078431372549019, 0.4117647058823529], [0.5215686274509804, 0.615686274509804, 0.41568627450980394], [0.5372549019607843, 0.6274509803921569, 0.43137254901960786], [0.5254901960784314, 0.6274509803921569, 0.44313725490196076], [0.5058823529411764, 0.611764705882353, 0.4117647058823529], [0.5254901960784314, 0.6235294117647059, 0.4117647058823529], [0.5254901960784314, 0.611764705882353, 0.43137254901960786], [0.5058823529411764, 0.5725490196078431, 0.4470588235294118], [0.39215686274509803, 0.43529411764705883, 0.3764705882352941], [0.3568627450980392, 0.36470588235294116, 0.37254901960784315], [0.5058823529411764, 0.5019607843137255, 0.5176470588235295], [0.5647058823529412, 0.5490196078431373, 0.5607843137254902], [0.4, 0.3686274509803922, 0.3764705882352941], [0.49019607843137253, 0.4470588235294118, 0.45098039215686275], [0.3607843137254902, 0.34509803921568627, 0.3333333333333333], [0.3843137254901961, 0.41568627450980394, 0.35294117647058826], [0.5215686274509804, 0.5882352941176471, 0.45098039215686275], [0.5176470588235295, 0.6078431372549019, 0.4117647058823529], [0.5254901960784314, 0.6078431372549019, 0.40784313725490196]], [[0.16470588235294117, 0.13333333333333333, 0.09019607843137255], [0.14901960784313725, 0.11764705882352941, 0.06274509803921569], [0.13725490196078433, 0.12941176470588237, 0.058823529411764705], [0.24705882352941178, 0.2901960784313726, 0.16862745098039217], [0.5294117647058824, 0.596078431372549, 0.44313725490196076], [0.5254901960784314, 0.5764705882352941, 0.45098039215686275], [0.2980392156862745, 0.34509803921568627, 0.24705882352941178], [0.3215686274509804, 0.37254901960784315, 0.2549019607843137], [0.5372549019607843, 0.6, 0.44313725490196076], [0.5529411764705883, 0.6274509803921569, 0.4470588235294118], [0.5450980392156862, 0.6313725490196078, 0.4392156862745098], [0.5372549019607843, 0.6274509803921569, 0.43137254901960786], [0.5294117647058824, 0.6196078431372549, 0.4196078431372549], [0.5137254901960784, 0.6, 0.4], [0.5254901960784314, 0.611764705882353, 0.403921568627451], [0.5333333333333333, 0.6196078431372549, 0.41568627450980394], [0.5098039215686274, 0.611764705882353, 0.40784313725490196], [0.4980392156862745, 0.6078431372549019, 0.38823529411764707], [0.5333333333333333, 0.6470588235294118, 0.40784313725490196], [0.5490196078431373, 0.6509803921568628, 0.4392156862745098], [0.5568627450980392, 0.6392156862745098, 0.4745098039215686], [0.48627450980392156, 0.5411764705882353, 0.43529411764705883], [0.36470588235294116, 0.39215686274509803, 0.3333333333333333], [0.3137254901960784, 0.3176470588235294, 0.2823529411764706], [0.4, 0.3803921568627451, 0.3607843137254902], [0.36470588235294116, 0.33725490196078434, 0.30980392156862746], [0.3333333333333333, 0.30980392156862746, 0.25882352941176473], [0.36470588235294116, 0.3803921568627451, 0.27450980392156865], [0.4745098039215686, 0.5411764705882353, 0.3803921568627451], [0.5215686274509804, 0.611764705882353, 0.40784313725490196], [0.5215686274509804, 0.6235294117647059, 0.396078431372549], [0.5215686274509804, 0.6274509803921569, 0.403921568627451]], [[0.1607843137254902, 0.12941176470588237, 0.07450980392156863], [0.16470588235294117, 0.12941176470588237, 0.07058823529411765], [0.13725490196078433, 0.11372549019607843, 0.07450980392156863], [0.23137254901960785, 0.24313725490196078, 0.16470588235294117], [0.5294117647058824, 0.5803921568627451, 0.42745098039215684], [0.5568627450980392, 0.6274509803921569, 0.45098039215686275], [0.5333333333333333, 0.6, 0.4666666666666667], [0.3137254901960784, 0.36470588235294116, 0.27450980392156865], [0.30980392156862746, 0.36470588235294116, 0.25882352941176473], [0.5254901960784314, 0.5843137254901961, 0.43529411764705883], [0.5411764705882353, 0.611764705882353, 0.43137254901960786], [0.5215686274509804, 0.6039215686274509, 0.40784313725490196], [0.5372549019607843, 0.6196078431372549, 0.42745098039215684], [0.5372549019607843, 0.615686274509804, 0.4196078431372549], [0.5333333333333333, 0.611764705882353, 0.41568627450980394], [0.5529411764705883, 0.6352941176470588, 0.43529411764705883], [0.5215686274509804, 0.6274509803921569, 0.4196078431372549], [0.5019607843137255, 0.6196078431372549, 0.396078431372549], [0.5215686274509804, 0.6352941176470588, 0.40784313725490196], [0.5529411764705883, 0.6549019607843137, 0.4470588235294118], [0.5450980392156862, 0.6313725490196078, 0.4627450980392157], [0.4745098039215686, 0.5607843137254902, 0.403921568627451], [0.49019607843137253, 0.5843137254901961, 0.403921568627451], [0.4117647058823529, 0.47843137254901963, 0.33725490196078434], [0.3607843137254902, 0.40784313725490196, 0.29411764705882354], [0.45098039215686275, 0.5098039215686274, 0.3803921568627451], [0.47058823529411764, 0.5568627450980392, 0.3764705882352941], [0.5254901960784314, 0.6196078431372549, 0.403921568627451], [0.5411764705882353, 0.6313725490196078, 0.40784313725490196], [0.5372549019607843, 0.6313725490196078, 0.40784313725490196], [0.5294117647058824, 0.6352941176470588, 0.40784313725490196], [0.5019607843137255, 0.6196078431372549, 0.38823529411764707]], [[0.19607843137254902, 0.17254901960784313, 0.11764705882352941], [0.17254901960784313, 0.1450980392156863, 0.09803921568627451], [0.12549019607843137, 0.11372549019607843, 0.08235294117647059], [0.2980392156862745, 0.3215686274509804, 0.23529411764705882], [0.5568627450980392, 0.6313725490196078, 0.4549019607843137], [0.5490196078431373, 0.6509803921568628, 0.4588235294117647], [0.5490196078431373, 0.6352941176470588, 0.47843137254901963], [0.5254901960784314, 0.5843137254901961, 0.47058823529411764], [0.3058823529411765, 0.34509803921568627, 0.25882352941176473], [0.3803921568627451, 0.4, 0.30980392156862746], [0.5450980392156862, 0.5882352941176471, 0.44313725490196076], [0.5647058823529412, 0.6352941176470588, 0.4392156862745098], [0.5647058823529412, 0.6431372549019608, 0.45098039215686275], [0.5333333333333333, 0.615686274509804, 0.42745098039215684], [0.5372549019607843, 0.6196078431372549, 0.4392156862745098], [0.5607843137254902, 0.6509803921568628, 0.47058823529411764], [0.5333333333333333, 0.6352941176470588, 0.4470588235294118], [0.5098039215686274, 0.611764705882353, 0.4235294117647059], [0.5137254901960784, 0.611764705882353, 0.43137254901960786], [0.5333333333333333, 0.615686274509804, 0.4549019607843137], [0.49019607843137253, 0.5607843137254902, 0.4235294117647059], [0.49019607843137253, 0.5725490196078431, 0.43529411764705883], [0.4745098039215686, 0.5803921568627451, 0.42745098039215684], [0.36470588235294116, 0.47058823529411764, 0.3215686274509804], [0.43529411764705883, 0.5372549019607843, 0.3803921568627451], [0.5215686274509804, 0.6352941176470588, 0.44313725490196076], [0.5176470588235295, 0.6392156862745098, 0.4], [0.5294117647058824, 0.6431372549019608, 0.4117647058823529], [0.5294117647058824, 0.6274509803921569, 0.42745098039215684], [0.5411764705882353, 0.6431372549019608, 0.4392156862745098], [0.5176470588235295, 0.6196078431372549, 0.4196078431372549], [0.4980392156862745, 0.6, 0.396078431372549]], [[0.16470588235294117, 0.15294117647058825, 0.08627450980392157], [0.20392156862745098, 0.1803921568627451, 0.14901960784313725], [0.19607843137254902, 0.19215686274509805, 0.17647058823529413], [0.41568627450980394, 0.45098039215686275, 0.3607843137254902], [0.5490196078431373, 0.6235294117647059, 0.44313725490196076], [0.5294117647058824, 0.6235294117647059, 0.43529411764705883], [0.5254901960784314, 0.6078431372549019, 0.43529411764705883], [0.5450980392156862, 0.611764705882353, 0.4588235294117647], [0.5529411764705883, 0.6039215686274509, 0.47058823529411764], [0.5058823529411764, 0.5411764705882353, 0.4235294117647059], [0.5176470588235295, 0.5568627450980392, 0.4235294117647059], [0.5725490196078431, 0.6274509803921569, 0.4745098039215686], [0.5725490196078431, 0.6352941176470588, 0.4745098039215686], [0.5490196078431373, 0.6313725490196078, 0.4549019607843137], [0.5490196078431373, 0.6470588235294118, 0.4549019607843137], [0.5333333333333333, 0.6392156862745098, 0.4392156862745098], [0.5254901960784314, 0.6274509803921569, 0.4196078431372549], [0.5215686274509804, 0.615686274509804, 0.42745098039215684], [0.5215686274509804, 0.6039215686274509, 0.4470588235294118], [0.39215686274509803, 0.4627450980392157, 0.32941176470588235], [0.4235294117647059, 0.4823529411764706, 0.34901960784313724], [0.5058823529411764, 0.5647058823529412, 0.44313725490196076], [0.29411764705882354, 0.35294117647058826, 0.2549019607843137], [0.20392156862745098, 0.27450980392156865, 0.16862745098039217], [0.45098039215686275, 0.5372549019607843, 0.396078431372549], [0.5098039215686274, 0.596078431372549, 0.4235294117647059], [0.5058823529411764, 0.5843137254901961, 0.38823529411764707], [0.5215686274509804, 0.615686274509804, 0.403921568627451], [0.5137254901960784, 0.6274509803921569, 0.40784313725490196], [0.5137254901960784, 0.6235294117647059, 0.40784313725490196], [0.5176470588235295, 0.6196078431372549, 0.40784313725490196], [0.5372549019607843, 0.6313725490196078, 0.4196078431372549]], [[0.15294117647058825, 0.14901960784313725, 0.09019607843137255], [0.1450980392156863, 0.13725490196078433, 0.10980392156862745], [0.25882352941176473, 0.26666666666666666, 0.23529411764705882], [0.45098039215686275, 0.5019607843137255, 0.396078431372549], [0.5098039215686274, 0.5843137254901961, 0.4117647058823529], [0.5294117647058824, 0.596078431372549, 0.43529411764705883], [0.5333333333333333, 0.6, 0.43529411764705883], [0.5333333333333333, 0.6039215686274509, 0.42745098039215684], [0.5294117647058824, 0.6039215686274509, 0.4235294117647059], [0.5333333333333333, 0.6078431372549019, 0.43137254901960786], [0.5294117647058824, 0.5843137254901961, 0.44313725490196076], [0.5803921568627451, 0.611764705882353, 0.5019607843137255], [0.592156862745098, 0.6352941176470588, 0.5019607843137255], [0.5490196078431373, 0.615686274509804, 0.4470588235294118], [0.5098039215686274, 0.6078431372549019, 0.40784313725490196], [0.5137254901960784, 0.6313725490196078, 0.40784313725490196], [0.5372549019607843, 0.6313725490196078, 0.4117647058823529], [0.5333333333333333, 0.611764705882353, 0.4196078431372549], [0.43137254901960786, 0.4980392156862745, 0.3411764705882353], [0.3411764705882353, 0.403921568627451, 0.2627450980392157], [0.4980392156862745, 0.5568627450980392, 0.4117647058823529], [0.49411764705882355, 0.5607843137254902, 0.403921568627451], [0.4117647058823529, 0.4980392156862745, 0.3333333333333333], [0.49019607843137253, 0.6, 0.41568627450980394], [0.5137254901960784, 0.6431372549019608, 0.43529411764705883], [0.5098039215686274, 0.6352941176470588, 0.41568627450980394], [0.49019607843137253, 0.592156862745098, 0.3764705882352941], [0.49411764705882355, 0.6078431372549019, 0.3803921568627451], [0.5215686274509804, 0.6509803921568628, 0.4117647058823529], [0.5137254901960784, 0.6352941176470588, 0.396078431372549], [0.5137254901960784, 0.6196078431372549, 0.38823529411764707], [0.5411764705882353, 0.6352941176470588, 0.40784313725490196]], [[0.16470588235294117, 0.15294117647058825, 0.13333333333333333], [0.18823529411764706, 0.19607843137254902, 0.1568627450980392], [0.40784313725490196, 0.4549019607843137, 0.33725490196078434], [0.5098039215686274, 0.5803921568627451, 0.43137254901960786], [0.4627450980392157, 0.5411764705882353, 0.403921568627451], [0.5176470588235295, 0.5843137254901961, 0.4588235294117647], [0.5607843137254902, 0.6274509803921569, 0.49411764705882355], [0.5450980392156862, 0.615686274509804, 0.47058823529411764], [0.5254901960784314, 0.6, 0.4392156862745098], [0.5333333333333333, 0.6078431372549019, 0.44313725490196076], [0.5137254901960784, 0.6039215686274509, 0.4392156862745098], [0.49411764705882355, 0.5843137254901961, 0.4235294117647059], [0.5529411764705883, 0.6078431372549019, 0.4588235294117647], [0.5882352941176471, 0.615686274509804, 0.47058823529411764], [0.5764705882352941, 0.6039215686274509, 0.4588235294117647], [0.5843137254901961, 0.6274509803921569, 0.47058823529411764], [0.5764705882352941, 0.6235294117647059, 0.4666666666666667], [0.5215686274509804, 0.5686274509803921, 0.41568627450980394], [0.4627450980392157, 0.5215686274509804, 0.36470588235294116], [0.5333333333333333, 0.6, 0.43529411764705883], [0.5254901960784314, 0.6, 0.43137254901960786], [0.4980392156862745, 0.592156862745098, 0.4117647058823529], [0.5137254901960784, 0.6392156862745098, 0.42745098039215684], [0.5137254901960784, 0.6470588235294118, 0.42745098039215684], [0.49411764705882355, 0.6274509803921569, 0.40784313725490196], [0.4666666666666667, 0.6, 0.3803921568627451], [0.4745098039215686, 0.6039215686274509, 0.38823529411764707], [0.4823529411764706, 0.615686274509804, 0.39215686274509803], [0.47843137254901963, 0.615686274509804, 0.38823529411764707], [0.5019607843137255, 0.6274509803921569, 0.4], [0.49019607843137253, 0.6039215686274509, 0.3843137254901961], [0.5019607843137255, 0.6078431372549019, 0.39215686274509803]], [[0.17647058823529413, 0.17254901960784313, 0.15294117647058825], [0.2627450980392157, 0.2823529411764706, 0.23529411764705882], [0.5019607843137255, 0.5607843137254902, 0.4235294117647059], [0.5098039215686274, 0.596078431372549, 0.4196078431372549], [0.4980392156862745, 0.5843137254901961, 0.42745098039215684], [0.5254901960784314, 0.5882352941176471, 0.4392156862745098], [0.5725490196078431, 0.6313725490196078, 0.4823529411764706], [0.5725490196078431, 0.6313725490196078, 0.47843137254901963], [0.5803921568627451, 0.6392156862745098, 0.4823529411764706], [0.5529411764705883, 0.611764705882353, 0.4470588235294118], [0.5450980392156862, 0.6431372549019608, 0.4666666666666667], [0.5215686274509804, 0.6431372549019608, 0.4627450980392157], [0.49411764705882355, 0.5803921568627451, 0.40784313725490196], [0.49411764705882355, 0.5372549019607843, 0.3803921568627451], [0.5803921568627451, 0.596078431372549, 0.45098039215686275], [0.5843137254901961, 0.596078431372549, 0.45098039215686275], [0.5176470588235295, 0.5764705882352941, 0.42745098039215684], [0.48627450980392156, 0.5725490196078431, 0.4117647058823529], [0.5137254901960784, 0.6, 0.4235294117647059], [0.5137254901960784, 0.611764705882353, 0.41568627450980394], [0.5058823529411764, 0.611764705882353, 0.4], [0.5254901960784314, 0.6431372549019608, 0.4196078431372549], [0.5058823529411764, 0.6431372549019608, 0.4117647058823529], [0.5019607843137255, 0.6392156862745098, 0.40784313725490196], [0.49019607843137253, 0.6274509803921569, 0.396078431372549], [0.48627450980392156, 0.6235294117647059, 0.39215686274509803], [0.5019607843137255, 0.6392156862745098, 0.40784313725490196], [0.49411764705882355, 0.6235294117647059, 0.403921568627451], [0.49411764705882355, 0.611764705882353, 0.4], [0.5333333333333333, 0.6470588235294118, 0.43529411764705883], [0.5372549019607843, 0.6431372549019608, 0.4392156862745098], [0.5215686274509804, 0.6274509803921569, 0.4196078431372549]], [[0.16470588235294117, 0.16862745098039217, 0.14901960784313725], [0.25882352941176473, 0.2901960784313726, 0.23137254901960785], [0.5058823529411764, 0.5764705882352941, 0.4196078431372549], [0.5176470588235295, 0.6196078431372549, 0.41568627450980394], [0.5176470588235295, 0.6196078431372549, 0.42745098039215684], [0.5176470588235295, 0.596078431372549, 0.403921568627451], [0.5058823529411764, 0.5803921568627451, 0.39215686274509803], [0.5019607843137255, 0.5725490196078431, 0.39215686274509803], [0.5294117647058824, 0.6, 0.4235294117647059], [0.5058823529411764, 0.5725490196078431, 0.4], [0.5686274509803921, 0.6196078431372549, 0.45098039215686275], [0.6, 0.6392156862745098, 0.4745098039215686], [0.5372549019607843, 0.6, 0.43137254901960786], [0.45098039215686275, 0.5372549019607843, 0.3568627450980392], [0.5019607843137255, 0.596078431372549, 0.4117647058823529], [0.5098039215686274, 0.611764705882353, 0.4235294117647059], [0.5019607843137255, 0.615686274509804, 0.4117647058823529], [0.4980392156862745, 0.615686274509804, 0.403921568627451], [0.5215686274509804, 0.6313725490196078, 0.4196078431372549], [0.5294117647058824, 0.6392156862745098, 0.4196078431372549], [0.5411764705882353, 0.6470588235294118, 0.42745098039215684], [0.5294117647058824, 0.6352941176470588, 0.41568627450980394], [0.5176470588235295, 0.6352941176470588, 0.4196078431372549], [0.5176470588235295, 0.6352941176470588, 0.4235294117647059], [0.5019607843137255, 0.615686274509804, 0.403921568627451], [0.49411764705882355, 0.611764705882353, 0.4], [0.5098039215686274, 0.6235294117647059, 0.4117647058823529], [0.5294117647058824, 0.6313725490196078, 0.43137254901960786], [0.5254901960784314, 0.611764705882353, 0.4235294117647059], [0.5372549019607843, 0.6274509803921569, 0.43529411764705883], [0.5450980392156862, 0.6392156862745098, 0.4470588235294118], [0.5490196078431373, 0.6509803921568628, 0.4549019607843137]]]]}'"
            ]
          },
          "metadata": {
            "tags": []
          },
          "execution_count": 18
        }
      ]
    },
    {
      "cell_type": "markdown",
      "metadata": {
        "id": "KZDKjyfbPoIa",
        "colab_type": "text"
      },
      "source": [
        "### Sending the first POST request to the model"
      ]
    },
    {
      "cell_type": "code",
      "metadata": {
        "id": "7oFbtxiyPe4p",
        "colab_type": "code",
        "colab": {}
      },
      "source": [
        "headers = {\"content-type\":\"application/json\"}"
      ],
      "execution_count": 0,
      "outputs": []
    },
    {
      "cell_type": "code",
      "metadata": {
        "id": "I5KHh02nQYIJ",
        "colab_type": "code",
        "colab": {}
      },
      "source": [
        "json_response = requests.post(url=\"http://localhost:8501/v1/models/cifar10:predict\", data=data, headers=headers)"
      ],
      "execution_count": 0,
      "outputs": []
    },
    {
      "cell_type": "code",
      "metadata": {
        "id": "bMYkCQ4gQ2tR",
        "colab_type": "code",
        "outputId": "b7f0dee5-1b6d-43fb-f1db-6c5388652061",
        "colab": {
          "base_uri": "https://localhost:8080/",
          "height": 36
        }
      },
      "source": [
        "json_response"
      ],
      "execution_count": 0,
      "outputs": [
        {
          "output_type": "execute_result",
          "data": {
            "text/plain": [
              "<Response [200]>"
            ]
          },
          "metadata": {
            "tags": []
          },
          "execution_count": 21
        }
      ]
    },
    {
      "cell_type": "code",
      "metadata": {
        "id": "UtoG2441Q4_I",
        "colab_type": "code",
        "colab": {}
      },
      "source": [
        "predictions = json.loads(json_response.text)['predictions']"
      ],
      "execution_count": 0,
      "outputs": []
    },
    {
      "cell_type": "code",
      "metadata": {
        "id": "hA-jN6xSRK2S",
        "colab_type": "code",
        "outputId": "2733a092-8558-4630-a566-edefc86b67ec",
        "colab": {
          "base_uri": "https://localhost:8080/",
          "height": 204
        }
      },
      "source": [
        "predictions"
      ],
      "execution_count": 0,
      "outputs": [
        {
          "output_type": "execute_result",
          "data": {
            "text/plain": [
              "[[1.43151e-05,\n",
              "  8.25434e-09,\n",
              "  0.00420625,\n",
              "  0.0147217,\n",
              "  0.0125217,\n",
              "  0.00353992,\n",
              "  0.000103995,\n",
              "  0.964891,\n",
              "  1.08745e-06,\n",
              "  5.2131e-09]]"
            ]
          },
          "metadata": {
            "tags": []
          },
          "execution_count": 23
        }
      ]
    },
    {
      "cell_type": "code",
      "metadata": {
        "id": "KlyFNxrxRL_A",
        "colab_type": "code",
        "outputId": "9f5e40d2-d793-443d-bd7a-f5bc007a5bd5",
        "colab": {
          "base_uri": "https://localhost:8080/",
          "height": 288
        }
      },
      "source": [
        "plt.imshow(X_test[random_image])"
      ],
      "execution_count": 0,
      "outputs": [
        {
          "output_type": "execute_result",
          "data": {
            "text/plain": [
              "<matplotlib.image.AxesImage at 0x7f6b1b94cf60>"
            ]
          },
          "metadata": {
            "tags": []
          },
          "execution_count": 24
        },
        {
          "output_type": "display_data",
          "data": {
            "image/png": "[encoded data removed]",
            "text/plain": [
              "<Figure size 432x288 with 1 Axes>"
            ]
          },
          "metadata": {
            "tags": []
          }
        }
      ]
    },
    {
      "cell_type": "code",
      "metadata": {
        "id": "E3WbrMl_RW1Y",
        "colab_type": "code",
        "outputId": "f8089ea0-1391-449a-cfa4-d873999a8812",
        "colab": {
          "base_uri": "https://localhost:8080/",
          "height": 36
        }
      },
      "source": [
        "class_names[np.argmax(predictions[0])]"
      ],
      "execution_count": 0,
      "outputs": [
        {
          "output_type": "execute_result",
          "data": {
            "text/plain": [
              "'horse'"
            ]
          },
          "metadata": {
            "tags": []
          },
          "execution_count": 25
        }
      ]
    },
    {
      "cell_type": "markdown",
      "metadata": {
        "id": "OVN6T3tFR_IQ",
        "colab_type": "text"
      },
      "source": [
        "## Stage 8: Sending the POST request to a specific model"
      ]
    },
    {
      "cell_type": "code",
      "metadata": {
        "id": "5TYXGo-XRkCo",
        "colab_type": "code",
        "colab": {}
      },
      "source": [
        "specific_json_response = requests.post(url=\"http://localhost:8501/v1/models/cifar10/versions/1:predict\", data=data, headers=headers)"
      ],
      "execution_count": 0,
      "outputs": []
    },
    {
      "cell_type": "code",
      "metadata": {
        "id": "TF9nOKVeS9ER",
        "colab_type": "code",
        "outputId": "c294eded-4efd-485e-b17c-a095796d85ca",
        "colab": {
          "base_uri": "https://localhost:8080/",
          "height": 36
        }
      },
      "source": [
        "specific_json_response"
      ],
      "execution_count": 0,
      "outputs": [
        {
          "output_type": "execute_result",
          "data": {
            "text/plain": [
              "<Response [200]>"
            ]
          },
          "metadata": {
            "tags": []
          },
          "execution_count": 27
        }
      ]
    },
    {
      "cell_type": "code",
      "metadata": {
        "id": "EZGwCkeMS-qg",
        "colab_type": "code",
        "colab": {}
      },
      "source": [
        ""
      ],
      "execution_count": 0,
      "outputs": []
    }
  ]
}