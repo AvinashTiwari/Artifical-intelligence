{
 "cells": [
  {
   "cell_type": "code",
   "execution_count": 1,
   "metadata": {},
   "outputs": [],
   "source": [
    "import tempfile\n",
    "import pandas as pd\n",
    "import tensorflow as tf\n",
    "import tensorflow_transform as tft\n",
    "import tensorflow_transform.beam.impl as tft_beam\n",
    "\n",
    "from __future__ import print_function\n",
    "from tensorflow_transform.tf_metadata import dataset_metadata, dataset_schema"
   ]
  },
  {
   "cell_type": "code",
   "execution_count": 2,
   "metadata": {},
   "outputs": [],
   "source": [
    "dataset =  pd.read_csv(\"pollution-small.csv\")"
   ]
  },
  {
   "cell_type": "code",
   "execution_count": 3,
   "metadata": {},
   "outputs": [
    {
     "data": {
      "text/html": [
       "<div>\n",
       "<style scoped>\n",
       "    .dataframe tbody tr th:only-of-type {\n",
       "        vertical-align: middle;\n",
       "    }\n",
       "\n",
       "    .dataframe tbody tr th {\n",
       "        vertical-align: top;\n",
       "    }\n",
       "\n",
       "    .dataframe thead th {\n",
       "        text-align: right;\n",
       "    }\n",
       "</style>\n",
       "<table border=\"1\" class=\"dataframe\">\n",
       "  <thead>\n",
       "    <tr style=\"text-align: right;\">\n",
       "      <th></th>\n",
       "      <th>Date</th>\n",
       "      <th>pm10</th>\n",
       "      <th>no2</th>\n",
       "      <th>so2</th>\n",
       "      <th>soot</th>\n",
       "    </tr>\n",
       "  </thead>\n",
       "  <tbody>\n",
       "    <tr>\n",
       "      <th>0</th>\n",
       "      <td>1/1/2009</td>\n",
       "      <td>98.67</td>\n",
       "      <td>14.10</td>\n",
       "      <td>44.38</td>\n",
       "      <td>34.81</td>\n",
       "    </tr>\n",
       "    <tr>\n",
       "      <th>1</th>\n",
       "      <td>1/2/2009</td>\n",
       "      <td>52.33</td>\n",
       "      <td>14.10</td>\n",
       "      <td>29.75</td>\n",
       "      <td>33.06</td>\n",
       "    </tr>\n",
       "    <tr>\n",
       "      <th>2</th>\n",
       "      <td>1/3/2009</td>\n",
       "      <td>74.67</td>\n",
       "      <td>20.50</td>\n",
       "      <td>36.25</td>\n",
       "      <td>39.25</td>\n",
       "    </tr>\n",
       "    <tr>\n",
       "      <th>3</th>\n",
       "      <td>1/4/2009</td>\n",
       "      <td>72.00</td>\n",
       "      <td>17.30</td>\n",
       "      <td>46.44</td>\n",
       "      <td>34.38</td>\n",
       "    </tr>\n",
       "    <tr>\n",
       "      <th>4</th>\n",
       "      <td>1/5/2009</td>\n",
       "      <td>81.00</td>\n",
       "      <td>25.64</td>\n",
       "      <td>56.56</td>\n",
       "      <td>45.59</td>\n",
       "    </tr>\n",
       "  </tbody>\n",
       "</table>\n",
       "</div>"
      ],
      "text/plain": [
       "       Date   pm10    no2    so2   soot\n",
       "0  1/1/2009  98.67  14.10  44.38  34.81\n",
       "1  1/2/2009  52.33  14.10  29.75  33.06\n",
       "2  1/3/2009  74.67  20.50  36.25  39.25\n",
       "3  1/4/2009  72.00  17.30  46.44  34.38\n",
       "4  1/5/2009  81.00  25.64  56.56  45.59"
      ]
     },
     "execution_count": 3,
     "metadata": {},
     "output_type": "execute_result"
    }
   ],
   "source": [
    "dataset.head()"
   ]
  },
  {
   "cell_type": "code",
   "execution_count": 4,
   "metadata": {},
   "outputs": [],
   "source": [
    "fratures = dataset.drop(\"Date\",axis=1)"
   ]
  },
  {
   "cell_type": "code",
   "execution_count": 5,
   "metadata": {},
   "outputs": [
    {
     "data": {
      "text/html": [
       "<div>\n",
       "<style scoped>\n",
       "    .dataframe tbody tr th:only-of-type {\n",
       "        vertical-align: middle;\n",
       "    }\n",
       "\n",
       "    .dataframe tbody tr th {\n",
       "        vertical-align: top;\n",
       "    }\n",
       "\n",
       "    .dataframe thead th {\n",
       "        text-align: right;\n",
       "    }\n",
       "</style>\n",
       "<table border=\"1\" class=\"dataframe\">\n",
       "  <thead>\n",
       "    <tr style=\"text-align: right;\">\n",
       "      <th></th>\n",
       "      <th>pm10</th>\n",
       "      <th>no2</th>\n",
       "      <th>so2</th>\n",
       "      <th>soot</th>\n",
       "    </tr>\n",
       "  </thead>\n",
       "  <tbody>\n",
       "    <tr>\n",
       "      <th>0</th>\n",
       "      <td>98.67</td>\n",
       "      <td>14.10</td>\n",
       "      <td>44.38</td>\n",
       "      <td>34.81</td>\n",
       "    </tr>\n",
       "    <tr>\n",
       "      <th>1</th>\n",
       "      <td>52.33</td>\n",
       "      <td>14.10</td>\n",
       "      <td>29.75</td>\n",
       "      <td>33.06</td>\n",
       "    </tr>\n",
       "    <tr>\n",
       "      <th>2</th>\n",
       "      <td>74.67</td>\n",
       "      <td>20.50</td>\n",
       "      <td>36.25</td>\n",
       "      <td>39.25</td>\n",
       "    </tr>\n",
       "    <tr>\n",
       "      <th>3</th>\n",
       "      <td>72.00</td>\n",
       "      <td>17.30</td>\n",
       "      <td>46.44</td>\n",
       "      <td>34.38</td>\n",
       "    </tr>\n",
       "    <tr>\n",
       "      <th>4</th>\n",
       "      <td>81.00</td>\n",
       "      <td>25.64</td>\n",
       "      <td>56.56</td>\n",
       "      <td>45.59</td>\n",
       "    </tr>\n",
       "  </tbody>\n",
       "</table>\n",
       "</div>"
      ],
      "text/plain": [
       "    pm10    no2    so2   soot\n",
       "0  98.67  14.10  44.38  34.81\n",
       "1  52.33  14.10  29.75  33.06\n",
       "2  74.67  20.50  36.25  39.25\n",
       "3  72.00  17.30  46.44  34.38\n",
       "4  81.00  25.64  56.56  45.59"
      ]
     },
     "execution_count": 5,
     "metadata": {},
     "output_type": "execute_result"
    }
   ],
   "source": [
    "fratures.head()"
   ]
  },
  {
   "cell_type": "code",
   "execution_count": 6,
   "metadata": {},
   "outputs": [],
   "source": [
    "dict_features = list(fratures.to_dict(\"index\").values())"
   ]
  },
  {
   "cell_type": "code",
   "execution_count": 7,
   "metadata": {},
   "outputs": [
    {
     "data": {
      "text/plain": [
       "[{'no2': 14.1, 'pm10': 98.67, 'so2': 44.38, 'soot': 34.81},\n",
       " {'no2': 14.1, 'pm10': 52.33, 'so2': 29.75, 'soot': 33.06}]"
      ]
     },
     "execution_count": 7,
     "metadata": {},
     "output_type": "execute_result"
    }
   ],
   "source": [
    "dict_features[:2]"
   ]
  },
  {
   "cell_type": "code",
   "execution_count": 8,
   "metadata": {},
   "outputs": [
    {
     "name": "stdout",
     "output_type": "stream",
     "text": [
      "WARNING:tensorflow:From <ipython-input-8-e1853cb3b0c1>:6: from_feature_spec (from tensorflow_transform.tf_metadata.dataset_schema) is deprecated and will be removed in a future version.\n",
      "Instructions for updating:\n",
      "from_feature_spec is a deprecated, use schema_utils.schema_from_feature_spec\n"
     ]
    }
   ],
   "source": [
    "data_model = dataset_metadata.DatasetMetadata(\n",
    "    dataset_schema.from_feature_spec({\n",
    "        'no2':  tf.compat.v1.FixedLenFeature([],tf.float32),\n",
    "        'so2':  tf.compat.v1.FixedLenFeature([],tf.float32),\n",
    "        'pm10': tf.compat.v1.FixedLenFeature([],tf.float32),\n",
    "        'soot': tf.compat.v1.FixedLenFeature([],tf.float32),\n",
    "    }\n",
    "    )\n",
    ")"
   ]
  },
  {
   "cell_type": "code",
   "execution_count": 9,
   "metadata": {},
   "outputs": [
    {
     "data": {
      "text/plain": [
       "{'_schema': feature {\n",
       "  name: \"no2\"\n",
       "  type: FLOAT\n",
       "  presence {\n",
       "    min_fraction: 1.0\n",
       "  }\n",
       "  shape {\n",
       "  }\n",
       "}\n",
       "feature {\n",
       "  name: \"pm10\"\n",
       "  type: FLOAT\n",
       "  presence {\n",
       "    min_fraction: 1.0\n",
       "  }\n",
       "  shape {\n",
       "  }\n",
       "}\n",
       "feature {\n",
       "  name: \"so2\"\n",
       "  type: FLOAT\n",
       "  presence {\n",
       "    min_fraction: 1.0\n",
       "  }\n",
       "  shape {\n",
       "  }\n",
       "}\n",
       "feature {\n",
       "  name: \"soot\"\n",
       "  type: FLOAT\n",
       "  presence {\n",
       "    min_fraction: 1.0\n",
       "  }\n",
       "  shape {\n",
       "  }\n",
       "}\n",
       "}"
      ]
     },
     "execution_count": 9,
     "metadata": {},
     "output_type": "execute_result"
    }
   ],
   "source": [
    "data_model"
   ]
  },
  {
   "cell_type": "code",
   "execution_count": 10,
   "metadata": {},
   "outputs": [],
   "source": [
    "def preprocessing_fn(inputs):\n",
    "    \n",
    "    no2 = inputs['no2']\n",
    "    pm10 = inputs['pm10']\n",
    "    so2 = inputs['so2']\n",
    "    soot = inputs['soot']\n",
    "    \n",
    "    no2_normalized = no2 - tft.mean(no2)\n",
    "    so2_normalized = so2 - tft.mean(so2)\n",
    "    \n",
    "    pm10_normalized = tft.scale_to_0_1(pm10)\n",
    "    soot_normalized = tft.scale_by_min_max(soot)\n",
    "    \n",
    "    return {\n",
    "        \"no2_normalized\":no2_normalized,\n",
    "        \"so2_normalized\":so2_normalized,\n",
    "        \"pm10_normalized\":pm10_normalized,\n",
    "        \"soot_normalized\":soot_normalized\n",
    "    }"
   ]
  },
  {
   "cell_type": "code",
   "execution_count": 11,
   "metadata": {},
   "outputs": [],
   "source": [
    "def data_transform():\n",
    "    \n",
    "    with tft_beam.Context(temp_dir=tempfile.mkdtemp()):\n",
    "        transformed_dataset, transform_fn = ((dict_features, data_model) | tft_beam.AnalyzeAndTransformDataset(preprocessing_fn))\n",
    "        \n",
    "    transformed_data, transformed_metadata = transformed_dataset\n",
    "    \n",
    "    for i in range(len(transformed_data)):\n",
    "        print(\"Raw: \", dict_features[i])\n",
    "        print(\"Transformed:\", transformed_data[i])"
   ]
  },
  {
   "cell_type": "code",
   "execution_count": 12,
   "metadata": {},
   "outputs": [
    {
     "ename": "NameError",
     "evalue": "name 'data_metadata' is not defined",
     "output_type": "error",
     "traceback": [
      "\u001b[1;31m---------------------------------------------------------------------------\u001b[0m",
      "\u001b[1;31mNameError\u001b[0m                                 Traceback (most recent call last)",
      "\u001b[1;32m<ipython-input-12-212ed0f87623>\u001b[0m in \u001b[0;36m<module>\u001b[1;34m()\u001b[0m\n\u001b[1;32m----> 1\u001b[1;33m \u001b[0mdata_transform\u001b[0m\u001b[1;33m(\u001b[0m\u001b[1;33m)\u001b[0m\u001b[1;33m\u001b[0m\u001b[0m\n\u001b[0m",
      "\u001b[1;32m<ipython-input-11-06f453085b30>\u001b[0m in \u001b[0;36mdata_transform\u001b[1;34m()\u001b[0m\n\u001b[0;32m      2\u001b[0m \u001b[1;33m\u001b[0m\u001b[0m\n\u001b[0;32m      3\u001b[0m     \u001b[1;32mwith\u001b[0m \u001b[0mtft_beam\u001b[0m\u001b[1;33m.\u001b[0m\u001b[0mContext\u001b[0m\u001b[1;33m(\u001b[0m\u001b[0mtemp_dir\u001b[0m\u001b[1;33m=\u001b[0m\u001b[0mtempfile\u001b[0m\u001b[1;33m.\u001b[0m\u001b[0mmkdtemp\u001b[0m\u001b[1;33m(\u001b[0m\u001b[1;33m)\u001b[0m\u001b[1;33m)\u001b[0m\u001b[1;33m:\u001b[0m\u001b[1;33m\u001b[0m\u001b[0m\n\u001b[1;32m----> 4\u001b[1;33m         \u001b[0mtransformed_dataset\u001b[0m\u001b[1;33m,\u001b[0m \u001b[0mtransform_fn\u001b[0m \u001b[1;33m=\u001b[0m \u001b[1;33m(\u001b[0m\u001b[1;33m(\u001b[0m\u001b[0mdict_features\u001b[0m\u001b[1;33m,\u001b[0m \u001b[0mdata_metadata\u001b[0m\u001b[1;33m)\u001b[0m \u001b[1;33m|\u001b[0m \u001b[0mtft_beam\u001b[0m\u001b[1;33m.\u001b[0m\u001b[0mAnalyzeAndTransformDataset\u001b[0m\u001b[1;33m(\u001b[0m\u001b[0mpreprocessing_fn\u001b[0m\u001b[1;33m)\u001b[0m\u001b[1;33m)\u001b[0m\u001b[1;33m\u001b[0m\u001b[0m\n\u001b[0m\u001b[0;32m      5\u001b[0m \u001b[1;33m\u001b[0m\u001b[0m\n\u001b[0;32m      6\u001b[0m     \u001b[0mtransformed_data\u001b[0m\u001b[1;33m,\u001b[0m \u001b[0mtransformed_metadata\u001b[0m \u001b[1;33m=\u001b[0m \u001b[0mtransformed_dataset\u001b[0m\u001b[1;33m\u001b[0m\u001b[0m\n",
      "\u001b[1;31mNameError\u001b[0m: name 'data_metadata' is not defined"
     ]
    }
   ],
   "source": [
    "data_transform()"
   ]
  },
  {
   "cell_type": "code",
   "execution_count": null,
   "metadata": {},
   "outputs": [],
   "source": []
  }
 ],
 "metadata": {
  "kernelspec": {
   "display_name": "Python 3",
   "language": "python",
   "name": "python3"
  },
  "language_info": {
   "codemirror_mode": {
    "name": "ipython",
    "version": 3
   },
   "file_extension": ".py",
   "mimetype": "text/x-python",
   "name": "python",
   "nbconvert_exporter": "python",
   "pygments_lexer": "ipython3",
   "version": "3.5.6"
  }
 },
 "nbformat": 4,
 "nbformat_minor": 4
}
