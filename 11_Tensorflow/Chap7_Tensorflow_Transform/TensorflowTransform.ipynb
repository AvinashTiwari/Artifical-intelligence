{
 "cells": [
  {
   "cell_type": "code",
   "execution_count": null,
   "metadata": {},
   "outputs": [],
   "source": [
    "import tempfile\n",
    "import pandas as pd\n",
    "import tensorflow as tf\n",
    "import tensorflow_transform as tft\n",
    "import tensorflow_transform.beam.impl as tft_beam\n",
    "\n",
    "from __future__ import print_function\n",
    "from tensorflow_transform.tf_metadata import dataset_metadata, dataset_schema"
   ]
  },
  {
   "cell_type": "code",
   "execution_count": null,
   "metadata": {},
   "outputs": [],
   "source": [
    "dataset =  pd.read_csv(\"pollution-small.csv\")"
   ]
  },
  {
   "cell_type": "code",
   "execution_count": null,
   "metadata": {},
   "outputs": [],
   "source": [
    "dataset.head()"
   ]
  },
  {
   "cell_type": "code",
   "execution_count": null,
   "metadata": {},
   "outputs": [],
   "source": [
    "fratures = dataset.drop(\"Date\",axis=1)"
   ]
  },
  {
   "cell_type": "code",
   "execution_count": null,
   "metadata": {},
   "outputs": [],
   "source": [
    "fratures.head()"
   ]
  },
  {
   "cell_type": "code",
   "execution_count": null,
   "metadata": {},
   "outputs": [],
   "source": [
    "dict_features = list(fratures.to_dict(\"index\").values())"
   ]
  },
  {
   "cell_type": "code",
   "execution_count": null,
   "metadata": {},
   "outputs": [],
   "source": [
    "dict_features[:2]"
   ]
  },
  {
   "cell_type": "code",
   "execution_count": null,
   "metadata": {},
   "outputs": [],
   "source": [
    "data_model = dataset_metadata.DatasetMetadata(\n",
    "    dataset_schema.from_feature_spec({\n",
    "        'no2':  tf.compat.v1.FixedLenFeature([],tf.float32),\n",
    "        'so2':  tf.compat.v1.FixedLenFeature([],tf.float32),\n",
    "        'pm10': tf.compat.v1.FixedLenFeature([],tf.float32),\n",
    "        'soot': tf.compat.v1.FixedLenFeature([],tf.float32),\n",
    "    }\n",
    "    )\n",
    ")"
   ]
  },
  {
   "cell_type": "code",
   "execution_count": null,
   "metadata": {},
   "outputs": [],
   "source": [
    "data_model"
   ]
  },
  {
   "cell_type": "code",
   "execution_count": null,
   "metadata": {},
   "outputs": [],
   "source": [
    "def preprocessing_fn(inputs):\n",
    "    \n",
    "    no2 = inputs['no2']\n",
    "    pm10 = inputs['pm10']\n",
    "    so2 = inputs['so2']\n",
    "    soot = inputs['soot']\n",
    "    \n",
    "    no2_normalized = no2 - tft.mean(no2)\n",
    "    so2_normalized = so2 - tft.mean(so2)\n",
    "    \n",
    "    pm10_normalized = tft.scale_to_0_1(pm10)\n",
    "    soot_normalized = tft.scale_by_min_max(soot)\n",
    "    \n",
    "    return {\n",
    "        \"no2_normalized\":no2_normalized,\n",
    "        \"so2_normalized\":so2_normalized,\n",
    "        \"pm10_normalized\":pm10_normalized,\n",
    "        \"soot_normalized\":soot_normalized\n",
    "    }"
   ]
  },
  {
   "cell_type": "code",
   "execution_count": null,
   "metadata": {},
   "outputs": [],
   "source": [
    "def data_transform():\n",
    "    \n",
    "    with tft_beam.Context(temp_dir=tempfile.mkdtemp()):\n",
    "        transformed_dataset, transform_fn = ((dict_features, data_model) | tft_beam.AnalyzeAndTransformDataset(preprocessing_fn))\n",
    "        \n",
    "    transformed_data, transformed_metadata = transformed_dataset\n",
    "    \n",
    "    for i in range(len(transformed_data)):\n",
    "        print(\"Raw: \", dict_features[i])\n",
    "        print(\"Transformed:\", transformed_data[i])"
   ]
  },
  {
   "cell_type": "code",
   "execution_count": null,
   "metadata": {},
   "outputs": [],
   "source": [
    "data_transform()"
   ]
  },
  {
   "cell_type": "code",
   "execution_count": null,
   "metadata": {},
   "outputs": [],
   "source": []
  },
  {
   "cell_type": "code",
   "execution_count": null,
   "metadata": {},
   "outputs": [],
   "source": []
  }
 ],
 "metadata": {
  "kernelspec": {
   "display_name": "Python 3",
   "language": "python",
   "name": "python3"
  },
  "language_info": {
   "codemirror_mode": {
    "name": "ipython",
    "version": 3
   },
   "file_extension": ".py",
   "mimetype": "text/x-python",
   "name": "python",
   "nbconvert_exporter": "python",
   "pygments_lexer": "ipython3",
   "version": "3.5.6"
  }
 },
 "nbformat": 4,
 "nbformat_minor": 4
}
