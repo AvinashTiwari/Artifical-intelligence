{
 "cells": [
  {
   "cell_type": "markdown",
   "metadata": {},
   "source": [
    "# Decision Tree\n",
    "\n",
    "CART (Classification  and Regression Tree)"
   ]
  },
  {
   "cell_type": "markdown",
   "metadata": {},
   "source": [
    "## What is Decision Tree?"
   ]
  },
  {
   "cell_type": "markdown",
   "metadata": {},
   "source": [
    "<img src=\"img\\tree.png\" width=50% height=50%>"
   ]
  },
  {
   "cell_type": "markdown",
   "metadata": {},
   "source": [
    "***\n",
    "* Supervised Learning\n",
    "\n",
    "* Works for both classification and regression\n",
    "\n",
    "* Foundation of Random Forests\n",
    "\n",
    "* Attractive because of interpretability\n",
    "\n"
   ]
  },
  {
   "cell_type": "markdown",
   "metadata": {},
   "source": [
    "***\n",
    "\n",
    "Decision Tree works by:\n",
    "\n",
    "* Split based on set impurity criteria\n",
    "* Stopping criteria\n"
   ]
  },
  {
   "cell_type": "markdown",
   "metadata": {},
   "source": [
    "***\n",
    "\n",
    "Source: [Scikit-Learn](http://scikit-learn.org/stable/modules/tree.html#tree)\n",
    "\n",
    "Some **advantages** of decision trees are:\n",
    "* Simple to understand and to interpret. Trees can be visualised.\n",
    "* Requires little data preparation. \n",
    "* Able to handle both numerical and categorical data.\n",
    "* Possible to validate a model using statistical tests. \n",
    "* Performs well even if its assumptions are somewhat violated by the true model from which the data were generated.\n",
    "\n",
    "The **disadvantages** of decision trees include:\n",
    "* Overfitting. Mechanisms such as pruning (not currently supported), setting the minimum number of samples required at a leaf node or setting the maximum depth of the tree are necessary to avoid this problem.\n",
    "* Decision trees can be unstable. Mitigant: Use decision trees within an ensemble.\n",
    "* Cannot guarantee to return the globally optimal decision tree. Mitigant: Training multiple trees in an ensemble learner\n",
    "* Decision tree learners create biased trees if some classes dominate. Recommendation: Balance the dataset prior to fitting\n"
   ]
  },
  {
   "cell_type": "markdown",
   "metadata": {},
   "source": [
    "***\n",
    "\n",
    "## Questions:\n",
    "\n",
    "1. What is a decision tree?\n",
    "\n",
    "2. Where can you apply decision tree to? numerical problems or categorical problems?\n",
    "\n",
    "3. Decision tree is also know by what other name?\n",
    "\n",
    "4. How does a decision tree work?\n",
    "\n",
    "5. Decision Tree is a foundation of what machine learning algorithm\n",
    "\n",
    "6. List and explain 3 advantages of decision tree\n",
    "\n",
    "7. List and explain 3 disadvantages of decision tree"
   ]
  },
  {
   "cell_type": "markdown",
   "metadata": {},
   "source": [
    "# Classification"
   ]
  },
  {
   "cell_type": "markdown",
   "metadata": {},
   "source": [
    "## Training a Decision Tree with Scikit-Learn Library"
   ]
  },
  {
   "cell_type": "code",
   "execution_count": 1,
   "metadata": {
    "collapsed": true
   },
   "outputs": [],
   "source": [
    "from sklearn import tree"
   ]
  },
  {
   "cell_type": "code",
   "execution_count": 2,
   "metadata": {
    "collapsed": true
   },
   "outputs": [],
   "source": [
    "X = [[0, 0], [1, 2]]\n",
    "y = [0, 1]"
   ]
  },
  {
   "cell_type": "code",
   "execution_count": 3,
   "metadata": {
    "collapsed": true
   },
   "outputs": [],
   "source": [
    "clf = tree.DecisionTreeClassifier()"
   ]
  },
  {
   "cell_type": "code",
   "execution_count": 4,
   "metadata": {
    "collapsed": true
   },
   "outputs": [],
   "source": [
    "clf = clf.fit(X, y)"
   ]
  },
  {
   "cell_type": "code",
   "execution_count": 5,
   "metadata": {},
   "outputs": [
    {
     "data": {
      "text/plain": [
       "array([1])"
      ]
     },
     "execution_count": 5,
     "metadata": {},
     "output_type": "execute_result"
    }
   ],
   "source": [
    "clf.predict([[2., 2.]])"
   ]
  },
  {
   "cell_type": "code",
   "execution_count": 6,
   "metadata": {},
   "outputs": [
    {
     "data": {
      "text/plain": [
       "array([[ 0.,  1.]])"
      ]
     },
     "execution_count": 6,
     "metadata": {},
     "output_type": "execute_result"
    }
   ],
   "source": [
    "clf.predict_proba([[2. , 2.]])"
   ]
  },
  {
   "cell_type": "code",
   "execution_count": 7,
   "metadata": {},
   "outputs": [
    {
     "data": {
      "text/plain": [
       "array([0])"
      ]
     },
     "execution_count": 7,
     "metadata": {},
     "output_type": "execute_result"
    }
   ],
   "source": [
    "clf.predict([[0.4, 1.2]])"
   ]
  },
  {
   "cell_type": "code",
   "execution_count": 8,
   "metadata": {},
   "outputs": [
    {
     "data": {
      "text/plain": [
       "array([[ 1.,  0.]])"
      ]
     },
     "execution_count": 8,
     "metadata": {},
     "output_type": "execute_result"
    }
   ],
   "source": [
    "clf.predict_proba([[0.4, 1.2]])"
   ]
  },
  {
   "cell_type": "code",
   "execution_count": 9,
   "metadata": {},
   "outputs": [
    {
     "data": {
      "text/plain": [
       "array([[ 1.,  0.]])"
      ]
     },
     "execution_count": 9,
     "metadata": {},
     "output_type": "execute_result"
    }
   ],
   "source": [
    "clf.predict_proba([[0, 0.2]])"
   ]
  },
  {
   "cell_type": "markdown",
   "metadata": {},
   "source": [
    "`DecisionTreeClassifier` is capable of both binary (where the labels are [-1, 1]) classification and multiclass (where the labels are [0, …, K-1]) classification."
   ]
  },
  {
   "cell_type": "markdown",
   "metadata": {},
   "source": [
    "## Applying to Iris Dataset"
   ]
  },
  {
   "cell_type": "code",
   "execution_count": 10,
   "metadata": {
    "collapsed": true
   },
   "outputs": [],
   "source": [
    "from sklearn.datasets import load_iris\n",
    "from sklearn import tree\n",
    "iris = load_iris()"
   ]
  },
  {
   "cell_type": "code",
   "execution_count": 11,
   "metadata": {},
   "outputs": [
    {
     "data": {
      "text/plain": [
       "array([[ 5.1,  3.5,  1.4,  0.2],\n",
       "       [ 4.9,  3. ,  1.4,  0.2],\n",
       "       [ 4.7,  3.2,  1.3,  0.2],\n",
       "       [ 4.6,  3.1,  1.5,  0.2],\n",
       "       [ 5. ,  3.6,  1.4,  0.2]])"
      ]
     },
     "execution_count": 11,
     "metadata": {},
     "output_type": "execute_result"
    }
   ],
   "source": [
    "iris.data[0:5]"
   ]
  },
  {
   "cell_type": "code",
   "execution_count": 12,
   "metadata": {},
   "outputs": [
    {
     "data": {
      "text/plain": [
       "['sepal length (cm)',\n",
       " 'sepal width (cm)',\n",
       " 'petal length (cm)',\n",
       " 'petal width (cm)']"
      ]
     },
     "execution_count": 12,
     "metadata": {},
     "output_type": "execute_result"
    }
   ],
   "source": [
    "iris.feature_names"
   ]
  },
  {
   "cell_type": "code",
   "execution_count": 13,
   "metadata": {
    "collapsed": true
   },
   "outputs": [],
   "source": [
    "X = iris.data[:, 2:]"
   ]
  },
  {
   "cell_type": "code",
   "execution_count": 14,
   "metadata": {
    "collapsed": true
   },
   "outputs": [],
   "source": [
    "y = iris.target"
   ]
  },
  {
   "cell_type": "code",
   "execution_count": 15,
   "metadata": {},
   "outputs": [
    {
     "data": {
      "text/plain": [
       "array([0, 0, 0, 0, 0, 0, 0, 0, 0, 0, 0, 0, 0, 0, 0, 0, 0, 0, 0, 0, 0, 0, 0,\n",
       "       0, 0, 0, 0, 0, 0, 0, 0, 0, 0, 0, 0, 0, 0, 0, 0, 0, 0, 0, 0, 0, 0, 0,\n",
       "       0, 0, 0, 0, 1, 1, 1, 1, 1, 1, 1, 1, 1, 1, 1, 1, 1, 1, 1, 1, 1, 1, 1,\n",
       "       1, 1, 1, 1, 1, 1, 1, 1, 1, 1, 1, 1, 1, 1, 1, 1, 1, 1, 1, 1, 1, 1, 1,\n",
       "       1, 1, 1, 1, 1, 1, 1, 1, 2, 2, 2, 2, 2, 2, 2, 2, 2, 2, 2, 2, 2, 2, 2,\n",
       "       2, 2, 2, 2, 2, 2, 2, 2, 2, 2, 2, 2, 2, 2, 2, 2, 2, 2, 2, 2, 2, 2, 2,\n",
       "       2, 2, 2, 2, 2, 2, 2, 2, 2, 2, 2, 2])"
      ]
     },
     "execution_count": 15,
     "metadata": {},
     "output_type": "execute_result"
    }
   ],
   "source": [
    "y"
   ]
  },
  {
   "cell_type": "code",
   "execution_count": 16,
   "metadata": {
    "collapsed": true
   },
   "outputs": [],
   "source": [
    "clf = tree.DecisionTreeClassifier(random_state=42)"
   ]
  },
  {
   "cell_type": "code",
   "execution_count": 17,
   "metadata": {
    "collapsed": true
   },
   "outputs": [],
   "source": [
    "clf = clf.fit(X, y)"
   ]
  },
  {
   "cell_type": "markdown",
   "metadata": {},
   "source": [
    "### Export_graphviz"
   ]
  },
  {
   "cell_type": "code",
   "execution_count": 18,
   "metadata": {
    "collapsed": true
   },
   "outputs": [],
   "source": [
    "from sklearn.tree import export_graphviz"
   ]
  },
  {
   "cell_type": "code",
   "execution_count": 19,
   "metadata": {
    "collapsed": true
   },
   "outputs": [],
   "source": [
    "export_graphviz(clf,\n",
    "                out_file=\"tree.dot\",\n",
    "                feature_names=iris.feature_names[2:],\n",
    "                class_names=iris.target_names,\n",
    "                rounded=True,\n",
    "                filled=True)"
   ]
  },
  {
   "cell_type": "markdown",
   "metadata": {},
   "source": [
    "Run the following line on your command prompt\n",
    "\n",
    "`$ dot -Tpng tree.dot -o tree.png`"
   ]
  },
  {
   "cell_type": "markdown",
   "metadata": {},
   "source": [
    "<img src=\"img\\tree.png\" width=60% height=60%>"
   ]
  },
  {
   "cell_type": "markdown",
   "metadata": {},
   "source": [
    "## Graphviz"
   ]
  },
  {
   "cell_type": "code",
   "execution_count": 20,
   "metadata": {
    "collapsed": true
   },
   "outputs": [],
   "source": [
    "import graphviz"
   ]
  },
  {
   "cell_type": "code",
   "execution_count": 21,
   "metadata": {},
   "outputs": [],
   "source": [
    "dot_data = tree.export_graphviz(clf, out_file=None,\n",
    "                                feature_names=iris.feature_names[2:],\n",
    "                                class_names=iris.target_names,\n",
    "                                rounded=True,\n",
    "                                filled=True)"
   ]
  },
  {
   "cell_type": "code",
   "execution_count": 22,
   "metadata": {},
   "outputs": [],
   "source": [
    "graph = graphviz.Source(dot_data)"
   ]
  },
  {
   "cell_type": "code",
   "execution_count": 23,
   "metadata": {},
   "outputs": [
    {
     "data": {
      "image/svg+xml": [
       "<?xml version=\"1.0\" encoding=\"UTF-8\" standalone=\"no\"?>\r\n",
       "<!DOCTYPE svg PUBLIC \"-//W3C//DTD SVG 1.1//EN\"\r\n",
       " \"http://www.w3.org/Graphics/SVG/1.1/DTD/svg11.dtd\">\r\n",
       "<!-- Generated by graphviz version 2.38.0 (20140413.2041)\r\n",
       " -->\r\n",
       "<!-- Title: Tree Pages: 1 -->\r\n",
       "<svg width=\"758pt\" height=\"671pt\"\r\n",
       " viewBox=\"0.00 0.00 758.00 671.00\" xmlns=\"http://www.w3.org/2000/svg\" xmlns:xlink=\"http://www.w3.org/1999/xlink\">\r\n",
       "<g id=\"graph0\" class=\"graph\" transform=\"scale(1 1) rotate(0) translate(4 667)\">\r\n",
       "<title>Tree</title>\r\n",
       "<polygon fill=\"white\" stroke=\"none\" points=\"-4,4 -4,-667 754,-667 754,4 -4,4\"/>\r\n",
       "<!-- 0 -->\r\n",
       "<g id=\"node1\" class=\"node\"><title>0</title>\r\n",
       "<path fill=\"none\" stroke=\"black\" d=\"M457.5,-663C457.5,-663 307.5,-663 307.5,-663 301.5,-663 295.5,-657 295.5,-651 295.5,-651 295.5,-592 295.5,-592 295.5,-586 301.5,-580 307.5,-580 307.5,-580 457.5,-580 457.5,-580 463.5,-580 469.5,-586 469.5,-592 469.5,-592 469.5,-651 469.5,-651 469.5,-657 463.5,-663 457.5,-663\"/>\r\n",
       "<text text-anchor=\"middle\" x=\"382.5\" y=\"-647.8\" font-family=\"Helvetica,sans-Serif\" font-size=\"14.00\">petal length (cm) &lt;= 2.45</text>\r\n",
       "<text text-anchor=\"middle\" x=\"382.5\" y=\"-632.8\" font-family=\"Helvetica,sans-Serif\" font-size=\"14.00\">gini = 0.667</text>\r\n",
       "<text text-anchor=\"middle\" x=\"382.5\" y=\"-617.8\" font-family=\"Helvetica,sans-Serif\" font-size=\"14.00\">samples = 150</text>\r\n",
       "<text text-anchor=\"middle\" x=\"382.5\" y=\"-602.8\" font-family=\"Helvetica,sans-Serif\" font-size=\"14.00\">value = [50, 50, 50]</text>\r\n",
       "<text text-anchor=\"middle\" x=\"382.5\" y=\"-587.8\" font-family=\"Helvetica,sans-Serif\" font-size=\"14.00\">class = setosa</text>\r\n",
       "</g>\r\n",
       "<!-- 1 -->\r\n",
       "<g id=\"node2\" class=\"node\"><title>1</title>\r\n",
       "<path fill=\"#e58139\" stroke=\"black\" d=\"M350,-536.5C350,-536.5 253,-536.5 253,-536.5 247,-536.5 241,-530.5 241,-524.5 241,-524.5 241,-480.5 241,-480.5 241,-474.5 247,-468.5 253,-468.5 253,-468.5 350,-468.5 350,-468.5 356,-468.5 362,-474.5 362,-480.5 362,-480.5 362,-524.5 362,-524.5 362,-530.5 356,-536.5 350,-536.5\"/>\r\n",
       "<text text-anchor=\"middle\" x=\"301.5\" y=\"-521.3\" font-family=\"Helvetica,sans-Serif\" font-size=\"14.00\">gini = 0.0</text>\r\n",
       "<text text-anchor=\"middle\" x=\"301.5\" y=\"-506.3\" font-family=\"Helvetica,sans-Serif\" font-size=\"14.00\">samples = 50</text>\r\n",
       "<text text-anchor=\"middle\" x=\"301.5\" y=\"-491.3\" font-family=\"Helvetica,sans-Serif\" font-size=\"14.00\">value = [50, 0, 0]</text>\r\n",
       "<text text-anchor=\"middle\" x=\"301.5\" y=\"-476.3\" font-family=\"Helvetica,sans-Serif\" font-size=\"14.00\">class = setosa</text>\r\n",
       "</g>\r\n",
       "<!-- 0&#45;&gt;1 -->\r\n",
       "<g id=\"edge1\" class=\"edge\"><title>0&#45;&gt;1</title>\r\n",
       "<path fill=\"none\" stroke=\"black\" d=\"M354.397,-579.907C346.605,-568.652 338.136,-556.418 330.304,-545.106\"/>\r\n",
       "<polygon fill=\"black\" stroke=\"black\" points=\"333.032,-542.897 324.462,-536.667 327.276,-546.881 333.032,-542.897\"/>\r\n",
       "<text text-anchor=\"middle\" x=\"319.99\" y=\"-557.564\" font-family=\"Helvetica,sans-Serif\" font-size=\"14.00\">True</text>\r\n",
       "</g>\r\n",
       "<!-- 2 -->\r\n",
       "<g id=\"node3\" class=\"node\"><title>2</title>\r\n",
       "<path fill=\"none\" stroke=\"black\" d=\"M536.5,-544C536.5,-544 392.5,-544 392.5,-544 386.5,-544 380.5,-538 380.5,-532 380.5,-532 380.5,-473 380.5,-473 380.5,-467 386.5,-461 392.5,-461 392.5,-461 536.5,-461 536.5,-461 542.5,-461 548.5,-467 548.5,-473 548.5,-473 548.5,-532 548.5,-532 548.5,-538 542.5,-544 536.5,-544\"/>\r\n",
       "<text text-anchor=\"middle\" x=\"464.5\" y=\"-528.8\" font-family=\"Helvetica,sans-Serif\" font-size=\"14.00\">petal width (cm) &lt;= 1.75</text>\r\n",
       "<text text-anchor=\"middle\" x=\"464.5\" y=\"-513.8\" font-family=\"Helvetica,sans-Serif\" font-size=\"14.00\">gini = 0.5</text>\r\n",
       "<text text-anchor=\"middle\" x=\"464.5\" y=\"-498.8\" font-family=\"Helvetica,sans-Serif\" font-size=\"14.00\">samples = 100</text>\r\n",
       "<text text-anchor=\"middle\" x=\"464.5\" y=\"-483.8\" font-family=\"Helvetica,sans-Serif\" font-size=\"14.00\">value = [0, 50, 50]</text>\r\n",
       "<text text-anchor=\"middle\" x=\"464.5\" y=\"-468.8\" font-family=\"Helvetica,sans-Serif\" font-size=\"14.00\">class = versicolor</text>\r\n",
       "</g>\r\n",
       "<!-- 0&#45;&gt;2 -->\r\n",
       "<g id=\"edge2\" class=\"edge\"><title>0&#45;&gt;2</title>\r\n",
       "<path fill=\"none\" stroke=\"black\" d=\"M410.949,-579.907C417.183,-571.014 423.844,-561.509 430.277,-552.331\"/>\r\n",
       "<polygon fill=\"black\" stroke=\"black\" points=\"433.228,-554.219 436.101,-544.021 427.495,-550.201 433.228,-554.219\"/>\r\n",
       "<text text-anchor=\"middle\" x=\"440.431\" y=\"-564.943\" font-family=\"Helvetica,sans-Serif\" font-size=\"14.00\">False</text>\r\n",
       "</g>\r\n",
       "<!-- 3 -->\r\n",
       "<g id=\"node4\" class=\"node\"><title>3</title>\r\n",
       "<path fill=\"#39e581\" fill-opacity=\"0.898039\" stroke=\"black\" d=\"M443.5,-425C443.5,-425 293.5,-425 293.5,-425 287.5,-425 281.5,-419 281.5,-413 281.5,-413 281.5,-354 281.5,-354 281.5,-348 287.5,-342 293.5,-342 293.5,-342 443.5,-342 443.5,-342 449.5,-342 455.5,-348 455.5,-354 455.5,-354 455.5,-413 455.5,-413 455.5,-419 449.5,-425 443.5,-425\"/>\r\n",
       "<text text-anchor=\"middle\" x=\"368.5\" y=\"-409.8\" font-family=\"Helvetica,sans-Serif\" font-size=\"14.00\">petal length (cm) &lt;= 4.95</text>\r\n",
       "<text text-anchor=\"middle\" x=\"368.5\" y=\"-394.8\" font-family=\"Helvetica,sans-Serif\" font-size=\"14.00\">gini = 0.168</text>\r\n",
       "<text text-anchor=\"middle\" x=\"368.5\" y=\"-379.8\" font-family=\"Helvetica,sans-Serif\" font-size=\"14.00\">samples = 54</text>\r\n",
       "<text text-anchor=\"middle\" x=\"368.5\" y=\"-364.8\" font-family=\"Helvetica,sans-Serif\" font-size=\"14.00\">value = [0, 49, 5]</text>\r\n",
       "<text text-anchor=\"middle\" x=\"368.5\" y=\"-349.8\" font-family=\"Helvetica,sans-Serif\" font-size=\"14.00\">class = versicolor</text>\r\n",
       "</g>\r\n",
       "<!-- 2&#45;&gt;3 -->\r\n",
       "<g id=\"edge3\" class=\"edge\"><title>2&#45;&gt;3</title>\r\n",
       "<path fill=\"none\" stroke=\"black\" d=\"M431.193,-460.907C423.747,-451.832 415.779,-442.121 408.106,-432.769\"/>\r\n",
       "<polygon fill=\"black\" stroke=\"black\" points=\"410.797,-430.531 401.748,-425.021 405.385,-434.972 410.797,-430.531\"/>\r\n",
       "</g>\r\n",
       "<!-- 12 -->\r\n",
       "<g id=\"node13\" class=\"node\"><title>12</title>\r\n",
       "<path fill=\"#8139e5\" fill-opacity=\"0.976471\" stroke=\"black\" d=\"M635.5,-425C635.5,-425 485.5,-425 485.5,-425 479.5,-425 473.5,-419 473.5,-413 473.5,-413 473.5,-354 473.5,-354 473.5,-348 479.5,-342 485.5,-342 485.5,-342 635.5,-342 635.5,-342 641.5,-342 647.5,-348 647.5,-354 647.5,-354 647.5,-413 647.5,-413 647.5,-419 641.5,-425 635.5,-425\"/>\r\n",
       "<text text-anchor=\"middle\" x=\"560.5\" y=\"-409.8\" font-family=\"Helvetica,sans-Serif\" font-size=\"14.00\">petal length (cm) &lt;= 4.85</text>\r\n",
       "<text text-anchor=\"middle\" x=\"560.5\" y=\"-394.8\" font-family=\"Helvetica,sans-Serif\" font-size=\"14.00\">gini = 0.043</text>\r\n",
       "<text text-anchor=\"middle\" x=\"560.5\" y=\"-379.8\" font-family=\"Helvetica,sans-Serif\" font-size=\"14.00\">samples = 46</text>\r\n",
       "<text text-anchor=\"middle\" x=\"560.5\" y=\"-364.8\" font-family=\"Helvetica,sans-Serif\" font-size=\"14.00\">value = [0, 1, 45]</text>\r\n",
       "<text text-anchor=\"middle\" x=\"560.5\" y=\"-349.8\" font-family=\"Helvetica,sans-Serif\" font-size=\"14.00\">class = virginica</text>\r\n",
       "</g>\r\n",
       "<!-- 2&#45;&gt;12 -->\r\n",
       "<g id=\"edge12\" class=\"edge\"><title>2&#45;&gt;12</title>\r\n",
       "<path fill=\"none\" stroke=\"black\" d=\"M497.807,-460.907C505.253,-451.832 513.221,-442.121 520.894,-432.769\"/>\r\n",
       "<polygon fill=\"black\" stroke=\"black\" points=\"523.615,-434.972 527.252,-425.021 518.203,-430.531 523.615,-434.972\"/>\r\n",
       "</g>\r\n",
       "<!-- 4 -->\r\n",
       "<g id=\"node5\" class=\"node\"><title>4</title>\r\n",
       "<path fill=\"#39e581\" fill-opacity=\"0.980392\" stroke=\"black\" d=\"M262.5,-306C262.5,-306 118.5,-306 118.5,-306 112.5,-306 106.5,-300 106.5,-294 106.5,-294 106.5,-235 106.5,-235 106.5,-229 112.5,-223 118.5,-223 118.5,-223 262.5,-223 262.5,-223 268.5,-223 274.5,-229 274.5,-235 274.5,-235 274.5,-294 274.5,-294 274.5,-300 268.5,-306 262.5,-306\"/>\r\n",
       "<text text-anchor=\"middle\" x=\"190.5\" y=\"-290.8\" font-family=\"Helvetica,sans-Serif\" font-size=\"14.00\">petal width (cm) &lt;= 1.65</text>\r\n",
       "<text text-anchor=\"middle\" x=\"190.5\" y=\"-275.8\" font-family=\"Helvetica,sans-Serif\" font-size=\"14.00\">gini = 0.041</text>\r\n",
       "<text text-anchor=\"middle\" x=\"190.5\" y=\"-260.8\" font-family=\"Helvetica,sans-Serif\" font-size=\"14.00\">samples = 48</text>\r\n",
       "<text text-anchor=\"middle\" x=\"190.5\" y=\"-245.8\" font-family=\"Helvetica,sans-Serif\" font-size=\"14.00\">value = [0, 47, 1]</text>\r\n",
       "<text text-anchor=\"middle\" x=\"190.5\" y=\"-230.8\" font-family=\"Helvetica,sans-Serif\" font-size=\"14.00\">class = versicolor</text>\r\n",
       "</g>\r\n",
       "<!-- 3&#45;&gt;4 -->\r\n",
       "<g id=\"edge4\" class=\"edge\"><title>3&#45;&gt;4</title>\r\n",
       "<path fill=\"none\" stroke=\"black\" d=\"M306.744,-341.907C291.833,-332.106 275.792,-321.563 260.532,-311.533\"/>\r\n",
       "<polygon fill=\"black\" stroke=\"black\" points=\"262.426,-308.589 252.147,-306.021 258.581,-314.438 262.426,-308.589\"/>\r\n",
       "</g>\r\n",
       "<!-- 7 -->\r\n",
       "<g id=\"node8\" class=\"node\"><title>7</title>\r\n",
       "<path fill=\"#8139e5\" fill-opacity=\"0.498039\" stroke=\"black\" d=\"M448.5,-306C448.5,-306 304.5,-306 304.5,-306 298.5,-306 292.5,-300 292.5,-294 292.5,-294 292.5,-235 292.5,-235 292.5,-229 298.5,-223 304.5,-223 304.5,-223 448.5,-223 448.5,-223 454.5,-223 460.5,-229 460.5,-235 460.5,-235 460.5,-294 460.5,-294 460.5,-300 454.5,-306 448.5,-306\"/>\r\n",
       "<text text-anchor=\"middle\" x=\"376.5\" y=\"-290.8\" font-family=\"Helvetica,sans-Serif\" font-size=\"14.00\">petal width (cm) &lt;= 1.55</text>\r\n",
       "<text text-anchor=\"middle\" x=\"376.5\" y=\"-275.8\" font-family=\"Helvetica,sans-Serif\" font-size=\"14.00\">gini = 0.444</text>\r\n",
       "<text text-anchor=\"middle\" x=\"376.5\" y=\"-260.8\" font-family=\"Helvetica,sans-Serif\" font-size=\"14.00\">samples = 6</text>\r\n",
       "<text text-anchor=\"middle\" x=\"376.5\" y=\"-245.8\" font-family=\"Helvetica,sans-Serif\" font-size=\"14.00\">value = [0, 2, 4]</text>\r\n",
       "<text text-anchor=\"middle\" x=\"376.5\" y=\"-230.8\" font-family=\"Helvetica,sans-Serif\" font-size=\"14.00\">class = virginica</text>\r\n",
       "</g>\r\n",
       "<!-- 3&#45;&gt;7 -->\r\n",
       "<g id=\"edge7\" class=\"edge\"><title>3&#45;&gt;7</title>\r\n",
       "<path fill=\"none\" stroke=\"black\" d=\"M371.276,-341.907C371.846,-333.558 372.454,-324.671 373.046,-316.02\"/>\r\n",
       "<polygon fill=\"black\" stroke=\"black\" points=\"376.539,-316.236 373.729,-306.021 369.555,-315.759 376.539,-316.236\"/>\r\n",
       "</g>\r\n",
       "<!-- 5 -->\r\n",
       "<g id=\"node6\" class=\"node\"><title>5</title>\r\n",
       "<path fill=\"#39e581\" stroke=\"black\" d=\"M115,-179.5C115,-179.5 12,-179.5 12,-179.5 6,-179.5 -7.10543e-015,-173.5 -7.10543e-015,-167.5 -7.10543e-015,-167.5 -7.10543e-015,-123.5 -7.10543e-015,-123.5 -7.10543e-015,-117.5 6,-111.5 12,-111.5 12,-111.5 115,-111.5 115,-111.5 121,-111.5 127,-117.5 127,-123.5 127,-123.5 127,-167.5 127,-167.5 127,-173.5 121,-179.5 115,-179.5\"/>\r\n",
       "<text text-anchor=\"middle\" x=\"63.5\" y=\"-164.3\" font-family=\"Helvetica,sans-Serif\" font-size=\"14.00\">gini = 0.0</text>\r\n",
       "<text text-anchor=\"middle\" x=\"63.5\" y=\"-149.3\" font-family=\"Helvetica,sans-Serif\" font-size=\"14.00\">samples = 47</text>\r\n",
       "<text text-anchor=\"middle\" x=\"63.5\" y=\"-134.3\" font-family=\"Helvetica,sans-Serif\" font-size=\"14.00\">value = [0, 47, 0]</text>\r\n",
       "<text text-anchor=\"middle\" x=\"63.5\" y=\"-119.3\" font-family=\"Helvetica,sans-Serif\" font-size=\"14.00\">class = versicolor</text>\r\n",
       "</g>\r\n",
       "<!-- 4&#45;&gt;5 -->\r\n",
       "<g id=\"edge5\" class=\"edge\"><title>4&#45;&gt;5</title>\r\n",
       "<path fill=\"none\" stroke=\"black\" d=\"M146.438,-222.907C133.622,-211.101 119.637,-198.217 106.864,-186.45\"/>\r\n",
       "<polygon fill=\"black\" stroke=\"black\" points=\"109.228,-183.868 99.5017,-179.667 104.485,-189.017 109.228,-183.868\"/>\r\n",
       "</g>\r\n",
       "<!-- 6 -->\r\n",
       "<g id=\"node7\" class=\"node\"><title>6</title>\r\n",
       "<path fill=\"#8139e5\" stroke=\"black\" d=\"M249.5,-179.5C249.5,-179.5 157.5,-179.5 157.5,-179.5 151.5,-179.5 145.5,-173.5 145.5,-167.5 145.5,-167.5 145.5,-123.5 145.5,-123.5 145.5,-117.5 151.5,-111.5 157.5,-111.5 157.5,-111.5 249.5,-111.5 249.5,-111.5 255.5,-111.5 261.5,-117.5 261.5,-123.5 261.5,-123.5 261.5,-167.5 261.5,-167.5 261.5,-173.5 255.5,-179.5 249.5,-179.5\"/>\r\n",
       "<text text-anchor=\"middle\" x=\"203.5\" y=\"-164.3\" font-family=\"Helvetica,sans-Serif\" font-size=\"14.00\">gini = 0.0</text>\r\n",
       "<text text-anchor=\"middle\" x=\"203.5\" y=\"-149.3\" font-family=\"Helvetica,sans-Serif\" font-size=\"14.00\">samples = 1</text>\r\n",
       "<text text-anchor=\"middle\" x=\"203.5\" y=\"-134.3\" font-family=\"Helvetica,sans-Serif\" font-size=\"14.00\">value = [0, 0, 1]</text>\r\n",
       "<text text-anchor=\"middle\" x=\"203.5\" y=\"-119.3\" font-family=\"Helvetica,sans-Serif\" font-size=\"14.00\">class = virginica</text>\r\n",
       "</g>\r\n",
       "<!-- 4&#45;&gt;6 -->\r\n",
       "<g id=\"edge6\" class=\"edge\"><title>4&#45;&gt;6</title>\r\n",
       "<path fill=\"none\" stroke=\"black\" d=\"M195.01,-222.907C196.2,-212.204 197.487,-200.615 198.692,-189.776\"/>\r\n",
       "<polygon fill=\"black\" stroke=\"black\" points=\"202.189,-189.992 199.815,-179.667 195.232,-189.219 202.189,-189.992\"/>\r\n",
       "</g>\r\n",
       "<!-- 8 -->\r\n",
       "<g id=\"node9\" class=\"node\"><title>8</title>\r\n",
       "<path fill=\"#8139e5\" stroke=\"black\" d=\"M396.5,-179.5C396.5,-179.5 304.5,-179.5 304.5,-179.5 298.5,-179.5 292.5,-173.5 292.5,-167.5 292.5,-167.5 292.5,-123.5 292.5,-123.5 292.5,-117.5 298.5,-111.5 304.5,-111.5 304.5,-111.5 396.5,-111.5 396.5,-111.5 402.5,-111.5 408.5,-117.5 408.5,-123.5 408.5,-123.5 408.5,-167.5 408.5,-167.5 408.5,-173.5 402.5,-179.5 396.5,-179.5\"/>\r\n",
       "<text text-anchor=\"middle\" x=\"350.5\" y=\"-164.3\" font-family=\"Helvetica,sans-Serif\" font-size=\"14.00\">gini = 0.0</text>\r\n",
       "<text text-anchor=\"middle\" x=\"350.5\" y=\"-149.3\" font-family=\"Helvetica,sans-Serif\" font-size=\"14.00\">samples = 3</text>\r\n",
       "<text text-anchor=\"middle\" x=\"350.5\" y=\"-134.3\" font-family=\"Helvetica,sans-Serif\" font-size=\"14.00\">value = [0, 0, 3]</text>\r\n",
       "<text text-anchor=\"middle\" x=\"350.5\" y=\"-119.3\" font-family=\"Helvetica,sans-Serif\" font-size=\"14.00\">class = virginica</text>\r\n",
       "</g>\r\n",
       "<!-- 7&#45;&gt;8 -->\r\n",
       "<g id=\"edge8\" class=\"edge\"><title>7&#45;&gt;8</title>\r\n",
       "<path fill=\"none\" stroke=\"black\" d=\"M367.479,-222.907C365.076,-212.094 362.473,-200.376 360.042,-189.441\"/>\r\n",
       "<polygon fill=\"black\" stroke=\"black\" points=\"363.456,-188.67 357.87,-179.667 356.623,-190.188 363.456,-188.67\"/>\r\n",
       "</g>\r\n",
       "<!-- 9 -->\r\n",
       "<g id=\"node10\" class=\"node\"><title>9</title>\r\n",
       "<path fill=\"#39e581\" fill-opacity=\"0.498039\" stroke=\"black\" d=\"M588.5,-187C588.5,-187 438.5,-187 438.5,-187 432.5,-187 426.5,-181 426.5,-175 426.5,-175 426.5,-116 426.5,-116 426.5,-110 432.5,-104 438.5,-104 438.5,-104 588.5,-104 588.5,-104 594.5,-104 600.5,-110 600.5,-116 600.5,-116 600.5,-175 600.5,-175 600.5,-181 594.5,-187 588.5,-187\"/>\r\n",
       "<text text-anchor=\"middle\" x=\"513.5\" y=\"-171.8\" font-family=\"Helvetica,sans-Serif\" font-size=\"14.00\">petal length (cm) &lt;= 5.45</text>\r\n",
       "<text text-anchor=\"middle\" x=\"513.5\" y=\"-156.8\" font-family=\"Helvetica,sans-Serif\" font-size=\"14.00\">gini = 0.444</text>\r\n",
       "<text text-anchor=\"middle\" x=\"513.5\" y=\"-141.8\" font-family=\"Helvetica,sans-Serif\" font-size=\"14.00\">samples = 3</text>\r\n",
       "<text text-anchor=\"middle\" x=\"513.5\" y=\"-126.8\" font-family=\"Helvetica,sans-Serif\" font-size=\"14.00\">value = [0, 2, 1]</text>\r\n",
       "<text text-anchor=\"middle\" x=\"513.5\" y=\"-111.8\" font-family=\"Helvetica,sans-Serif\" font-size=\"14.00\">class = versicolor</text>\r\n",
       "</g>\r\n",
       "<!-- 7&#45;&gt;9 -->\r\n",
       "<g id=\"edge9\" class=\"edge\"><title>7&#45;&gt;9</title>\r\n",
       "<path fill=\"none\" stroke=\"black\" d=\"M424.031,-222.907C435.083,-213.469 446.94,-203.343 458.291,-193.649\"/>\r\n",
       "<polygon fill=\"black\" stroke=\"black\" points=\"460.721,-196.177 466.053,-187.021 456.175,-190.854 460.721,-196.177\"/>\r\n",
       "</g>\r\n",
       "<!-- 10 -->\r\n",
       "<g id=\"node11\" class=\"node\"><title>10</title>\r\n",
       "<path fill=\"#39e581\" stroke=\"black\" d=\"M495,-68C495,-68 392,-68 392,-68 386,-68 380,-62 380,-56 380,-56 380,-12 380,-12 380,-6 386,-0 392,-0 392,-0 495,-0 495,-0 501,-0 507,-6 507,-12 507,-12 507,-56 507,-56 507,-62 501,-68 495,-68\"/>\r\n",
       "<text text-anchor=\"middle\" x=\"443.5\" y=\"-52.8\" font-family=\"Helvetica,sans-Serif\" font-size=\"14.00\">gini = 0.0</text>\r\n",
       "<text text-anchor=\"middle\" x=\"443.5\" y=\"-37.8\" font-family=\"Helvetica,sans-Serif\" font-size=\"14.00\">samples = 2</text>\r\n",
       "<text text-anchor=\"middle\" x=\"443.5\" y=\"-22.8\" font-family=\"Helvetica,sans-Serif\" font-size=\"14.00\">value = [0, 2, 0]</text>\r\n",
       "<text text-anchor=\"middle\" x=\"443.5\" y=\"-7.8\" font-family=\"Helvetica,sans-Serif\" font-size=\"14.00\">class = versicolor</text>\r\n",
       "</g>\r\n",
       "<!-- 9&#45;&gt;10 -->\r\n",
       "<g id=\"edge10\" class=\"edge\"><title>9&#45;&gt;10</title>\r\n",
       "<path fill=\"none\" stroke=\"black\" d=\"M487.435,-103.726C481.837,-94.9703 475.913,-85.7032 470.289,-76.9051\"/>\r\n",
       "<polygon fill=\"black\" stroke=\"black\" points=\"473.123,-74.8399 464.787,-68.2996 467.225,-78.6103 473.123,-74.8399\"/>\r\n",
       "</g>\r\n",
       "<!-- 11 -->\r\n",
       "<g id=\"node12\" class=\"node\"><title>11</title>\r\n",
       "<path fill=\"#8139e5\" stroke=\"black\" d=\"M629.5,-68C629.5,-68 537.5,-68 537.5,-68 531.5,-68 525.5,-62 525.5,-56 525.5,-56 525.5,-12 525.5,-12 525.5,-6 531.5,-0 537.5,-0 537.5,-0 629.5,-0 629.5,-0 635.5,-0 641.5,-6 641.5,-12 641.5,-12 641.5,-56 641.5,-56 641.5,-62 635.5,-68 629.5,-68\"/>\r\n",
       "<text text-anchor=\"middle\" x=\"583.5\" y=\"-52.8\" font-family=\"Helvetica,sans-Serif\" font-size=\"14.00\">gini = 0.0</text>\r\n",
       "<text text-anchor=\"middle\" x=\"583.5\" y=\"-37.8\" font-family=\"Helvetica,sans-Serif\" font-size=\"14.00\">samples = 1</text>\r\n",
       "<text text-anchor=\"middle\" x=\"583.5\" y=\"-22.8\" font-family=\"Helvetica,sans-Serif\" font-size=\"14.00\">value = [0, 0, 1]</text>\r\n",
       "<text text-anchor=\"middle\" x=\"583.5\" y=\"-7.8\" font-family=\"Helvetica,sans-Serif\" font-size=\"14.00\">class = virginica</text>\r\n",
       "</g>\r\n",
       "<!-- 9&#45;&gt;11 -->\r\n",
       "<g id=\"edge11\" class=\"edge\"><title>9&#45;&gt;11</title>\r\n",
       "<path fill=\"none\" stroke=\"black\" d=\"M539.565,-103.726C545.163,-94.9703 551.087,-85.7032 556.711,-76.9051\"/>\r\n",
       "<polygon fill=\"black\" stroke=\"black\" points=\"559.775,-78.6103 562.213,-68.2996 553.877,-74.8399 559.775,-78.6103\"/>\r\n",
       "</g>\r\n",
       "<!-- 13 -->\r\n",
       "<g id=\"node14\" class=\"node\"><title>13</title>\r\n",
       "<path fill=\"#8139e5\" fill-opacity=\"0.498039\" stroke=\"black\" d=\"M598.5,-298.5C598.5,-298.5 506.5,-298.5 506.5,-298.5 500.5,-298.5 494.5,-292.5 494.5,-286.5 494.5,-286.5 494.5,-242.5 494.5,-242.5 494.5,-236.5 500.5,-230.5 506.5,-230.5 506.5,-230.5 598.5,-230.5 598.5,-230.5 604.5,-230.5 610.5,-236.5 610.5,-242.5 610.5,-242.5 610.5,-286.5 610.5,-286.5 610.5,-292.5 604.5,-298.5 598.5,-298.5\"/>\r\n",
       "<text text-anchor=\"middle\" x=\"552.5\" y=\"-283.3\" font-family=\"Helvetica,sans-Serif\" font-size=\"14.00\">gini = 0.444</text>\r\n",
       "<text text-anchor=\"middle\" x=\"552.5\" y=\"-268.3\" font-family=\"Helvetica,sans-Serif\" font-size=\"14.00\">samples = 3</text>\r\n",
       "<text text-anchor=\"middle\" x=\"552.5\" y=\"-253.3\" font-family=\"Helvetica,sans-Serif\" font-size=\"14.00\">value = [0, 1, 2]</text>\r\n",
       "<text text-anchor=\"middle\" x=\"552.5\" y=\"-238.3\" font-family=\"Helvetica,sans-Serif\" font-size=\"14.00\">class = virginica</text>\r\n",
       "</g>\r\n",
       "<!-- 12&#45;&gt;13 -->\r\n",
       "<g id=\"edge13\" class=\"edge\"><title>12&#45;&gt;13</title>\r\n",
       "<path fill=\"none\" stroke=\"black\" d=\"M557.724,-341.907C556.993,-331.204 556.2,-319.615 555.459,-308.776\"/>\r\n",
       "<polygon fill=\"black\" stroke=\"black\" points=\"558.942,-308.405 554.768,-298.667 551.958,-308.882 558.942,-308.405\"/>\r\n",
       "</g>\r\n",
       "<!-- 14 -->\r\n",
       "<g id=\"node15\" class=\"node\"><title>14</title>\r\n",
       "<path fill=\"#8139e5\" stroke=\"black\" d=\"M738,-298.5C738,-298.5 641,-298.5 641,-298.5 635,-298.5 629,-292.5 629,-286.5 629,-286.5 629,-242.5 629,-242.5 629,-236.5 635,-230.5 641,-230.5 641,-230.5 738,-230.5 738,-230.5 744,-230.5 750,-236.5 750,-242.5 750,-242.5 750,-286.5 750,-286.5 750,-292.5 744,-298.5 738,-298.5\"/>\r\n",
       "<text text-anchor=\"middle\" x=\"689.5\" y=\"-283.3\" font-family=\"Helvetica,sans-Serif\" font-size=\"14.00\">gini = 0.0</text>\r\n",
       "<text text-anchor=\"middle\" x=\"689.5\" y=\"-268.3\" font-family=\"Helvetica,sans-Serif\" font-size=\"14.00\">samples = 43</text>\r\n",
       "<text text-anchor=\"middle\" x=\"689.5\" y=\"-253.3\" font-family=\"Helvetica,sans-Serif\" font-size=\"14.00\">value = [0, 0, 43]</text>\r\n",
       "<text text-anchor=\"middle\" x=\"689.5\" y=\"-238.3\" font-family=\"Helvetica,sans-Serif\" font-size=\"14.00\">class = virginica</text>\r\n",
       "</g>\r\n",
       "<!-- 12&#45;&gt;14 -->\r\n",
       "<g id=\"edge14\" class=\"edge\"><title>12&#45;&gt;14</title>\r\n",
       "<path fill=\"none\" stroke=\"black\" d=\"M605.256,-341.907C618.274,-330.101 632.479,-317.217 645.453,-305.45\"/>\r\n",
       "<polygon fill=\"black\" stroke=\"black\" points=\"647.875,-307.978 652.931,-298.667 643.173,-302.793 647.875,-307.978\"/>\r\n",
       "</g>\r\n",
       "</g>\r\n",
       "</svg>\r\n"
      ],
      "text/plain": [
       "<graphviz.files.Source at 0x1f07c7f4828>"
      ]
     },
     "execution_count": 23,
     "metadata": {},
     "output_type": "execute_result"
    }
   ],
   "source": [
    "graph"
   ]
  },
  {
   "cell_type": "markdown",
   "metadata": {},
   "source": [
    "## Visualise the Decision Boundary"
   ]
  },
  {
   "cell_type": "code",
   "execution_count": 24,
   "metadata": {
    "collapsed": true
   },
   "outputs": [],
   "source": [
    "import numpy as np\n",
    "import seaborn as sns\n",
    "sns.set_style('whitegrid')\n",
    "import matplotlib.pyplot as plt\n",
    "%matplotlib inline"
   ]
  },
  {
   "cell_type": "code",
   "execution_count": 25,
   "metadata": {},
   "outputs": [
    {
     "data": {
      "text/html": [
       "<div>\n",
       "<style>\n",
       "    .dataframe thead tr:only-child th {\n",
       "        text-align: right;\n",
       "    }\n",
       "\n",
       "    .dataframe thead th {\n",
       "        text-align: left;\n",
       "    }\n",
       "\n",
       "    .dataframe tbody tr th {\n",
       "        vertical-align: top;\n",
       "    }\n",
       "</style>\n",
       "<table border=\"1\" class=\"dataframe\">\n",
       "  <thead>\n",
       "    <tr style=\"text-align: right;\">\n",
       "      <th></th>\n",
       "      <th>sepal_length</th>\n",
       "      <th>sepal_width</th>\n",
       "      <th>petal_length</th>\n",
       "      <th>petal_width</th>\n",
       "      <th>species</th>\n",
       "    </tr>\n",
       "  </thead>\n",
       "  <tbody>\n",
       "    <tr>\n",
       "      <th>0</th>\n",
       "      <td>5.1</td>\n",
       "      <td>3.5</td>\n",
       "      <td>1.4</td>\n",
       "      <td>0.2</td>\n",
       "      <td>setosa</td>\n",
       "    </tr>\n",
       "    <tr>\n",
       "      <th>1</th>\n",
       "      <td>4.9</td>\n",
       "      <td>3.0</td>\n",
       "      <td>1.4</td>\n",
       "      <td>0.2</td>\n",
       "      <td>setosa</td>\n",
       "    </tr>\n",
       "    <tr>\n",
       "      <th>2</th>\n",
       "      <td>4.7</td>\n",
       "      <td>3.2</td>\n",
       "      <td>1.3</td>\n",
       "      <td>0.2</td>\n",
       "      <td>setosa</td>\n",
       "    </tr>\n",
       "    <tr>\n",
       "      <th>3</th>\n",
       "      <td>4.6</td>\n",
       "      <td>3.1</td>\n",
       "      <td>1.5</td>\n",
       "      <td>0.2</td>\n",
       "      <td>setosa</td>\n",
       "    </tr>\n",
       "    <tr>\n",
       "      <th>4</th>\n",
       "      <td>5.0</td>\n",
       "      <td>3.6</td>\n",
       "      <td>1.4</td>\n",
       "      <td>0.2</td>\n",
       "      <td>setosa</td>\n",
       "    </tr>\n",
       "  </tbody>\n",
       "</table>\n",
       "</div>"
      ],
      "text/plain": [
       "   sepal_length  sepal_width  petal_length  petal_width species\n",
       "0           5.1          3.5           1.4          0.2  setosa\n",
       "1           4.9          3.0           1.4          0.2  setosa\n",
       "2           4.7          3.2           1.3          0.2  setosa\n",
       "3           4.6          3.1           1.5          0.2  setosa\n",
       "4           5.0          3.6           1.4          0.2  setosa"
      ]
     },
     "execution_count": 25,
     "metadata": {},
     "output_type": "execute_result"
    }
   ],
   "source": [
    "df = sns.load_dataset('iris')\n",
    "df.head()"
   ]
  },
  {
   "cell_type": "code",
   "execution_count": 26,
   "metadata": {
    "collapsed": true
   },
   "outputs": [],
   "source": [
    "col = ['petal_length', 'petal_width']\n",
    "X = df.loc[:, col]"
   ]
  },
  {
   "cell_type": "code",
   "execution_count": 27,
   "metadata": {
    "collapsed": true
   },
   "outputs": [],
   "source": [
    "species_to_num = {'setosa': 0,\n",
    "                  'versicolor': 1,\n",
    "                  'virginica': 2}\n",
    "df['tmp'] = df['species'].map(species_to_num)\n",
    "y = df['tmp']"
   ]
  },
  {
   "cell_type": "code",
   "execution_count": 28,
   "metadata": {
    "collapsed": true
   },
   "outputs": [],
   "source": [
    "clf = tree.DecisionTreeClassifier()\n",
    "clf = clf.fit(X, y)"
   ]
  },
  {
   "cell_type": "code",
   "execution_count": 29,
   "metadata": {
    "collapsed": true
   },
   "outputs": [],
   "source": [
    "Xv = X.values.reshape(-1,1)\n",
    "h = 0.02\n",
    "x_min, x_max = Xv.min(), Xv.max() + 1\n",
    "y_min, y_max = y.min(), y.max() + 1\n",
    "xx, yy = np.meshgrid(np.arange(x_min, x_max, h),\n",
    "                     np.arange(y_min, y_max, h))"
   ]
  },
  {
   "cell_type": "code",
   "execution_count": 30,
   "metadata": {},
   "outputs": [
    {
     "data": {
      "image/png": "[encoded data removed]",
      "text/plain": [
       "<matplotlib.figure.Figure at 0x1f00028d208>"
      ]
     },
     "metadata": {},
     "output_type": "display_data"
    }
   ],
   "source": [
    "z = clf.predict(np.c_[xx.ravel(), yy.ravel()])\n",
    "z = z.reshape(xx.shape)\n",
    "fig = plt.figure(figsize=(16,10))\n",
    "ax = plt.contourf(xx, yy, z, cmap = 'afmhot', alpha=0.3);\n",
    "plt.scatter(X.values[:, 0], X.values[:, 1], c=y, s=80, \n",
    "            alpha=0.9, edgecolors='g');"
   ]
  },
  {
   "cell_type": "markdown",
   "metadata": {},
   "source": [
    "***\n",
    "\n",
    "# Decision Tree Learning\n",
    "\n",
    "* [ID3](https://en.wikipedia.org/wiki/ID3_algorithm) (Iterative Dichotomiser 3)\n",
    "* [C4.5](https://en.wikipedia.org/wiki/C4.5_algorithm) (successor of ID3)\n",
    "* CART (Classification And Regression Tree)\n",
    "* [CHAID](http://www.statisticssolutions.com/non-parametric-analysis-chaid/) (Chi-squared Automatic Interaction Detector). by [Gordon Kass](https://en.wikipedia.org/wiki/Chi-square_automatic_interaction_detection). "
   ]
  },
  {
   "cell_type": "markdown",
   "metadata": {},
   "source": [
    "## Tree algorithms: ID3, C4.5, C5.0 and CART\n",
    "\n",
    "\n",
    "* ID3 (Iterative Dichotomiser 3) was developed in 1986 by Ross Quinlan. The algorithm creates a multiway tree, finding for each node (i.e. in a greedy manner) the categorical feature that will yield the largest information gain for categorical targets. Trees are grown to their maximum size and then a pruning step is usually applied to improve the ability of the tree to generalise to unseen data.\n",
    "\n",
    "\n",
    "* C4.5 is the successor to ID3 and removed the restriction that features must be categorical by dynamically defining a discrete attribute (based on numerical variables) that partitions the continuous attribute value into a discrete set of intervals. C4.5 converts the trained trees (i.e. the output of the ID3 algorithm) into sets of if-then rules. These accuracy of each rule is then evaluated to determine the order in which they should be applied. Pruning is done by removing a rule’s precondition if the accuracy of the rule improves without it.\n",
    "\n",
    "\n",
    "* C5.0 is Quinlan’s latest version release under a proprietary license. It uses less memory and builds smaller rulesets than C4.5 while being more accurate.\n",
    "\n",
    "\n",
    "* CART (Classification and Regression Trees) is very similar to C4.5, but it differs in that it supports numerical target variables (regression) and does not compute rule sets. CART constructs binary trees using the feature and threshold that yield the largest information gain at each node.\n",
    "\n",
    "\n",
    "* CHAID (Chi-squared Automatic Interaction Detector). by Gordon Kass. Performs multi-level splits when computing classification trees. Non-parametric. Does not require the data to be normally distributed. \n",
    "\n",
    "scikit-learn uses an optimised version of the CART algorithm."
   ]
  },
  {
   "cell_type": "markdown",
   "metadata": {},
   "source": [
    "# Gini Impurity\n",
    "\n",
    "scikit-learn default\n",
    "\n",
    "[Gini Impurity](https://en.wikipedia.org/wiki/Decision_tree_learning#Gini_impurity)\n",
    "\n",
    "A measure of purity / variability of categorical data\n",
    "\n",
    "As a side note on the difference between [Gini Impurity and Gini Coefficient](https://datascience.stackexchange.com/questions/1095/gini-coefficient-vs-gini-impurity-decision-trees)\n",
    "\n",
    "* No, despite their names they are not equivalent or even that similar.\n",
    "* **Gini impurity** is a measure of misclassification, which applies in a multiclass classifier context.\n",
    "* **Gini coefficient** applies to binary classification and requires a classifier that can in some way rank examples according to the likelihood of being in a positive class.\n",
    "* Both could be applied in some cases, but they are different measures for different things. Impurity is what is commonly used in decision trees.\n",
    "\n",
    "\n",
    "\n",
    "\n",
    "Developed by [Corrado Gini](https://en.wikipedia.org/wiki/Corrado_Gini) in 1912\n",
    "\n",
    "Key Points:\n",
    "* A pure node (homogeneous contents or samples with the same class) will have a Gini coefficient of zero\n",
    "* As the variation increases (heterogeneneous classes or increase diversity), Gini coefficient increases and approaches 1.\n",
    "\n",
    "$$Gini=1-\\sum^r_j p^2_j$$\n",
    "\n",
    "$p$ is the probability (often based on the frequency table)\n",
    "\n"
   ]
  },
  {
   "cell_type": "markdown",
   "metadata": {},
   "source": [
    "<img src='img\\gini_imp.png'>"
   ]
  },
  {
   "cell_type": "markdown",
   "metadata": {
    "collapsed": true
   },
   "source": [
    "# Entropy\n",
    "\n",
    "[Wikipedia](https://en.wikipedia.org/wiki/Entropy_(information_theory)\n",
    "\n",
    "The entropy can explicitly be written as\n",
    "\n",
    "$${\\displaystyle \\mathrm {H} (X)=\\sum _{i=1}^{n}{\\mathrm {P} (x_{i})\\,\\mathrm {I} (x_{i})}=-\\sum _{i=1}^{n}{\\mathrm {P} (x_{i})\\log _{b}\\mathrm {P} (x_{i})},}$$\n",
    "\n",
    "where `b` is the base of the logarithm used. Common values of `b` are 2, Euler's number `e`, and 10\n",
    "\n",
    "\n"
   ]
  },
  {
   "cell_type": "markdown",
   "metadata": {
    "collapsed": true
   },
   "source": [
    "# Which should I use?\n",
    "\n",
    "[Sebastian Raschka](https://sebastianraschka.com/faq/docs/decision-tree-binary.html)\n",
    "\n",
    "* They tend to generate similar tree\n",
    "* Gini tends to be faster to compute"
   ]
  },
  {
   "cell_type": "markdown",
   "metadata": {
    "collapsed": true
   },
   "source": [
    "***"
   ]
  },
  {
   "cell_type": "code",
   "execution_count": 31,
   "metadata": {
    "collapsed": true
   },
   "outputs": [],
   "source": [
    "def gini(p):\n",
    "    return (p)*(1 - (p)) + (1 - p)*(1 - (1-p))\n",
    "def entropy(p):\n",
    "    return - p*np.log2(p) - (1 - p)*np.log2((1 - p))\n",
    "def error(p):\n",
    "    return 1 - np.max([p, 1 - p])"
   ]
  },
  {
   "cell_type": "code",
   "execution_count": 32,
   "metadata": {
    "collapsed": true
   },
   "outputs": [],
   "source": [
    "x = np.arange(0.0, 1.0, 0.01)\n",
    "\n",
    "ent = [entropy(p) if p != 0 else None for p in x]\n",
    "\n",
    "sc_ent = [e*0.5 if e else None for e in ent]\n",
    "err = [error(i) for i in x]"
   ]
  },
  {
   "cell_type": "code",
   "execution_count": 33,
   "metadata": {},
   "outputs": [
    {
     "data": {
      "image/png": "[encoded data removed]",
      "text/plain": [
       "<matplotlib.figure.Figure at 0x1f0014a66a0>"
      ]
     },
     "metadata": {},
     "output_type": "display_data"
    }
   ],
   "source": [
    "fig = plt.figure(figsize=(10,8))\n",
    "ax = plt.subplot(111)\n",
    "for i, lab, ls, c, in zip([ent, sc_ent, gini(x), err], \n",
    "                   ['Entropy', 'Entropy (scaled)', \n",
    "                   'Gini Impurity', \n",
    "                   'Misclassification Error'],\n",
    "                   ['-', '-', '--', '-.'],\n",
    "                   ['black', 'lightgray',\n",
    "                      'red', 'green', 'cyan']):\n",
    "     line = ax.plot(x, i, label=lab, \n",
    "                    linestyle=ls, lw=2, color=c)\n",
    "ax.legend(loc='upper center', bbox_to_anchor=(0.5, 1.15),\n",
    "           ncol=3, fancybox=True, shadow=False)\n",
    "ax.axhline(y=0.5, linewidth=1, color='k', linestyle='--')\n",
    "ax.axhline(y=1.0, linewidth=1, color='k', linestyle='--')\n",
    "plt.ylim([0, 1.1])\n",
    "plt.xlabel('p(i=1)')\n",
    "plt.ylabel('Impurity Index')\n",
    "plt.show()"
   ]
  },
  {
   "cell_type": "markdown",
   "metadata": {
    "collapsed": true
   },
   "source": [
    "# Information Gain\n",
    "\n",
    "* Expected reduction in entropy caused by splitting \n",
    "\n",
    "* Keep splitting until you obtain a as close to homogeneous class as possible\n",
    "\n"
   ]
  },
  {
   "cell_type": "markdown",
   "metadata": {
    "collapsed": true
   },
   "source": [
    "***"
   ]
  },
  {
   "cell_type": "markdown",
   "metadata": {},
   "source": [
    "# Regression"
   ]
  },
  {
   "cell_type": "code",
   "execution_count": 34,
   "metadata": {
    "collapsed": true
   },
   "outputs": [],
   "source": [
    "from sklearn import tree"
   ]
  },
  {
   "cell_type": "code",
   "execution_count": 35,
   "metadata": {
    "collapsed": true
   },
   "outputs": [],
   "source": [
    "X = [[0, 0], [3,3]]\n",
    "y = [0.75, 3]"
   ]
  },
  {
   "cell_type": "code",
   "execution_count": 36,
   "metadata": {
    "collapsed": true
   },
   "outputs": [],
   "source": [
    "tree_reg = tree.DecisionTreeRegressor(random_state=42)"
   ]
  },
  {
   "cell_type": "code",
   "execution_count": 37,
   "metadata": {
    "collapsed": true
   },
   "outputs": [],
   "source": [
    "tree_reg = tree_reg.fit(X, y)"
   ]
  },
  {
   "cell_type": "code",
   "execution_count": 38,
   "metadata": {},
   "outputs": [
    {
     "data": {
      "text/plain": [
       "array([ 0.75])"
      ]
     },
     "execution_count": 38,
     "metadata": {},
     "output_type": "execute_result"
    }
   ],
   "source": [
    "tree_reg.predict([[1.5, 1.5]])"
   ]
  },
  {
   "cell_type": "code",
   "execution_count": 42,
   "metadata": {},
   "outputs": [
    {
     "data": {
      "image/png": "[encoded data removed]",
      "text/plain": [
       "<matplotlib.figure.Figure at 0x1f001f82748>"
      ]
     },
     "metadata": {},
     "output_type": "display_data"
    }
   ],
   "source": [
    "# Import the necessary modules and libraries\n",
    "import numpy as np\n",
    "from sklearn.tree import DecisionTreeRegressor\n",
    "import matplotlib.pyplot as plt\n",
    "\n",
    "# Create a random dataset\n",
    "rng = np.random.RandomState(1)\n",
    "X = np.sort(5 * rng.rand(80, 1), axis=0)\n",
    "y = np.sin(X).ravel()\n",
    "y[::5] += 3 * (0.5 - rng.rand(16))\n",
    "\n",
    "# Fit regression model\n",
    "regr_1 = DecisionTreeRegressor(max_depth=2)\n",
    "regr_2 = DecisionTreeRegressor(max_depth=5)\n",
    "regr_1.fit(X, y)\n",
    "regr_2.fit(X, y)\n",
    "\n",
    "# Predict\n",
    "X_test = np.arange(0.0, 5.0, 0.01)[:, np.newaxis]\n",
    "y_1 = regr_1.predict(X_test)\n",
    "y_2 = regr_2.predict(X_test)\n",
    "\n",
    "# Plot the results\n",
    "plt.figure(figsize=(10,8))\n",
    "plt.scatter(X, y, s=20, edgecolor=\"black\",\n",
    "            c=\"darkorange\", label=\"data\")\n",
    "plt.plot(X_test, y_1, color=\"cornflowerblue\",\n",
    "         label=\"max_depth=2\", linewidth=2)\n",
    "plt.plot(X_test, y_2, color=\"yellowgreen\", label=\"max_depth=5\", linewidth=2)\n",
    "plt.xlabel(\"data\")\n",
    "plt.ylabel(\"target\")\n",
    "plt.title(\"Decision Tree Regression\")\n",
    "plt.legend()\n",
    "plt.show()"
   ]
  },
  {
   "cell_type": "code",
   "execution_count": 44,
   "metadata": {},
   "outputs": [
    {
     "data": {
      "image/svg+xml": [
       "<?xml version=\"1.0\" encoding=\"UTF-8\" standalone=\"no\"?>\r\n",
       "<!DOCTYPE svg PUBLIC \"-//W3C//DTD SVG 1.1//EN\"\r\n",
       " \"http://www.w3.org/Graphics/SVG/1.1/DTD/svg11.dtd\">\r\n",
       "<!-- Generated by graphviz version 2.38.0 (20140413.2041)\r\n",
       " -->\r\n",
       "<!-- Title: Tree Pages: 1 -->\r\n",
       "<svg width=\"439pt\" height=\"269pt\"\r\n",
       " viewBox=\"0.00 0.00 439.00 269.00\" xmlns=\"http://www.w3.org/2000/svg\" xmlns:xlink=\"http://www.w3.org/1999/xlink\">\r\n",
       "<g id=\"graph0\" class=\"graph\" transform=\"scale(1 1) rotate(0) translate(4 265)\">\r\n",
       "<title>Tree</title>\r\n",
       "<polygon fill=\"white\" stroke=\"none\" points=\"-4,4 -4,-265 435,-265 435,4 -4,4\"/>\r\n",
       "<!-- 0 -->\r\n",
       "<g id=\"node1\" class=\"node\"><title>0</title>\r\n",
       "<polygon fill=\"#e58139\" fill-opacity=\"0.627451\" stroke=\"black\" points=\"260.5,-261 163.5,-261 163.5,-193 260.5,-193 260.5,-261\"/>\r\n",
       "<text text-anchor=\"middle\" x=\"212\" y=\"-245.8\" font-family=\"Times New Roman,serif\" font-size=\"14.00\">X[0] &lt;= 3.133</text>\r\n",
       "<text text-anchor=\"middle\" x=\"212\" y=\"-230.8\" font-family=\"Times New Roman,serif\" font-size=\"14.00\">mse = 0.547</text>\r\n",
       "<text text-anchor=\"middle\" x=\"212\" y=\"-215.8\" font-family=\"Times New Roman,serif\" font-size=\"14.00\">samples = 80</text>\r\n",
       "<text text-anchor=\"middle\" x=\"212\" y=\"-200.8\" font-family=\"Times New Roman,serif\" font-size=\"14.00\">value = 0.122</text>\r\n",
       "</g>\r\n",
       "<!-- 1 -->\r\n",
       "<g id=\"node2\" class=\"node\"><title>1</title>\r\n",
       "<polygon fill=\"#e58139\" fill-opacity=\"0.909804\" stroke=\"black\" points=\"203.5,-157 106.5,-157 106.5,-89 203.5,-89 203.5,-157\"/>\r\n",
       "<text text-anchor=\"middle\" x=\"155\" y=\"-141.8\" font-family=\"Times New Roman,serif\" font-size=\"14.00\">X[0] &lt;= 0.514</text>\r\n",
       "<text text-anchor=\"middle\" x=\"155\" y=\"-126.8\" font-family=\"Times New Roman,serif\" font-size=\"14.00\">mse = 0.231</text>\r\n",
       "<text text-anchor=\"middle\" x=\"155\" y=\"-111.8\" font-family=\"Times New Roman,serif\" font-size=\"14.00\">samples = 51</text>\r\n",
       "<text text-anchor=\"middle\" x=\"155\" y=\"-96.8\" font-family=\"Times New Roman,serif\" font-size=\"14.00\">value = 0.571</text>\r\n",
       "</g>\r\n",
       "<!-- 0&#45;&gt;1 -->\r\n",
       "<g id=\"edge1\" class=\"edge\"><title>0&#45;&gt;1</title>\r\n",
       "<path fill=\"none\" stroke=\"black\" d=\"M193.494,-192.884C188.715,-184.332 183.507,-175.013 178.511,-166.072\"/>\r\n",
       "<polygon fill=\"black\" stroke=\"black\" points=\"181.542,-164.321 173.608,-157.299 175.431,-167.736 181.542,-164.321\"/>\r\n",
       "<text text-anchor=\"middle\" x=\"166.8\" y=\"-177.655\" font-family=\"Times New Roman,serif\" font-size=\"14.00\">True</text>\r\n",
       "</g>\r\n",
       "<!-- 4 -->\r\n",
       "<g id=\"node5\" class=\"node\"><title>4</title>\r\n",
       "<polygon fill=\"#e58139\" fill-opacity=\"0.125490\" stroke=\"black\" points=\"318,-157 222,-157 222,-89 318,-89 318,-157\"/>\r\n",
       "<text text-anchor=\"middle\" x=\"270\" y=\"-141.8\" font-family=\"Times New Roman,serif\" font-size=\"14.00\">X[0] &lt;= 3.85</text>\r\n",
       "<text text-anchor=\"middle\" x=\"270\" y=\"-126.8\" font-family=\"Times New Roman,serif\" font-size=\"14.00\">mse = 0.124</text>\r\n",
       "<text text-anchor=\"middle\" x=\"270\" y=\"-111.8\" font-family=\"Times New Roman,serif\" font-size=\"14.00\">samples = 29</text>\r\n",
       "<text text-anchor=\"middle\" x=\"270\" y=\"-96.8\" font-family=\"Times New Roman,serif\" font-size=\"14.00\">value = &#45;0.667</text>\r\n",
       "</g>\r\n",
       "<!-- 0&#45;&gt;4 -->\r\n",
       "<g id=\"edge4\" class=\"edge\"><title>0&#45;&gt;4</title>\r\n",
       "<path fill=\"none\" stroke=\"black\" d=\"M230.831,-192.884C235.693,-184.332 240.992,-175.013 246.077,-166.072\"/>\r\n",
       "<polygon fill=\"black\" stroke=\"black\" points=\"249.165,-167.722 251.065,-157.299 243.079,-164.262 249.165,-167.722\"/>\r\n",
       "<text text-anchor=\"middle\" x=\"257.694\" y=\"-177.704\" font-family=\"Times New Roman,serif\" font-size=\"14.00\">False</text>\r\n",
       "</g>\r\n",
       "<!-- 2 -->\r\n",
       "<g id=\"node3\" class=\"node\"><title>2</title>\r\n",
       "<polygon fill=\"#e58139\" fill-opacity=\"0.580392\" stroke=\"black\" points=\"92,-53 0,-53 0,-0 92,-0 92,-53\"/>\r\n",
       "<text text-anchor=\"middle\" x=\"46\" y=\"-37.8\" font-family=\"Times New Roman,serif\" font-size=\"14.00\">mse = 0.192</text>\r\n",
       "<text text-anchor=\"middle\" x=\"46\" y=\"-22.8\" font-family=\"Times New Roman,serif\" font-size=\"14.00\">samples = 11</text>\r\n",
       "<text text-anchor=\"middle\" x=\"46\" y=\"-7.8\" font-family=\"Times New Roman,serif\" font-size=\"14.00\">value = 0.052</text>\r\n",
       "</g>\r\n",
       "<!-- 1&#45;&gt;2 -->\r\n",
       "<g id=\"edge2\" class=\"edge\"><title>1&#45;&gt;2</title>\r\n",
       "<path fill=\"none\" stroke=\"black\" d=\"M116.877,-88.9485C106.009,-79.526 94.1828,-69.2731 83.3605,-59.8906\"/>\r\n",
       "<polygon fill=\"black\" stroke=\"black\" points=\"85.5342,-57.1428 75.6857,-53.2367 80.9488,-62.4319 85.5342,-57.1428\"/>\r\n",
       "</g>\r\n",
       "<!-- 3 -->\r\n",
       "<g id=\"node4\" class=\"node\"><title>3</title>\r\n",
       "<polygon fill=\"#e58139\" stroke=\"black\" points=\"202,-53 110,-53 110,-0 202,-0 202,-53\"/>\r\n",
       "<text text-anchor=\"middle\" x=\"156\" y=\"-37.8\" font-family=\"Times New Roman,serif\" font-size=\"14.00\">mse = 0.148</text>\r\n",
       "<text text-anchor=\"middle\" x=\"156\" y=\"-22.8\" font-family=\"Times New Roman,serif\" font-size=\"14.00\">samples = 40</text>\r\n",
       "<text text-anchor=\"middle\" x=\"156\" y=\"-7.8\" font-family=\"Times New Roman,serif\" font-size=\"14.00\">value = 0.714</text>\r\n",
       "</g>\r\n",
       "<!-- 1&#45;&gt;3 -->\r\n",
       "<g id=\"edge3\" class=\"edge\"><title>1&#45;&gt;3</title>\r\n",
       "<path fill=\"none\" stroke=\"black\" d=\"M155.35,-88.9485C155.437,-80.7153 155.531,-71.848 155.619,-63.4814\"/>\r\n",
       "<polygon fill=\"black\" stroke=\"black\" points=\"159.122,-63.2732 155.728,-53.2367 152.122,-63.1991 159.122,-63.2732\"/>\r\n",
       "</g>\r\n",
       "<!-- 5 -->\r\n",
       "<g id=\"node6\" class=\"node\"><title>5</title>\r\n",
       "<polygon fill=\"#e58139\" fill-opacity=\"0.262745\" stroke=\"black\" points=\"317,-53 221,-53 221,-0 317,-0 317,-53\"/>\r\n",
       "<text text-anchor=\"middle\" x=\"269\" y=\"-37.8\" font-family=\"Times New Roman,serif\" font-size=\"14.00\">mse = 0.124</text>\r\n",
       "<text text-anchor=\"middle\" x=\"269\" y=\"-22.8\" font-family=\"Times New Roman,serif\" font-size=\"14.00\">samples = 14</text>\r\n",
       "<text text-anchor=\"middle\" x=\"269\" y=\"-7.8\" font-family=\"Times New Roman,serif\" font-size=\"14.00\">value = &#45;0.452</text>\r\n",
       "</g>\r\n",
       "<!-- 4&#45;&gt;5 -->\r\n",
       "<g id=\"edge5\" class=\"edge\"><title>4&#45;&gt;5</title>\r\n",
       "<path fill=\"none\" stroke=\"black\" d=\"M269.65,-88.9485C269.563,-80.7153 269.469,-71.848 269.381,-63.4814\"/>\r\n",
       "<polygon fill=\"black\" stroke=\"black\" points=\"272.878,-63.1991 269.272,-53.2367 265.878,-63.2732 272.878,-63.1991\"/>\r\n",
       "</g>\r\n",
       "<!-- 6 -->\r\n",
       "<g id=\"node7\" class=\"node\"><title>6</title>\r\n",
       "<polygon fill=\"none\" stroke=\"black\" points=\"431,-53 335,-53 335,-0 431,-0 431,-53\"/>\r\n",
       "<text text-anchor=\"middle\" x=\"383\" y=\"-37.8\" font-family=\"Times New Roman,serif\" font-size=\"14.00\">mse = 0.041</text>\r\n",
       "<text text-anchor=\"middle\" x=\"383\" y=\"-22.8\" font-family=\"Times New Roman,serif\" font-size=\"14.00\">samples = 15</text>\r\n",
       "<text text-anchor=\"middle\" x=\"383\" y=\"-7.8\" font-family=\"Times New Roman,serif\" font-size=\"14.00\">value = &#45;0.869</text>\r\n",
       "</g>\r\n",
       "<!-- 4&#45;&gt;6 -->\r\n",
       "<g id=\"edge6\" class=\"edge\"><title>4&#45;&gt;6</title>\r\n",
       "<path fill=\"none\" stroke=\"black\" d=\"M309.522,-88.9485C320.789,-79.526 333.049,-69.2731 344.268,-59.8906\"/>\r\n",
       "<polygon fill=\"black\" stroke=\"black\" points=\"346.799,-62.3368 352.225,-53.2367 342.308,-56.967 346.799,-62.3368\"/>\r\n",
       "</g>\r\n",
       "</g>\r\n",
       "</svg>\r\n"
      ],
      "text/plain": [
       "<graphviz.files.Source at 0x1f0020a5ef0>"
      ]
     },
     "execution_count": 44,
     "metadata": {},
     "output_type": "execute_result"
    }
   ],
   "source": [
    "dot_data = tree.export_graphviz(regr_1, out_file=None,\n",
    "                                filled=True)\n",
    "graph = graphviz.Source(dot_data)\n",
    "graph"
   ]
  },
  {
   "cell_type": "code",
   "execution_count": 45,
   "metadata": {},
   "outputs": [
    {
     "data": {
      "image/svg+xml": [
       "<?xml version=\"1.0\" encoding=\"UTF-8\" standalone=\"no\"?>\r\n",
       "<!DOCTYPE svg PUBLIC \"-//W3C//DTD SVG 1.1//EN\"\r\n",
       " \"http://www.w3.org/Graphics/SVG/1.1/DTD/svg11.dtd\">\r\n",
       "<!-- Generated by graphviz version 2.38.0 (20140413.2041)\r\n",
       " -->\r\n",
       "<!-- Title: Tree Pages: 1 -->\r\n",
       "<svg width=\"2009pt\" height=\"581pt\"\r\n",
       " viewBox=\"0.00 0.00 2009.00 581.00\" xmlns=\"http://www.w3.org/2000/svg\" xmlns:xlink=\"http://www.w3.org/1999/xlink\">\r\n",
       "<g id=\"graph0\" class=\"graph\" transform=\"scale(1 1) rotate(0) translate(4 577)\">\r\n",
       "<title>Tree</title>\r\n",
       "<polygon fill=\"white\" stroke=\"none\" points=\"-4,4 -4,-577 2005,-577 2005,4 -4,4\"/>\r\n",
       "<!-- 0 -->\r\n",
       "<g id=\"node1\" class=\"node\"><title>0</title>\r\n",
       "<polygon fill=\"#e58139\" fill-opacity=\"0.588235\" stroke=\"black\" points=\"931.5,-573 834.5,-573 834.5,-505 931.5,-505 931.5,-573\"/>\r\n",
       "<text text-anchor=\"middle\" x=\"883\" y=\"-557.8\" font-family=\"Times New Roman,serif\" font-size=\"14.00\">X[0] &lt;= 3.133</text>\r\n",
       "<text text-anchor=\"middle\" x=\"883\" y=\"-542.8\" font-family=\"Times New Roman,serif\" font-size=\"14.00\">mse = 0.547</text>\r\n",
       "<text text-anchor=\"middle\" x=\"883\" y=\"-527.8\" font-family=\"Times New Roman,serif\" font-size=\"14.00\">samples = 80</text>\r\n",
       "<text text-anchor=\"middle\" x=\"883\" y=\"-512.8\" font-family=\"Times New Roman,serif\" font-size=\"14.00\">value = 0.122</text>\r\n",
       "</g>\r\n",
       "<!-- 1 -->\r\n",
       "<g id=\"node2\" class=\"node\"><title>1</title>\r\n",
       "<polygon fill=\"#e58139\" fill-opacity=\"0.737255\" stroke=\"black\" points=\"603.5,-469 506.5,-469 506.5,-401 603.5,-401 603.5,-469\"/>\r\n",
       "<text text-anchor=\"middle\" x=\"555\" y=\"-453.8\" font-family=\"Times New Roman,serif\" font-size=\"14.00\">X[0] &lt;= 0.514</text>\r\n",
       "<text text-anchor=\"middle\" x=\"555\" y=\"-438.8\" font-family=\"Times New Roman,serif\" font-size=\"14.00\">mse = 0.231</text>\r\n",
       "<text text-anchor=\"middle\" x=\"555\" y=\"-423.8\" font-family=\"Times New Roman,serif\" font-size=\"14.00\">samples = 51</text>\r\n",
       "<text text-anchor=\"middle\" x=\"555\" y=\"-408.8\" font-family=\"Times New Roman,serif\" font-size=\"14.00\">value = 0.571</text>\r\n",
       "</g>\r\n",
       "<!-- 0&#45;&gt;1 -->\r\n",
       "<g id=\"edge1\" class=\"edge\"><title>0&#45;&gt;1</title>\r\n",
       "<path fill=\"none\" stroke=\"black\" d=\"M834.249,-522.84C775.384,-504.534 676.463,-473.772 613.53,-454.201\"/>\r\n",
       "<polygon fill=\"black\" stroke=\"black\" points=\"614.339,-450.788 603.75,-451.16 612.26,-457.472 614.339,-450.788\"/>\r\n",
       "<text text-anchor=\"middle\" x=\"615.381\" y=\"-469.59\" font-family=\"Times New Roman,serif\" font-size=\"14.00\">True</text>\r\n",
       "</g>\r\n",
       "<!-- 22 -->\r\n",
       "<g id=\"node23\" class=\"node\"><title>22</title>\r\n",
       "<polygon fill=\"#e58139\" fill-opacity=\"0.325490\" stroke=\"black\" points=\"1261,-469 1165,-469 1165,-401 1261,-401 1261,-469\"/>\r\n",
       "<text text-anchor=\"middle\" x=\"1213\" y=\"-453.8\" font-family=\"Times New Roman,serif\" font-size=\"14.00\">X[0] &lt;= 3.85</text>\r\n",
       "<text text-anchor=\"middle\" x=\"1213\" y=\"-438.8\" font-family=\"Times New Roman,serif\" font-size=\"14.00\">mse = 0.124</text>\r\n",
       "<text text-anchor=\"middle\" x=\"1213\" y=\"-423.8\" font-family=\"Times New Roman,serif\" font-size=\"14.00\">samples = 29</text>\r\n",
       "<text text-anchor=\"middle\" x=\"1213\" y=\"-408.8\" font-family=\"Times New Roman,serif\" font-size=\"14.00\">value = &#45;0.667</text>\r\n",
       "</g>\r\n",
       "<!-- 0&#45;&gt;22 -->\r\n",
       "<g id=\"edge22\" class=\"edge\"><title>0&#45;&gt;22</title>\r\n",
       "<path fill=\"none\" stroke=\"black\" d=\"M931.693,-522.95C991.172,-504.565 1091.68,-473.5 1155.07,-453.906\"/>\r\n",
       "<polygon fill=\"black\" stroke=\"black\" points=\"1156.39,-457.16 1164.91,-450.863 1154.33,-450.472 1156.39,-457.16\"/>\r\n",
       "<text text-anchor=\"middle\" x=\"1153.24\" y=\"-469.273\" font-family=\"Times New Roman,serif\" font-size=\"14.00\">False</text>\r\n",
       "</g>\r\n",
       "<!-- 2 -->\r\n",
       "<g id=\"node3\" class=\"node\"><title>2</title>\r\n",
       "<polygon fill=\"#e58139\" fill-opacity=\"0.564706\" stroke=\"black\" points=\"315.5,-365 218.5,-365 218.5,-297 315.5,-297 315.5,-365\"/>\r\n",
       "<text text-anchor=\"middle\" x=\"267\" y=\"-349.8\" font-family=\"Times New Roman,serif\" font-size=\"14.00\">X[0] &lt;= 0.046</text>\r\n",
       "<text text-anchor=\"middle\" x=\"267\" y=\"-334.8\" font-family=\"Times New Roman,serif\" font-size=\"14.00\">mse = 0.192</text>\r\n",
       "<text text-anchor=\"middle\" x=\"267\" y=\"-319.8\" font-family=\"Times New Roman,serif\" font-size=\"14.00\">samples = 11</text>\r\n",
       "<text text-anchor=\"middle\" x=\"267\" y=\"-304.8\" font-family=\"Times New Roman,serif\" font-size=\"14.00\">value = 0.052</text>\r\n",
       "</g>\r\n",
       "<!-- 1&#45;&gt;2 -->\r\n",
       "<g id=\"edge2\" class=\"edge\"><title>1&#45;&gt;2</title>\r\n",
       "<path fill=\"none\" stroke=\"black\" d=\"M506.47,-416.812C456.517,-399.121 378.668,-371.549 325.38,-352.676\"/>\r\n",
       "<polygon fill=\"black\" stroke=\"black\" points=\"326.323,-349.297 315.729,-349.258 323.986,-355.896 326.323,-349.297\"/>\r\n",
       "</g>\r\n",
       "<!-- 9 -->\r\n",
       "<g id=\"node10\" class=\"node\"><title>9</title>\r\n",
       "<polygon fill=\"#e58139\" fill-opacity=\"0.788235\" stroke=\"black\" points=\"603.5,-365 506.5,-365 506.5,-297 603.5,-297 603.5,-365\"/>\r\n",
       "<text text-anchor=\"middle\" x=\"555\" y=\"-349.8\" font-family=\"Times New Roman,serif\" font-size=\"14.00\">X[0] &lt;= 2.029</text>\r\n",
       "<text text-anchor=\"middle\" x=\"555\" y=\"-334.8\" font-family=\"Times New Roman,serif\" font-size=\"14.00\">mse = 0.148</text>\r\n",
       "<text text-anchor=\"middle\" x=\"555\" y=\"-319.8\" font-family=\"Times New Roman,serif\" font-size=\"14.00\">samples = 40</text>\r\n",
       "<text text-anchor=\"middle\" x=\"555\" y=\"-304.8\" font-family=\"Times New Roman,serif\" font-size=\"14.00\">value = 0.714</text>\r\n",
       "</g>\r\n",
       "<!-- 1&#45;&gt;9 -->\r\n",
       "<g id=\"edge9\" class=\"edge\"><title>1&#45;&gt;9</title>\r\n",
       "<path fill=\"none\" stroke=\"black\" d=\"M555,-400.884C555,-392.778 555,-383.982 555,-375.472\"/>\r\n",
       "<polygon fill=\"black\" stroke=\"black\" points=\"558.5,-375.299 555,-365.299 551.5,-375.299 558.5,-375.299\"/>\r\n",
       "</g>\r\n",
       "<!-- 3 -->\r\n",
       "<g id=\"node4\" class=\"node\"><title>3</title>\r\n",
       "<polygon fill=\"#e58139\" fill-opacity=\"0.164706\" stroke=\"black\" points=\"200,-253.5 104,-253.5 104,-200.5 200,-200.5 200,-253.5\"/>\r\n",
       "<text text-anchor=\"middle\" x=\"152\" y=\"-238.3\" font-family=\"Times New Roman,serif\" font-size=\"14.00\">mse = 0.0</text>\r\n",
       "<text text-anchor=\"middle\" x=\"152\" y=\"-223.3\" font-family=\"Times New Roman,serif\" font-size=\"14.00\">samples = 1</text>\r\n",
       "<text text-anchor=\"middle\" x=\"152\" y=\"-208.3\" font-family=\"Times New Roman,serif\" font-size=\"14.00\">value = &#45;1.149</text>\r\n",
       "</g>\r\n",
       "<!-- 2&#45;&gt;3 -->\r\n",
       "<g id=\"edge3\" class=\"edge\"><title>2&#45;&gt;3</title>\r\n",
       "<path fill=\"none\" stroke=\"black\" d=\"M229.663,-296.884C216.395,-285.116 201.488,-271.894 188.308,-260.203\"/>\r\n",
       "<polygon fill=\"black\" stroke=\"black\" points=\"190.576,-257.537 180.772,-253.52 185.931,-262.774 190.576,-257.537\"/>\r\n",
       "</g>\r\n",
       "<!-- 4 -->\r\n",
       "<g id=\"node5\" class=\"node\"><title>4</title>\r\n",
       "<polygon fill=\"#e58139\" fill-opacity=\"0.603922\" stroke=\"black\" points=\"315.5,-261 218.5,-261 218.5,-193 315.5,-193 315.5,-261\"/>\r\n",
       "<text text-anchor=\"middle\" x=\"267\" y=\"-245.8\" font-family=\"Times New Roman,serif\" font-size=\"14.00\">X[0] &lt;= 0.502</text>\r\n",
       "<text text-anchor=\"middle\" x=\"267\" y=\"-230.8\" font-family=\"Times New Roman,serif\" font-size=\"14.00\">mse = 0.052</text>\r\n",
       "<text text-anchor=\"middle\" x=\"267\" y=\"-215.8\" font-family=\"Times New Roman,serif\" font-size=\"14.00\">samples = 10</text>\r\n",
       "<text text-anchor=\"middle\" x=\"267\" y=\"-200.8\" font-family=\"Times New Roman,serif\" font-size=\"14.00\">value = 0.173</text>\r\n",
       "</g>\r\n",
       "<!-- 2&#45;&gt;4 -->\r\n",
       "<g id=\"edge4\" class=\"edge\"><title>2&#45;&gt;4</title>\r\n",
       "<path fill=\"none\" stroke=\"black\" d=\"M267,-296.884C267,-288.778 267,-279.982 267,-271.472\"/>\r\n",
       "<polygon fill=\"black\" stroke=\"black\" points=\"270.5,-271.299 267,-261.299 263.5,-271.299 270.5,-271.299\"/>\r\n",
       "</g>\r\n",
       "<!-- 5 -->\r\n",
       "<g id=\"node6\" class=\"node\"><title>5</title>\r\n",
       "<polygon fill=\"#e58139\" fill-opacity=\"0.623529\" stroke=\"black\" points=\"200.5,-157 103.5,-157 103.5,-89 200.5,-89 200.5,-157\"/>\r\n",
       "<text text-anchor=\"middle\" x=\"152\" y=\"-141.8\" font-family=\"Times New Roman,serif\" font-size=\"14.00\">X[0] &lt;= 0.258</text>\r\n",
       "<text text-anchor=\"middle\" x=\"152\" y=\"-126.8\" font-family=\"Times New Roman,serif\" font-size=\"14.00\">mse = 0.035</text>\r\n",
       "<text text-anchor=\"middle\" x=\"152\" y=\"-111.8\" font-family=\"Times New Roman,serif\" font-size=\"14.00\">samples = 9</text>\r\n",
       "<text text-anchor=\"middle\" x=\"152\" y=\"-96.8\" font-family=\"Times New Roman,serif\" font-size=\"14.00\">value = 0.221</text>\r\n",
       "</g>\r\n",
       "<!-- 4&#45;&gt;5 -->\r\n",
       "<g id=\"edge5\" class=\"edge\"><title>4&#45;&gt;5</title>\r\n",
       "<path fill=\"none\" stroke=\"black\" d=\"M229.663,-192.884C219.319,-183.709 207.978,-173.65 197.236,-164.123\"/>\r\n",
       "<polygon fill=\"black\" stroke=\"black\" points=\"199.347,-161.317 189.543,-157.299 194.702,-166.553 199.347,-161.317\"/>\r\n",
       "</g>\r\n",
       "<!-- 8 -->\r\n",
       "<g id=\"node9\" class=\"node\"><title>8</title>\r\n",
       "<polygon fill=\"#e58139\" fill-opacity=\"0.458824\" stroke=\"black\" points=\"315,-149.5 219,-149.5 219,-96.5 315,-96.5 315,-149.5\"/>\r\n",
       "<text text-anchor=\"middle\" x=\"267\" y=\"-134.3\" font-family=\"Times New Roman,serif\" font-size=\"14.00\">mse = &#45;0.0</text>\r\n",
       "<text text-anchor=\"middle\" x=\"267\" y=\"-119.3\" font-family=\"Times New Roman,serif\" font-size=\"14.00\">samples = 1</text>\r\n",
       "<text text-anchor=\"middle\" x=\"267\" y=\"-104.3\" font-family=\"Times New Roman,serif\" font-size=\"14.00\">value = &#45;0.263</text>\r\n",
       "</g>\r\n",
       "<!-- 4&#45;&gt;8 -->\r\n",
       "<g id=\"edge8\" class=\"edge\"><title>4&#45;&gt;8</title>\r\n",
       "<path fill=\"none\" stroke=\"black\" d=\"M267,-192.884C267,-182.326 267,-170.597 267,-159.854\"/>\r\n",
       "<polygon fill=\"black\" stroke=\"black\" points=\"270.5,-159.52 267,-149.52 263.5,-159.52 270.5,-159.52\"/>\r\n",
       "</g>\r\n",
       "<!-- 6 -->\r\n",
       "<g id=\"node7\" class=\"node\"><title>6</title>\r\n",
       "<polygon fill=\"#e58139\" fill-opacity=\"0.572549\" stroke=\"black\" points=\"92,-53 0,-53 0,-0 92,-0 92,-53\"/>\r\n",
       "<text text-anchor=\"middle\" x=\"46\" y=\"-37.8\" font-family=\"Times New Roman,serif\" font-size=\"14.00\">mse = 0.012</text>\r\n",
       "<text text-anchor=\"middle\" x=\"46\" y=\"-22.8\" font-family=\"Times New Roman,serif\" font-size=\"14.00\">samples = 5</text>\r\n",
       "<text text-anchor=\"middle\" x=\"46\" y=\"-7.8\" font-family=\"Times New Roman,serif\" font-size=\"14.00\">value = 0.079</text>\r\n",
       "</g>\r\n",
       "<!-- 5&#45;&gt;6 -->\r\n",
       "<g id=\"edge6\" class=\"edge\"><title>5&#45;&gt;6</title>\r\n",
       "<path fill=\"none\" stroke=\"black\" d=\"M114.926,-88.9485C104.46,-79.6175 93.0799,-69.4722 82.6391,-60.1641\"/>\r\n",
       "<polygon fill=\"black\" stroke=\"black\" points=\"84.6622,-57.2788 74.8687,-53.2367 80.004,-62.5038 84.6622,-57.2788\"/>\r\n",
       "</g>\r\n",
       "<!-- 7 -->\r\n",
       "<g id=\"node8\" class=\"node\"><title>7</title>\r\n",
       "<polygon fill=\"#e58139\" fill-opacity=\"0.682353\" stroke=\"black\" points=\"202,-53 110,-53 110,-0 202,-0 202,-53\"/>\r\n",
       "<text text-anchor=\"middle\" x=\"156\" y=\"-37.8\" font-family=\"Times New Roman,serif\" font-size=\"14.00\">mse = 0.007</text>\r\n",
       "<text text-anchor=\"middle\" x=\"156\" y=\"-22.8\" font-family=\"Times New Roman,serif\" font-size=\"14.00\">samples = 4</text>\r\n",
       "<text text-anchor=\"middle\" x=\"156\" y=\"-7.8\" font-family=\"Times New Roman,serif\" font-size=\"14.00\">value = 0.398</text>\r\n",
       "</g>\r\n",
       "<!-- 5&#45;&gt;7 -->\r\n",
       "<g id=\"edge7\" class=\"edge\"><title>5&#45;&gt;7</title>\r\n",
       "<path fill=\"none\" stroke=\"black\" d=\"M153.399,-88.9485C153.748,-80.7153 154.123,-71.848 154.477,-63.4814\"/>\r\n",
       "<polygon fill=\"black\" stroke=\"black\" points=\"157.984,-63.3758 154.911,-53.2367 150.991,-63.0797 157.984,-63.3758\"/>\r\n",
       "</g>\r\n",
       "<!-- 10 -->\r\n",
       "<g id=\"node11\" class=\"node\"><title>10</title>\r\n",
       "<polygon fill=\"#e58139\" fill-opacity=\"0.827451\" stroke=\"black\" points=\"545.5,-261 448.5,-261 448.5,-193 545.5,-193 545.5,-261\"/>\r\n",
       "<text text-anchor=\"middle\" x=\"497\" y=\"-245.8\" font-family=\"Times New Roman,serif\" font-size=\"14.00\">X[0] &lt;= 1.421</text>\r\n",
       "<text text-anchor=\"middle\" x=\"497\" y=\"-230.8\" font-family=\"Times New Roman,serif\" font-size=\"14.00\">mse = 0.093</text>\r\n",
       "<text text-anchor=\"middle\" x=\"497\" y=\"-215.8\" font-family=\"Times New Roman,serif\" font-size=\"14.00\">samples = 24</text>\r\n",
       "<text text-anchor=\"middle\" x=\"497\" y=\"-200.8\" font-family=\"Times New Roman,serif\" font-size=\"14.00\">value = 0.839</text>\r\n",
       "</g>\r\n",
       "<!-- 9&#45;&gt;10 -->\r\n",
       "<g id=\"edge10\" class=\"edge\"><title>9&#45;&gt;10</title>\r\n",
       "<path fill=\"none\" stroke=\"black\" d=\"M536.169,-296.884C531.307,-288.332 526.008,-279.013 520.923,-270.072\"/>\r\n",
       "<polygon fill=\"black\" stroke=\"black\" points=\"523.921,-268.262 515.935,-261.299 517.835,-271.722 523.921,-268.262\"/>\r\n",
       "</g>\r\n",
       "<!-- 17 -->\r\n",
       "<g id=\"node18\" class=\"node\"><title>17</title>\r\n",
       "<polygon fill=\"#e58139\" fill-opacity=\"0.725490\" stroke=\"black\" points=\"660.5,-261 563.5,-261 563.5,-193 660.5,-193 660.5,-261\"/>\r\n",
       "<text text-anchor=\"middle\" x=\"612\" y=\"-245.8\" font-family=\"Times New Roman,serif\" font-size=\"14.00\">X[0] &lt;= 2.071</text>\r\n",
       "<text text-anchor=\"middle\" x=\"612\" y=\"-230.8\" font-family=\"Times New Roman,serif\" font-size=\"14.00\">mse = 0.172</text>\r\n",
       "<text text-anchor=\"middle\" x=\"612\" y=\"-215.8\" font-family=\"Times New Roman,serif\" font-size=\"14.00\">samples = 16</text>\r\n",
       "<text text-anchor=\"middle\" x=\"612\" y=\"-200.8\" font-family=\"Times New Roman,serif\" font-size=\"14.00\">value = 0.527</text>\r\n",
       "</g>\r\n",
       "<!-- 9&#45;&gt;17 -->\r\n",
       "<g id=\"edge17\" class=\"edge\"><title>9&#45;&gt;17</title>\r\n",
       "<path fill=\"none\" stroke=\"black\" d=\"M573.506,-296.884C578.285,-288.332 583.493,-279.013 588.489,-270.072\"/>\r\n",
       "<polygon fill=\"black\" stroke=\"black\" points=\"591.569,-271.736 593.392,-261.299 585.458,-268.321 591.569,-271.736\"/>\r\n",
       "</g>\r\n",
       "<!-- 11 -->\r\n",
       "<g id=\"node12\" class=\"node\"><title>11</title>\r\n",
       "<polygon fill=\"#e58139\" fill-opacity=\"0.796078\" stroke=\"black\" points=\"430.5,-157 333.5,-157 333.5,-89 430.5,-89 430.5,-157\"/>\r\n",
       "<text text-anchor=\"middle\" x=\"382\" y=\"-141.8\" font-family=\"Times New Roman,serif\" font-size=\"14.00\">X[0] &lt;= 1.365</text>\r\n",
       "<text text-anchor=\"middle\" x=\"382\" y=\"-126.8\" font-family=\"Times New Roman,serif\" font-size=\"14.00\">mse = 0.119</text>\r\n",
       "<text text-anchor=\"middle\" x=\"382\" y=\"-111.8\" font-family=\"Times New Roman,serif\" font-size=\"14.00\">samples = 15</text>\r\n",
       "<text text-anchor=\"middle\" x=\"382\" y=\"-96.8\" font-family=\"Times New Roman,serif\" font-size=\"14.00\">value = 0.741</text>\r\n",
       "</g>\r\n",
       "<!-- 10&#45;&gt;11 -->\r\n",
       "<g id=\"edge11\" class=\"edge\"><title>10&#45;&gt;11</title>\r\n",
       "<path fill=\"none\" stroke=\"black\" d=\"M459.663,-192.884C449.319,-183.709 437.978,-173.65 427.236,-164.123\"/>\r\n",
       "<polygon fill=\"black\" stroke=\"black\" points=\"429.347,-161.317 419.543,-157.299 424.702,-166.553 429.347,-161.317\"/>\r\n",
       "</g>\r\n",
       "<!-- 14 -->\r\n",
       "<g id=\"node15\" class=\"node\"><title>14</title>\r\n",
       "<polygon fill=\"#e58139\" fill-opacity=\"0.882353\" stroke=\"black\" points=\"545.5,-157 448.5,-157 448.5,-89 545.5,-89 545.5,-157\"/>\r\n",
       "<text text-anchor=\"middle\" x=\"497\" y=\"-141.8\" font-family=\"Times New Roman,serif\" font-size=\"14.00\">X[0] &lt;= 1.861</text>\r\n",
       "<text text-anchor=\"middle\" x=\"497\" y=\"-126.8\" font-family=\"Times New Roman,serif\" font-size=\"14.00\">mse = 0.007</text>\r\n",
       "<text text-anchor=\"middle\" x=\"497\" y=\"-111.8\" font-family=\"Times New Roman,serif\" font-size=\"14.00\">samples = 9</text>\r\n",
       "<text text-anchor=\"middle\" x=\"497\" y=\"-96.8\" font-family=\"Times New Roman,serif\" font-size=\"14.00\">value = 1.0</text>\r\n",
       "</g>\r\n",
       "<!-- 10&#45;&gt;14 -->\r\n",
       "<g id=\"edge14\" class=\"edge\"><title>10&#45;&gt;14</title>\r\n",
       "<path fill=\"none\" stroke=\"black\" d=\"M497,-192.884C497,-184.778 497,-175.982 497,-167.472\"/>\r\n",
       "<polygon fill=\"black\" stroke=\"black\" points=\"500.5,-167.299 497,-157.299 493.5,-167.299 500.5,-167.299\"/>\r\n",
       "</g>\r\n",
       "<!-- 12 -->\r\n",
       "<g id=\"node13\" class=\"node\"><title>12</title>\r\n",
       "<polygon fill=\"#e58139\" fill-opacity=\"0.819608\" stroke=\"black\" points=\"316,-53 224,-53 224,-0 316,-0 316,-53\"/>\r\n",
       "<text text-anchor=\"middle\" x=\"270\" y=\"-37.8\" font-family=\"Times New Roman,serif\" font-size=\"14.00\">mse = 0.059</text>\r\n",
       "<text text-anchor=\"middle\" x=\"270\" y=\"-22.8\" font-family=\"Times New Roman,serif\" font-size=\"14.00\">samples = 14</text>\r\n",
       "<text text-anchor=\"middle\" x=\"270\" y=\"-7.8\" font-family=\"Times New Roman,serif\" font-size=\"14.00\">value = 0.809</text>\r\n",
       "</g>\r\n",
       "<!-- 11&#45;&gt;12 -->\r\n",
       "<g id=\"edge12\" class=\"edge\"><title>11&#45;&gt;12</title>\r\n",
       "<path fill=\"none\" stroke=\"black\" d=\"M342.828,-88.9485C331.66,-79.526 319.509,-69.2731 308.389,-59.8906\"/>\r\n",
       "<polygon fill=\"black\" stroke=\"black\" points=\"310.403,-57.0104 300.503,-53.2367 305.889,-62.3605 310.403,-57.0104\"/>\r\n",
       "</g>\r\n",
       "<!-- 13 -->\r\n",
       "<g id=\"node14\" class=\"node\"><title>13</title>\r\n",
       "<polygon fill=\"#e58139\" fill-opacity=\"0.478431\" stroke=\"black\" points=\"430,-53 334,-53 334,-0 430,-0 430,-53\"/>\r\n",
       "<text text-anchor=\"middle\" x=\"382\" y=\"-37.8\" font-family=\"Times New Roman,serif\" font-size=\"14.00\">mse = 0.0</text>\r\n",
       "<text text-anchor=\"middle\" x=\"382\" y=\"-22.8\" font-family=\"Times New Roman,serif\" font-size=\"14.00\">samples = 1</text>\r\n",
       "<text text-anchor=\"middle\" x=\"382\" y=\"-7.8\" font-family=\"Times New Roman,serif\" font-size=\"14.00\">value = &#45;0.202</text>\r\n",
       "</g>\r\n",
       "<!-- 11&#45;&gt;13 -->\r\n",
       "<g id=\"edge13\" class=\"edge\"><title>11&#45;&gt;13</title>\r\n",
       "<path fill=\"none\" stroke=\"black\" d=\"M382,-88.9485C382,-80.7153 382,-71.848 382,-63.4814\"/>\r\n",
       "<polygon fill=\"black\" stroke=\"black\" points=\"385.5,-63.2367 382,-53.2367 378.5,-63.2367 385.5,-63.2367\"/>\r\n",
       "</g>\r\n",
       "<!-- 15 -->\r\n",
       "<g id=\"node16\" class=\"node\"><title>15</title>\r\n",
       "<polygon fill=\"#e58139\" fill-opacity=\"0.890196\" stroke=\"black\" points=\"540,-53 448,-53 448,-0 540,-0 540,-53\"/>\r\n",
       "<text text-anchor=\"middle\" x=\"494\" y=\"-37.8\" font-family=\"Times New Roman,serif\" font-size=\"14.00\">mse = 0.006</text>\r\n",
       "<text text-anchor=\"middle\" x=\"494\" y=\"-22.8\" font-family=\"Times New Roman,serif\" font-size=\"14.00\">samples = 7</text>\r\n",
       "<text text-anchor=\"middle\" x=\"494\" y=\"-7.8\" font-family=\"Times New Roman,serif\" font-size=\"14.00\">value = 1.025</text>\r\n",
       "</g>\r\n",
       "<!-- 14&#45;&gt;15 -->\r\n",
       "<g id=\"edge15\" class=\"edge\"><title>14&#45;&gt;15</title>\r\n",
       "<path fill=\"none\" stroke=\"black\" d=\"M495.951,-88.9485C495.689,-80.7153 495.408,-71.848 495.142,-63.4814\"/>\r\n",
       "<polygon fill=\"black\" stroke=\"black\" points=\"498.633,-63.1206 494.817,-53.2367 491.636,-63.3428 498.633,-63.1206\"/>\r\n",
       "</g>\r\n",
       "<!-- 16 -->\r\n",
       "<g id=\"node17\" class=\"node\"><title>16</title>\r\n",
       "<polygon fill=\"#e58139\" fill-opacity=\"0.854902\" stroke=\"black\" points=\"650,-53 558,-53 558,-0 650,-0 650,-53\"/>\r\n",
       "<text text-anchor=\"middle\" x=\"604\" y=\"-37.8\" font-family=\"Times New Roman,serif\" font-size=\"14.00\">mse = 0.0</text>\r\n",
       "<text text-anchor=\"middle\" x=\"604\" y=\"-22.8\" font-family=\"Times New Roman,serif\" font-size=\"14.00\">samples = 2</text>\r\n",
       "<text text-anchor=\"middle\" x=\"604\" y=\"-7.8\" font-family=\"Times New Roman,serif\" font-size=\"14.00\">value = 0.915</text>\r\n",
       "</g>\r\n",
       "<!-- 14&#45;&gt;16 -->\r\n",
       "<g id=\"edge16\" class=\"edge\"><title>14&#45;&gt;16</title>\r\n",
       "<path fill=\"none\" stroke=\"black\" d=\"M534.423,-88.9485C545.092,-79.526 556.701,-69.2731 567.325,-59.8906\"/>\r\n",
       "<polygon fill=\"black\" stroke=\"black\" points=\"569.681,-62.4798 574.859,-53.2367 565.047,-57.2331 569.681,-62.4798\"/>\r\n",
       "</g>\r\n",
       "<!-- 18 -->\r\n",
       "<g id=\"node19\" class=\"node\"><title>18</title>\r\n",
       "<polygon fill=\"#e58139\" fill-opacity=\"0.376471\" stroke=\"black\" points=\"660,-149.5 564,-149.5 564,-96.5 660,-96.5 660,-149.5\"/>\r\n",
       "<text text-anchor=\"middle\" x=\"612\" y=\"-134.3\" font-family=\"Times New Roman,serif\" font-size=\"14.00\">mse = 0.0</text>\r\n",
       "<text text-anchor=\"middle\" x=\"612\" y=\"-119.3\" font-family=\"Times New Roman,serif\" font-size=\"14.00\">samples = 1</text>\r\n",
       "<text text-anchor=\"middle\" x=\"612\" y=\"-104.3\" font-family=\"Times New Roman,serif\" font-size=\"14.00\">value = &#45;0.517</text>\r\n",
       "</g>\r\n",
       "<!-- 17&#45;&gt;18 -->\r\n",
       "<g id=\"edge18\" class=\"edge\"><title>17&#45;&gt;18</title>\r\n",
       "<path fill=\"none\" stroke=\"black\" d=\"M612,-192.884C612,-182.326 612,-170.597 612,-159.854\"/>\r\n",
       "<polygon fill=\"black\" stroke=\"black\" points=\"615.5,-159.52 612,-149.52 608.5,-159.52 615.5,-159.52\"/>\r\n",
       "</g>\r\n",
       "<!-- 19 -->\r\n",
       "<g id=\"node20\" class=\"node\"><title>19</title>\r\n",
       "<polygon fill=\"#e58139\" fill-opacity=\"0.749020\" stroke=\"black\" points=\"770,-157 678,-157 678,-89 770,-89 770,-157\"/>\r\n",
       "<text text-anchor=\"middle\" x=\"724\" y=\"-141.8\" font-family=\"Times New Roman,serif\" font-size=\"14.00\">X[0] &lt;= 2.94</text>\r\n",
       "<text text-anchor=\"middle\" x=\"724\" y=\"-126.8\" font-family=\"Times New Roman,serif\" font-size=\"14.00\">mse = 0.106</text>\r\n",
       "<text text-anchor=\"middle\" x=\"724\" y=\"-111.8\" font-family=\"Times New Roman,serif\" font-size=\"14.00\">samples = 15</text>\r\n",
       "<text text-anchor=\"middle\" x=\"724\" y=\"-96.8\" font-family=\"Times New Roman,serif\" font-size=\"14.00\">value = 0.596</text>\r\n",
       "</g>\r\n",
       "<!-- 17&#45;&gt;19 -->\r\n",
       "<g id=\"edge19\" class=\"edge\"><title>17&#45;&gt;19</title>\r\n",
       "<path fill=\"none\" stroke=\"black\" d=\"M648.363,-192.884C658.437,-183.709 669.482,-173.65 679.944,-164.123\"/>\r\n",
       "<polygon fill=\"black\" stroke=\"black\" points=\"682.399,-166.62 687.436,-157.299 677.686,-161.445 682.399,-166.62\"/>\r\n",
       "</g>\r\n",
       "<!-- 20 -->\r\n",
       "<g id=\"node21\" class=\"node\"><title>20</title>\r\n",
       "<polygon fill=\"#e58139\" fill-opacity=\"0.729412\" stroke=\"black\" points=\"760,-53 668,-53 668,-0 760,-0 760,-53\"/>\r\n",
       "<text text-anchor=\"middle\" x=\"714\" y=\"-37.8\" font-family=\"Times New Roman,serif\" font-size=\"14.00\">mse = 0.071</text>\r\n",
       "<text text-anchor=\"middle\" x=\"714\" y=\"-22.8\" font-family=\"Times New Roman,serif\" font-size=\"14.00\">samples = 14</text>\r\n",
       "<text text-anchor=\"middle\" x=\"714\" y=\"-7.8\" font-family=\"Times New Roman,serif\" font-size=\"14.00\">value = 0.542</text>\r\n",
       "</g>\r\n",
       "<!-- 19&#45;&gt;20 -->\r\n",
       "<g id=\"edge20\" class=\"edge\"><title>19&#45;&gt;20</title>\r\n",
       "<path fill=\"none\" stroke=\"black\" d=\"M720.502,-88.9485C719.622,-80.6238 718.672,-71.6509 717.778,-63.2027\"/>\r\n",
       "<polygon fill=\"black\" stroke=\"black\" points=\"721.256,-62.8128 716.723,-53.2367 714.295,-63.5495 721.256,-62.8128\"/>\r\n",
       "</g>\r\n",
       "<!-- 21 -->\r\n",
       "<g id=\"node22\" class=\"node\"><title>21</title>\r\n",
       "<polygon fill=\"#e58139\" stroke=\"black\" points=\"863.5,-53 778.5,-53 778.5,-0 863.5,-0 863.5,-53\"/>\r\n",
       "<text text-anchor=\"middle\" x=\"821\" y=\"-37.8\" font-family=\"Times New Roman,serif\" font-size=\"14.00\">mse = 0.0</text>\r\n",
       "<text text-anchor=\"middle\" x=\"821\" y=\"-22.8\" font-family=\"Times New Roman,serif\" font-size=\"14.00\">samples = 1</text>\r\n",
       "<text text-anchor=\"middle\" x=\"821\" y=\"-7.8\" font-family=\"Times New Roman,serif\" font-size=\"14.00\">value = 1.35</text>\r\n",
       "</g>\r\n",
       "<!-- 19&#45;&gt;21 -->\r\n",
       "<g id=\"edge21\" class=\"edge\"><title>19&#45;&gt;21</title>\r\n",
       "<path fill=\"none\" stroke=\"black\" d=\"M757.926,-88.9485C767.41,-79.709 777.713,-69.671 787.191,-60.4381\"/>\r\n",
       "<polygon fill=\"black\" stroke=\"black\" points=\"789.862,-62.7219 794.582,-53.2367 784.977,-57.7079 789.862,-62.7219\"/>\r\n",
       "</g>\r\n",
       "<!-- 23 -->\r\n",
       "<g id=\"node24\" class=\"node\"><title>23</title>\r\n",
       "<polygon fill=\"#e58139\" fill-opacity=\"0.396078\" stroke=\"black\" points=\"1261.5,-365 1164.5,-365 1164.5,-297 1261.5,-297 1261.5,-365\"/>\r\n",
       "<text text-anchor=\"middle\" x=\"1213\" y=\"-349.8\" font-family=\"Times New Roman,serif\" font-size=\"14.00\">X[0] &lt;= 3.429</text>\r\n",
       "<text text-anchor=\"middle\" x=\"1213\" y=\"-334.8\" font-family=\"Times New Roman,serif\" font-size=\"14.00\">mse = 0.124</text>\r\n",
       "<text text-anchor=\"middle\" x=\"1213\" y=\"-319.8\" font-family=\"Times New Roman,serif\" font-size=\"14.00\">samples = 14</text>\r\n",
       "<text text-anchor=\"middle\" x=\"1213\" y=\"-304.8\" font-family=\"Times New Roman,serif\" font-size=\"14.00\">value = &#45;0.452</text>\r\n",
       "</g>\r\n",
       "<!-- 22&#45;&gt;23 -->\r\n",
       "<g id=\"edge23\" class=\"edge\"><title>22&#45;&gt;23</title>\r\n",
       "<path fill=\"none\" stroke=\"black\" d=\"M1213,-400.884C1213,-392.778 1213,-383.982 1213,-375.472\"/>\r\n",
       "<polygon fill=\"black\" stroke=\"black\" points=\"1216.5,-375.299 1213,-365.299 1209.5,-375.299 1216.5,-375.299\"/>\r\n",
       "</g>\r\n",
       "<!-- 36 -->\r\n",
       "<g id=\"node37\" class=\"node\"><title>36</title>\r\n",
       "<polygon fill=\"#e58139\" fill-opacity=\"0.254902\" stroke=\"black\" points=\"1713,-365 1617,-365 1617,-297 1713,-297 1713,-365\"/>\r\n",
       "<text text-anchor=\"middle\" x=\"1665\" y=\"-349.8\" font-family=\"Times New Roman,serif\" font-size=\"14.00\">X[0] &lt;= 4.68</text>\r\n",
       "<text text-anchor=\"middle\" x=\"1665\" y=\"-334.8\" font-family=\"Times New Roman,serif\" font-size=\"14.00\">mse = 0.041</text>\r\n",
       "<text text-anchor=\"middle\" x=\"1665\" y=\"-319.8\" font-family=\"Times New Roman,serif\" font-size=\"14.00\">samples = 15</text>\r\n",
       "<text text-anchor=\"middle\" x=\"1665\" y=\"-304.8\" font-family=\"Times New Roman,serif\" font-size=\"14.00\">value = &#45;0.869</text>\r\n",
       "</g>\r\n",
       "<!-- 22&#45;&gt;36 -->\r\n",
       "<g id=\"edge36\" class=\"edge\"><title>22&#45;&gt;36</title>\r\n",
       "<path fill=\"none\" stroke=\"black\" d=\"M1261.37,-423.084C1345.23,-404.161 1517.21,-365.35 1607.21,-345.041\"/>\r\n",
       "<polygon fill=\"black\" stroke=\"black\" points=\"1607.99,-348.453 1616.98,-342.837 1606.45,-341.625 1607.99,-348.453\"/>\r\n",
       "</g>\r\n",
       "<!-- 24 -->\r\n",
       "<g id=\"node25\" class=\"node\"><title>24</title>\r\n",
       "<polygon fill=\"#e58139\" fill-opacity=\"0.470588\" stroke=\"black\" points=\"1204.5,-261 1107.5,-261 1107.5,-193 1204.5,-193 1204.5,-261\"/>\r\n",
       "<text text-anchor=\"middle\" x=\"1156\" y=\"-245.8\" font-family=\"Times New Roman,serif\" font-size=\"14.00\">X[0] &lt;= 3.373</text>\r\n",
       "<text text-anchor=\"middle\" x=\"1156\" y=\"-230.8\" font-family=\"Times New Roman,serif\" font-size=\"14.00\">mse = 0.002</text>\r\n",
       "<text text-anchor=\"middle\" x=\"1156\" y=\"-215.8\" font-family=\"Times New Roman,serif\" font-size=\"14.00\">samples = 4</text>\r\n",
       "<text text-anchor=\"middle\" x=\"1156\" y=\"-200.8\" font-family=\"Times New Roman,serif\" font-size=\"14.00\">value = &#45;0.229</text>\r\n",
       "</g>\r\n",
       "<!-- 23&#45;&gt;24 -->\r\n",
       "<g id=\"edge24\" class=\"edge\"><title>23&#45;&gt;24</title>\r\n",
       "<path fill=\"none\" stroke=\"black\" d=\"M1194.49,-296.884C1189.72,-288.332 1184.51,-279.013 1179.51,-270.072\"/>\r\n",
       "<polygon fill=\"black\" stroke=\"black\" points=\"1182.54,-268.321 1174.61,-261.299 1176.43,-271.736 1182.54,-268.321\"/>\r\n",
       "</g>\r\n",
       "<!-- 31 -->\r\n",
       "<g id=\"node32\" class=\"node\"><title>31</title>\r\n",
       "<polygon fill=\"#e58139\" fill-opacity=\"0.364706\" stroke=\"black\" points=\"1319.5,-261 1222.5,-261 1222.5,-193 1319.5,-193 1319.5,-261\"/>\r\n",
       "<text text-anchor=\"middle\" x=\"1271\" y=\"-245.8\" font-family=\"Times New Roman,serif\" font-size=\"14.00\">X[0] &lt;= 3.446</text>\r\n",
       "<text text-anchor=\"middle\" x=\"1271\" y=\"-230.8\" font-family=\"Times New Roman,serif\" font-size=\"14.00\">mse = 0.145</text>\r\n",
       "<text text-anchor=\"middle\" x=\"1271\" y=\"-215.8\" font-family=\"Times New Roman,serif\" font-size=\"14.00\">samples = 10</text>\r\n",
       "<text text-anchor=\"middle\" x=\"1271\" y=\"-200.8\" font-family=\"Times New Roman,serif\" font-size=\"14.00\">value = &#45;0.541</text>\r\n",
       "</g>\r\n",
       "<!-- 23&#45;&gt;31 -->\r\n",
       "<g id=\"edge31\" class=\"edge\"><title>23&#45;&gt;31</title>\r\n",
       "<path fill=\"none\" stroke=\"black\" d=\"M1231.83,-296.884C1236.69,-288.332 1241.99,-279.013 1247.08,-270.072\"/>\r\n",
       "<polygon fill=\"black\" stroke=\"black\" points=\"1250.16,-271.722 1252.07,-261.299 1244.08,-268.262 1250.16,-271.722\"/>\r\n",
       "</g>\r\n",
       "<!-- 25 -->\r\n",
       "<g id=\"node26\" class=\"node\"><title>25</title>\r\n",
       "<polygon fill=\"#e58139\" fill-opacity=\"0.482353\" stroke=\"black\" points=\"1090.5,-157 993.5,-157 993.5,-89 1090.5,-89 1090.5,-157\"/>\r\n",
       "<text text-anchor=\"middle\" x=\"1042\" y=\"-141.8\" font-family=\"Times New Roman,serif\" font-size=\"14.00\">X[0] &lt;= 3.336</text>\r\n",
       "<text text-anchor=\"middle\" x=\"1042\" y=\"-126.8\" font-family=\"Times New Roman,serif\" font-size=\"14.00\">mse = 0.0</text>\r\n",
       "<text text-anchor=\"middle\" x=\"1042\" y=\"-111.8\" font-family=\"Times New Roman,serif\" font-size=\"14.00\">samples = 2</text>\r\n",
       "<text text-anchor=\"middle\" x=\"1042\" y=\"-96.8\" font-family=\"Times New Roman,serif\" font-size=\"14.00\">value = &#45;0.193</text>\r\n",
       "</g>\r\n",
       "<!-- 24&#45;&gt;25 -->\r\n",
       "<g id=\"edge25\" class=\"edge\"><title>24&#45;&gt;25</title>\r\n",
       "<path fill=\"none\" stroke=\"black\" d=\"M1118.99,-192.884C1108.73,-183.709 1097.49,-173.65 1086.84,-164.123\"/>\r\n",
       "<polygon fill=\"black\" stroke=\"black\" points=\"1089,-161.359 1079.22,-157.299 1084.34,-166.576 1089,-161.359\"/>\r\n",
       "</g>\r\n",
       "<!-- 28 -->\r\n",
       "<g id=\"node29\" class=\"node\"><title>28</title>\r\n",
       "<polygon fill=\"#e58139\" fill-opacity=\"0.458824\" stroke=\"black\" points=\"1205,-157 1109,-157 1109,-89 1205,-89 1205,-157\"/>\r\n",
       "<text text-anchor=\"middle\" x=\"1157\" y=\"-141.8\" font-family=\"Times New Roman,serif\" font-size=\"14.00\">X[0] &lt;= 3.41</text>\r\n",
       "<text text-anchor=\"middle\" x=\"1157\" y=\"-126.8\" font-family=\"Times New Roman,serif\" font-size=\"14.00\">mse = 0.0</text>\r\n",
       "<text text-anchor=\"middle\" x=\"1157\" y=\"-111.8\" font-family=\"Times New Roman,serif\" font-size=\"14.00\">samples = 2</text>\r\n",
       "<text text-anchor=\"middle\" x=\"1157\" y=\"-96.8\" font-family=\"Times New Roman,serif\" font-size=\"14.00\">value = &#45;0.265</text>\r\n",
       "</g>\r\n",
       "<!-- 24&#45;&gt;28 -->\r\n",
       "<g id=\"edge28\" class=\"edge\"><title>24&#45;&gt;28</title>\r\n",
       "<path fill=\"none\" stroke=\"black\" d=\"M1156.32,-192.884C1156.4,-184.778 1156.49,-175.982 1156.57,-167.472\"/>\r\n",
       "<polygon fill=\"black\" stroke=\"black\" points=\"1160.08,-167.333 1156.67,-157.299 1153.08,-167.265 1160.08,-167.333\"/>\r\n",
       "</g>\r\n",
       "<!-- 26 -->\r\n",
       "<g id=\"node27\" class=\"node\"><title>26</title>\r\n",
       "<polygon fill=\"#e58139\" fill-opacity=\"0.490196\" stroke=\"black\" points=\"978,-53 882,-53 882,-0 978,-0 978,-53\"/>\r\n",
       "<text text-anchor=\"middle\" x=\"930\" y=\"-37.8\" font-family=\"Times New Roman,serif\" font-size=\"14.00\">mse = 0.0</text>\r\n",
       "<text text-anchor=\"middle\" x=\"930\" y=\"-22.8\" font-family=\"Times New Roman,serif\" font-size=\"14.00\">samples = 1</text>\r\n",
       "<text text-anchor=\"middle\" x=\"930\" y=\"-7.8\" font-family=\"Times New Roman,serif\" font-size=\"14.00\">value = &#45;0.176</text>\r\n",
       "</g>\r\n",
       "<!-- 25&#45;&gt;26 -->\r\n",
       "<g id=\"edge26\" class=\"edge\"><title>25&#45;&gt;26</title>\r\n",
       "<path fill=\"none\" stroke=\"black\" d=\"M1002.83,-88.9485C991.66,-79.526 979.509,-69.2731 968.389,-59.8906\"/>\r\n",
       "<polygon fill=\"black\" stroke=\"black\" points=\"970.403,-57.0104 960.503,-53.2367 965.889,-62.3605 970.403,-57.0104\"/>\r\n",
       "</g>\r\n",
       "<!-- 27 -->\r\n",
       "<g id=\"node28\" class=\"node\"><title>27</title>\r\n",
       "<polygon fill=\"#e58139\" fill-opacity=\"0.478431\" stroke=\"black\" points=\"1092,-53 996,-53 996,-0 1092,-0 1092,-53\"/>\r\n",
       "<text text-anchor=\"middle\" x=\"1044\" y=\"-37.8\" font-family=\"Times New Roman,serif\" font-size=\"14.00\">mse = 0.0</text>\r\n",
       "<text text-anchor=\"middle\" x=\"1044\" y=\"-22.8\" font-family=\"Times New Roman,serif\" font-size=\"14.00\">samples = 1</text>\r\n",
       "<text text-anchor=\"middle\" x=\"1044\" y=\"-7.8\" font-family=\"Times New Roman,serif\" font-size=\"14.00\">value = &#45;0.209</text>\r\n",
       "</g>\r\n",
       "<!-- 25&#45;&gt;27 -->\r\n",
       "<g id=\"edge27\" class=\"edge\"><title>25&#45;&gt;27</title>\r\n",
       "<path fill=\"none\" stroke=\"black\" d=\"M1042.7,-88.9485C1042.87,-80.7153 1043.06,-71.848 1043.24,-63.4814\"/>\r\n",
       "<polygon fill=\"black\" stroke=\"black\" points=\"1046.74,-63.3086 1043.46,-53.2367 1039.74,-63.1604 1046.74,-63.3086\"/>\r\n",
       "</g>\r\n",
       "<!-- 29 -->\r\n",
       "<g id=\"node30\" class=\"node\"><title>29</title>\r\n",
       "<polygon fill=\"#e58139\" fill-opacity=\"0.462745\" stroke=\"black\" points=\"1199.5,-53 1110.5,-53 1110.5,-0 1199.5,-0 1199.5,-53\"/>\r\n",
       "<text text-anchor=\"middle\" x=\"1155\" y=\"-37.8\" font-family=\"Times New Roman,serif\" font-size=\"14.00\">mse = 0.0</text>\r\n",
       "<text text-anchor=\"middle\" x=\"1155\" y=\"-22.8\" font-family=\"Times New Roman,serif\" font-size=\"14.00\">samples = 1</text>\r\n",
       "<text text-anchor=\"middle\" x=\"1155\" y=\"-7.8\" font-family=\"Times New Roman,serif\" font-size=\"14.00\">value = &#45;0.25</text>\r\n",
       "</g>\r\n",
       "<!-- 28&#45;&gt;29 -->\r\n",
       "<g id=\"edge29\" class=\"edge\"><title>28&#45;&gt;29</title>\r\n",
       "<path fill=\"none\" stroke=\"black\" d=\"M1156.3,-88.9485C1156.13,-80.7153 1155.94,-71.848 1155.76,-63.4814\"/>\r\n",
       "<polygon fill=\"black\" stroke=\"black\" points=\"1159.26,-63.1604 1155.54,-53.2367 1152.26,-63.3086 1159.26,-63.1604\"/>\r\n",
       "</g>\r\n",
       "<!-- 30 -->\r\n",
       "<g id=\"node31\" class=\"node\"><title>30</title>\r\n",
       "<polygon fill=\"#e58139\" fill-opacity=\"0.454902\" stroke=\"black\" points=\"1314,-53 1218,-53 1218,-0 1314,-0 1314,-53\"/>\r\n",
       "<text text-anchor=\"middle\" x=\"1266\" y=\"-37.8\" font-family=\"Times New Roman,serif\" font-size=\"14.00\">mse = &#45;0.0</text>\r\n",
       "<text text-anchor=\"middle\" x=\"1266\" y=\"-22.8\" font-family=\"Times New Roman,serif\" font-size=\"14.00\">samples = 1</text>\r\n",
       "<text text-anchor=\"middle\" x=\"1266\" y=\"-7.8\" font-family=\"Times New Roman,serif\" font-size=\"14.00\">value = &#45;0.281</text>\r\n",
       "</g>\r\n",
       "<!-- 28&#45;&gt;30 -->\r\n",
       "<g id=\"edge30\" class=\"edge\"><title>28&#45;&gt;30</title>\r\n",
       "<path fill=\"none\" stroke=\"black\" d=\"M1195.12,-88.9485C1205.99,-79.526 1217.82,-69.2731 1228.64,-59.8906\"/>\r\n",
       "<polygon fill=\"black\" stroke=\"black\" points=\"1231.05,-62.4319 1236.31,-53.2367 1226.47,-57.1428 1231.05,-62.4319\"/>\r\n",
       "</g>\r\n",
       "<!-- 32 -->\r\n",
       "<g id=\"node33\" class=\"node\"><title>32</title>\r\n",
       "<polygon fill=\"none\" stroke=\"black\" points=\"1319,-149.5 1223,-149.5 1223,-96.5 1319,-96.5 1319,-149.5\"/>\r\n",
       "<text text-anchor=\"middle\" x=\"1271\" y=\"-134.3\" font-family=\"Times New Roman,serif\" font-size=\"14.00\">mse = 0.0</text>\r\n",
       "<text text-anchor=\"middle\" x=\"1271\" y=\"-119.3\" font-family=\"Times New Roman,serif\" font-size=\"14.00\">samples = 1</text>\r\n",
       "<text text-anchor=\"middle\" x=\"1271\" y=\"-104.3\" font-family=\"Times New Roman,serif\" font-size=\"14.00\">value = &#45;1.635</text>\r\n",
       "</g>\r\n",
       "<!-- 31&#45;&gt;32 -->\r\n",
       "<g id=\"edge32\" class=\"edge\"><title>31&#45;&gt;32</title>\r\n",
       "<path fill=\"none\" stroke=\"black\" d=\"M1271,-192.884C1271,-182.326 1271,-170.597 1271,-159.854\"/>\r\n",
       "<polygon fill=\"black\" stroke=\"black\" points=\"1274.5,-159.52 1271,-149.52 1267.5,-159.52 1274.5,-159.52\"/>\r\n",
       "</g>\r\n",
       "<!-- 33 -->\r\n",
       "<g id=\"node34\" class=\"node\"><title>33</title>\r\n",
       "<polygon fill=\"#e58139\" fill-opacity=\"0.407843\" stroke=\"black\" points=\"1434.5,-157 1337.5,-157 1337.5,-89 1434.5,-89 1434.5,-157\"/>\r\n",
       "<text text-anchor=\"middle\" x=\"1386\" y=\"-141.8\" font-family=\"Times New Roman,serif\" font-size=\"14.00\">X[0] &lt;= 3.616</text>\r\n",
       "<text text-anchor=\"middle\" x=\"1386\" y=\"-126.8\" font-family=\"Times New Roman,serif\" font-size=\"14.00\">mse = 0.014</text>\r\n",
       "<text text-anchor=\"middle\" x=\"1386\" y=\"-111.8\" font-family=\"Times New Roman,serif\" font-size=\"14.00\">samples = 9</text>\r\n",
       "<text text-anchor=\"middle\" x=\"1386\" y=\"-96.8\" font-family=\"Times New Roman,serif\" font-size=\"14.00\">value = &#45;0.419</text>\r\n",
       "</g>\r\n",
       "<!-- 31&#45;&gt;33 -->\r\n",
       "<g id=\"edge33\" class=\"edge\"><title>31&#45;&gt;33</title>\r\n",
       "<path fill=\"none\" stroke=\"black\" d=\"M1308.34,-192.884C1318.68,-183.709 1330.02,-173.65 1340.76,-164.123\"/>\r\n",
       "<polygon fill=\"black\" stroke=\"black\" points=\"1343.3,-166.553 1348.46,-157.299 1338.65,-161.317 1343.3,-166.553\"/>\r\n",
       "</g>\r\n",
       "<!-- 34 -->\r\n",
       "<g id=\"node35\" class=\"node\"><title>34</title>\r\n",
       "<polygon fill=\"#e58139\" fill-opacity=\"0.439216\" stroke=\"black\" points=\"1428,-53 1332,-53 1332,-0 1428,-0 1428,-53\"/>\r\n",
       "<text text-anchor=\"middle\" x=\"1380\" y=\"-37.8\" font-family=\"Times New Roman,serif\" font-size=\"14.00\">mse = 0.0</text>\r\n",
       "<text text-anchor=\"middle\" x=\"1380\" y=\"-22.8\" font-family=\"Times New Roman,serif\" font-size=\"14.00\">samples = 5</text>\r\n",
       "<text text-anchor=\"middle\" x=\"1380\" y=\"-7.8\" font-family=\"Times New Roman,serif\" font-size=\"14.00\">value = &#45;0.319</text>\r\n",
       "</g>\r\n",
       "<!-- 33&#45;&gt;34 -->\r\n",
       "<g id=\"edge34\" class=\"edge\"><title>33&#45;&gt;34</title>\r\n",
       "<path fill=\"none\" stroke=\"black\" d=\"M1383.9,-88.9485C1383.38,-80.7153 1382.82,-71.848 1382.28,-63.4814\"/>\r\n",
       "<polygon fill=\"black\" stroke=\"black\" points=\"1385.76,-62.9948 1381.63,-53.2367 1378.77,-63.4384 1385.76,-62.9948\"/>\r\n",
       "</g>\r\n",
       "<!-- 35 -->\r\n",
       "<g id=\"node36\" class=\"node\"><title>35</title>\r\n",
       "<polygon fill=\"#e58139\" fill-opacity=\"0.364706\" stroke=\"black\" points=\"1542,-53 1446,-53 1446,-0 1542,-0 1542,-53\"/>\r\n",
       "<text text-anchor=\"middle\" x=\"1494\" y=\"-37.8\" font-family=\"Times New Roman,serif\" font-size=\"14.00\">mse = 0.002</text>\r\n",
       "<text text-anchor=\"middle\" x=\"1494\" y=\"-22.8\" font-family=\"Times New Roman,serif\" font-size=\"14.00\">samples = 4</text>\r\n",
       "<text text-anchor=\"middle\" x=\"1494\" y=\"-7.8\" font-family=\"Times New Roman,serif\" font-size=\"14.00\">value = &#45;0.545</text>\r\n",
       "</g>\r\n",
       "<!-- 33&#45;&gt;35 -->\r\n",
       "<g id=\"edge35\" class=\"edge\"><title>33&#45;&gt;35</title>\r\n",
       "<path fill=\"none\" stroke=\"black\" d=\"M1423.77,-88.9485C1434.54,-79.526 1446.26,-69.2731 1456.98,-59.8906\"/>\r\n",
       "<polygon fill=\"black\" stroke=\"black\" points=\"1459.37,-62.4558 1464.59,-53.2367 1454.76,-57.1878 1459.37,-62.4558\"/>\r\n",
       "</g>\r\n",
       "<!-- 37 -->\r\n",
       "<g id=\"node38\" class=\"node\"><title>37</title>\r\n",
       "<polygon fill=\"#e58139\" fill-opacity=\"0.270588\" stroke=\"black\" points=\"1713,-261 1617,-261 1617,-193 1713,-193 1713,-261\"/>\r\n",
       "<text text-anchor=\"middle\" x=\"1665\" y=\"-245.8\" font-family=\"Times New Roman,serif\" font-size=\"14.00\">X[0] &lt;= 4.59</text>\r\n",
       "<text text-anchor=\"middle\" x=\"1665\" y=\"-230.8\" font-family=\"Times New Roman,serif\" font-size=\"14.00\">mse = 0.048</text>\r\n",
       "<text text-anchor=\"middle\" x=\"1665\" y=\"-215.8\" font-family=\"Times New Roman,serif\" font-size=\"14.00\">samples = 11</text>\r\n",
       "<text text-anchor=\"middle\" x=\"1665\" y=\"-200.8\" font-family=\"Times New Roman,serif\" font-size=\"14.00\">value = &#45;0.824</text>\r\n",
       "</g>\r\n",
       "<!-- 36&#45;&gt;37 -->\r\n",
       "<g id=\"edge37\" class=\"edge\"><title>36&#45;&gt;37</title>\r\n",
       "<path fill=\"none\" stroke=\"black\" d=\"M1665,-296.884C1665,-288.778 1665,-279.982 1665,-271.472\"/>\r\n",
       "<polygon fill=\"black\" stroke=\"black\" points=\"1668.5,-271.299 1665,-261.299 1661.5,-271.299 1668.5,-271.299\"/>\r\n",
       "</g>\r\n",
       "<!-- 42 -->\r\n",
       "<g id=\"node43\" class=\"node\"><title>42</title>\r\n",
       "<polygon fill=\"#e58139\" fill-opacity=\"0.215686\" stroke=\"black\" points=\"1886.5,-261 1789.5,-261 1789.5,-193 1886.5,-193 1886.5,-261\"/>\r\n",
       "<text text-anchor=\"middle\" x=\"1838\" y=\"-245.8\" font-family=\"Times New Roman,serif\" font-size=\"14.00\">X[0] &lt;= 4.893</text>\r\n",
       "<text text-anchor=\"middle\" x=\"1838\" y=\"-230.8\" font-family=\"Times New Roman,serif\" font-size=\"14.00\">mse = 0.0</text>\r\n",
       "<text text-anchor=\"middle\" x=\"1838\" y=\"-215.8\" font-family=\"Times New Roman,serif\" font-size=\"14.00\">samples = 4</text>\r\n",
       "<text text-anchor=\"middle\" x=\"1838\" y=\"-200.8\" font-family=\"Times New Roman,serif\" font-size=\"14.00\">value = &#45;0.99</text>\r\n",
       "</g>\r\n",
       "<!-- 36&#45;&gt;42 -->\r\n",
       "<g id=\"edge42\" class=\"edge\"><title>36&#45;&gt;42</title>\r\n",
       "<path fill=\"none\" stroke=\"black\" d=\"M1713.19,-301.587C1734.1,-289.257 1758.76,-274.719 1780.61,-261.835\"/>\r\n",
       "<polygon fill=\"black\" stroke=\"black\" points=\"1782.63,-264.708 1789.47,-256.614 1779.08,-258.678 1782.63,-264.708\"/>\r\n",
       "</g>\r\n",
       "<!-- 38 -->\r\n",
       "<g id=\"node39\" class=\"node\"><title>38</title>\r\n",
       "<polygon fill=\"#e58139\" fill-opacity=\"0.250980\" stroke=\"black\" points=\"1656.5,-157 1559.5,-157 1559.5,-89 1656.5,-89 1656.5,-157\"/>\r\n",
       "<text text-anchor=\"middle\" x=\"1608\" y=\"-141.8\" font-family=\"Times New Roman,serif\" font-size=\"14.00\">X[0] &lt;= 4.391</text>\r\n",
       "<text text-anchor=\"middle\" x=\"1608\" y=\"-126.8\" font-family=\"Times New Roman,serif\" font-size=\"14.00\">mse = 0.011</text>\r\n",
       "<text text-anchor=\"middle\" x=\"1608\" y=\"-111.8\" font-family=\"Times New Roman,serif\" font-size=\"14.00\">samples = 10</text>\r\n",
       "<text text-anchor=\"middle\" x=\"1608\" y=\"-96.8\" font-family=\"Times New Roman,serif\" font-size=\"14.00\">value = &#45;0.886</text>\r\n",
       "</g>\r\n",
       "<!-- 37&#45;&gt;38 -->\r\n",
       "<g id=\"edge38\" class=\"edge\"><title>37&#45;&gt;38</title>\r\n",
       "<path fill=\"none\" stroke=\"black\" d=\"M1646.49,-192.884C1641.72,-184.332 1636.51,-175.013 1631.51,-166.072\"/>\r\n",
       "<polygon fill=\"black\" stroke=\"black\" points=\"1634.54,-164.321 1626.61,-157.299 1628.43,-167.736 1634.54,-164.321\"/>\r\n",
       "</g>\r\n",
       "<!-- 41 -->\r\n",
       "<g id=\"node42\" class=\"node\"><title>41</title>\r\n",
       "<polygon fill=\"#e58139\" fill-opacity=\"0.478431\" stroke=\"black\" points=\"1771,-149.5 1675,-149.5 1675,-96.5 1771,-96.5 1771,-149.5\"/>\r\n",
       "<text text-anchor=\"middle\" x=\"1723\" y=\"-134.3\" font-family=\"Times New Roman,serif\" font-size=\"14.00\">mse = &#45;0.0</text>\r\n",
       "<text text-anchor=\"middle\" x=\"1723\" y=\"-119.3\" font-family=\"Times New Roman,serif\" font-size=\"14.00\">samples = 1</text>\r\n",
       "<text text-anchor=\"middle\" x=\"1723\" y=\"-104.3\" font-family=\"Times New Roman,serif\" font-size=\"14.00\">value = &#45;0.208</text>\r\n",
       "</g>\r\n",
       "<!-- 37&#45;&gt;41 -->\r\n",
       "<g id=\"edge41\" class=\"edge\"><title>37&#45;&gt;41</title>\r\n",
       "<path fill=\"none\" stroke=\"black\" d=\"M1683.83,-192.884C1690.08,-181.886 1697.06,-169.617 1703.37,-158.517\"/>\r\n",
       "<polygon fill=\"black\" stroke=\"black\" points=\"1706.59,-159.943 1708.49,-149.52 1700.5,-156.483 1706.59,-159.943\"/>\r\n",
       "</g>\r\n",
       "<!-- 39 -->\r\n",
       "<g id=\"node40\" class=\"node\"><title>39</title>\r\n",
       "<polygon fill=\"#e58139\" fill-opacity=\"0.270588\" stroke=\"black\" points=\"1656,-53 1560,-53 1560,-0 1656,-0 1656,-53\"/>\r\n",
       "<text text-anchor=\"middle\" x=\"1608\" y=\"-37.8\" font-family=\"Times New Roman,serif\" font-size=\"14.00\">mse = 0.01</text>\r\n",
       "<text text-anchor=\"middle\" x=\"1608\" y=\"-22.8\" font-family=\"Times New Roman,serif\" font-size=\"14.00\">samples = 6</text>\r\n",
       "<text text-anchor=\"middle\" x=\"1608\" y=\"-7.8\" font-family=\"Times New Roman,serif\" font-size=\"14.00\">value = &#45;0.829</text>\r\n",
       "</g>\r\n",
       "<!-- 38&#45;&gt;39 -->\r\n",
       "<g id=\"edge39\" class=\"edge\"><title>38&#45;&gt;39</title>\r\n",
       "<path fill=\"none\" stroke=\"black\" d=\"M1608,-88.9485C1608,-80.7153 1608,-71.848 1608,-63.4814\"/>\r\n",
       "<polygon fill=\"black\" stroke=\"black\" points=\"1611.5,-63.2367 1608,-53.2367 1604.5,-63.2367 1611.5,-63.2367\"/>\r\n",
       "</g>\r\n",
       "<!-- 40 -->\r\n",
       "<g id=\"node41\" class=\"node\"><title>40</title>\r\n",
       "<polygon fill=\"#e58139\" fill-opacity=\"0.223529\" stroke=\"black\" points=\"1770,-53 1674,-53 1674,-0 1770,-0 1770,-53\"/>\r\n",
       "<text text-anchor=\"middle\" x=\"1722\" y=\"-37.8\" font-family=\"Times New Roman,serif\" font-size=\"14.00\">mse = 0.0</text>\r\n",
       "<text text-anchor=\"middle\" x=\"1722\" y=\"-22.8\" font-family=\"Times New Roman,serif\" font-size=\"14.00\">samples = 4</text>\r\n",
       "<text text-anchor=\"middle\" x=\"1722\" y=\"-7.8\" font-family=\"Times New Roman,serif\" font-size=\"14.00\">value = &#45;0.972</text>\r\n",
       "</g>\r\n",
       "<!-- 38&#45;&gt;40 -->\r\n",
       "<g id=\"edge40\" class=\"edge\"><title>38&#45;&gt;40</title>\r\n",
       "<path fill=\"none\" stroke=\"black\" d=\"M1647.87,-88.9485C1659.24,-79.526 1671.61,-69.2731 1682.93,-59.8906\"/>\r\n",
       "<polygon fill=\"black\" stroke=\"black\" points=\"1685.49,-62.3132 1690.95,-53.2367 1681.02,-56.924 1685.49,-62.3132\"/>\r\n",
       "</g>\r\n",
       "<!-- 43 -->\r\n",
       "<g id=\"node44\" class=\"node\"><title>43</title>\r\n",
       "<polygon fill=\"#e58139\" fill-opacity=\"0.215686\" stroke=\"black\" points=\"1886.5,-157 1789.5,-157 1789.5,-89 1886.5,-89 1886.5,-157\"/>\r\n",
       "<text text-anchor=\"middle\" x=\"1838\" y=\"-141.8\" font-family=\"Times New Roman,serif\" font-size=\"14.00\">X[0] &lt;= 4.815</text>\r\n",
       "<text text-anchor=\"middle\" x=\"1838\" y=\"-126.8\" font-family=\"Times New Roman,serif\" font-size=\"14.00\">mse = 0.0</text>\r\n",
       "<text text-anchor=\"middle\" x=\"1838\" y=\"-111.8\" font-family=\"Times New Roman,serif\" font-size=\"14.00\">samples = 3</text>\r\n",
       "<text text-anchor=\"middle\" x=\"1838\" y=\"-96.8\" font-family=\"Times New Roman,serif\" font-size=\"14.00\">value = &#45;0.996</text>\r\n",
       "</g>\r\n",
       "<!-- 42&#45;&gt;43 -->\r\n",
       "<g id=\"edge43\" class=\"edge\"><title>42&#45;&gt;43</title>\r\n",
       "<path fill=\"none\" stroke=\"black\" d=\"M1838,-192.884C1838,-184.778 1838,-175.982 1838,-167.472\"/>\r\n",
       "<polygon fill=\"black\" stroke=\"black\" points=\"1841.5,-167.299 1838,-157.299 1834.5,-167.299 1841.5,-167.299\"/>\r\n",
       "</g>\r\n",
       "<!-- 46 -->\r\n",
       "<g id=\"node47\" class=\"node\"><title>46</title>\r\n",
       "<polygon fill=\"#e58139\" fill-opacity=\"0.223529\" stroke=\"black\" points=\"2001,-149.5 1905,-149.5 1905,-96.5 2001,-96.5 2001,-149.5\"/>\r\n",
       "<text text-anchor=\"middle\" x=\"1953\" y=\"-134.3\" font-family=\"Times New Roman,serif\" font-size=\"14.00\">mse = &#45;0.0</text>\r\n",
       "<text text-anchor=\"middle\" x=\"1953\" y=\"-119.3\" font-family=\"Times New Roman,serif\" font-size=\"14.00\">samples = 1</text>\r\n",
       "<text text-anchor=\"middle\" x=\"1953\" y=\"-104.3\" font-family=\"Times New Roman,serif\" font-size=\"14.00\">value = &#45;0.973</text>\r\n",
       "</g>\r\n",
       "<!-- 42&#45;&gt;46 -->\r\n",
       "<g id=\"edge46\" class=\"edge\"><title>42&#45;&gt;46</title>\r\n",
       "<path fill=\"none\" stroke=\"black\" d=\"M1875.34,-192.884C1888.6,-181.116 1903.51,-167.894 1916.69,-156.203\"/>\r\n",
       "<polygon fill=\"black\" stroke=\"black\" points=\"1919.07,-158.774 1924.23,-149.52 1914.42,-153.537 1919.07,-158.774\"/>\r\n",
       "</g>\r\n",
       "<!-- 44 -->\r\n",
       "<g id=\"node45\" class=\"node\"><title>44</title>\r\n",
       "<polygon fill=\"#e58139\" fill-opacity=\"0.211765\" stroke=\"black\" points=\"1885,-53 1789,-53 1789,-0 1885,-0 1885,-53\"/>\r\n",
       "<text text-anchor=\"middle\" x=\"1837\" y=\"-37.8\" font-family=\"Times New Roman,serif\" font-size=\"14.00\">mse = 0.0</text>\r\n",
       "<text text-anchor=\"middle\" x=\"1837\" y=\"-22.8\" font-family=\"Times New Roman,serif\" font-size=\"14.00\">samples = 2</text>\r\n",
       "<text text-anchor=\"middle\" x=\"1837\" y=\"-7.8\" font-family=\"Times New Roman,serif\" font-size=\"14.00\">value = &#45;0.998</text>\r\n",
       "</g>\r\n",
       "<!-- 43&#45;&gt;44 -->\r\n",
       "<g id=\"edge44\" class=\"edge\"><title>43&#45;&gt;44</title>\r\n",
       "<path fill=\"none\" stroke=\"black\" d=\"M1837.65,-88.9485C1837.56,-80.7153 1837.47,-71.848 1837.38,-63.4814\"/>\r\n",
       "<polygon fill=\"black\" stroke=\"black\" points=\"1840.88,-63.1991 1837.27,-53.2367 1833.88,-63.2732 1840.88,-63.1991\"/>\r\n",
       "</g>\r\n",
       "<!-- 45 -->\r\n",
       "<g id=\"node46\" class=\"node\"><title>45</title>\r\n",
       "<polygon fill=\"#e58139\" fill-opacity=\"0.215686\" stroke=\"black\" points=\"1999,-53 1903,-53 1903,-0 1999,-0 1999,-53\"/>\r\n",
       "<text text-anchor=\"middle\" x=\"1951\" y=\"-37.8\" font-family=\"Times New Roman,serif\" font-size=\"14.00\">mse = &#45;0.0</text>\r\n",
       "<text text-anchor=\"middle\" x=\"1951\" y=\"-22.8\" font-family=\"Times New Roman,serif\" font-size=\"14.00\">samples = 1</text>\r\n",
       "<text text-anchor=\"middle\" x=\"1951\" y=\"-7.8\" font-family=\"Times New Roman,serif\" font-size=\"14.00\">value = &#45;0.992</text>\r\n",
       "</g>\r\n",
       "<!-- 43&#45;&gt;45 -->\r\n",
       "<g id=\"edge45\" class=\"edge\"><title>43&#45;&gt;45</title>\r\n",
       "<path fill=\"none\" stroke=\"black\" d=\"M1877.52,-88.9485C1888.79,-79.526 1901.05,-69.2731 1912.27,-59.8906\"/>\r\n",
       "<polygon fill=\"black\" stroke=\"black\" points=\"1914.8,-62.3368 1920.22,-53.2367 1910.31,-56.967 1914.8,-62.3368\"/>\r\n",
       "</g>\r\n",
       "</g>\r\n",
       "</svg>\r\n"
      ],
      "text/plain": [
       "<graphviz.files.Source at 0x1f0020a5978>"
      ]
     },
     "execution_count": 45,
     "metadata": {},
     "output_type": "execute_result"
    }
   ],
   "source": [
    "dot_data = tree.export_graphviz(regr_2, out_file=None,\n",
    "                                filled=True)\n",
    "graph = graphviz.Source(dot_data)\n",
    "graph"
   ]
  },
  {
   "cell_type": "markdown",
   "metadata": {},
   "source": [
    "## Regularization"
   ]
  },
  {
   "cell_type": "code",
   "execution_count": 46,
   "metadata": {},
   "outputs": [
    {
     "data": {
      "image/png": "[encoded data removed]",
      "text/plain": [
       "<matplotlib.figure.Figure at 0x1f001fca0f0>"
      ]
     },
     "metadata": {},
     "output_type": "display_data"
    }
   ],
   "source": [
    "# Import the necessary modules and libraries\n",
    "import numpy as np\n",
    "from sklearn.tree import DecisionTreeRegressor\n",
    "import matplotlib.pyplot as plt\n",
    "\n",
    "# Create a random dataset\n",
    "rng = np.random.RandomState(1)\n",
    "X = np.sort(5 * rng.rand(80, 1), axis=0)\n",
    "y = np.sin(X).ravel()\n",
    "y[::5] += 3 * (0.5 - rng.rand(16))\n",
    "\n",
    "# Fit regression model\n",
    "regr_1 = DecisionTreeRegressor(max_depth=2)\n",
    "regr_2 = DecisionTreeRegressor(max_depth=5, min_samples_leaf=10)\n",
    "regr_1.fit(X, y)\n",
    "regr_2.fit(X, y)\n",
    "\n",
    "# Predict\n",
    "X_test = np.arange(0.0, 5.0, 0.01)[:, np.newaxis]\n",
    "y_1 = regr_1.predict(X_test)\n",
    "y_2 = regr_2.predict(X_test)\n",
    "\n",
    "# Plot the results\n",
    "plt.figure(figsize=(10,8))\n",
    "plt.scatter(X, y, s=20, edgecolor=\"black\",\n",
    "            c=\"darkorange\", label=\"data\")\n",
    "plt.plot(X_test, y_1, color=\"cornflowerblue\",\n",
    "         label=\"max_depth=2\", linewidth=2)\n",
    "plt.plot(X_test, y_2, color=\"yellowgreen\", label=\"max_depth=5\", linewidth=2)\n",
    "plt.xlabel(\"data\")\n",
    "plt.ylabel(\"target\")\n",
    "plt.title(\"Decision Tree Regression\")\n",
    "plt.legend()\n",
    "plt.show()"
   ]
  },
  {
   "cell_type": "code",
   "execution_count": 47,
   "metadata": {},
   "outputs": [
    {
     "data": {
      "image/svg+xml": [
       "<?xml version=\"1.0\" encoding=\"UTF-8\" standalone=\"no\"?>\r\n",
       "<!DOCTYPE svg PUBLIC \"-//W3C//DTD SVG 1.1//EN\"\r\n",
       " \"http://www.w3.org/Graphics/SVG/1.1/DTD/svg11.dtd\">\r\n",
       "<!-- Generated by graphviz version 2.38.0 (20140413.2041)\r\n",
       " -->\r\n",
       "<!-- Title: Tree Pages: 1 -->\r\n",
       "<svg width=\"444pt\" height=\"477pt\"\r\n",
       " viewBox=\"0.00 0.00 444.00 477.00\" xmlns=\"http://www.w3.org/2000/svg\" xmlns:xlink=\"http://www.w3.org/1999/xlink\">\r\n",
       "<g id=\"graph0\" class=\"graph\" transform=\"scale(1 1) rotate(0) translate(4 473)\">\r\n",
       "<title>Tree</title>\r\n",
       "<polygon fill=\"white\" stroke=\"none\" points=\"-4,4 -4,-473 440,-473 440,4 -4,4\"/>\r\n",
       "<!-- 0 -->\r\n",
       "<g id=\"node1\" class=\"node\"><title>0</title>\r\n",
       "<polygon fill=\"#e58139\" fill-opacity=\"0.564706\" stroke=\"black\" points=\"264.5,-469 167.5,-469 167.5,-401 264.5,-401 264.5,-469\"/>\r\n",
       "<text text-anchor=\"middle\" x=\"216\" y=\"-453.8\" font-family=\"Times New Roman,serif\" font-size=\"14.00\">X[0] &lt;= 3.133</text>\r\n",
       "<text text-anchor=\"middle\" x=\"216\" y=\"-438.8\" font-family=\"Times New Roman,serif\" font-size=\"14.00\">mse = 0.547</text>\r\n",
       "<text text-anchor=\"middle\" x=\"216\" y=\"-423.8\" font-family=\"Times New Roman,serif\" font-size=\"14.00\">samples = 80</text>\r\n",
       "<text text-anchor=\"middle\" x=\"216\" y=\"-408.8\" font-family=\"Times New Roman,serif\" font-size=\"14.00\">value = 0.122</text>\r\n",
       "</g>\r\n",
       "<!-- 1 -->\r\n",
       "<g id=\"node2\" class=\"node\"><title>1</title>\r\n",
       "<polygon fill=\"#e58139\" fill-opacity=\"0.823529\" stroke=\"black\" points=\"207.5,-365 110.5,-365 110.5,-297 207.5,-297 207.5,-365\"/>\r\n",
       "<text text-anchor=\"middle\" x=\"159\" y=\"-349.8\" font-family=\"Times New Roman,serif\" font-size=\"14.00\">X[0] &lt;= 0.514</text>\r\n",
       "<text text-anchor=\"middle\" x=\"159\" y=\"-334.8\" font-family=\"Times New Roman,serif\" font-size=\"14.00\">mse = 0.231</text>\r\n",
       "<text text-anchor=\"middle\" x=\"159\" y=\"-319.8\" font-family=\"Times New Roman,serif\" font-size=\"14.00\">samples = 51</text>\r\n",
       "<text text-anchor=\"middle\" x=\"159\" y=\"-304.8\" font-family=\"Times New Roman,serif\" font-size=\"14.00\">value = 0.571</text>\r\n",
       "</g>\r\n",
       "<!-- 0&#45;&gt;1 -->\r\n",
       "<g id=\"edge1\" class=\"edge\"><title>0&#45;&gt;1</title>\r\n",
       "<path fill=\"none\" stroke=\"black\" d=\"M197.494,-400.884C192.715,-392.332 187.507,-383.013 182.511,-374.072\"/>\r\n",
       "<polygon fill=\"black\" stroke=\"black\" points=\"185.542,-372.321 177.608,-365.299 179.431,-375.736 185.542,-372.321\"/>\r\n",
       "<text text-anchor=\"middle\" x=\"170.8\" y=\"-385.655\" font-family=\"Times New Roman,serif\" font-size=\"14.00\">True</text>\r\n",
       "</g>\r\n",
       "<!-- 8 -->\r\n",
       "<g id=\"node9\" class=\"node\"><title>8</title>\r\n",
       "<polygon fill=\"#e58139\" fill-opacity=\"0.113725\" stroke=\"black\" points=\"322,-365 226,-365 226,-297 322,-297 322,-365\"/>\r\n",
       "<text text-anchor=\"middle\" x=\"274\" y=\"-349.8\" font-family=\"Times New Roman,serif\" font-size=\"14.00\">X[0] &lt;= 3.85</text>\r\n",
       "<text text-anchor=\"middle\" x=\"274\" y=\"-334.8\" font-family=\"Times New Roman,serif\" font-size=\"14.00\">mse = 0.124</text>\r\n",
       "<text text-anchor=\"middle\" x=\"274\" y=\"-319.8\" font-family=\"Times New Roman,serif\" font-size=\"14.00\">samples = 29</text>\r\n",
       "<text text-anchor=\"middle\" x=\"274\" y=\"-304.8\" font-family=\"Times New Roman,serif\" font-size=\"14.00\">value = &#45;0.667</text>\r\n",
       "</g>\r\n",
       "<!-- 0&#45;&gt;8 -->\r\n",
       "<g id=\"edge8\" class=\"edge\"><title>0&#45;&gt;8</title>\r\n",
       "<path fill=\"none\" stroke=\"black\" d=\"M234.831,-400.884C239.693,-392.332 244.992,-383.013 250.077,-374.072\"/>\r\n",
       "<polygon fill=\"black\" stroke=\"black\" points=\"253.165,-375.722 255.065,-365.299 247.079,-372.262 253.165,-375.722\"/>\r\n",
       "<text text-anchor=\"middle\" x=\"261.694\" y=\"-385.704\" font-family=\"Times New Roman,serif\" font-size=\"14.00\">False</text>\r\n",
       "</g>\r\n",
       "<!-- 2 -->\r\n",
       "<g id=\"node3\" class=\"node\"><title>2</title>\r\n",
       "<polygon fill=\"#e58139\" fill-opacity=\"0.525490\" stroke=\"black\" points=\"92,-253.5 0,-253.5 0,-200.5 92,-200.5 92,-253.5\"/>\r\n",
       "<text text-anchor=\"middle\" x=\"46\" y=\"-238.3\" font-family=\"Times New Roman,serif\" font-size=\"14.00\">mse = 0.192</text>\r\n",
       "<text text-anchor=\"middle\" x=\"46\" y=\"-223.3\" font-family=\"Times New Roman,serif\" font-size=\"14.00\">samples = 11</text>\r\n",
       "<text text-anchor=\"middle\" x=\"46\" y=\"-208.3\" font-family=\"Times New Roman,serif\" font-size=\"14.00\">value = 0.052</text>\r\n",
       "</g>\r\n",
       "<!-- 1&#45;&gt;2 -->\r\n",
       "<g id=\"edge2\" class=\"edge\"><title>1&#45;&gt;2</title>\r\n",
       "<path fill=\"none\" stroke=\"black\" d=\"M122.312,-296.884C109.397,-285.226 94.9009,-272.141 82.0398,-260.532\"/>\r\n",
       "<polygon fill=\"black\" stroke=\"black\" points=\"84.0404,-257.622 74.2721,-253.52 79.35,-262.819 84.0404,-257.622\"/>\r\n",
       "</g>\r\n",
       "<!-- 3 -->\r\n",
       "<g id=\"node4\" class=\"node\"><title>3</title>\r\n",
       "<polygon fill=\"#e58139\" fill-opacity=\"0.905882\" stroke=\"black\" points=\"207.5,-261 110.5,-261 110.5,-193 207.5,-193 207.5,-261\"/>\r\n",
       "<text text-anchor=\"middle\" x=\"159\" y=\"-245.8\" font-family=\"Times New Roman,serif\" font-size=\"14.00\">X[0] &lt;= 2.029</text>\r\n",
       "<text text-anchor=\"middle\" x=\"159\" y=\"-230.8\" font-family=\"Times New Roman,serif\" font-size=\"14.00\">mse = 0.148</text>\r\n",
       "<text text-anchor=\"middle\" x=\"159\" y=\"-215.8\" font-family=\"Times New Roman,serif\" font-size=\"14.00\">samples = 40</text>\r\n",
       "<text text-anchor=\"middle\" x=\"159\" y=\"-200.8\" font-family=\"Times New Roman,serif\" font-size=\"14.00\">value = 0.714</text>\r\n",
       "</g>\r\n",
       "<!-- 1&#45;&gt;3 -->\r\n",
       "<g id=\"edge3\" class=\"edge\"><title>1&#45;&gt;3</title>\r\n",
       "<path fill=\"none\" stroke=\"black\" d=\"M159,-296.884C159,-288.778 159,-279.982 159,-271.472\"/>\r\n",
       "<polygon fill=\"black\" stroke=\"black\" points=\"162.5,-271.299 159,-261.299 155.5,-271.299 162.5,-271.299\"/>\r\n",
       "</g>\r\n",
       "<!-- 4 -->\r\n",
       "<g id=\"node5\" class=\"node\"><title>4</title>\r\n",
       "<polygon fill=\"#e58139\" fill-opacity=\"0.976471\" stroke=\"black\" points=\"150.5,-157 53.5,-157 53.5,-89 150.5,-89 150.5,-157\"/>\r\n",
       "<text text-anchor=\"middle\" x=\"102\" y=\"-141.8\" font-family=\"Times New Roman,serif\" font-size=\"14.00\">X[0] &lt;= 0.961</text>\r\n",
       "<text text-anchor=\"middle\" x=\"102\" y=\"-126.8\" font-family=\"Times New Roman,serif\" font-size=\"14.00\">mse = 0.093</text>\r\n",
       "<text text-anchor=\"middle\" x=\"102\" y=\"-111.8\" font-family=\"Times New Roman,serif\" font-size=\"14.00\">samples = 24</text>\r\n",
       "<text text-anchor=\"middle\" x=\"102\" y=\"-96.8\" font-family=\"Times New Roman,serif\" font-size=\"14.00\">value = 0.839</text>\r\n",
       "</g>\r\n",
       "<!-- 3&#45;&gt;4 -->\r\n",
       "<g id=\"edge4\" class=\"edge\"><title>3&#45;&gt;4</title>\r\n",
       "<path fill=\"none\" stroke=\"black\" d=\"M140.494,-192.884C135.715,-184.332 130.507,-175.013 125.511,-166.072\"/>\r\n",
       "<polygon fill=\"black\" stroke=\"black\" points=\"128.542,-164.321 120.608,-157.299 122.431,-167.736 128.542,-164.321\"/>\r\n",
       "</g>\r\n",
       "<!-- 7 -->\r\n",
       "<g id=\"node8\" class=\"node\"><title>7</title>\r\n",
       "<polygon fill=\"#e58139\" fill-opacity=\"0.796078\" stroke=\"black\" points=\"261,-149.5 169,-149.5 169,-96.5 261,-96.5 261,-149.5\"/>\r\n",
       "<text text-anchor=\"middle\" x=\"215\" y=\"-134.3\" font-family=\"Times New Roman,serif\" font-size=\"14.00\">mse = 0.172</text>\r\n",
       "<text text-anchor=\"middle\" x=\"215\" y=\"-119.3\" font-family=\"Times New Roman,serif\" font-size=\"14.00\">samples = 16</text>\r\n",
       "<text text-anchor=\"middle\" x=\"215\" y=\"-104.3\" font-family=\"Times New Roman,serif\" font-size=\"14.00\">value = 0.527</text>\r\n",
       "</g>\r\n",
       "<!-- 3&#45;&gt;7 -->\r\n",
       "<g id=\"edge7\" class=\"edge\"><title>3&#45;&gt;7</title>\r\n",
       "<path fill=\"none\" stroke=\"black\" d=\"M177.182,-192.884C183.22,-181.886 189.955,-169.617 196.05,-158.517\"/>\r\n",
       "<polygon fill=\"black\" stroke=\"black\" points=\"199.244,-159.97 200.989,-149.52 193.108,-156.601 199.244,-159.97\"/>\r\n",
       "</g>\r\n",
       "<!-- 5 -->\r\n",
       "<g id=\"node6\" class=\"node\"><title>5</title>\r\n",
       "<polygon fill=\"#e58139\" fill-opacity=\"0.941176\" stroke=\"black\" points=\"93,-53 1,-53 1,-0 93,-0 93,-53\"/>\r\n",
       "<text text-anchor=\"middle\" x=\"47\" y=\"-37.8\" font-family=\"Times New Roman,serif\" font-size=\"14.00\">mse = 0.079</text>\r\n",
       "<text text-anchor=\"middle\" x=\"47\" y=\"-22.8\" font-family=\"Times New Roman,serif\" font-size=\"14.00\">samples = 10</text>\r\n",
       "<text text-anchor=\"middle\" x=\"47\" y=\"-7.8\" font-family=\"Times New Roman,serif\" font-size=\"14.00\">value = 0.779</text>\r\n",
       "</g>\r\n",
       "<!-- 4&#45;&gt;5 -->\r\n",
       "<g id=\"edge5\" class=\"edge\"><title>4&#45;&gt;5</title>\r\n",
       "<path fill=\"none\" stroke=\"black\" d=\"M82.7637,-88.9485C77.7056,-80.2579 72.2365,-70.8608 67.1328,-62.0917\"/>\r\n",
       "<polygon fill=\"black\" stroke=\"black\" points=\"70.0342,-60.1189 61.979,-53.2367 63.9843,-63.6401 70.0342,-60.1189\"/>\r\n",
       "</g>\r\n",
       "<!-- 6 -->\r\n",
       "<g id=\"node7\" class=\"node\"><title>6</title>\r\n",
       "<polygon fill=\"#e58139\" stroke=\"black\" points=\"203,-53 111,-53 111,-0 203,-0 203,-53\"/>\r\n",
       "<text text-anchor=\"middle\" x=\"157\" y=\"-37.8\" font-family=\"Times New Roman,serif\" font-size=\"14.00\">mse = 0.098</text>\r\n",
       "<text text-anchor=\"middle\" x=\"157\" y=\"-22.8\" font-family=\"Times New Roman,serif\" font-size=\"14.00\">samples = 14</text>\r\n",
       "<text text-anchor=\"middle\" x=\"157\" y=\"-7.8\" font-family=\"Times New Roman,serif\" font-size=\"14.00\">value = 0.881</text>\r\n",
       "</g>\r\n",
       "<!-- 4&#45;&gt;6 -->\r\n",
       "<g id=\"edge6\" class=\"edge\"><title>4&#45;&gt;6</title>\r\n",
       "<path fill=\"none\" stroke=\"black\" d=\"M121.236,-88.9485C126.294,-80.2579 131.764,-70.8608 136.867,-62.0917\"/>\r\n",
       "<polygon fill=\"black\" stroke=\"black\" points=\"140.016,-63.6401 142.021,-53.2367 133.966,-60.1189 140.016,-63.6401\"/>\r\n",
       "</g>\r\n",
       "<!-- 9 -->\r\n",
       "<g id=\"node10\" class=\"node\"><title>9</title>\r\n",
       "<polygon fill=\"#e58139\" fill-opacity=\"0.239216\" stroke=\"black\" points=\"322,-253.5 226,-253.5 226,-200.5 322,-200.5 322,-253.5\"/>\r\n",
       "<text text-anchor=\"middle\" x=\"274\" y=\"-238.3\" font-family=\"Times New Roman,serif\" font-size=\"14.00\">mse = 0.124</text>\r\n",
       "<text text-anchor=\"middle\" x=\"274\" y=\"-223.3\" font-family=\"Times New Roman,serif\" font-size=\"14.00\">samples = 14</text>\r\n",
       "<text text-anchor=\"middle\" x=\"274\" y=\"-208.3\" font-family=\"Times New Roman,serif\" font-size=\"14.00\">value = &#45;0.452</text>\r\n",
       "</g>\r\n",
       "<!-- 8&#45;&gt;9 -->\r\n",
       "<g id=\"edge9\" class=\"edge\"><title>8&#45;&gt;9</title>\r\n",
       "<path fill=\"none\" stroke=\"black\" d=\"M274,-296.884C274,-286.326 274,-274.597 274,-263.854\"/>\r\n",
       "<polygon fill=\"black\" stroke=\"black\" points=\"277.5,-263.52 274,-253.52 270.5,-263.52 277.5,-263.52\"/>\r\n",
       "</g>\r\n",
       "<!-- 10 -->\r\n",
       "<g id=\"node11\" class=\"node\"><title>10</title>\r\n",
       "<polygon fill=\"none\" stroke=\"black\" points=\"436,-253.5 340,-253.5 340,-200.5 436,-200.5 436,-253.5\"/>\r\n",
       "<text text-anchor=\"middle\" x=\"388\" y=\"-238.3\" font-family=\"Times New Roman,serif\" font-size=\"14.00\">mse = 0.041</text>\r\n",
       "<text text-anchor=\"middle\" x=\"388\" y=\"-223.3\" font-family=\"Times New Roman,serif\" font-size=\"14.00\">samples = 15</text>\r\n",
       "<text text-anchor=\"middle\" x=\"388\" y=\"-208.3\" font-family=\"Times New Roman,serif\" font-size=\"14.00\">value = &#45;0.869</text>\r\n",
       "</g>\r\n",
       "<!-- 8&#45;&gt;10 -->\r\n",
       "<g id=\"edge10\" class=\"edge\"><title>8&#45;&gt;10</title>\r\n",
       "<path fill=\"none\" stroke=\"black\" d=\"M311.013,-296.884C324.165,-285.116 338.942,-271.894 352.008,-260.203\"/>\r\n",
       "<polygon fill=\"black\" stroke=\"black\" points=\"354.359,-262.796 359.478,-253.52 349.691,-257.58 354.359,-262.796\"/>\r\n",
       "</g>\r\n",
       "</g>\r\n",
       "</svg>\r\n"
      ],
      "text/plain": [
       "<graphviz.files.Source at 0x1f0020945f8>"
      ]
     },
     "execution_count": 47,
     "metadata": {},
     "output_type": "execute_result"
    }
   ],
   "source": [
    "dot_data = tree.export_graphviz(regr_2, out_file=None,\n",
    "                                filled=True)\n",
    "graph = graphviz.Source(dot_data)\n",
    "graph"
   ]
  },
  {
   "cell_type": "code",
   "execution_count": null,
   "metadata": {
    "collapsed": true
   },
   "outputs": [],
   "source": []
  },
  {
   "cell_type": "code",
   "execution_count": null,
   "metadata": {
    "collapsed": true
   },
   "outputs": [],
   "source": []
  },
  {
   "cell_type": "code",
   "execution_count": null,
   "metadata": {
    "collapsed": true
   },
   "outputs": [],
   "source": []
  },
  {
   "cell_type": "code",
   "execution_count": null,
   "metadata": {
    "collapsed": true
   },
   "outputs": [],
   "source": []
  },
  {
   "cell_type": "code",
   "execution_count": null,
   "metadata": {
    "collapsed": true
   },
   "outputs": [],
   "source": []
  },
  {
   "cell_type": "code",
   "execution_count": null,
   "metadata": {
    "collapsed": true
   },
   "outputs": [],
   "source": []
  },
  {
   "cell_type": "code",
   "execution_count": null,
   "metadata": {
    "collapsed": true
   },
   "outputs": [],
   "source": []
  }
 ],
 "metadata": {
  "kernelspec": {
   "display_name": "Python 3",
   "language": "python",
   "name": "python3"
  },
  "language_info": {
   "codemirror_mode": {
    "name": "ipython",
    "version": 3
   },
   "file_extension": ".py",
   "mimetype": "text/x-python",
   "name": "python",
   "nbconvert_exporter": "python",
   "pygments_lexer": "ipython3",
   "version": "3.6.7"
  }
 },
 "nbformat": 4,
 "nbformat_minor": 2
}
