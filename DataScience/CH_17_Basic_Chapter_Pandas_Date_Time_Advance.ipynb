{
 "cells": [
  {
   "cell_type": "code",
   "execution_count": 1,
   "metadata": {},
   "outputs": [],
   "source": [
    "import pandas as pd\n",
    "import datetime as dt\n",
    "\n",
    "\n",
    "mday = dt.date(2017,9,2)"
   ]
  },
  {
   "cell_type": "code",
   "execution_count": 2,
   "metadata": {},
   "outputs": [
    {
     "data": {
      "text/plain": [
       "datetime.date(2017, 9, 2)"
      ]
     },
     "execution_count": 2,
     "metadata": {},
     "output_type": "execute_result"
    }
   ],
   "source": [
    "mday"
   ]
  },
  {
   "cell_type": "code",
   "execution_count": 3,
   "metadata": {},
   "outputs": [
    {
     "data": {
      "text/plain": [
       "2017"
      ]
     },
     "execution_count": 3,
     "metadata": {},
     "output_type": "execute_result"
    }
   ],
   "source": [
    "mday.year\n"
   ]
  },
  {
   "cell_type": "code",
   "execution_count": 4,
   "metadata": {},
   "outputs": [
    {
     "data": {
      "text/plain": [
       "2"
      ]
     },
     "execution_count": 4,
     "metadata": {},
     "output_type": "execute_result"
    }
   ],
   "source": [
    "mday.day\n"
   ]
  },
  {
   "cell_type": "code",
   "execution_count": 5,
   "metadata": {},
   "outputs": [
    {
     "data": {
      "text/plain": [
       "9"
      ]
     },
     "execution_count": 5,
     "metadata": {},
     "output_type": "execute_result"
    }
   ],
   "source": [
    "mday.month"
   ]
  },
  {
   "cell_type": "code",
   "execution_count": 6,
   "metadata": {},
   "outputs": [],
   "source": [
    "mydayandtime = dt.datetime(2017,9,2, 15,24,30)"
   ]
  },
  {
   "cell_type": "code",
   "execution_count": 7,
   "metadata": {},
   "outputs": [
    {
     "data": {
      "text/plain": [
       "15"
      ]
     },
     "execution_count": 7,
     "metadata": {},
     "output_type": "execute_result"
    }
   ],
   "source": [
    "mydayandtime.hour"
   ]
  },
  {
   "cell_type": "code",
   "execution_count": 8,
   "metadata": {},
   "outputs": [
    {
     "data": {
      "text/plain": [
       "24"
      ]
     },
     "execution_count": 8,
     "metadata": {},
     "output_type": "execute_result"
    }
   ],
   "source": [
    "mydayandtime.minute"
   ]
  },
  {
   "cell_type": "code",
   "execution_count": 9,
   "metadata": {},
   "outputs": [
    {
     "data": {
      "text/plain": [
       "30"
      ]
     },
     "execution_count": 9,
     "metadata": {},
     "output_type": "execute_result"
    }
   ],
   "source": [
    "mydayandtime.second"
   ]
  },
  {
   "cell_type": "code",
   "execution_count": 10,
   "metadata": {},
   "outputs": [
    {
     "data": {
      "text/plain": [
       "Timestamp('2017-09-02 00:00:00')"
      ]
     },
     "execution_count": 10,
     "metadata": {},
     "output_type": "execute_result"
    }
   ],
   "source": [
    "pd.Timestamp('2017-09-02')"
   ]
  },
  {
   "cell_type": "code",
   "execution_count": 11,
   "metadata": {},
   "outputs": [
    {
     "data": {
      "text/plain": [
       "Timestamp('2017-09-02 00:00:00')"
      ]
     },
     "execution_count": 11,
     "metadata": {},
     "output_type": "execute_result"
    }
   ],
   "source": [
    "pd.Timestamp('2017/09/02')"
   ]
  },
  {
   "cell_type": "code",
   "execution_count": 12,
   "metadata": {},
   "outputs": [
    {
     "data": {
      "text/plain": [
       "Timestamp('2017-02-01 00:00:00')"
      ]
     },
     "execution_count": 12,
     "metadata": {},
     "output_type": "execute_result"
    }
   ],
   "source": [
    "pd.Timestamp('2017,09,02')"
   ]
  },
  {
   "cell_type": "code",
   "execution_count": 13,
   "metadata": {},
   "outputs": [
    {
     "data": {
      "text/plain": [
       "Timestamp('2017-02-01 15:29:10')"
      ]
     },
     "execution_count": 13,
     "metadata": {},
     "output_type": "execute_result"
    }
   ],
   "source": [
    "pd.Timestamp('2017,09,02 15:29:10')"
   ]
  },
  {
   "cell_type": "code",
   "execution_count": 14,
   "metadata": {},
   "outputs": [
    {
     "data": {
      "text/plain": [
       "DatetimeIndex(['2017-08-31', '2017-09-01', '2017-09-02'], dtype='datetime64[ns]', freq=None)"
      ]
     },
     "execution_count": 14,
     "metadata": {},
     "output_type": "execute_result"
    }
   ],
   "source": [
    "date = ['2017/08/31', '2017/09/01', '2017/09/02']\n",
    "pd.DatetimeIndex(date)"
   ]
  },
  {
   "cell_type": "code",
   "execution_count": 15,
   "metadata": {},
   "outputs": [
    {
     "data": {
      "text/plain": [
       "DatetimeIndex(['2017-08-31', '2017-08-30', '2017-08-29'], dtype='datetime64[ns]', freq=None)"
      ]
     },
     "execution_count": 15,
     "metadata": {},
     "output_type": "execute_result"
    }
   ],
   "source": [
    "date2 = [dt.date(2017,8,31), dt.date(2017,8,30),dt.date(2017,8,29)]\n",
    "pd.DatetimeIndex(date2)"
   ]
  },
  {
   "cell_type": "code",
   "execution_count": 16,
   "metadata": {},
   "outputs": [
    {
     "data": {
      "text/plain": [
       "2017/08/31      Pizza\n",
       "2017/09/01    Burgger\n",
       "2017/09/02      Salad\n",
       "dtype: object"
      ]
     },
     "execution_count": 16,
     "metadata": {},
     "output_type": "execute_result"
    }
   ],
   "source": [
    "food = ['Pizza', 'Burgger', 'Salad']\n",
    "pd.Series  (data = food, index=date)"
   ]
  },
  {
   "cell_type": "code",
   "execution_count": 17,
   "metadata": {},
   "outputs": [
    {
     "data": {
      "text/plain": [
       "0       2017-09-02\n",
       "1       2017/09/01\n",
       "2             2017\n",
       "3    July  4 ,2017\n",
       "4          Avinash\n",
       "dtype: object"
      ]
     },
     "execution_count": 17,
     "metadata": {},
     "output_type": "execute_result"
    }
   ],
   "source": [
    "dirtyyimes = pd.Series(['2017-09-02', '2017/09/01', '2017', 'July  4 ,2017','Avinash'])\n",
    "dirtyyimes"
   ]
  },
  {
   "cell_type": "code",
   "execution_count": 18,
   "metadata": {},
   "outputs": [
    {
     "data": {
      "text/plain": [
       "0   2017-09-02\n",
       "1   2017-09-01\n",
       "2   2017-01-01\n",
       "3   2017-07-04\n",
       "4          NaT\n",
       "dtype: datetime64[ns]"
      ]
     },
     "execution_count": 18,
     "metadata": {},
     "output_type": "execute_result"
    }
   ],
   "source": [
    "pd.to_datetime(dirtyyimes, errors='coerce')"
   ]
  },
  {
   "cell_type": "code",
   "execution_count": 19,
   "metadata": {},
   "outputs": [
    {
     "data": {
      "text/plain": [
       "Period('2017-09-02', '21D')"
      ]
     },
     "execution_count": 19,
     "metadata": {},
     "output_type": "execute_result"
    }
   ],
   "source": [
    "pd.Period('2017-09-02', freq='21D')"
   ]
  },
  {
   "cell_type": "code",
   "execution_count": 20,
   "metadata": {},
   "outputs": [
    {
     "data": {
      "text/plain": [
       "Period('2017-08-28/2017-09-03', 'W-SUN')"
      ]
     },
     "execution_count": 20,
     "metadata": {},
     "output_type": "execute_result"
    }
   ],
   "source": [
    "pd.Period('2017-09-02', 'W-SUN')"
   ]
  },
  {
   "cell_type": "code",
   "execution_count": 21,
   "metadata": {},
   "outputs": [
    {
     "data": {
      "text/plain": [
       "Period('2017-08-30/2017-09-05', 'W-TUE')"
      ]
     },
     "execution_count": 21,
     "metadata": {},
     "output_type": "execute_result"
    }
   ],
   "source": [
    "pd.Period('2017-09-02', freq='W-TUE')"
   ]
  },
  {
   "cell_type": "code",
   "execution_count": 22,
   "metadata": {},
   "outputs": [],
   "source": [
    "myrange = pd.date_range(start='2017-09-02', end='2017-12-25', freq='D')"
   ]
  },
  {
   "cell_type": "code",
   "execution_count": 23,
   "metadata": {},
   "outputs": [
    {
     "data": {
      "text/plain": [
       "DatetimeIndex(['2017-09-02', '2017-09-03', '2017-09-04', '2017-09-05',\n",
       "               '2017-09-06', '2017-09-07', '2017-09-08', '2017-09-09',\n",
       "               '2017-09-10', '2017-09-11',\n",
       "               ...\n",
       "               '2017-12-16', '2017-12-17', '2017-12-18', '2017-12-19',\n",
       "               '2017-12-20', '2017-12-21', '2017-12-22', '2017-12-23',\n",
       "               '2017-12-24', '2017-12-25'],\n",
       "              dtype='datetime64[ns]', length=115, freq='D')"
      ]
     },
     "execution_count": 23,
     "metadata": {},
     "output_type": "execute_result"
    }
   ],
   "source": [
    "myrange"
   ]
  },
  {
   "cell_type": "code",
   "execution_count": 24,
   "metadata": {},
   "outputs": [
    {
     "data": {
      "text/plain": [
       "DatetimeIndex(['2017-12-31', '2018-12-31', '2019-12-31', '2020-12-31',\n",
       "               '2021-12-31', '2022-12-31', '2023-12-31', '2024-12-31',\n",
       "               '2025-12-31', '2026-12-31', '2027-12-31', '2028-12-31',\n",
       "               '2029-12-31', '2030-12-31', '2031-12-31', '2032-12-31',\n",
       "               '2033-12-31', '2034-12-31', '2035-12-31', '2036-12-31'],\n",
       "              dtype='datetime64[ns]', freq='A-DEC')"
      ]
     },
     "execution_count": 24,
     "metadata": {},
     "output_type": "execute_result"
    }
   ],
   "source": [
    "myrange2 = pd.date_range(start='2017-09-02', end='2037-12-25', freq='A')\n",
    "myrange2"
   ]
  },
  {
   "cell_type": "code",
   "execution_count": 25,
   "metadata": {},
   "outputs": [
    {
     "data": {
      "text/plain": [
       "DatetimeIndex(['2017-09-02', '2017-09-03', '2017-09-04', '2017-09-05',\n",
       "               '2017-09-06', '2017-09-07', '2017-09-08', '2017-09-09',\n",
       "               '2017-09-10', '2017-09-11',\n",
       "               ...\n",
       "               '2018-01-10', '2018-01-11', '2018-01-12', '2018-01-13',\n",
       "               '2018-01-14', '2018-01-15', '2018-01-16', '2018-01-17',\n",
       "               '2018-01-18', '2018-01-19'],\n",
       "              dtype='datetime64[ns]', length=140, freq='D')"
      ]
     },
     "execution_count": 25,
     "metadata": {},
     "output_type": "execute_result"
    }
   ],
   "source": [
    "myrange3 = pd.date_range(start='2017-09-02', periods = 140, freq='D')\n",
    "myrange3"
   ]
  },
  {
   "cell_type": "code",
   "execution_count": 26,
   "metadata": {},
   "outputs": [
    {
     "data": {
      "text/plain": [
       "DatetimeIndex(['2017-12-24 00:00:00', '2017-12-24 12:00:00',\n",
       "               '2017-12-25 00:00:00', '2017-12-25 12:00:00',\n",
       "               '2017-12-26 00:00:00', '2017-12-26 12:00:00',\n",
       "               '2017-12-27 00:00:00', '2017-12-27 12:00:00',\n",
       "               '2017-12-28 00:00:00', '2017-12-28 12:00:00',\n",
       "               ...\n",
       "               '2018-02-27 00:00:00', '2018-02-27 12:00:00',\n",
       "               '2018-02-28 00:00:00', '2018-02-28 12:00:00',\n",
       "               '2018-03-01 00:00:00', '2018-03-01 12:00:00',\n",
       "               '2018-03-02 00:00:00', '2018-03-02 12:00:00',\n",
       "               '2018-03-03 00:00:00', '2018-03-03 12:00:00'],\n",
       "              dtype='datetime64[ns]', length=140, freq='12H')"
      ]
     },
     "execution_count": 26,
     "metadata": {},
     "output_type": "execute_result"
    }
   ],
   "source": [
    "myrange4 = pd.date_range(start='2017-12-24', periods = 140, freq='12h')\n",
    "myrange4"
   ]
  },
  {
   "cell_type": "code",
   "execution_count": 27,
   "metadata": {},
   "outputs": [
    {
     "data": {
      "text/plain": [
       "0     2017-12-24 00:00:00\n",
       "1     2017-12-24 12:00:00\n",
       "2     2017-12-25 00:00:00\n",
       "3     2017-12-25 12:00:00\n",
       "4     2017-12-26 00:00:00\n",
       "5     2017-12-26 12:00:00\n",
       "6     2017-12-27 00:00:00\n",
       "7     2017-12-27 12:00:00\n",
       "8     2017-12-28 00:00:00\n",
       "9     2017-12-28 12:00:00\n",
       "10    2017-12-29 00:00:00\n",
       "11    2017-12-29 12:00:00\n",
       "12    2017-12-30 00:00:00\n",
       "13    2017-12-30 12:00:00\n",
       "14    2017-12-31 00:00:00\n",
       "15    2017-12-31 12:00:00\n",
       "16    2018-01-01 00:00:00\n",
       "17    2018-01-01 12:00:00\n",
       "18    2018-01-02 00:00:00\n",
       "19    2018-01-02 12:00:00\n",
       "20    2018-01-03 00:00:00\n",
       "21    2018-01-03 12:00:00\n",
       "22    2018-01-04 00:00:00\n",
       "23    2018-01-04 12:00:00\n",
       "24    2018-01-05 00:00:00\n",
       "25    2018-01-05 12:00:00\n",
       "26    2018-01-06 00:00:00\n",
       "27    2018-01-06 12:00:00\n",
       "28    2018-01-07 00:00:00\n",
       "29    2018-01-07 12:00:00\n",
       "              ...        \n",
       "110   2018-02-17 00:00:00\n",
       "111   2018-02-17 12:00:00\n",
       "112   2018-02-18 00:00:00\n",
       "113   2018-02-18 12:00:00\n",
       "114   2018-02-19 00:00:00\n",
       "115   2018-02-19 12:00:00\n",
       "116   2018-02-20 00:00:00\n",
       "117   2018-02-20 12:00:00\n",
       "118   2018-02-21 00:00:00\n",
       "119   2018-02-21 12:00:00\n",
       "120   2018-02-22 00:00:00\n",
       "121   2018-02-22 12:00:00\n",
       "122   2018-02-23 00:00:00\n",
       "123   2018-02-23 12:00:00\n",
       "124   2018-02-24 00:00:00\n",
       "125   2018-02-24 12:00:00\n",
       "126   2018-02-25 00:00:00\n",
       "127   2018-02-25 12:00:00\n",
       "128   2018-02-26 00:00:00\n",
       "129   2018-02-26 12:00:00\n",
       "130   2018-02-27 00:00:00\n",
       "131   2018-02-27 12:00:00\n",
       "132   2018-02-28 00:00:00\n",
       "133   2018-02-28 12:00:00\n",
       "134   2018-03-01 00:00:00\n",
       "135   2018-03-01 12:00:00\n",
       "136   2018-03-02 00:00:00\n",
       "137   2018-03-02 12:00:00\n",
       "138   2018-03-03 00:00:00\n",
       "139   2018-03-03 12:00:00\n",
       "Length: 140, dtype: datetime64[ns]"
      ]
     },
     "execution_count": 27,
     "metadata": {},
     "output_type": "execute_result"
    }
   ],
   "source": [
    "myseries= pd.Series(myrange4)\n",
    "myseries"
   ]
  },
  {
   "cell_type": "code",
   "execution_count": 28,
   "metadata": {},
   "outputs": [
    {
     "data": {
      "text/plain": [
       "0      False\n",
       "1      False\n",
       "2      False\n",
       "3      False\n",
       "4      False\n",
       "5      False\n",
       "6      False\n",
       "7      False\n",
       "8      False\n",
       "9      False\n",
       "10     False\n",
       "11     False\n",
       "12     False\n",
       "13     False\n",
       "14      True\n",
       "15      True\n",
       "16     False\n",
       "17     False\n",
       "18     False\n",
       "19     False\n",
       "20     False\n",
       "21     False\n",
       "22     False\n",
       "23     False\n",
       "24     False\n",
       "25     False\n",
       "26     False\n",
       "27     False\n",
       "28     False\n",
       "29     False\n",
       "       ...  \n",
       "110    False\n",
       "111    False\n",
       "112    False\n",
       "113    False\n",
       "114    False\n",
       "115    False\n",
       "116    False\n",
       "117    False\n",
       "118    False\n",
       "119    False\n",
       "120    False\n",
       "121    False\n",
       "122    False\n",
       "123    False\n",
       "124    False\n",
       "125    False\n",
       "126    False\n",
       "127    False\n",
       "128    False\n",
       "129    False\n",
       "130    False\n",
       "131    False\n",
       "132     True\n",
       "133     True\n",
       "134    False\n",
       "135    False\n",
       "136    False\n",
       "137    False\n",
       "138    False\n",
       "139    False\n",
       "Length: 140, dtype: bool"
      ]
     },
     "execution_count": 28,
     "metadata": {},
     "output_type": "execute_result"
    }
   ],
   "source": [
    "myseries.dt.is_month_end"
   ]
  },
  {
   "cell_type": "code",
   "execution_count": 29,
   "metadata": {},
   "outputs": [
    {
     "data": {
      "text/plain": [
       "14    2017-12-31 00:00:00\n",
       "15    2017-12-31 12:00:00\n",
       "76    2018-01-31 00:00:00\n",
       "77    2018-01-31 12:00:00\n",
       "132   2018-02-28 00:00:00\n",
       "133   2018-02-28 12:00:00\n",
       "dtype: datetime64[ns]"
      ]
     },
     "execution_count": 29,
     "metadata": {},
     "output_type": "execute_result"
    }
   ],
   "source": [
    "myseries[myseries.dt.is_month_end]"
   ]
  },
  {
   "cell_type": "code",
   "execution_count": 31,
   "metadata": {},
   "outputs": [
    {
     "data": {
      "text/plain": [
       "14   2017-12-31 00:00:00\n",
       "15   2017-12-31 12:00:00\n",
       "dtype: datetime64[ns]"
      ]
     },
     "execution_count": 31,
     "metadata": {},
     "output_type": "execute_result"
    }
   ],
   "source": [
    "myseries[myseries.dt.is_quarter_end]"
   ]
  },
  {
   "cell_type": "code",
   "execution_count": 33,
   "metadata": {},
   "outputs": [
    {
     "data": {
      "text/plain": [
       "Timestamp('2017-09-03 10:27:30')"
      ]
     },
     "execution_count": 33,
     "metadata": {},
     "output_type": "execute_result"
    }
   ],
   "source": [
    "ts = pd.Timestamp('2017-09-03 10:27:30')\n",
    "ts"
   ]
  },
  {
   "cell_type": "code",
   "execution_count": 34,
   "metadata": {},
   "outputs": [
    {
     "data": {
      "text/plain": [
       "'Sunday'"
      ]
     },
     "execution_count": 34,
     "metadata": {},
     "output_type": "execute_result"
    }
   ],
   "source": [
    "ts.weekday_name"
   ]
  },
  {
   "cell_type": "code",
   "execution_count": 36,
   "metadata": {},
   "outputs": [
    {
     "data": {
      "text/plain": [
       "False"
      ]
     },
     "execution_count": 36,
     "metadata": {},
     "output_type": "execute_result"
    }
   ],
   "source": [
    "ts.is_month_end"
   ]
  },
  {
   "cell_type": "code",
   "execution_count": 37,
   "metadata": {},
   "outputs": [
    {
     "data": {
      "text/plain": [
       "False"
      ]
     },
     "execution_count": 37,
     "metadata": {},
     "output_type": "execute_result"
    }
   ],
   "source": [
    "ts.is_month_start"
   ]
  },
  {
   "cell_type": "code",
   "execution_count": 38,
   "metadata": {},
   "outputs": [
    {
     "data": {
      "text/plain": [
       "DatetimeIndex(['2017-12-24 00:00:00', '2017-12-24 12:00:00',\n",
       "               '2017-12-25 00:00:00', '2017-12-25 12:00:00',\n",
       "               '2017-12-26 00:00:00', '2017-12-26 12:00:00',\n",
       "               '2017-12-27 00:00:00', '2017-12-27 12:00:00',\n",
       "               '2017-12-28 00:00:00', '2017-12-28 12:00:00',\n",
       "               ...\n",
       "               '2018-02-27 00:00:00', '2018-02-27 12:00:00',\n",
       "               '2018-02-28 00:00:00', '2018-02-28 12:00:00',\n",
       "               '2018-03-01 00:00:00', '2018-03-01 12:00:00',\n",
       "               '2018-03-02 00:00:00', '2018-03-02 12:00:00',\n",
       "               '2018-03-03 00:00:00', '2018-03-03 12:00:00'],\n",
       "              dtype='datetime64[ns]', length=140, freq='12H')"
      ]
     },
     "execution_count": 38,
     "metadata": {},
     "output_type": "execute_result"
    }
   ],
   "source": [
    "myrange5 = pd.date_range(start='2017-12-24', periods = 140, freq='12h')\n",
    "myrange5"
   ]
  },
  {
   "cell_type": "code",
   "execution_count": null,
   "metadata": {},
   "outputs": [],
   "source": []
  }
 ],
 "metadata": {
  "kernelspec": {
   "display_name": "Python 3",
   "language": "python",
   "name": "python3"
  },
  "language_info": {
   "codemirror_mode": {
    "name": "ipython",
    "version": 3
   },
   "file_extension": ".py",
   "mimetype": "text/x-python",
   "name": "python",
   "nbconvert_exporter": "python",
   "pygments_lexer": "ipython3",
   "version": "3.5.5"
  }
 },
 "nbformat": 4,
 "nbformat_minor": 2
}
