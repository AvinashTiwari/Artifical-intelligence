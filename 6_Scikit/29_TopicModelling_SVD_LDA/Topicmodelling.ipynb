{
 "cells": [
  {
   "cell_type": "code",
   "execution_count": 1,
   "metadata": {},
   "outputs": [],
   "source": [
    "%matplotlib inline\n",
    "import numpy as np\n",
    "import pandas as pd\n",
    "import sklearn\n",
    "import matplotlib.pyplot as plt\n",
    "from sklearn.feature_extraction.text import CountVectorizer\n",
    "from sklearn.feature_extraction.text import TfidfVectorizer\n",
    "from sklearn.pipeline import make_pipeline\n",
    "from sklearn.decomposition import TruncatedSVD\n",
    "from sklearn.decomposition import LatentDirichletAllocation\n",
    "from time import time"
   ]
  },
  {
   "cell_type": "code",
   "execution_count": 2,
   "metadata": {},
   "outputs": [],
   "source": [
    "data = pd.read_csv(\"data/labeledTrainData.tsv\", delimiter=\"\\t\")"
   ]
  },
  {
   "cell_type": "code",
   "execution_count": 3,
   "metadata": {},
   "outputs": [],
   "source": [
    "data['review'] = data['review'].apply(lambda doc: doc.replace(\"<br />\", \" \") )  "
   ]
  },
  {
   "cell_type": "code",
   "execution_count": 5,
   "metadata": {},
   "outputs": [],
   "source": [
    "vectorizer = CountVectorizer(max_features=10000, max_df=.15,stop_words='english')\n",
    "X = vectorizer.fit_transform(data.review)"
   ]
  },
  {
   "cell_type": "code",
   "execution_count": 6,
   "metadata": {},
   "outputs": [],
   "source": [
    "feature_names = vectorizer.get_feature_names()"
   ]
  },
  {
   "cell_type": "code",
   "execution_count": 7,
   "metadata": {},
   "outputs": [
    {
     "data": {
      "text/plain": [
       "array(['00', '000', '01', ..., 'zoom', 'zorro', 'zu'], dtype='<U17')"
      ]
     },
     "execution_count": 7,
     "metadata": {},
     "output_type": "execute_result"
    }
   ],
   "source": [
    "feature_names = np.array(feature_names)\n",
    "feature_names"
   ]
  },
  {
   "cell_type": "code",
   "execution_count": 36,
   "metadata": {},
   "outputs": [],
   "source": [
    "tsvd = TruncatedSVD(n_components=10,n_iter=100)\n",
    "document_topics_svd = tsvd.fit_transform(X)"
   ]
  },
  {
   "cell_type": "code",
   "execution_count": 37,
   "metadata": {},
   "outputs": [
    {
     "data": {
      "text/plain": [
       "(25000, 10)"
      ]
     },
     "execution_count": 37,
     "metadata": {},
     "output_type": "execute_result"
    }
   ],
   "source": [
    "document_topics_svd.shape"
   ]
  },
  {
   "cell_type": "code",
   "execution_count": 53,
   "metadata": {},
   "outputs": [
    {
     "data": {
      "text/plain": [
       "array([[ 3.53283514e+00, -1.24712934e+00, -3.16698289e-01,\n",
       "         6.84033015e-01,  4.20053041e-01,  4.07582626e-01,\n",
       "        -8.30695637e-01, -2.33134649e-01,  4.02611699e-01,\n",
       "        -3.83181622e-01],\n",
       "       [ 1.42191362e+00,  3.78031980e-01,  2.12787479e-01,\n",
       "         9.44534504e-02, -6.07471266e-01,  4.15587145e-01,\n",
       "        -5.33383796e-01,  1.48920036e+00,  9.28817919e-02,\n",
       "        -2.23502870e-01],\n",
       "       [ 2.51699009e+00,  1.55914416e-01, -2.44395002e-01,\n",
       "        -6.73739067e-01, -8.24049510e-01,  4.59933623e-01,\n",
       "         3.70925065e-01, -7.82501321e-01, -1.14114760e-01,\n",
       "         1.15790811e-02],\n",
       "       [ 1.96791825e+00, -7.26915914e-02,  3.78761132e-02,\n",
       "         6.11255353e-01, -9.78804943e-01,  6.34031250e-01,\n",
       "        -7.97098762e-02,  4.41820164e-01, -1.61737925e-01,\n",
       "        -4.28879466e-01],\n",
       "       [ 2.87334263e+00, -2.24277955e-01, -2.00429985e-01,\n",
       "         9.81999917e-02, -1.02166105e-02,  1.97915743e-01,\n",
       "        -1.72778872e-02, -2.18458990e-01,  3.54997516e-01,\n",
       "        -4.51811054e-01],\n",
       "       [ 6.78388671e-01, -3.05954169e-01,  1.20676612e-01,\n",
       "         6.48787386e-02,  3.09179114e-03,  1.62259928e-01,\n",
       "         9.64992676e-02, -2.89012052e-01,  5.70164035e-01,\n",
       "        -7.22788811e-02],\n",
       "       [ 7.46194025e-01, -2.51894178e-01,  2.45301952e-02,\n",
       "        -2.23472384e-01,  1.60154294e-01, -5.94922698e-02,\n",
       "        -5.82403245e-02, -2.86219356e-02,  2.98795132e-01,\n",
       "         2.59116244e-02],\n",
       "       [ 9.70220608e-01, -3.54832965e-01,  8.01293030e-02,\n",
       "        -3.51819727e-02,  1.33574944e-01,  1.63917001e-01,\n",
       "        -1.70938351e-01,  3.90205926e-02, -5.70257656e-02,\n",
       "        -4.43868960e-01],\n",
       "       [ 1.18978365e+00,  9.87458602e-02, -3.91935298e-01,\n",
       "         3.81926869e-01,  3.84639349e-01, -4.82054166e-01,\n",
       "         5.87806049e-01, -3.72112101e-01,  1.96444169e-01,\n",
       "        -6.94648864e-02],\n",
       "       [ 2.38136126e-01,  4.10708012e-03, -1.10728548e-02,\n",
       "        -4.35306157e-04,  4.09633752e-02,  3.73253228e-02,\n",
       "        -1.86668204e-02, -4.48902316e-02, -2.96829305e-02,\n",
       "        -3.53975077e-02]])"
      ]
     },
     "execution_count": 53,
     "metadata": {},
     "output_type": "execute_result"
    }
   ],
   "source": [
    "document_topics_svd[:10,:]"
   ]
  },
  {
   "cell_type": "code",
   "execution_count": 55,
   "metadata": {},
   "outputs": [
    {
     "data": {
      "text/plain": [
       "array([[7, 9, 8, 6, 2, 3, 1, 5, 4, 0],\n",
       "       [5, 2, 7, 9, 1, 8, 3, 4, 6, 0],\n",
       "       [9, 1, 6, 8, 3, 7, 2, 4, 5, 0],\n",
       "       [1, 3, 5, 6, 7, 2, 9, 4, 8, 0],\n",
       "       [1, 7, 9, 4, 3, 6, 2, 5, 8, 0],\n",
       "       [9, 1, 7, 2, 6, 4, 3, 5, 8, 0],\n",
       "       [4, 9, 8, 6, 1, 2, 7, 3, 5, 0],\n",
       "       [4, 7, 3, 2, 8, 9, 1, 6, 5, 0],\n",
       "       [4, 6, 9, 8, 3, 2, 1, 5, 0, 7],\n",
       "       [1, 6, 9, 2, 7, 8, 5, 4, 3, 0]], dtype=int64)"
      ]
     },
     "execution_count": 55,
     "metadata": {},
     "output_type": "execute_result"
    }
   ],
   "source": [
    "np.argsort(document_topics_svd[:10,:])[::-1]"
   ]
  },
  {
   "cell_type": "code",
   "execution_count": 38,
   "metadata": {},
   "outputs": [
    {
     "data": {
      "text/plain": [
       "array([[2748, 7206, 6086, ...,  647, 9673, 8013],\n",
       "       [9973, 7945, 9685, ..., 9026, 2608, 4402],\n",
       "       [7945, 6323, 3133, ..., 3413, 9876, 9973],\n",
       "       ...,\n",
       "       [1121, 4846, 7198, ..., 1855, 9685,  236],\n",
       "       [ 236, 4085, 6323, ..., 9903, 9685, 4402],\n",
       "       [7945, 7206,  242, ..., 6323, 6086, 6261]], dtype=int64)"
      ]
     },
     "execution_count": 38,
     "metadata": {},
     "output_type": "execute_result"
    }
   ],
   "source": [
    "sorted_tsvd_components = np.argsort(tsvd.components_, axis=1)[:, ::-1]\n",
    "sorted_tsvd_components"
   ]
  },
  {
   "cell_type": "code",
   "execution_count": 39,
   "metadata": {},
   "outputs": [
    {
     "data": {
      "text/plain": [
       "(10, 10000)"
      ]
     },
     "execution_count": 39,
     "metadata": {},
     "output_type": "execute_result"
    }
   ],
   "source": [
    "sorted_tsvd_components.shape"
   ]
  },
  {
   "cell_type": "code",
   "execution_count": 47,
   "metadata": {},
   "outputs": [],
   "source": [
    "# adapted from https://github.com/amueller/introduction_to_ml_with_python/blob/master/mglearn/tools.py\n",
    "\n",
    "def print_topics(topics, feature_names, sorting, topics_per_chunk=6,\n",
    "                 n_words=20):\n",
    "    for i in range(0, len(topics), topics_per_chunk):\n",
    "        these_topics = topics[i: i + topics_per_chunk]\n",
    "        len_this_chunk = len(these_topics)\n",
    "        print((\"topic {:<8}\" * len_this_chunk).format(*these_topics))\n",
    "        print((\"-------- {0:<5}\" * len_this_chunk).format(\"\"))\n",
    "        # print top n_words frequent words\n",
    "        for i in range(n_words):\n",
    "            try:\n",
    "                print((\"{:<14}\" * len_this_chunk).format(\n",
    "                    *feature_names[sorting[these_topics, i]]))\n",
    "            except:\n",
    "                pass\n",
    "        print(\"\\n\")\n",
    "        \n"
   ]
  },
  {
   "cell_type": "code",
   "execution_count": 40,
   "metadata": {},
   "outputs": [
    {
     "name": "stdout",
     "output_type": "stream",
     "text": [
      "topic 0       topic 1       topic 2       topic 3       topic 4       \n",
      "--------      --------      --------      --------      --------      \n",
      "doesn         young         series        funny         family        \n",
      "real          series        original      comedy        series        \n",
      "new           war           episode       didn          match         \n",
      "old           family        tv            match         old           \n",
      "director      world         episodes      got           house         \n",
      "work          new           new           10            father        \n",
      "thing         years         season        big           girl          \n",
      "years         role          action        guy           guy           \n",
      "actually      father        version       rock          episode       \n",
      "makes         performance   batman        thing         mother        \n",
      "\n",
      "\n",
      "topic 5       topic 6       topic 7       topic 8       topic 9       \n",
      "--------      --------      --------      --------      --------      \n",
      "match         match         book          action        series        \n",
      "war           horror        jane          guy           real          \n",
      "world         rock          read          original      actors        \n",
      "action        comedy        version       jane          episode       \n",
      "ring          ring          novel         gets          family        \n",
      "rock          funny         didn          version       director      \n",
      "angle         john          rochester     doesn         book          \n",
      "taker         10            family        girl          performance   \n",
      "game          cast          saw           woman         doesn         \n",
      "big           role          years         new           work          \n",
      "\n",
      "\n"
     ]
    }
   ],
   "source": [
    "print_topics(topics=range(10), feature_names=feature_names,sorting=sorted_tsvd_components,\n",
    "             topics_per_chunk=5, n_words=10)\n"
   ]
  },
  {
   "cell_type": "code",
   "execution_count": 34,
   "metadata": {},
   "outputs": [],
   "source": [
    "def print_original_reviews(topics,num, num_reviews):\n",
    "    topic = np.argsort(topics[:,num])[::-1]\n",
    "    # print the num_reviews documents where the topic is most important\n",
    "    for i in topic[:num_reviews]:\n",
    "        # show first two sentences\n",
    "        print(\".\".join(data.iloc[i]['review'].split(\".\")[:2]) + \".\\n\")"
   ]
  },
  {
   "cell_type": "code",
   "execution_count": 41,
   "metadata": {},
   "outputs": [
    {
     "name": "stdout",
     "output_type": "stream",
     "text": [
      "I felt duty bound to watch the 1983 Timothy Dalton / Zelah Clarke adaptation of \\Jane Eyre,\\\" because I'd just written an article about the 2006 BBC \\\"Jane Eyre\\\" for TheScreamOnline.  So, I approached watching this the way I'd approach doing homework.\n",
      "\n",
      "The 1983 BBC production of \\Jane Eyre\\\" starring Zelah Clarke and Timothy Dalton (LOVE HIM) has always been and will always be my favorite Jane Eyre. If you watch any other version of Jane Eyre without reading the book, it will be like watching some regular movie which you will forget the next day.\n",
      "\n",
      "There are many adaptations of Charlotte Brontë's classic novel \\Jane Eyre\\\", and taking into consideration the numerous reviews written about them there is also a lively discussion on which of them is the best. The short film adaptations all suffer from the fact that it is simply not possible to cram the whole plot of the novel into a movie of about a 100 min.\n",
      "\n",
      "This TV production of 1970 starring Susannah York and George C. Scott is another proof of how difficult it is to adopt \\Jane Eyre\\\" to the screen, and how much can go wrong in doing so.\n",
      "\n",
      "When I saw that Mary Louise Parker was associated with this epic novel turned film, I was intrigued. Being a fan of the book, I assumed she'd be playing Tony, Roz, or Charis, but more so, I was intrigued to see how they would turn this very head-y, almost psychological (but not psychological thriller) novel in to a movie that would be accessible to those who hadn't read the novel, and that would be at least mildly satisfying for those who had.\n",
      "\n",
      "*SPOILER ALERT: I wish I could discuss this without revealing specific plot points, but I can't. Sorry.\n",
      "\n",
      "After seeing only half of the film in school back in November, today, I saw that it was on Flix channel and decided to watch it to see the rest of it and to write a new review on it.  The book that the film is based on, Hatchet, is OK.\n",
      "\n",
      "This 1996 movie was the first adaptation of Jane Eyre that I ever watched and when I did so I was appalled by it. So much of the novel had been left out and I considered William Hurt to be terribly miscast as Rochester.\n",
      "\n",
      "While watching this movie I was frustrated and distracted and by the end, I wanted to give the movie a solid 4 or 5. I thought the animation was random and all over the place and there was too much going on.\n",
      "\n",
      "When a movie of a book seems pointless and incomprehensible, the cause can invariably be found in the book: either it was pointless to start with, or the point is one not easily conveyed to film, or the movie missed the point, which is the most frequent of these results, and the easiest to happen, especially when the point is one not easily defined. The book \\Morvern Callar\\\" has a point; every reader of the book must have felt this, and felt as if he had gotten it; but I suspect most of them could not state it in words.\n",
      "\n"
     ]
    }
   ],
   "source": [
    "print_original_reviews(document_topics_svd,7,10)"
   ]
  },
  {
   "cell_type": "code",
   "execution_count": 42,
   "metadata": {},
   "outputs": [
    {
     "name": "stdout",
     "output_type": "stream",
     "text": [
      "LDA10 took 21.570063312848408 minutes\n"
     ]
    }
   ],
   "source": [
    "start = time()\n",
    "lda10 = LatentDirichletAllocation(n_components=10, learning_method=\"batch\",\n",
    "max_iter=25, random_state=0)\n",
    "document_topics_lda_10 = lda10.fit_transform(X)\n",
    "print('LDA10 took {} minutes'.format((time() - start)/60.))"
   ]
  },
  {
   "cell_type": "code",
   "execution_count": 21,
   "metadata": {},
   "outputs": [
    {
     "data": {
      "text/plain": [
       "(10, 10000)"
      ]
     },
     "execution_count": 21,
     "metadata": {},
     "output_type": "execute_result"
    }
   ],
   "source": [
    "lda10.components_.shape"
   ]
  },
  {
   "cell_type": "code",
   "execution_count": 22,
   "metadata": {},
   "outputs": [
    {
     "data": {
      "text/plain": [
       "array([[7603, 6565, 1468, ..., 3780, 6087, 5082],\n",
       "       [ 236, 4842, 7603, ..., 9986, 2842, 3584],\n",
       "       [2608, 9026,  242, ...,  769,  960,  873],\n",
       "       ...,\n",
       "       [3377, 9973, 3891, ..., 5648, 5848,  882],\n",
       "       [1121, 9548, 7198, ..., 1425, 8908, 4299],\n",
       "       [4402, 3954, 2977, ..., 3584, 4299,  769]], dtype=int64)"
      ]
     },
     "execution_count": 22,
     "metadata": {},
     "output_type": "execute_result"
    }
   ],
   "source": [
    "sorted_lda10_components = np.argsort(lda10.components_, axis=1)[:, ::-1]\n",
    "sorted_lda10_components"
   ]
  },
  {
   "cell_type": "code",
   "execution_count": 23,
   "metadata": {},
   "outputs": [
    {
     "name": "stdout",
     "output_type": "stream",
     "text": [
      "topic 0       topic 1       topic 2       topic 3       topic 4       \n",
      "--------      --------      --------      --------      --------      \n",
      "role          action        didn          world         game          \n",
      "performance   james         thing         director      action        \n",
      "cast          role          actors        work          guy           \n",
      "john          john          worst         real          car           \n",
      "murder        western       funny         human         gets          \n",
      "wife          stewart       actually      audience      guys          \n",
      "plays         fight         want          makes         kids          \n",
      "director      cast          10            cinema        world         \n",
      "robert        plays         minutes       feel          thing         \n",
      "actor         jack          script        point         going         \n",
      "\n",
      "\n",
      "topic 5       topic 6       topic 7       topic 8       topic 9       \n",
      "--------      --------      --------      --------      --------      \n",
      "music         series        family        book          horror        \n",
      "funny         episode       young         version       gore          \n",
      "comedy        tv            girl          read          effects       \n",
      "song          episodes      father        years         killer        \n",
      "songs         cast          old           original      blood         \n",
      "musical       season        mother        dvd           pretty        \n",
      "dance         years         woman         war           house         \n",
      "fun           new           son           tv            budget        \n",
      "voice         shows         home          saw           dead          \n",
      "original      wonderful     wife          novel         scary         \n",
      "\n",
      "\n"
     ]
    }
   ],
   "source": [
    "print_topics(topics=range(10), feature_names=feature_names,sorting=sorted_lda10_components,\n",
    "             topics_per_chunk=5, n_words=10)"
   ]
  },
  {
   "cell_type": "code",
   "execution_count": 43,
   "metadata": {},
   "outputs": [
    {
     "name": "stdout",
     "output_type": "stream",
     "text": [
      "This is one of the finest music concerts anyone will ever see and hear. I grew up when All My Lovin' was brand new and to hear it again today by the original artist today is a measure of Sir P Mc's power to spellbind any crowd of any age.\n",
      "\n",
      "This is one of my two or three favorite Stooges shorts, and undoubtedly Christine McIntyre's best performance with the trio. She is good in a number of other shorts, but here she is absolutely brilliant.\n",
      "\n",
      "The Great Caruso displays the unique talents of Mario Lanza. He shows great acting capacity and is in top form as a lyrical singer, paired with Dorothy Kirsten, soprano of the Metropolitan Opera.\n",
      "\n",
      "Blank Check is a movie that I saw on TV one day and like most movies they air on TV Blank Check wasn't that good. First of all no one I have ever met has seen Blank Check and that includes people that grew up in the 90s.\n",
      "\n",
      "If people didn't know who Barbra Streisand was before this,..\n",
      "\n",
      "I will never forget when I saw this title in the video store way back when. I was always a big Weird Al fan and when I saw this video I rented and watched it.\n",
      "\n",
      "Bette Midler is indescribable in this concert. She gives her all every time she is on stage.\n",
      "\n",
      "Bette Midler is indescribable in this concert. She gives her all every time she is on stage.\n",
      "\n",
      "HUSBANDS BEWARE is a remake of the Shemp classic BRIDELESS GROOM. The film's new cooking scene at the beginning of the film is great.\n",
      "\n",
      "A longtime fan of Bette Midler, I must say her recorded live concerts are my favorites. Bette thrills us with her jokes and brings us to tears with her ballads.\n",
      "\n"
     ]
    }
   ],
   "source": [
    "print_original_reviews(document_topics_lda_10,5,10)"
   ]
  },
  {
   "cell_type": "code",
   "execution_count": 27,
   "metadata": {},
   "outputs": [
    {
     "name": "stdout",
     "output_type": "stream",
     "text": [
      "LDA100 took 27.538193794091544 minutes\n"
     ]
    }
   ],
   "source": [
    "start = time()\n",
    "lda100 = LatentDirichletAllocation(n_components=100, learning_method=\"batch\",\n",
    "max_iter=25, random_state=0)\n",
    "document_topics_lda_100 = lda100.fit_transform(X)\n",
    "print('LDA100 took {} minutes'.format((time() - start)/60.))"
   ]
  },
  {
   "cell_type": "code",
   "execution_count": 28,
   "metadata": {},
   "outputs": [
    {
     "name": "stdout",
     "output_type": "stream",
     "text": [
      "topic 7       topic 10      topic 16      topic 25      \n",
      "--------      --------      --------      --------      \n",
      "king          dr            che           disbelief     \n",
      "jack          lugosi        revolution    invisible     \n",
      "freddy        karloff       von           swedish       \n",
      "hotel         ray           power         hollow        \n",
      "stephen       dracula       fido          verhoeven     \n",
      "nightmare     mad           rangers       university    \n",
      "lion          scientist     soderbergh    paul          \n",
      "alice         bela          revolutionary problem       \n",
      "shining       jet           europa        suspend       \n",
      "paulie        rukh          danish        kevin         \n",
      "street        sellers       cuba          suspension    \n",
      "kubrick       li            del           valentine     \n",
      "nicholson     old           trier         bacon         \n",
      "stanley       universal     salman        big           \n",
      "danny         mask          timmy         implausible   \n",
      "wendy         boris         basketball    small         \n",
      "timon         grudge        moss          basic         \n",
      "elm           science       second        europeans     \n",
      "dream         plays         guevara       creek         \n",
      "sandra        serum         castro        10            \n",
      "dreams        black         billy         airport       \n",
      "wendigo       expedition    train         maniac        \n",
      "pumbaa        doctor        lars          team          \n",
      "family        raj           ang           cliches       \n",
      "dead          arnie         toro          tomb          \n",
      "\n",
      "\n",
      "topic 28      topic 36      topic 22      topic 40      \n",
      "--------      --------      --------      --------      \n",
      "davis         oscar         kid           chris         \n",
      "john          award         kids          priest        \n",
      "bo            arthur        dad           blair         \n",
      "jessica       won           house         wave          \n",
      "max           academy       boy           building      \n",
      "cube          performance   parents       cast          \n",
      "derek         awards        family        new           \n",
      "andrew        winning       mom           surfing       \n",
      "spike         nominated     sister        sport         \n",
      "simpson       moore         girl          alison        \n",
      "dave          picture       gets          andre         \n",
      "role          oscars        school        kolchak       \n",
      "actor         year          miike         old           \n",
      "quinn         actor         home          apartment     \n",
      "reynolds      role          girls         susan         \n",
      "miller        john          goes          coast         \n",
      "lee           director      child         christopher   \n",
      "hollywood     win           jake          logan         \n",
      "anthony       irish         bit           michael       \n",
      "daisy         screenplay    birthday      model         \n",
      "dukes         palma         karen         witch         \n",
      "colman        performances  old           sarandon      \n",
      "cast          deserved      brother       sentinel      \n",
      "dick          cole          party         cal           \n",
      "nelson        bruce         boys          winner        \n",
      "\n",
      "\n",
      "topic 51      topic 53      topic 54      topic 63      \n",
      "--------      --------      --------      --------      \n",
      "mr            horror        rape          money         \n",
      "drew          scary         revenge       waste         \n",
      "rose          creepy        machine       actors        \n",
      "emma          killer        human         worst         \n",
      "mrs           slasher       plague        want          \n",
      "angels        house         doctor        video         \n",
      "roberts       night         devil         script        \n",
      "kate          gore          virus         crap          \n",
      "angel         ghost         gun           write         \n",
      "miss          blood         streets       dvd           \n",
      "paltrow       suspense      kill          thing         \n",
      "austen        genre         satan         believe       \n",
      "ms            thriller      evil          actually      \n",
      "ramones       atmosphere    shot          making        \n",
      "baseball      halloween     jack          minutes       \n",
      "roger         dark          disease       ll            \n",
      "barrymore     scared        palance       got           \n",
      "lloyd         fans          orleans       piece         \n",
      "gwyneth       evil          victims       review        \n",
      "mark          pretty        zero          worse         \n",
      "olivia        scream        hero          imdb          \n",
      "high          isn           kazan         awful         \n",
      "wings         haunted       weapon        paid          \n",
      "bette         flick         new           worth         \n",
      "school        scares        rapist        couldn        \n",
      "\n",
      "\n",
      "topic 89      topic 97      \n",
      "--------      --------      \n",
      "fight         town          \n",
      "lee           jeff          \n",
      "action        small         \n",
      "martial       sheriff       \n",
      "fighting      dawson        \n",
      "arts          bat           \n",
      "fu            local         \n",
      "kong          diana         \n",
      "kung          wants         \n",
      "fights        takes         \n",
      "chan          bergman       \n",
      "jackie        men           \n",
      "hong          border        \n",
      "asian         boxing        \n",
      "stunts        cattle        \n",
      "sword         pickford      \n",
      "bruce         gold          \n",
      "dragon        makes         \n",
      "master        girl          \n",
      "dog           money         \n",
      "sequences     judge         \n",
      "hk            doesn         \n",
      "genre         high          \n",
      "naschy        country       \n",
      "chinese       gannon        \n",
      "\n",
      "\n"
     ]
    }
   ],
   "source": [
    "topics = np.array([7,10,16, 25, 28, 36, 22, 40, 51, 53, 54, 63, 89, 97])\n",
    "sorted_lda_components = np.argsort(lda100.components_, axis=1)[:, ::-1]\n",
    "feature_names = np.array(vectorizer.get_feature_names())\n",
    "print_topics(topics=topics, feature_names=feature_names,\n",
    "sorting=sorted_lda_components, topics_per_chunk=4, n_words=25)"
   ]
  },
  {
   "cell_type": "code",
   "execution_count": 46,
   "metadata": {},
   "outputs": [
    {
     "name": "stdout",
     "output_type": "stream",
     "text": [
      "It's been a while since I've watched this movie, and the series, but now I'm refreshing my memory! This was a very funny movie based on the classic series! Johnny Knoxville and Seann William Scott were hilarious together. Bo and Luke Duke help Uncle Jesse run Moonshine in the General Lee.\n",
      "\n",
      "George Cukor directs a brooding and cynical classic. The distinctive Ronald Coleman is at his best in this piece of Noir about an actor who loses himself in his roles.\n",
      "\n",
      "BEGIN SPOILER: Fitfully funny and memorable for Mr. Chong's literal roach-smoking scene: Chong coolly mashes a stray kitchen cockroach into his pipe's bowl, lights up, coughs and hacks violently for a seeming eternity,then with perfect aplomb and not skipping a beat, re-loads the bowl properly, re-lights, re-tokes.\n",
      "\n",
      "Every motion picture Bette Davis stars in is worth experiencing. Before Davis co-stars with Leslie Howard in \\Of Human Bondage,\\\" she'd been in over a score of movies.\n",
      "\n",
      "When an actor has to play the role of an actor, fictional or factual, the task becomes much more difficult than playing a role. In A Double Life,Ronald Coleman surpassed himself as Anthony John, the tortured double personality.\n",
      "\n",
      "A memorable line from a short lived show. After viewing the episode where that line was introduced my fraternity intramural flag football team started using the line to break our huddles on offense.\n",
      "\n",
      "Once again, like Charlie's Angels, Inspector Gadget and Thunderbirds, a TV series is turned into a full length film and gets ruined for all the hundreds of people that watched. Basically the Duke cousins, Luke (Johnny Knoxville) and Bo (Seann William Scott) in Hazzard County, spend a lot of time driving very fast in \\The General Lee\\\".\n",
      "\n",
      "Summer Holiday is the forgotten musical version of Eugene O'Neill's Ah Wilderness and deservedly so with the Broadway musical adaptation of Take Me Along. With the exception of the Stanley Steamer song, none of the other Harry Warren-Ralph Blane songs are worth remembering and even that one is questionable.\n",
      "\n",
      "Academy Award winner Robert Redford (Best Director. Ordinary People 1980) captures the majesty of the Montana wilderness and the strength of the American family in this acclaimed adaptation of Norman Macleans classic memoir.\n",
      "\n",
      "Bo Derek's beauty and John Derek's revolutionary direction make this film worthwhile.   Bo, looking more gorgeous than ever, is a recently widowed woman who is experiencing visitations from her 'dead' husband (Anthony Quinn).\n",
      "\n",
      "\\Painting is seeing, then remembering better than you saw.\\\" So says Dick Heldar (Ronald Colman), the painter in The Light That Failed.\n",
      "\n",
      "When I heard that the Dukes of Hazzard was going to be remade with current actors and a solid script, I was like, \\alright, I'll give it a chance, it's not going to be better than the first, but we'll see what happens.\\\" Well, I saw what happened.\n",
      "\n",
      "The story goes something like this: A small-town girl, Katie (Jessica Simpson), decides to visit her boyfriend in the big city. When she arrives she discovers he isn't quite as faithful as he should be.\n",
      "\n",
      "OK we all love the daisy dukes, but what is up with this cast. Lets start, Jessica Simpson as Daisy, there is not one thing country about this girl and Daisy was not ditzy! Uncle Jesse was probably the closest one to resemble the original.\n",
      "\n",
      "The 1980s TV show, updated with fresh female flesh, and raunchy language. \\The Dukes of Hazzard\\\" passed me by; it was not repeated whenever I was in front of the television in either New York or California; or, I probably would have watched.\n",
      "\n"
     ]
    }
   ],
   "source": [
    "print_original_reviews(document_topics_lda_100,28,15)"
   ]
  },
  {
   "cell_type": "code",
   "execution_count": null,
   "metadata": {},
   "outputs": [],
   "source": []
  }
 ],
 "metadata": {
  "kernelspec": {
   "display_name": "Python 3",
   "language": "python",
   "name": "python3"
  },
  "language_info": {
   "codemirror_mode": {
    "name": "ipython",
    "version": 3
   },
   "file_extension": ".py",
   "mimetype": "text/x-python",
   "name": "python",
   "nbconvert_exporter": "python",
   "pygments_lexer": "ipython3",
   "version": "3.6.4"
  }
 },
 "nbformat": 4,
 "nbformat_minor": 2
}
