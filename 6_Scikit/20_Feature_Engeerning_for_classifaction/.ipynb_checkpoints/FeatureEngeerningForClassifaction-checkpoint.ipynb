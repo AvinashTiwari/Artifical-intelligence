{
 "cells": [
  {
   "cell_type": "code",
   "execution_count": 1,
   "metadata": {
    "hidden": true
   },
   "outputs": [],
   "source": [
    "import numpy as np\n",
    "import os\n",
    "import matplotlib\n",
    "import matplotlib.pyplot as plt\n",
    "import pandas as pd\n",
    "import datetime\n",
    "from time import time\n",
    "import sklearn\n",
    "from sklearn.model_selection import train_test_split,cross_val_score,KFold,StratifiedKFold,ShuffleSplit,StratifiedShuffleSplit, GridSearchCV, RandomizedSearchCV\n",
    "from sklearn.preprocessing import RobustScaler, StandardScaler, MinMaxScaler\n",
    "from sklearn.ensemble import RandomForestClassifier,GradientBoostingClassifier\n",
    "from sklearn.svm import SVC\n",
    "from sklearn import metrics\n",
    "from sklearn.feature_selection import RFE\n",
    "\n",
    "from sklearn.externals import joblib\n",
    "from sklearn.metrics import confusion_matrix,roc_auc_score\n",
    "from sklearn_pandas import DataFrameMapper\n",
    "from pandas.api.types import is_string_dtype, is_numeric_dtype\n",
    "from scipy import stats\n",
    "from scipy.stats import skew\n",
    "from scipy.special import boxcox1p\n",
    "from scipy.stats import randint as sp_randint\n",
    "%matplotlib inline"
   ]
  },
  {
   "cell_type": "code",
   "execution_count": 2,
   "metadata": {},
   "outputs": [],
   "source": [
    "def print_feature_importances(model,X):\n",
    "    important_features = pd.Series(data=rf_model.feature_importances_,index=X.columns)\n",
    "    important_features.sort_values(ascending=False,inplace=True)\n",
    "    print(important_features.head(50))\n",
    "    \n",
    "def get_cat_columns_by_type(df):\n",
    "    out = []\n",
    "    for colname,col_values in df.items():\n",
    "        if is_string_dtype(col_values):\n",
    "            out.append((colname,'string') )\n",
    "        elif not is_numeric_dtype(col_values):\n",
    "            out.append((colname,'categorical') )\n",
    "    return out       \n",
    "\n",
    "def get_numeric_columns(df):\n",
    "    out = []\n",
    "    for colname,col_values in df.items():\n",
    "        if is_numeric_dtype(col_values):\n",
    "            out.append(colname)\n",
    "    return out       \n",
    "    \n",
    "def get_missing_values_percentage(df):\n",
    "    missing_values_counts_list = df.isnull().sum()\n",
    "    total_values = np.product(df.shape)\n",
    "    total_missing = missing_values_counts_list.sum()\n",
    "    # percent of data that is missing\n",
    "    return (total_missing/total_values) * 100\n",
    "\n",
    "def get_missing_columns(df1,df2):\n",
    "    missing1 = []\n",
    "    missing2 = []\n",
    "    for colname in df1.columns:\n",
    "        if colname not in df2.columns:\n",
    "            missing2.append(colname)\n",
    "    for colname in df2.columns:\n",
    "        if colname not in df1.columns:\n",
    "            missing1.append(colname)        \n",
    "    return (missing1,missing2)\n",
    "\n",
    "\n",
    "def convert_to_str_type(df_in,columns,inplace=False):\n",
    "    if(inplace):\n",
    "        df = df_in\n",
    "    else:\n",
    "        df = df_in.copy()\n",
    "        \n",
    "    for col in columns:\n",
    "        df[col] = df[col].astype(str)\n",
    "    return df\n",
    "\n",
    "    \n",
    "def handle_missing_values(df_in,cat_cols=[], num_cols=[],na_dict=None,add_nan_col=True,inplace=False):\n",
    "    if(inplace):\n",
    "        df = df_in\n",
    "    else:\n",
    "        df = df_in.copy()\n",
    " \n",
    "    if na_dict is None:\n",
    "        na_dict = {}\n",
    "\n",
    "    for colname, col_values in df.items():   \n",
    "        if colname not in num_cols:\n",
    "            continue\n",
    "        if pd.isnull(col_values).sum():\n",
    "            df[colname+'_na'] = pd.isnull(col_values)\n",
    "            filler = na_dict[colname] if colname in na_dict else col_values.median()\n",
    "            df[colname] = col_values.fillna(filler)\n",
    "            na_dict[colname] = filler\n",
    "    for colname in cat_cols:\n",
    "        if colname not in df.columns:\n",
    "            continue\n",
    "        df[colname].fillna(df[colname].mode()[0], inplace=True)\n",
    "        lbl = LabelEncoder() \n",
    "        lbl.fit(list(df[colname].values)) \n",
    "        df[colname] = lbl.transform(list(df[colname].values))\n",
    "    \n",
    "    return (df,na_dict)\n",
    "\n",
    "\n",
    "\n",
    "def scale_num_cols(df_in, mapper, inplace=False):\n",
    "    if(inplace):\n",
    "        df = df_in\n",
    "    else:\n",
    "        df = df_in.copy()\n",
    "        \n",
    "    if mapper is None:\n",
    "        map_f = [([c],StandardScaler()) for c in df.columns if is_numeric_dtype(df[c])]\n",
    "        mapper = DataFrameMapper(map_f).fit(df)\n",
    "    df[mapper.transformed_names_] = mapper.transform(df)\n",
    "    return (df,mapper)\n",
    "\n",
    "\n",
    "\n",
    "def extract_and_drop_target_column(df_in, y_name, inplace=False):\n",
    "    if(inplace):\n",
    "        df = df_in\n",
    "    else:\n",
    "        df = df_in.copy()\n",
    "    if not is_numeric_dtype(df[y_name]):\n",
    "        df[y_name] = df[y_name].cat.codes\n",
    "        y = df[y_name].values\n",
    "    else:\n",
    "        y = df[y_name]\n",
    "    df.drop([y_name], axis=1, inplace=True)\n",
    "    return (df,y)\n",
    "\n",
    "def print_mse(m,X_train, X_valid, y_train, y_valid):\n",
    "    res = [mean_squared_error(y_train,m.predict(X_train)),\n",
    "                mean_squared_error(y_valid,m.predict(X_valid)),\n",
    "                m.score(X_train, y_train), m.score(X_valid, y_valid)]\n",
    "    print('MSE Training set = {}, MSE Validation set = {}, score Training Set = {}, score on Validation Set = {}'.format(res[0],res[1],res[2], res[3]))\n",
    "    if hasattr(m, 'oob_score_'):\n",
    "          print('OOB Score = {}'.format(m.oob_score_))      \n",
    "\n",
    "def get_iqr_min_max(df,cols):\n",
    "    out = {}\n",
    "    for colname, col_values in df.items():\n",
    "        if colname not in cols:\n",
    "            continue\n",
    "        quartile75, quartile25 = np.percentile(col_values, [75 ,25])\n",
    "        ## Inter Quartile Range ##\n",
    "        IQR = quartile75 - quartile25\n",
    "        min_value = quartile25 - (IQR*1.5)\n",
    "        max_value = quartile75 + (IQR*1.5)\n",
    "        out[colname] = (min_value,max_value)\n",
    "    return out\n",
    "\n",
    "\n",
    "def bin_numerical_columns(df_in,cols,inplace=False):\n",
    "    if(inplace):\n",
    "        df = df_in\n",
    "    else:\n",
    "        df = df_in.copy()\n",
    "        \n",
    "    for col in cols.keys():\n",
    "        bins = cols[col]\n",
    "        buckets_ = np.linspace(bins[0],bins[1],bins[2])\n",
    "        df[col] = pd.cut(df[col],buckets_,include_lowest=True)\n",
    "    return df"
   ]
  },
  {
   "cell_type": "code",
   "execution_count": 3,
   "metadata": {},
   "outputs": [],
   "source": [
    "def preprocess_df(df_train,df_test=None,\n",
    "                  log_y=False,\n",
    "                  id_col= None,\n",
    "                  target_col=None,\n",
    "                  convert_to_cat_cols=None,\n",
    "                  remove_skewness=False,\n",
    "                  skew_threshold=0.75,\n",
    "                  boxcox_lambda=0.15,\n",
    "                  scale_mapper=None,\n",
    "                  bin_columns_dict=None,\n",
    "                  new_features_func=None):\n",
    "    \n",
    "    if target_col is not None:\n",
    "        df,y = extract_and_drop_target_column(df_train,target_col,inplace=True)\n",
    "        print(y.head())\n",
    "        if log_y:\n",
    "            y = np.log1p(y)\n",
    "            print('222')\n",
    "    else:\n",
    "        y = None\n",
    "        print('333')\n",
    "        \n",
    "    combined = pd.concat((df, df_test)).reset_index(drop=True)\n",
    "    \n",
    "    \n",
    "    if df_test is not None and id_col is not None:\n",
    "        test_id = df_test['Id'].copy()\n",
    "        combined.drop('Id', axis=1,inplace=True)\n",
    "    else: test_id = None\n",
    "   \n",
    "    if new_features_func is not None:\n",
    "        combined = new_features_func(combined)\n",
    "    \n",
    "    \n",
    "    if convert_to_cat_cols is not None:\n",
    "        combined = convert_to_str_type(combined,convert_to_cat_cols,inplace=True)\n",
    "    \n",
    "        \n",
    "    if bin_columns_dict is not None:\n",
    "        combined = bin_numerical_columns(combined,bin_columns_dict,inplace=True)\n",
    "    \n",
    "    \n",
    "    cat_cols = get_cat_columns_by_type(combined)\n",
    "    cat_cols = [cat_cols[i][0] for i in range(len(cat_cols))]\n",
    "    num_cols = [col for col in combined.columns if col not in cat_cols]\n",
    "    \n",
    "    combined = pd.get_dummies(combined,columns=cat_cols, dummy_na=True)\n",
    "    \n",
    "    n_train = df.shape[0]\n",
    "    n_test = df_test.shape[0]\n",
    "      \n",
    "    \n",
    "    combined,d = handle_missing_values(combined,cat_cols=cat_cols,\n",
    "                                       num_cols=num_cols,inplace=True)\n",
    "    \n",
    "    print(d)\n",
    "    if remove_skewness:\n",
    "        skewed_cols = combined[num_cols].apply(lambda x: skew(x)).sort_values(ascending=False)\n",
    "        skewness = pd.DataFrame({'Skew' :skewed_cols})\n",
    "        skewness_log = skewness[abs(skewness) > skew_threshold]\n",
    "        skewness_other = skewness[abs(skewness) <= skew_threshold]\n",
    "        skewed_features_log = skewness_log.index\n",
    "        skewed_features_other = skewness_other.index\n",
    "        lambda_ = 0.0\n",
    "        for feature in skewed_features_log:\n",
    "            combined[feature] = boxcox1p(combined[feature],lambda_)\n",
    "        lambda_ = boxcox_lambda\n",
    "        for feature in skewed_features_other:\n",
    "            combined[feature] = boxcox1p(combined[feature],lambda_)\n",
    "    \n",
    "    if scale_mapper is not None:\n",
    "        map_f = [([c],scale_mapper) for c in num_cols]\n",
    "        mapper = DataFrameMapper(map_f).fit(combined)\n",
    "    else:\n",
    "        mapper = None\n",
    "        \n",
    "    combined,_ = scale_num_cols(combined,mapper,inplace=True) \n",
    "    \n",
    "    print(get_missing_values_percentage(combined))\n",
    "    \n",
    "    return combined,df,y,cat_cols,num_cols,test_id,n_train,n_test\n"
   ]
  },
  {
   "cell_type": "code",
   "execution_count": 4,
   "metadata": {},
   "outputs": [],
   "source": [
    "def add_new_features1(df):\n",
    "    df['DepsIncomeComined'] = df['NumberOfDependents'] * df['MonthlyIncome']\n",
    "    df['Times90DaysLateDebtRatio'] = df['NumberOfTimes90DaysLate'] * df['DebtRatio']\n",
    "    df['Times90DaysLateRevolving'] = df['NumberOfTimes90DaysLate'] * df['RevolvingUtilizationOfUnsecuredLines']\n",
    "    return df\n",
    "def add_new_features2(df):\n",
    "    df['DepsIncomeComined'] = df['NumberOfDependents'] * df['MonthlyIncome']\n",
    "    df['Times90DaysLateDebtRatio'] = df['NumberOfTimes90DaysLate'] * df['DebtRatio']\n",
    "    df['Times90DaysLateRevolving'] = df['NumberOfTimes90DaysLate'] * df['RevolvingUtilizationOfUnsecuredLines']\n",
    "    df['RevolvingUtilizationOfUnsecuredLines-2'] = df['RevolvingUtilizationOfUnsecuredLines'] ** 2\n",
    "    df['RevolvingUtilizationOfUnsecuredLines-3'] = df['RevolvingUtilizationOfUnsecuredLines'] ** 3\n",
    "    df['RevolvingUtilizationOfUnsecuredLines-sqrt'] = np.sqrt(df['RevolvingUtilizationOfUnsecuredLines'])\n",
    "    \n",
    "    return df\n",
    "def add_new_features3(df):\n",
    "    return df\n",
    "\n",
    "def add_new_features4(df):\n",
    "    return df\n",
    "\n",
    "    "
   ]
  },
  {
   "cell_type": "code",
   "execution_count": 7,
   "metadata": {
    "hidden": true
   },
   "outputs": [
    {
     "ename": "FileNotFoundError",
     "evalue": "[Errno 2] File b'data/give_me_credit/train.csv' does not exist: b'data/give_me_credit/train.csv'",
     "output_type": "error",
     "traceback": [
      "\u001b[1;31m---------------------------------------------------------------------------\u001b[0m",
      "\u001b[1;31mFileNotFoundError\u001b[0m                         Traceback (most recent call last)",
      "\u001b[1;32m<ipython-input-7-2b8672134240>\u001b[0m in \u001b[0;36m<module>\u001b[1;34m\u001b[0m\n\u001b[0;32m      1\u001b[0m \u001b[0mPATH\u001b[0m \u001b[1;33m=\u001b[0m \u001b[1;34m\"data/give_me_credit/\"\u001b[0m\u001b[1;33m\u001b[0m\u001b[1;33m\u001b[0m\u001b[0m\n\u001b[1;32m----> 2\u001b[1;33m \u001b[0mdf_raw\u001b[0m \u001b[1;33m=\u001b[0m \u001b[0mpd\u001b[0m\u001b[1;33m.\u001b[0m\u001b[0mread_csv\u001b[0m\u001b[1;33m(\u001b[0m\u001b[1;34mf'{PATH}train.csv'\u001b[0m\u001b[1;33m,\u001b[0m \u001b[0mlow_memory\u001b[0m\u001b[1;33m=\u001b[0m\u001b[1;32mFalse\u001b[0m\u001b[1;33m)\u001b[0m\u001b[1;33m\u001b[0m\u001b[1;33m\u001b[0m\u001b[0m\n\u001b[0m\u001b[0;32m      3\u001b[0m \u001b[0mdf_test\u001b[0m \u001b[1;33m=\u001b[0m \u001b[0mpd\u001b[0m\u001b[1;33m.\u001b[0m\u001b[0mread_csv\u001b[0m\u001b[1;33m(\u001b[0m\u001b[1;34mf'{PATH}test.csv'\u001b[0m\u001b[1;33m,\u001b[0m \u001b[0mlow_memory\u001b[0m\u001b[1;33m=\u001b[0m\u001b[1;32mFalse\u001b[0m\u001b[1;33m)\u001b[0m\u001b[1;33m\u001b[0m\u001b[1;33m\u001b[0m\u001b[0m\n",
      "\u001b[1;32m~\\AppData\\Local\\Continuum\\anaconda3\\lib\\site-packages\\pandas\\io\\parsers.py\u001b[0m in \u001b[0;36mparser_f\u001b[1;34m(filepath_or_buffer, sep, delimiter, header, names, index_col, usecols, squeeze, prefix, mangle_dupe_cols, dtype, engine, converters, true_values, false_values, skipinitialspace, skiprows, skipfooter, nrows, na_values, keep_default_na, na_filter, verbose, skip_blank_lines, parse_dates, infer_datetime_format, keep_date_col, date_parser, dayfirst, iterator, chunksize, compression, thousands, decimal, lineterminator, quotechar, quoting, doublequote, escapechar, comment, encoding, dialect, tupleize_cols, error_bad_lines, warn_bad_lines, delim_whitespace, low_memory, memory_map, float_precision)\u001b[0m\n\u001b[0;32m    700\u001b[0m                     skip_blank_lines=skip_blank_lines)\n\u001b[0;32m    701\u001b[0m \u001b[1;33m\u001b[0m\u001b[0m\n\u001b[1;32m--> 702\u001b[1;33m         \u001b[1;32mreturn\u001b[0m \u001b[0m_read\u001b[0m\u001b[1;33m(\u001b[0m\u001b[0mfilepath_or_buffer\u001b[0m\u001b[1;33m,\u001b[0m \u001b[0mkwds\u001b[0m\u001b[1;33m)\u001b[0m\u001b[1;33m\u001b[0m\u001b[1;33m\u001b[0m\u001b[0m\n\u001b[0m\u001b[0;32m    703\u001b[0m \u001b[1;33m\u001b[0m\u001b[0m\n\u001b[0;32m    704\u001b[0m     \u001b[0mparser_f\u001b[0m\u001b[1;33m.\u001b[0m\u001b[0m__name__\u001b[0m \u001b[1;33m=\u001b[0m \u001b[0mname\u001b[0m\u001b[1;33m\u001b[0m\u001b[1;33m\u001b[0m\u001b[0m\n",
      "\u001b[1;32m~\\AppData\\Local\\Continuum\\anaconda3\\lib\\site-packages\\pandas\\io\\parsers.py\u001b[0m in \u001b[0;36m_read\u001b[1;34m(filepath_or_buffer, kwds)\u001b[0m\n\u001b[0;32m    427\u001b[0m \u001b[1;33m\u001b[0m\u001b[0m\n\u001b[0;32m    428\u001b[0m     \u001b[1;31m# Create the parser.\u001b[0m\u001b[1;33m\u001b[0m\u001b[1;33m\u001b[0m\u001b[1;33m\u001b[0m\u001b[0m\n\u001b[1;32m--> 429\u001b[1;33m     \u001b[0mparser\u001b[0m \u001b[1;33m=\u001b[0m \u001b[0mTextFileReader\u001b[0m\u001b[1;33m(\u001b[0m\u001b[0mfilepath_or_buffer\u001b[0m\u001b[1;33m,\u001b[0m \u001b[1;33m**\u001b[0m\u001b[0mkwds\u001b[0m\u001b[1;33m)\u001b[0m\u001b[1;33m\u001b[0m\u001b[1;33m\u001b[0m\u001b[0m\n\u001b[0m\u001b[0;32m    430\u001b[0m \u001b[1;33m\u001b[0m\u001b[0m\n\u001b[0;32m    431\u001b[0m     \u001b[1;32mif\u001b[0m \u001b[0mchunksize\u001b[0m \u001b[1;32mor\u001b[0m \u001b[0miterator\u001b[0m\u001b[1;33m:\u001b[0m\u001b[1;33m\u001b[0m\u001b[1;33m\u001b[0m\u001b[0m\n",
      "\u001b[1;32m~\\AppData\\Local\\Continuum\\anaconda3\\lib\\site-packages\\pandas\\io\\parsers.py\u001b[0m in \u001b[0;36m__init__\u001b[1;34m(self, f, engine, **kwds)\u001b[0m\n\u001b[0;32m    893\u001b[0m             \u001b[0mself\u001b[0m\u001b[1;33m.\u001b[0m\u001b[0moptions\u001b[0m\u001b[1;33m[\u001b[0m\u001b[1;34m'has_index_names'\u001b[0m\u001b[1;33m]\u001b[0m \u001b[1;33m=\u001b[0m \u001b[0mkwds\u001b[0m\u001b[1;33m[\u001b[0m\u001b[1;34m'has_index_names'\u001b[0m\u001b[1;33m]\u001b[0m\u001b[1;33m\u001b[0m\u001b[1;33m\u001b[0m\u001b[0m\n\u001b[0;32m    894\u001b[0m \u001b[1;33m\u001b[0m\u001b[0m\n\u001b[1;32m--> 895\u001b[1;33m         \u001b[0mself\u001b[0m\u001b[1;33m.\u001b[0m\u001b[0m_make_engine\u001b[0m\u001b[1;33m(\u001b[0m\u001b[0mself\u001b[0m\u001b[1;33m.\u001b[0m\u001b[0mengine\u001b[0m\u001b[1;33m)\u001b[0m\u001b[1;33m\u001b[0m\u001b[1;33m\u001b[0m\u001b[0m\n\u001b[0m\u001b[0;32m    896\u001b[0m \u001b[1;33m\u001b[0m\u001b[0m\n\u001b[0;32m    897\u001b[0m     \u001b[1;32mdef\u001b[0m \u001b[0mclose\u001b[0m\u001b[1;33m(\u001b[0m\u001b[0mself\u001b[0m\u001b[1;33m)\u001b[0m\u001b[1;33m:\u001b[0m\u001b[1;33m\u001b[0m\u001b[1;33m\u001b[0m\u001b[0m\n",
      "\u001b[1;32m~\\AppData\\Local\\Continuum\\anaconda3\\lib\\site-packages\\pandas\\io\\parsers.py\u001b[0m in \u001b[0;36m_make_engine\u001b[1;34m(self, engine)\u001b[0m\n\u001b[0;32m   1120\u001b[0m     \u001b[1;32mdef\u001b[0m \u001b[0m_make_engine\u001b[0m\u001b[1;33m(\u001b[0m\u001b[0mself\u001b[0m\u001b[1;33m,\u001b[0m \u001b[0mengine\u001b[0m\u001b[1;33m=\u001b[0m\u001b[1;34m'c'\u001b[0m\u001b[1;33m)\u001b[0m\u001b[1;33m:\u001b[0m\u001b[1;33m\u001b[0m\u001b[1;33m\u001b[0m\u001b[0m\n\u001b[0;32m   1121\u001b[0m         \u001b[1;32mif\u001b[0m \u001b[0mengine\u001b[0m \u001b[1;33m==\u001b[0m \u001b[1;34m'c'\u001b[0m\u001b[1;33m:\u001b[0m\u001b[1;33m\u001b[0m\u001b[1;33m\u001b[0m\u001b[0m\n\u001b[1;32m-> 1122\u001b[1;33m             \u001b[0mself\u001b[0m\u001b[1;33m.\u001b[0m\u001b[0m_engine\u001b[0m \u001b[1;33m=\u001b[0m \u001b[0mCParserWrapper\u001b[0m\u001b[1;33m(\u001b[0m\u001b[0mself\u001b[0m\u001b[1;33m.\u001b[0m\u001b[0mf\u001b[0m\u001b[1;33m,\u001b[0m \u001b[1;33m**\u001b[0m\u001b[0mself\u001b[0m\u001b[1;33m.\u001b[0m\u001b[0moptions\u001b[0m\u001b[1;33m)\u001b[0m\u001b[1;33m\u001b[0m\u001b[1;33m\u001b[0m\u001b[0m\n\u001b[0m\u001b[0;32m   1123\u001b[0m         \u001b[1;32melse\u001b[0m\u001b[1;33m:\u001b[0m\u001b[1;33m\u001b[0m\u001b[1;33m\u001b[0m\u001b[0m\n\u001b[0;32m   1124\u001b[0m             \u001b[1;32mif\u001b[0m \u001b[0mengine\u001b[0m \u001b[1;33m==\u001b[0m \u001b[1;34m'python'\u001b[0m\u001b[1;33m:\u001b[0m\u001b[1;33m\u001b[0m\u001b[1;33m\u001b[0m\u001b[0m\n",
      "\u001b[1;32m~\\AppData\\Local\\Continuum\\anaconda3\\lib\\site-packages\\pandas\\io\\parsers.py\u001b[0m in \u001b[0;36m__init__\u001b[1;34m(self, src, **kwds)\u001b[0m\n\u001b[0;32m   1851\u001b[0m         \u001b[0mkwds\u001b[0m\u001b[1;33m[\u001b[0m\u001b[1;34m'usecols'\u001b[0m\u001b[1;33m]\u001b[0m \u001b[1;33m=\u001b[0m \u001b[0mself\u001b[0m\u001b[1;33m.\u001b[0m\u001b[0musecols\u001b[0m\u001b[1;33m\u001b[0m\u001b[1;33m\u001b[0m\u001b[0m\n\u001b[0;32m   1852\u001b[0m \u001b[1;33m\u001b[0m\u001b[0m\n\u001b[1;32m-> 1853\u001b[1;33m         \u001b[0mself\u001b[0m\u001b[1;33m.\u001b[0m\u001b[0m_reader\u001b[0m \u001b[1;33m=\u001b[0m \u001b[0mparsers\u001b[0m\u001b[1;33m.\u001b[0m\u001b[0mTextReader\u001b[0m\u001b[1;33m(\u001b[0m\u001b[0msrc\u001b[0m\u001b[1;33m,\u001b[0m \u001b[1;33m**\u001b[0m\u001b[0mkwds\u001b[0m\u001b[1;33m)\u001b[0m\u001b[1;33m\u001b[0m\u001b[1;33m\u001b[0m\u001b[0m\n\u001b[0m\u001b[0;32m   1854\u001b[0m         \u001b[0mself\u001b[0m\u001b[1;33m.\u001b[0m\u001b[0munnamed_cols\u001b[0m \u001b[1;33m=\u001b[0m \u001b[0mself\u001b[0m\u001b[1;33m.\u001b[0m\u001b[0m_reader\u001b[0m\u001b[1;33m.\u001b[0m\u001b[0munnamed_cols\u001b[0m\u001b[1;33m\u001b[0m\u001b[1;33m\u001b[0m\u001b[0m\n\u001b[0;32m   1855\u001b[0m \u001b[1;33m\u001b[0m\u001b[0m\n",
      "\u001b[1;32mpandas/_libs/parsers.pyx\u001b[0m in \u001b[0;36mpandas._libs.parsers.TextReader.__cinit__\u001b[1;34m()\u001b[0m\n",
      "\u001b[1;32mpandas/_libs/parsers.pyx\u001b[0m in \u001b[0;36mpandas._libs.parsers.TextReader._setup_parser_source\u001b[1;34m()\u001b[0m\n",
      "\u001b[1;31mFileNotFoundError\u001b[0m: [Errno 2] File b'data/give_me_credit/train.csv' does not exist: b'data/give_me_credit/train.csv'"
     ]
    }
   ],
   "source": [
    "PATH = \"./data/give_me_credit/\"\n",
    "df_raw = pd.read_csv(f'{PATH}train.csv', low_memory=False)\n",
    "df_test = pd.read_csv(f'{PATH}test.csv', low_memory=False)"
   ]
  },
  {
   "cell_type": "code",
   "execution_count": 6,
   "metadata": {},
   "outputs": [
    {
     "ename": "NameError",
     "evalue": "name 'df_raw' is not defined",
     "output_type": "error",
     "traceback": [
      "\u001b[1;31m---------------------------------------------------------------------------\u001b[0m",
      "\u001b[1;31mNameError\u001b[0m                                 Traceback (most recent call last)",
      "\u001b[1;32m<ipython-input-6-39e4c469b33a>\u001b[0m in \u001b[0;36m<module>\u001b[1;34m\u001b[0m\n\u001b[1;32m----> 1\u001b[1;33m \u001b[0mdf_raw\u001b[0m\u001b[1;33m.\u001b[0m\u001b[0minfo\u001b[0m\u001b[1;33m(\u001b[0m\u001b[1;33m)\u001b[0m\u001b[1;33m\u001b[0m\u001b[1;33m\u001b[0m\u001b[0m\n\u001b[0m",
      "\u001b[1;31mNameError\u001b[0m: name 'df_raw' is not defined"
     ]
    }
   ],
   "source": [
    "df_raw.info()"
   ]
  },
  {
   "cell_type": "code",
   "execution_count": 9,
   "metadata": {},
   "outputs": [
    {
     "data": {
      "text/html": [
       "<div>\n",
       "<style scoped>\n",
       "    .dataframe tbody tr th:only-of-type {\n",
       "        vertical-align: middle;\n",
       "    }\n",
       "\n",
       "    .dataframe tbody tr th {\n",
       "        vertical-align: top;\n",
       "    }\n",
       "\n",
       "    .dataframe thead th {\n",
       "        text-align: right;\n",
       "    }\n",
       "</style>\n",
       "<table border=\"1\" class=\"dataframe\">\n",
       "  <thead>\n",
       "    <tr style=\"text-align: right;\">\n",
       "      <th></th>\n",
       "      <th>Unnamed: 0</th>\n",
       "      <th>SeriousDlqin2yrs</th>\n",
       "      <th>RevolvingUtilizationOfUnsecuredLines</th>\n",
       "      <th>age</th>\n",
       "      <th>NumberOfTime30-59DaysPastDueNotWorse</th>\n",
       "      <th>DebtRatio</th>\n",
       "      <th>MonthlyIncome</th>\n",
       "      <th>NumberOfOpenCreditLinesAndLoans</th>\n",
       "      <th>NumberOfTimes90DaysLate</th>\n",
       "      <th>NumberRealEstateLoansOrLines</th>\n",
       "      <th>NumberOfTime60-89DaysPastDueNotWorse</th>\n",
       "      <th>NumberOfDependents</th>\n",
       "    </tr>\n",
       "  </thead>\n",
       "  <tbody>\n",
       "    <tr>\n",
       "      <th>count</th>\n",
       "      <td>150000.000000</td>\n",
       "      <td>150000.000000</td>\n",
       "      <td>150000.000000</td>\n",
       "      <td>150000.000000</td>\n",
       "      <td>150000.000000</td>\n",
       "      <td>150000.000000</td>\n",
       "      <td>1.202690e+05</td>\n",
       "      <td>150000.000000</td>\n",
       "      <td>150000.000000</td>\n",
       "      <td>150000.000000</td>\n",
       "      <td>150000.000000</td>\n",
       "      <td>146076.000000</td>\n",
       "    </tr>\n",
       "    <tr>\n",
       "      <th>mean</th>\n",
       "      <td>75000.500000</td>\n",
       "      <td>0.066840</td>\n",
       "      <td>6.048438</td>\n",
       "      <td>52.295207</td>\n",
       "      <td>0.421033</td>\n",
       "      <td>353.005076</td>\n",
       "      <td>6.670221e+03</td>\n",
       "      <td>8.452760</td>\n",
       "      <td>0.265973</td>\n",
       "      <td>1.018240</td>\n",
       "      <td>0.240387</td>\n",
       "      <td>0.757222</td>\n",
       "    </tr>\n",
       "    <tr>\n",
       "      <th>std</th>\n",
       "      <td>43301.414527</td>\n",
       "      <td>0.249746</td>\n",
       "      <td>249.755371</td>\n",
       "      <td>14.771866</td>\n",
       "      <td>4.192781</td>\n",
       "      <td>2037.818523</td>\n",
       "      <td>1.438467e+04</td>\n",
       "      <td>5.145951</td>\n",
       "      <td>4.169304</td>\n",
       "      <td>1.129771</td>\n",
       "      <td>4.155179</td>\n",
       "      <td>1.115086</td>\n",
       "    </tr>\n",
       "    <tr>\n",
       "      <th>min</th>\n",
       "      <td>1.000000</td>\n",
       "      <td>0.000000</td>\n",
       "      <td>0.000000</td>\n",
       "      <td>0.000000</td>\n",
       "      <td>0.000000</td>\n",
       "      <td>0.000000</td>\n",
       "      <td>0.000000e+00</td>\n",
       "      <td>0.000000</td>\n",
       "      <td>0.000000</td>\n",
       "      <td>0.000000</td>\n",
       "      <td>0.000000</td>\n",
       "      <td>0.000000</td>\n",
       "    </tr>\n",
       "    <tr>\n",
       "      <th>25%</th>\n",
       "      <td>37500.750000</td>\n",
       "      <td>0.000000</td>\n",
       "      <td>0.029867</td>\n",
       "      <td>41.000000</td>\n",
       "      <td>0.000000</td>\n",
       "      <td>0.175074</td>\n",
       "      <td>3.400000e+03</td>\n",
       "      <td>5.000000</td>\n",
       "      <td>0.000000</td>\n",
       "      <td>0.000000</td>\n",
       "      <td>0.000000</td>\n",
       "      <td>0.000000</td>\n",
       "    </tr>\n",
       "    <tr>\n",
       "      <th>50%</th>\n",
       "      <td>75000.500000</td>\n",
       "      <td>0.000000</td>\n",
       "      <td>0.154181</td>\n",
       "      <td>52.000000</td>\n",
       "      <td>0.000000</td>\n",
       "      <td>0.366508</td>\n",
       "      <td>5.400000e+03</td>\n",
       "      <td>8.000000</td>\n",
       "      <td>0.000000</td>\n",
       "      <td>1.000000</td>\n",
       "      <td>0.000000</td>\n",
       "      <td>0.000000</td>\n",
       "    </tr>\n",
       "    <tr>\n",
       "      <th>75%</th>\n",
       "      <td>112500.250000</td>\n",
       "      <td>0.000000</td>\n",
       "      <td>0.559046</td>\n",
       "      <td>63.000000</td>\n",
       "      <td>0.000000</td>\n",
       "      <td>0.868254</td>\n",
       "      <td>8.249000e+03</td>\n",
       "      <td>11.000000</td>\n",
       "      <td>0.000000</td>\n",
       "      <td>2.000000</td>\n",
       "      <td>0.000000</td>\n",
       "      <td>1.000000</td>\n",
       "    </tr>\n",
       "    <tr>\n",
       "      <th>max</th>\n",
       "      <td>150000.000000</td>\n",
       "      <td>1.000000</td>\n",
       "      <td>50708.000000</td>\n",
       "      <td>109.000000</td>\n",
       "      <td>98.000000</td>\n",
       "      <td>329664.000000</td>\n",
       "      <td>3.008750e+06</td>\n",
       "      <td>58.000000</td>\n",
       "      <td>98.000000</td>\n",
       "      <td>54.000000</td>\n",
       "      <td>98.000000</td>\n",
       "      <td>20.000000</td>\n",
       "    </tr>\n",
       "  </tbody>\n",
       "</table>\n",
       "</div>"
      ],
      "text/plain": [
       "          Unnamed: 0  SeriousDlqin2yrs  RevolvingUtilizationOfUnsecuredLines  \\\n",
       "count  150000.000000     150000.000000                         150000.000000   \n",
       "mean    75000.500000          0.066840                              6.048438   \n",
       "std     43301.414527          0.249746                            249.755371   \n",
       "min         1.000000          0.000000                              0.000000   \n",
       "25%     37500.750000          0.000000                              0.029867   \n",
       "50%     75000.500000          0.000000                              0.154181   \n",
       "75%    112500.250000          0.000000                              0.559046   \n",
       "max    150000.000000          1.000000                          50708.000000   \n",
       "\n",
       "                 age  NumberOfTime30-59DaysPastDueNotWorse      DebtRatio  \\\n",
       "count  150000.000000                         150000.000000  150000.000000   \n",
       "mean       52.295207                              0.421033     353.005076   \n",
       "std        14.771866                              4.192781    2037.818523   \n",
       "min         0.000000                              0.000000       0.000000   \n",
       "25%        41.000000                              0.000000       0.175074   \n",
       "50%        52.000000                              0.000000       0.366508   \n",
       "75%        63.000000                              0.000000       0.868254   \n",
       "max       109.000000                             98.000000  329664.000000   \n",
       "\n",
       "       MonthlyIncome  NumberOfOpenCreditLinesAndLoans  \\\n",
       "count   1.202690e+05                    150000.000000   \n",
       "mean    6.670221e+03                         8.452760   \n",
       "std     1.438467e+04                         5.145951   \n",
       "min     0.000000e+00                         0.000000   \n",
       "25%     3.400000e+03                         5.000000   \n",
       "50%     5.400000e+03                         8.000000   \n",
       "75%     8.249000e+03                        11.000000   \n",
       "max     3.008750e+06                        58.000000   \n",
       "\n",
       "       NumberOfTimes90DaysLate  NumberRealEstateLoansOrLines  \\\n",
       "count            150000.000000                 150000.000000   \n",
       "mean                  0.265973                      1.018240   \n",
       "std                   4.169304                      1.129771   \n",
       "min                   0.000000                      0.000000   \n",
       "25%                   0.000000                      0.000000   \n",
       "50%                   0.000000                      1.000000   \n",
       "75%                   0.000000                      2.000000   \n",
       "max                  98.000000                     54.000000   \n",
       "\n",
       "       NumberOfTime60-89DaysPastDueNotWorse  NumberOfDependents  \n",
       "count                         150000.000000       146076.000000  \n",
       "mean                               0.240387            0.757222  \n",
       "std                                4.155179            1.115086  \n",
       "min                                0.000000            0.000000  \n",
       "25%                                0.000000            0.000000  \n",
       "50%                                0.000000            0.000000  \n",
       "75%                                0.000000            1.000000  \n",
       "max                               98.000000           20.000000  "
      ]
     },
     "execution_count": 9,
     "metadata": {},
     "output_type": "execute_result"
    }
   ],
   "source": [
    "df_raw.describe()"
   ]
  },
  {
   "cell_type": "code",
   "execution_count": 10,
   "metadata": {},
   "outputs": [
    {
     "data": {
      "text/html": [
       "<div>\n",
       "<style scoped>\n",
       "    .dataframe tbody tr th:only-of-type {\n",
       "        vertical-align: middle;\n",
       "    }\n",
       "\n",
       "    .dataframe tbody tr th {\n",
       "        vertical-align: top;\n",
       "    }\n",
       "\n",
       "    .dataframe thead th {\n",
       "        text-align: right;\n",
       "    }\n",
       "</style>\n",
       "<table border=\"1\" class=\"dataframe\">\n",
       "  <thead>\n",
       "    <tr style=\"text-align: right;\">\n",
       "      <th></th>\n",
       "      <th>Unnamed: 0</th>\n",
       "      <th>SeriousDlqin2yrs</th>\n",
       "      <th>RevolvingUtilizationOfUnsecuredLines</th>\n",
       "      <th>age</th>\n",
       "      <th>NumberOfTime30-59DaysPastDueNotWorse</th>\n",
       "      <th>DebtRatio</th>\n",
       "      <th>MonthlyIncome</th>\n",
       "      <th>NumberOfOpenCreditLinesAndLoans</th>\n",
       "      <th>NumberOfTimes90DaysLate</th>\n",
       "      <th>NumberRealEstateLoansOrLines</th>\n",
       "      <th>NumberOfTime60-89DaysPastDueNotWorse</th>\n",
       "      <th>NumberOfDependents</th>\n",
       "    </tr>\n",
       "  </thead>\n",
       "  <tbody>\n",
       "    <tr>\n",
       "      <th>0</th>\n",
       "      <td>1</td>\n",
       "      <td>1</td>\n",
       "      <td>0.766127</td>\n",
       "      <td>45</td>\n",
       "      <td>2</td>\n",
       "      <td>0.802982</td>\n",
       "      <td>9120.0</td>\n",
       "      <td>13</td>\n",
       "      <td>0</td>\n",
       "      <td>6</td>\n",
       "      <td>0</td>\n",
       "      <td>2.0</td>\n",
       "    </tr>\n",
       "    <tr>\n",
       "      <th>1</th>\n",
       "      <td>2</td>\n",
       "      <td>0</td>\n",
       "      <td>0.957151</td>\n",
       "      <td>40</td>\n",
       "      <td>0</td>\n",
       "      <td>0.121876</td>\n",
       "      <td>2600.0</td>\n",
       "      <td>4</td>\n",
       "      <td>0</td>\n",
       "      <td>0</td>\n",
       "      <td>0</td>\n",
       "      <td>1.0</td>\n",
       "    </tr>\n",
       "    <tr>\n",
       "      <th>2</th>\n",
       "      <td>3</td>\n",
       "      <td>0</td>\n",
       "      <td>0.658180</td>\n",
       "      <td>38</td>\n",
       "      <td>1</td>\n",
       "      <td>0.085113</td>\n",
       "      <td>3042.0</td>\n",
       "      <td>2</td>\n",
       "      <td>1</td>\n",
       "      <td>0</td>\n",
       "      <td>0</td>\n",
       "      <td>0.0</td>\n",
       "    </tr>\n",
       "    <tr>\n",
       "      <th>3</th>\n",
       "      <td>4</td>\n",
       "      <td>0</td>\n",
       "      <td>0.233810</td>\n",
       "      <td>30</td>\n",
       "      <td>0</td>\n",
       "      <td>0.036050</td>\n",
       "      <td>3300.0</td>\n",
       "      <td>5</td>\n",
       "      <td>0</td>\n",
       "      <td>0</td>\n",
       "      <td>0</td>\n",
       "      <td>0.0</td>\n",
       "    </tr>\n",
       "    <tr>\n",
       "      <th>4</th>\n",
       "      <td>5</td>\n",
       "      <td>0</td>\n",
       "      <td>0.907239</td>\n",
       "      <td>49</td>\n",
       "      <td>1</td>\n",
       "      <td>0.024926</td>\n",
       "      <td>63588.0</td>\n",
       "      <td>7</td>\n",
       "      <td>0</td>\n",
       "      <td>1</td>\n",
       "      <td>0</td>\n",
       "      <td>0.0</td>\n",
       "    </tr>\n",
       "  </tbody>\n",
       "</table>\n",
       "</div>"
      ],
      "text/plain": [
       "   Unnamed: 0  SeriousDlqin2yrs  RevolvingUtilizationOfUnsecuredLines  age  \\\n",
       "0           1                 1                              0.766127   45   \n",
       "1           2                 0                              0.957151   40   \n",
       "2           3                 0                              0.658180   38   \n",
       "3           4                 0                              0.233810   30   \n",
       "4           5                 0                              0.907239   49   \n",
       "\n",
       "   NumberOfTime30-59DaysPastDueNotWorse  DebtRatio  MonthlyIncome  \\\n",
       "0                                     2   0.802982         9120.0   \n",
       "1                                     0   0.121876         2600.0   \n",
       "2                                     1   0.085113         3042.0   \n",
       "3                                     0   0.036050         3300.0   \n",
       "4                                     1   0.024926        63588.0   \n",
       "\n",
       "   NumberOfOpenCreditLinesAndLoans  NumberOfTimes90DaysLate  \\\n",
       "0                               13                        0   \n",
       "1                                4                        0   \n",
       "2                                2                        1   \n",
       "3                                5                        0   \n",
       "4                                7                        0   \n",
       "\n",
       "   NumberRealEstateLoansOrLines  NumberOfTime60-89DaysPastDueNotWorse  \\\n",
       "0                             6                                     0   \n",
       "1                             0                                     0   \n",
       "2                             0                                     0   \n",
       "3                             0                                     0   \n",
       "4                             1                                     0   \n",
       "\n",
       "   NumberOfDependents  \n",
       "0                 2.0  \n",
       "1                 1.0  \n",
       "2                 0.0  \n",
       "3                 0.0  \n",
       "4                 0.0  "
      ]
     },
     "execution_count": 10,
     "metadata": {},
     "output_type": "execute_result"
    }
   ],
   "source": [
    "df_raw.head()"
   ]
  },
  {
   "cell_type": "code",
   "execution_count": 12,
   "metadata": {},
   "outputs": [],
   "source": [
    "columns = ['Id', 'SeriousDlqin2yrs','RevolvingUtilizationOfUnsecuredLines', 'age',\n",
    "                 'NumberOfTime30-59DaysPastDueNotWorse', 'DebtRatio', 'MonthlyIncome',\n",
    "                 'NumberOfOpenCreditLinesAndLoans', 'NumberOfTimes90DaysLate',\n",
    "                 'NumberRealEstateLoansOrLines', 'NumberOfTime60-89DaysPastDueNotWorse',\n",
    "                 'NumberOfDependents']\n",
    "df_raw.columns= columns\n",
    "df_test.columns = columns\n",
    "df_test.drop(['SeriousDlqin2yrs'], axis=1, inplace=True)\n",
    "df = df_raw.copy()"
   ]
  },
  {
   "cell_type": "code",
   "execution_count": 13,
   "metadata": {},
   "outputs": [
    {
     "name": "stdout",
     "output_type": "stream",
     "text": [
      "SeriousDlqin2yrs                        1.000000\n",
      "NumberOfTime30-59DaysPastDueNotWorse    0.125587\n",
      "NumberOfTimes90DaysLate                 0.117175\n",
      "NumberOfTime60-89DaysPastDueNotWorse    0.102261\n",
      "NumberOfDependents                      0.046048\n",
      "Id                                      0.002801\n",
      "RevolvingUtilizationOfUnsecuredLines   -0.001802\n",
      "NumberRealEstateLoansOrLines           -0.007038\n",
      "DebtRatio                              -0.007602\n",
      "MonthlyIncome                          -0.019746\n",
      "NumberOfOpenCreditLinesAndLoans        -0.029669\n",
      "age                                    -0.115386\n",
      "Name: SeriousDlqin2yrs, dtype: float64\n"
     ]
    }
   ],
   "source": [
    "#Find most important features relative to target\n",
    "corr = df.corr()\n",
    "corr.sort_values(['SeriousDlqin2yrs'], ascending = False, inplace = True)\n",
    "print(corr.SeriousDlqin2yrs)\n"
   ]
  },
  {
   "cell_type": "code",
   "execution_count": 14,
   "metadata": {},
   "outputs": [
    {
     "name": "stdout",
     "output_type": "stream",
     "text": [
      "0    1\n",
      "1    0\n",
      "2    0\n",
      "3    0\n",
      "4    0\n",
      "Name: SeriousDlqin2yrs, dtype: int64\n",
      "{'MonthlyIncome': 5400.0, 'NumberOfDependents': 0.0}\n",
      "0.0\n"
     ]
    }
   ],
   "source": [
    "\n",
    "combined,df,y,cat_cols,num_cols,test_id,n_train,n_test = preprocess_df(\n",
    "                                       df_train=df,df_test=df_test,\n",
    "                                       target_col='SeriousDlqin2yrs',\n",
    "                                       id_col='Id',\n",
    "                                       remove_skewness=True,\n",
    "                                       skew_threshold=0.75,\n",
    "                                       boxcox_lambda=0.2,\n",
    "                                       scale_mapper=RobustScaler()\n",
    "                                       )\n",
    "\n"
   ]
  },
  {
   "cell_type": "code",
   "execution_count": null,
   "metadata": {},
   "outputs": [],
   "source": [
    "df.info()"
   ]
  },
  {
   "cell_type": "code",
   "execution_count": null,
   "metadata": {},
   "outputs": [],
   "source": [
    "df_raw['SeriousDlqin2yrs'].head()"
   ]
  },
  {
   "cell_type": "code",
   "execution_count": null,
   "metadata": {},
   "outputs": [],
   "source": [
    "y.head()"
   ]
  },
  {
   "cell_type": "code",
   "execution_count": 15,
   "metadata": {},
   "outputs": [
    {
     "data": {
      "text/plain": [
       "{'DebtRatio': (-0.6898509855776909, 1.8761315545181199),\n",
       " 'MonthlyIncome': (4.768564869602322, 5.522452016090394),\n",
       " 'NumberOfDependents': (-1.5, 2.5),\n",
       " 'NumberOfOpenCreditLinesAndLoans': (1.300166838962975, 3.3058475995996432),\n",
       " 'NumberOfTime30-59DaysPastDueNotWorse': (0.0, 0.0),\n",
       " 'NumberOfTime60-89DaysPastDueNotWorse': (0.0, 0.0),\n",
       " 'NumberOfTimes90DaysLate': (0.0, 0.0),\n",
       " 'NumberRealEstateLoansOrLines': (-2.1583421225545587, 3.5972368709242644),\n",
       " 'RevolvingUtilizationOfUnsecuredLines': (-0.9014455427324771,\n",
       "  1.6425972222125693),\n",
       " 'age': (2.9691248157200487, 3.8137150538445965)}"
      ]
     },
     "execution_count": 15,
     "metadata": {},
     "output_type": "execute_result"
    }
   ],
   "source": [
    "iqr_ranges = get_iqr_min_max(combined,num_cols)\n",
    "iqr_ranges"
   ]
  },
  {
   "cell_type": "code",
   "execution_count": null,
   "metadata": {},
   "outputs": [],
   "source": [
    "combined.shape,df.shape,df_test.shape"
   ]
  },
  {
   "cell_type": "code",
   "execution_count": 16,
   "metadata": {},
   "outputs": [
    {
     "data": {
      "text/plain": [
       "((135000, 12), (15000, 12), (135000,), (15000,), (135000,))"
      ]
     },
     "execution_count": 16,
     "metadata": {},
     "output_type": "execute_result"
    }
   ],
   "source": [
    "df = combined[:n_train]\n",
    "df_test = combined[n_train:]\n",
    "stratify_col = y\n",
    "\n",
    "X_train,X_test,y_train,y_test = train_test_split(df,y,test_size=0.10,\n",
    "                                  stratify=y,shuffle = True,random_state=20)\n",
    "\n",
    "stratify_X_train = stratify_col[:X_train.shape[0]].copy()\n",
    "X_train.shape,X_test.shape,y_train.shape,y_test.shape, stratify_X_train.shape"
   ]
  },
  {
   "cell_type": "code",
   "execution_count": 17,
   "metadata": {},
   "outputs": [
    {
     "data": {
      "text/plain": [
       "((108000, 12), (27000, 12), (108000,), (27000,))"
      ]
     },
     "execution_count": 17,
     "metadata": {},
     "output_type": "execute_result"
    }
   ],
   "source": [
    "X_train,X_valid,y_train,y_valid = train_test_split(X_train,y_train,test_size=0.2,\n",
    "                                  stratify=stratify_X_train,shuffle = True,random_state=20)\n",
    "X_train.shape,X_valid.shape,y_train.shape,y_valid.shape"
   ]
  },
  {
   "cell_type": "code",
   "execution_count": 18,
   "metadata": {},
   "outputs": [
    {
     "name": "stdout",
     "output_type": "stream",
     "text": [
      "AUC for Random Forest: 0.842684\n"
     ]
    }
   ],
   "source": [
    "rf_model = RandomForestClassifier(n_estimators=300,random_state=10, n_jobs=-1).fit(X_train,y_train)\n",
    "rf_auc = roc_auc_score(y_valid,rf_model.predict_proba(X_valid)[:, 1])\n",
    "print(\"AUC for Random Forest: {:.6f}\".format(rf_auc))"
   ]
  },
  {
   "cell_type": "code",
   "execution_count": 20,
   "metadata": {},
   "outputs": [
    {
     "name": "stdout",
     "output_type": "stream",
     "text": [
      "Confusion matrix:\n",
      "[[24836   303]\n",
      " [ 1524   337]]\n"
     ]
    }
   ],
   "source": [
    "preds_rf = rf_model.predict(X_valid)\n",
    "confusion = confusion_matrix(y_valid, preds_rf)\n",
    "print(\"Confusion matrix:\\n{}\".format(confusion))"
   ]
  },
  {
   "cell_type": "code",
   "execution_count": 19,
   "metadata": {},
   "outputs": [
    {
     "name": "stdout",
     "output_type": "stream",
     "text": [
      "AUC for Gradient Boost: 0.862961\n"
     ]
    }
   ],
   "source": [
    "gb_model = GradientBoostingClassifier(n_estimators=300,random_state=10).fit(X_train,y_train)\n",
    "gb_auc = roc_auc_score(y_valid,gb_model.predict_proba(X_valid)[:, 1])\n",
    "print(\"AUC for Gradient Boost: {:.6f}\".format(gb_auc))"
   ]
  },
  {
   "cell_type": "code",
   "execution_count": 21,
   "metadata": {},
   "outputs": [
    {
     "name": "stdout",
     "output_type": "stream",
     "text": [
      "Confusion matrix:\n",
      "[[24874   265]\n",
      " [ 1508   353]]\n"
     ]
    }
   ],
   "source": [
    "preds_gb = gb_model.predict(X_valid)\n",
    "confusion = confusion_matrix(y_valid, preds_gb)\n",
    "print(\"Confusion matrix:\\n{}\".format(confusion))"
   ]
  },
  {
   "cell_type": "code",
   "execution_count": 22,
   "metadata": {},
   "outputs": [
    {
     "name": "stdout",
     "output_type": "stream",
     "text": [
      "RevolvingUtilizationOfUnsecuredLines    0.191734\n",
      "DebtRatio                               0.174215\n",
      "MonthlyIncome                           0.140418\n",
      "age                                     0.129085\n",
      "NumberOfOpenCreditLinesAndLoans         0.090661\n",
      "NumberOfTimes90DaysLate                 0.088518\n",
      "NumberOfTime30-59DaysPastDueNotWorse    0.053856\n",
      "NumberOfTime60-89DaysPastDueNotWorse    0.048158\n",
      "NumberOfDependents                      0.041042\n",
      "NumberRealEstateLoansOrLines            0.034271\n",
      "MonthlyIncome_na                        0.005344\n",
      "NumberOfDependents_na                   0.002700\n",
      "dtype: float64\n"
     ]
    }
   ],
   "source": [
    "print_feature_importances(rf_model,X_train)"
   ]
  },
  {
   "cell_type": "code",
   "execution_count": 23,
   "metadata": {},
   "outputs": [
    {
     "name": "stdout",
     "output_type": "stream",
     "text": [
      "RevolvingUtilizationOfUnsecuredLines    0.191734\n",
      "DebtRatio                               0.174215\n",
      "MonthlyIncome                           0.140418\n",
      "age                                     0.129085\n",
      "NumberOfOpenCreditLinesAndLoans         0.090661\n",
      "NumberOfTimes90DaysLate                 0.088518\n",
      "NumberOfTime30-59DaysPastDueNotWorse    0.053856\n",
      "NumberOfTime60-89DaysPastDueNotWorse    0.048158\n",
      "NumberOfDependents                      0.041042\n",
      "NumberRealEstateLoansOrLines            0.034271\n",
      "MonthlyIncome_na                        0.005344\n",
      "NumberOfDependents_na                   0.002700\n",
      "dtype: float64\n"
     ]
    }
   ],
   "source": [
    "print_feature_importances(gb_model,X_train)"
   ]
  },
  {
   "cell_type": "code",
   "execution_count": 25,
   "metadata": {},
   "outputs": [
    {
     "data": {
      "text/plain": [
       "0     126018\n",
       "1      16033\n",
       "2       4598\n",
       "3       1754\n",
       "4        747\n",
       "5        342\n",
       "98       264\n",
       "6        140\n",
       "7         54\n",
       "8         25\n",
       "9         12\n",
       "96         5\n",
       "10         4\n",
       "12         2\n",
       "13         1\n",
       "11         1\n",
       "Name: NumberOfTime30-59DaysPastDueNotWorse, dtype: int64"
      ]
     },
     "execution_count": 25,
     "metadata": {},
     "output_type": "execute_result"
    }
   ],
   "source": [
    "df_raw['NumberOfTime30-59DaysPastDueNotWorse'].value_counts()"
   ]
  },
  {
   "cell_type": "code",
   "execution_count": 28,
   "metadata": {},
   "outputs": [
    {
     "name": "stdout",
     "output_type": "stream",
     "text": [
      "0    1\n",
      "1    0\n",
      "2    0\n",
      "3    0\n",
      "4    0\n",
      "Name: SeriousDlqin2yrs, dtype: int64\n",
      "{'MonthlyIncome': 5400.0, 'NumberOfDependents': 0.0, 'DepsIncomeComined': 0.0}\n",
      "0.0\n"
     ]
    },
    {
     "data": {
      "text/plain": [
       "((108000, 46), (27000, 46), (108000,), (27000,))"
      ]
     },
     "execution_count": 28,
     "metadata": {},
     "output_type": "execute_result"
    }
   ],
   "source": [
    "PATH = \"data/give_me_credit/\"\n",
    "df_raw = pd.read_csv(f'{PATH}train.csv', low_memory=False)\n",
    "df_test = pd.read_csv(f'{PATH}test.csv', low_memory=False)\n",
    "columns = ['Id', 'SeriousDlqin2yrs','RevolvingUtilizationOfUnsecuredLines', 'age',\n",
    "                 'NumberOfTime30-59DaysPastDueNotWorse', 'DebtRatio', 'MonthlyIncome',\n",
    "                 'NumberOfOpenCreditLinesAndLoans', 'NumberOfTimes90DaysLate',\n",
    "                 'NumberRealEstateLoansOrLines', 'NumberOfTime60-89DaysPastDueNotWorse',\n",
    "                 'NumberOfDependents']\n",
    "df_raw.columns= columns\n",
    "df_test.columns = columns\n",
    "df_test.drop(['SeriousDlqin2yrs'], axis=1, inplace=True)\n",
    "df = df_raw.copy()\n",
    "combined,df,y,cat_cols,num_cols,test_id,n_train,n_test = preprocess_df(\n",
    "                                       df_train=df,df_test=df_test,\n",
    "                                       target_col='SeriousDlqin2yrs',\n",
    "                                       id_col='Id',\n",
    "                                       convert_to_cat_cols=[\n",
    "                                       'NumberOfTime30-59DaysPastDueNotWorse',\n",
    "                                       'NumberOfTime60-89DaysPastDueNotWorse'\n",
    "                                       ],\n",
    "                                       new_features_func=add_new_features1,\n",
    "                                       remove_skewness=True,\n",
    "                                       skew_threshold=0.75,\n",
    "                                       boxcox_lambda=0.2,\n",
    "                                       scale_mapper=RobustScaler()\n",
    "                                       )\n",
    "\n",
    "df = combined[:n_train]\n",
    "df_test = combined[n_train:]\n",
    "stratify_col = y\n",
    "\n",
    "X_train,X_test,y_train,y_test = train_test_split(df,y,test_size=0.10,\n",
    "                                  stratify=y,shuffle = True,random_state=20)\n",
    "\n",
    "stratify_X_train = stratify_col[:X_train.shape[0]].copy()\n",
    "X_train.shape,X_test.shape,y_train.shape,y_test.shape, stratify_X_train.shape\n",
    "X_train,X_valid,y_train,y_valid = train_test_split(X_train,y_train,test_size=0.2,\n",
    "                                  stratify=stratify_X_train,shuffle = True,random_state=20)\n",
    "X_train.shape,X_valid.shape,y_train.shape,y_valid.shape"
   ]
  },
  {
   "cell_type": "code",
   "execution_count": 29,
   "metadata": {},
   "outputs": [
    {
     "name": "stdout",
     "output_type": "stream",
     "text": [
      "AUC for Random Forest: 0.839244\n",
      "Confusion matrix:\n",
      "[[24844   295]\n",
      " [ 1521   340]]\n"
     ]
    }
   ],
   "source": [
    "rf_model = RandomForestClassifier(n_estimators=300,random_state=10, n_jobs=-1).fit(X_train,y_train)\n",
    "rf_auc = roc_auc_score(y_valid,rf_model.predict_proba(X_valid)[:, 1])\n",
    "print(\"AUC for Random Forest: {:.6f}\".format(rf_auc))\n",
    "preds_rf = rf_model.predict(X_valid)\n",
    "confusion = confusion_matrix(y_valid, preds_rf)\n",
    "print(\"Confusion matrix:\\n{}\".format(confusion))"
   ]
  },
  {
   "cell_type": "code",
   "execution_count": 30,
   "metadata": {},
   "outputs": [
    {
     "name": "stdout",
     "output_type": "stream",
     "text": [
      "AUC for Gradient Boost: 0.862075\n",
      "Confusion matrix:\n",
      "[[24869   270]\n",
      " [ 1496   365]]\n"
     ]
    }
   ],
   "source": [
    "gb_model = GradientBoostingClassifier(n_estimators=300,random_state=10).fit(X_train,y_train)\n",
    "gb_auc = roc_auc_score(y_valid,gb_model.predict_proba(X_valid)[:, 1])\n",
    "print(\"AUC for Gradient Boost: {:.6f}\".format(gb_auc))\n",
    "\n",
    "preds_gb = gb_model.predict(X_valid)\n",
    "confusion = confusion_matrix(y_valid, preds_gb)\n",
    "print(\"Confusion matrix:\\n{}\".format(confusion))"
   ]
  },
  {
   "cell_type": "code",
   "execution_count": 31,
   "metadata": {},
   "outputs": [
    {
     "name": "stdout",
     "output_type": "stream",
     "text": [
      "0    1\n",
      "1    0\n",
      "2    0\n",
      "3    0\n",
      "4    0\n",
      "Name: SeriousDlqin2yrs, dtype: int64\n",
      "{'MonthlyIncome': 5400.0, 'NumberOfDependents': 0.0, 'DepsIncomeComined': 0.0}\n",
      "0.0\n"
     ]
    },
    {
     "data": {
      "text/plain": [
       "((108000, 49), (27000, 49), (108000,), (27000,))"
      ]
     },
     "execution_count": 31,
     "metadata": {},
     "output_type": "execute_result"
    }
   ],
   "source": [
    "PATH = \"data/give_me_credit/\"\n",
    "df_raw = pd.read_csv(f'{PATH}train.csv', low_memory=False)\n",
    "df_test = pd.read_csv(f'{PATH}test.csv', low_memory=False)\n",
    "columns = ['Id', 'SeriousDlqin2yrs','RevolvingUtilizationOfUnsecuredLines', 'age',\n",
    "                 'NumberOfTime30-59DaysPastDueNotWorse', 'DebtRatio', 'MonthlyIncome',\n",
    "                 'NumberOfOpenCreditLinesAndLoans', 'NumberOfTimes90DaysLate',\n",
    "                 'NumberRealEstateLoansOrLines', 'NumberOfTime60-89DaysPastDueNotWorse',\n",
    "                 'NumberOfDependents']\n",
    "df_raw.columns= columns\n",
    "df_test.columns = columns\n",
    "df_test.drop(['SeriousDlqin2yrs'], axis=1, inplace=True)\n",
    "df = df_raw.copy()\n",
    "combined,df,y,cat_cols,num_cols,test_id,n_train,n_test = preprocess_df(\n",
    "                                       df_train=df,df_test=df_test,\n",
    "                                       target_col='SeriousDlqin2yrs',\n",
    "                                       id_col='Id',\n",
    "                                       convert_to_cat_cols=[\n",
    "                                       'NumberOfTime30-59DaysPastDueNotWorse',\n",
    "                                       'NumberOfTime60-89DaysPastDueNotWorse'\n",
    "                                       ],\n",
    "                                       new_features_func=add_new_features2,\n",
    "                                       remove_skewness=True,\n",
    "                                       skew_threshold=0.75,\n",
    "                                       boxcox_lambda=0.2,\n",
    "                                       scale_mapper=RobustScaler()\n",
    "                                       )\n",
    "\n",
    "df = combined[:n_train]\n",
    "df_test = combined[n_train:]\n",
    "stratify_col = y\n",
    "\n",
    "X_train,X_test,y_train,y_test = train_test_split(df,y,test_size=0.10,\n",
    "                                  stratify=y,shuffle = True,random_state=20)\n",
    "\n",
    "stratify_X_train = stratify_col[:X_train.shape[0]].copy()\n",
    "X_train.shape,X_test.shape,y_train.shape,y_test.shape, stratify_X_train.shape\n",
    "X_train,X_valid,y_train,y_valid = train_test_split(X_train,y_train,test_size=0.2,\n",
    "                                  stratify=stratify_X_train,shuffle = True,random_state=20)\n",
    "X_train.shape,X_valid.shape,y_train.shape,y_valid.shape"
   ]
  },
  {
   "cell_type": "code",
   "execution_count": 27,
   "metadata": {},
   "outputs": [
    {
     "name": "stdout",
     "output_type": "stream",
     "text": [
      "AUC for Random Forest: 0.837253\n",
      "Confusion matrix:\n",
      "[[24837   302]\n",
      " [ 1521   340]]\n"
     ]
    }
   ],
   "source": [
    "rf_model = RandomForestClassifier(n_estimators=300,random_state=10, n_jobs=-1).fit(X_train,y_train)\n",
    "rf_auc = roc_auc_score(y_valid,rf_model.predict_proba(X_valid)[:, 1])\n",
    "print(\"AUC for Random Forest: {:.6f}\".format(rf_auc))\n",
    "preds_rf = rf_model.predict(X_valid)\n",
    "confusion = confusion_matrix(y_valid, preds_rf)\n",
    "print(\"Confusion matrix:\\n{}\".format(confusion))"
   ]
  },
  {
   "cell_type": "code",
   "execution_count": 32,
   "metadata": {},
   "outputs": [
    {
     "name": "stdout",
     "output_type": "stream",
     "text": [
      "AUC for Gradient Boost: 0.861906\n",
      "Confusion matrix:\n",
      "[[24876   263]\n",
      " [ 1490   371]]\n"
     ]
    }
   ],
   "source": [
    "gb_model = GradientBoostingClassifier(n_estimators=300,random_state=10).fit(X_train,y_train)\n",
    "gb_auc = roc_auc_score(y_valid,gb_model.predict_proba(X_valid)[:, 1])\n",
    "print(\"AUC for Gradient Boost: {:.6f}\".format(gb_auc))\n",
    "\n",
    "preds_gb = gb_model.predict(X_valid)\n",
    "confusion = confusion_matrix(y_valid, preds_gb)\n",
    "print(\"Confusion matrix:\\n{}\".format(confusion))"
   ]
  },
  {
   "cell_type": "code",
   "execution_count": null,
   "metadata": {},
   "outputs": [],
   "source": []
  }
 ],
 "metadata": {
  "kernelspec": {
   "display_name": "Python 3",
   "language": "python",
   "name": "python3"
  },
  "language_info": {
   "codemirror_mode": {
    "name": "ipython",
    "version": 3
   },
   "file_extension": ".py",
   "mimetype": "text/x-python",
   "name": "python",
   "nbconvert_exporter": "python",
   "pygments_lexer": "ipython3",
   "version": "3.7.3"
  },
  "toc": {
   "colors": {
    "hover_highlight": "#DAA520",
    "navigate_num": "#000000",
    "navigate_text": "#333333",
    "running_highlight": "#FF0000",
    "selected_highlight": "#FFD700",
    "sidebar_border": "#EEEEEE",
    "wrapper_background": "#FFFFFF"
   },
   "moveMenuLeft": true,
   "nav_menu": {
    "height": "512px",
    "width": "252px"
   },
   "navigate_menu": true,
   "number_sections": true,
   "sideBar": true,
   "threshold": 4,
   "toc_cell": false,
   "toc_section_display": "block",
   "toc_window_display": false,
   "widenNotebook": false
  }
 },
 "nbformat": 4,
 "nbformat_minor": 2
}
