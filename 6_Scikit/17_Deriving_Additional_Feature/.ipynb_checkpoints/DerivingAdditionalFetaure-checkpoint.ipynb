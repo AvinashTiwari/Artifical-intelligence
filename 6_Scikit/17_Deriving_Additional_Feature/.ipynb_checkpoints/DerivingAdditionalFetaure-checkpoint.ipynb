{
 "cells": [
  {
   "cell_type": "code",
   "execution_count": 1,
   "metadata": {
    "hidden": true
   },
   "outputs": [],
   "source": [
    "import numpy as np\n",
    "import os\n",
    "import matplotlib\n",
    "import matplotlib.pyplot as plt\n",
    "import pandas as pd\n",
    "from IPython.display import display\n",
    "import sklearn\n",
    "from sklearn.model_selection import train_test_split\n",
    "from sklearn.preprocessing import PolynomialFeatures\n",
    "from sklearn.preprocessing import MinMaxScaler, RobustScaler, StandardScaler, LabelEncoder\n",
    "from sklearn.ensemble import RandomForestRegressor, RandomForestClassifier\n",
    "from sklearn import metrics\n",
    "from sklearn.metrics import mean_squared_error,mean_squared_log_error,r2_score\n",
    "from sklearn_pandas import DataFrameMapper\n",
    "from pandas.api.types import is_string_dtype, is_numeric_dtype\n",
    "\n",
    "from scipy.stats import skew\n",
    "from scipy.special import boxcox1p\n",
    "\n",
    "%matplotlib inline"
   ]
  },
  {
   "cell_type": "code",
   "execution_count": 3,
   "metadata": {},
   "outputs": [],
   "source": [
    "def print_feature_importances(model,X):\n",
    "    important_features = pd.Series(data=rf_model.feature_importances_,index=X.columns)\n",
    "    important_features.sort_values(ascending=False,inplace=True)\n",
    "    print(important_features.head(50))\n",
    "    \n",
    "def get_cat_columns_by_type(df):\n",
    "    out = []\n",
    "    for colname,col_values in df.items():\n",
    "        if is_string_dtype(col_values):\n",
    "            out.append((colname,'string') )\n",
    "        elif not is_numeric_dtype(col_values):\n",
    "            out.append((colname,'categorical') )\n",
    "    return out       \n",
    "\n",
    "def get_numeric_columns(df):\n",
    "    out = []\n",
    "    for colname,col_values in df.items():\n",
    "        if is_numeric_dtype(col_values):\n",
    "            out.append(colname)\n",
    "    return out       \n",
    "    \n",
    "def get_missing_values_percentage(df):\n",
    "    missing_values_counts_list = df.isnull().sum()\n",
    "    total_values = np.product(df.shape)\n",
    "    total_missing = missing_values_counts_list.sum()\n",
    "    # percent of data that is missing\n",
    "    return (total_missing/total_values) * 100\n",
    "\n",
    "\n",
    "def convert_to_str_type(df_in,columns,inplace=False):\n",
    "    if(inplace):\n",
    "        df = df_in\n",
    "    else:\n",
    "        df = df_in.copy()\n",
    "        \n",
    "    for col in columns:\n",
    "        df[col] = df[col].astype(str)\n",
    "    return df\n",
    "\n",
    "    \n",
    "def handle_missing_values(df_in,cat_cols=[], num_cols=[],na_dict=None,add_nan_col=True,inplace=False):\n",
    "    if(inplace):\n",
    "        df = df_in\n",
    "    else:\n",
    "        df = df_in.copy()\n",
    " \n",
    "    if na_dict is None:\n",
    "        na_dict = {}\n",
    "\n",
    "    for colname, col_values in df.items():   \n",
    "        if colname not in num_cols:\n",
    "            continue\n",
    "        if pd.isnull(col_values).sum():\n",
    "            df[colname+'_na'] = pd.isnull(col_values)\n",
    "            filler = na_dict[colname] if colname in na_dict else col_values.median()\n",
    "            df[colname] = col_values.fillna(filler)\n",
    "            na_dict[colname] = filler\n",
    "    for colname in cat_cols:\n",
    "        if colname not in df.columns:\n",
    "            continue\n",
    "        df[colname].fillna(df[colname].mode()[0], inplace=True)\n",
    "        lbl = LabelEncoder() \n",
    "        lbl.fit(list(df[colname].values)) \n",
    "        df[colname] = lbl.transform(list(df[colname].values))\n",
    "    \n",
    "    return (df,na_dict)\n",
    "\n",
    "\n",
    "\n",
    "def scale_num_cols(df_in, mapper, inplace=False):\n",
    "    if(inplace):\n",
    "        df = df_in\n",
    "    else:\n",
    "        df = df_in.copy()\n",
    "        \n",
    "    if mapper is None:\n",
    "        map_f = [([c],StandardScaler()) for c in df.columns if is_numeric_dtype(df[c])]\n",
    "        mapper = DataFrameMapper(map_f).fit(df)\n",
    "    df[mapper.transformed_names_] = mapper.transform(df)\n",
    "    return (df,mapper)\n",
    "\n",
    "\n",
    "\n",
    "def extract_and_drop_target_column(df_in, y_name, inplace=False):\n",
    "    if(inplace):\n",
    "        df = df_in\n",
    "    else:\n",
    "        df = df_in.copy()\n",
    "    if not is_numeric_dtype(df[y_name]):\n",
    "        df[y_name] = df[y_name].cat.codes\n",
    "        y = df[y_name].values\n",
    "    else:\n",
    "        y = df[y_name]\n",
    "    df.drop([y_name], axis=1, inplace=True)\n",
    "    return (df,y)\n",
    "\n",
    "def print_mse(m,X_train, X_valid, y_train, y_valid):\n",
    "    res = [mean_squared_error(y_train,m.predict(X_train)),\n",
    "                mean_squared_error(y_valid,m.predict(X_valid)),\n",
    "                m.score(X_train, y_train), m.score(X_valid, y_valid)]\n",
    "    print('MSE Training set = {}, MSE Validation set = {}, score Training Set = {}, score on Validation Set = {}'.format(res[0],res[1],res[2], res[3]))\n",
    "    if hasattr(m, 'oob_score_'):\n",
    "          print('OOB Score = {}'.format(m.oob_score_))      \n",
    "\n",
    "def get_iqr_min_max(df,cols):\n",
    "    out = {}\n",
    "    for colname, col_values in df.items():\n",
    "        if colname not in cols:\n",
    "            continue\n",
    "        quartile75, quartile25 = np.percentile(col_values, [75 ,25])\n",
    "        ## Inter Quartile Range ##\n",
    "        IQR = quartile75 - quartile25\n",
    "        min_value = quartile25 - (IQR*1.5)\n",
    "        max_value = quartile75 + (IQR*1.5)\n",
    "        out[colname] = (min_value,max_value)\n",
    "    return out\n",
    "\n",
    "\n",
    "def bin_numerical_columns(df_in,cols,inplace=False):\n",
    "    if(inplace):\n",
    "        df = df_in\n",
    "    else:\n",
    "        df = df_in.copy()\n",
    "        \n",
    "    for col in cols.keys():\n",
    "        bins = cols[col]\n",
    "        buckets_ = np.linspace(bins[0],bins[1],bins[2])\n",
    "        df[col] = pd.cut(df[col],buckets_,include_lowest=True)\n",
    "    return df\n"
   ]
  },
  {
   "cell_type": "code",
   "execution_count": 5,
   "metadata": {},
   "outputs": [],
   "source": [
    "def preprocess_df(df_train,df_test=None,\n",
    "                  log_y=True,\n",
    "                  id_col= None,\n",
    "                  drop_target=True,\n",
    "                  convert_to_cat_cols=None,\n",
    "                  remove_skewness=False,scale_mapper=None,\n",
    "                  bin_columns_dict=None,\n",
    "                  new_features_func=None):\n",
    "    \n",
    "    if drop_target:\n",
    "        df,y = extract_and_drop_target_column(df_train,'SalePrice',inplace=True)\n",
    "    if log_y:\n",
    "        y = np.log1p(y)\n",
    "    else:\n",
    "        y = None\n",
    "        \n",
    "    combined = pd.concat((df, df_test)).reset_index(drop=True)\n",
    "    \n",
    "    \n",
    "    if df_test is not None and id_col is not None:\n",
    "        test_id = df_test['Id'].copy()\n",
    "        combined.drop('Id', axis=1,inplace=True)\n",
    "    else: test_id = None\n",
    "   \n",
    "    if new_features_func is not None:\n",
    "        combined = new_features_func(combined)\n",
    "    \n",
    "    \n",
    "    if convert_to_cat_cols is not None:\n",
    "        combined = convert_to_str_type(combined,convert_to_cat_cols,inplace=True)\n",
    "    \n",
    "        \n",
    "    if bin_columns_dict is not None:\n",
    "        combined = bin_numerical_columns(combined,bin_columns_dict,inplace=True)\n",
    "    \n",
    "    \n",
    "    cat_cols = get_cat_columns_by_type(combined)\n",
    "    cat_cols = [cat_cols[i][0] for i in range(len(cat_cols))]\n",
    "    num_cols = [col for col in combined.columns if col not in cat_cols]\n",
    "    \n",
    "    combined = pd.get_dummies(combined,columns=cat_cols, dummy_na=True)\n",
    "    \n",
    "    n_train = df.shape[0]\n",
    "    n_test = df_test.shape[0]\n",
    "      \n",
    "    \n",
    "    combined,d = handle_missing_values(combined,cat_cols=cat_cols,\n",
    "                                       num_cols=num_cols,inplace=True)\n",
    "    \n",
    "    \n",
    "    if remove_skewness:\n",
    "        skewed_cols = combined[num_cols].apply(lambda x: skew(x)).sort_values(ascending=False)\n",
    "        skewness = pd.DataFrame({'Skew' :skewed_cols})\n",
    "        skewness_log = skewness[skewness > 4.0]\n",
    "        skewness_other = skewness[skewness <= 4.0]\n",
    "        skewed_features_log = skewness_log.index\n",
    "        skewed_features_other = skewness_other.index\n",
    "        lambda_ = 0.0\n",
    "        for feature in skewed_features_log:\n",
    "            combined[feature] = boxcox1p(combined[feature],lambda_)\n",
    "        lambda_ = 0.15\n",
    "        for feature in skewed_features_other:\n",
    "            combined[feature] = boxcox1p(combined[feature],lambda_)\n",
    "    \n",
    "    if scale_mapper is not None:\n",
    "        map_f = [([c],scale_mapper) for c in num_cols]\n",
    "        mapper = DataFrameMapper(map_f).fit(combined)\n",
    "    else:\n",
    "        mapper = None\n",
    "        \n",
    "    combined,_ = scale_num_cols(combined,mapper,inplace=True) \n",
    "    \n",
    "    print(get_missing_values_percentage(combined))\n",
    "    \n",
    "    return combined,df,y,cat_cols,num_cols,test_id,n_train,n_test\n"
   ]
  },
  {
   "cell_type": "code",
   "execution_count": 29,
   "metadata": {},
   "outputs": [],
   "source": [
    "def add_new_features1(df):\n",
    "    df['TotalSF'] = df['TotalBsmtSF'] + df['1stFlrSF'] + df['2ndFlrSF']\n",
    "    return df\n",
    "def add_new_features2(df):\n",
    "    df['TotalSF'] = df['TotalBsmtSF'] + df['1stFlrSF'] + df['2ndFlrSF']\n",
    "    df[\"OverallGrade\"] = df[\"OverallQual\"] * df[\"OverallCond\"]\n",
    "    return df\n",
    "def add_new_features3(df):\n",
    "    df['TotalSF'] = df['TotalBsmtSF'] + df['1stFlrSF'] + df['2ndFlrSF']\n",
    "    df[\"OverallGrade\"] = df[\"OverallQual\"] * df[\"OverallCond\"]\n",
    "    df['TotalLivArea'] = df['GrLivArea'] + df['GarageArea'] + df['LotArea']\n",
    "    return df\n",
    "\n",
    "def add_new_features4(df):\n",
    "    df['TotalSF'] = df['TotalBsmtSF'] + df['1stFlrSF'] + df['2ndFlrSF']\n",
    "    df[\"OverallGrade\"] = df[\"OverallQual\"] * df[\"OverallCond\"]\n",
    "    df['TotalLivArea'] = df['GrLivArea'] + df['GarageArea'] + df['LotArea']\n",
    "    \n",
    "    df[\"GrLivArea-2\"] = df[\"GrLivArea\"] ** 2\n",
    "    df[\"GrLivArea-3\"] = df[\"GrLivArea\"] ** 3\n",
    "    df[\"GrLivArea-Sq\"] = np.sqrt(df[\"GrLivArea\"])\n",
    "    df[\"GarageArea-2\"] = df[\"GarageArea\"] ** 2\n",
    "    df[\"GarageArea-3\"] = df[\"GarageArea\"] ** 3\n",
    "    df[\"GarageArea-Sq\"] = np.sqrt(df[\"GarageArea\"])\n",
    "    return df\n",
    "\n",
    "    "
   ]
  },
  {
   "cell_type": "code",
   "execution_count": 8,
   "metadata": {
    "hidden": true
   },
   "outputs": [],
   "source": [
    "PATH = \"data/iowa_housing/\""
   ]
  },
  {
   "cell_type": "code",
   "execution_count": 9,
   "metadata": {},
   "outputs": [
    {
     "name": "stdout",
     "output_type": "stream",
     "text": [
      "0.0\n",
      "(2919, 659) 50 29 1460 1459\n"
     ]
    }
   ],
   "source": [
    "df_raw = pd.read_csv(f'{PATH}train.csv', low_memory=False)\n",
    "df_test = pd.read_csv(f'{PATH}test.csv', low_memory=False)\n",
    "df = df_raw.copy()\n",
    "stratify_col = df['OverallQual'].copy()\n",
    "\n",
    "combined,df,y,cat_cols,num_cols,test_id,n_train,n_test = preprocess_df(\n",
    "                                       df_train=df,df_test=df_test,\n",
    "                                       drop_target=True,\n",
    "                                       id_col='Id',\n",
    "                                       log_y=True,\n",
    "                                       convert_to_cat_cols=['CentralAir','MoSold','YrSold','YearBuilt','GarageYrBlt','YearRemodAdd'],\n",
    "                                       remove_skewness=True,\n",
    "                                       scale_mapper=RobustScaler(),\n",
    "                                       bin_columns_dict={'OverallQual':(1,11,10),'OverallCond':(1,11,10)}\n",
    "                                       \n",
    "                                       )\n",
    "\n",
    "print(combined.shape,len(cat_cols),len(num_cols),n_train,n_test)"
   ]
  },
  {
   "cell_type": "code",
   "execution_count": 10,
   "metadata": {},
   "outputs": [
    {
     "name": "stdout",
     "output_type": "stream",
     "text": [
      "MSE Training set = 0.003044894667277992, MSE Validation set = 0.02182056170408867, score Training Set = 0.9809130393786856, score on Validation Set = 0.8627642584015884\n",
      "OOB Score = 0.860391486192761\n"
     ]
    }
   ],
   "source": [
    "df = combined[:n_train]\n",
    "df_test = combined[n_train:]\n",
    "X_train,X_valid,y_train,y_valid = train_test_split(df,y,test_size=0.15,\n",
    "                                  stratify=stratify_col,shuffle = True,random_state=20)\n",
    "\n",
    "rf_model = RandomForestRegressor(n_estimators=1500,n_jobs=-1,oob_score=True).fit(X_train.values,\n",
    "                                                                                y_train)\n",
    "print_mse(rf_model,X_train,X_valid,y_train,y_valid)"
   ]
  },
  {
   "cell_type": "code",
   "execution_count": 11,
   "metadata": {},
   "outputs": [
    {
     "name": "stdout",
     "output_type": "stream",
     "text": [
      "GrLivArea                     0.318755\n",
      "ExterQual_TA                  0.216520\n",
      "TotalBsmtSF                   0.070010\n",
      "GarageCars                    0.054875\n",
      "GarageArea                    0.040990\n",
      "1stFlrSF                      0.028526\n",
      "BsmtFinSF1                    0.017378\n",
      "LotArea                       0.016215\n",
      "CentralAir_Y                  0.014161\n",
      "CentralAir_N                  0.013340\n",
      "2ndFlrSF                      0.010608\n",
      "ExterQual_Fa                  0.009409\n",
      "FullBath                      0.008157\n",
      "BsmtQual_Ex                   0.007867\n",
      "MSZoning_C (all)              0.006313\n",
      "KitchenQual_TA                0.005880\n",
      "BsmtUnfSF                     0.005542\n",
      "LotFrontage                   0.005104\n",
      "OpenPorchSF                   0.004714\n",
      "OverallQual_(3.222, 4.333]    0.004298\n",
      "BsmtQual_Gd                   0.004004\n",
      "KitchenQual_Gd                0.003831\n",
      "HalfBath                      0.003800\n",
      "TotRmsAbvGrd                  0.003610\n",
      "GarageType_Attchd             0.003556\n",
      "ExterQual_Gd                  0.003302\n",
      "MSSubClass                    0.003246\n",
      "MasVnrArea                    0.003182\n",
      "WoodDeckSF                    0.002783\n",
      "KitchenAbvGr                  0.002712\n",
      "KitchenQual_Ex                0.002662\n",
      "BedroomAbvGr                  0.002594\n",
      "MSZoning_RM                   0.002456\n",
      "OverallCond_(2.111, 3.222]    0.002325\n",
      "GarageQual_TA                 0.002249\n",
      "Fireplaces                    0.002170\n",
      "EnclosedPorch                 0.002157\n",
      "OverallQual_(6.556, 7.667]    0.002109\n",
      "OverallQual_(7.667, 8.778]    0.001952\n",
      "KitchenQual_Fa                0.001947\n",
      "GarageFinish_Unf              0.001911\n",
      "YearRemodAdd_1950             0.001907\n",
      "GarageCond_TA                 0.001868\n",
      "ExterCond_Fa                  0.001861\n",
      "FireplaceQu_nan               0.001837\n",
      "OverallQual_(4.333, 5.444]    0.001822\n",
      "PavedDrive_N                  0.001756\n",
      "BsmtQual_TA                   0.001468\n",
      "OverallQual_(8.778, 9.889]    0.001172\n",
      "MSZoning_RL                   0.001142\n",
      "dtype: float64\n"
     ]
    }
   ],
   "source": [
    "print_feature_importances(rf_model,X_train)"
   ]
  },
  {
   "cell_type": "code",
   "execution_count": 12,
   "metadata": {},
   "outputs": [
    {
     "name": "stdout",
     "output_type": "stream",
     "text": [
      "0.0\n",
      "(2919, 661) 50 30 1460 1459\n"
     ]
    }
   ],
   "source": [
    "df_raw = pd.read_csv(f'{PATH}train.csv', low_memory=False)\n",
    "df_test = pd.read_csv(f'{PATH}test.csv', low_memory=False)\n",
    "df = df_raw.copy()\n",
    "stratify_col = df['OverallQual'].copy()\n",
    "combined,df,y,cat_cols,num_cols,test_id,n_train,n_test = preprocess_df(\n",
    "                                       df_train=df,df_test=df_test,\n",
    "                                       drop_target=True,\n",
    "                                       new_features_func=add_new_features1,\n",
    "                                       id_col='Id',\n",
    "                                       log_y=True,\n",
    "                                       convert_to_cat_cols=['CentralAir','MoSold','YrSold','YearBuilt','GarageYrBlt','YearRemodAdd'],\n",
    "                                       remove_skewness=True,\n",
    "                                       scale_mapper=RobustScaler(),\n",
    "                                       bin_columns_dict={'OverallQual':(1,11,10),'OverallCond':(1,11,10)}\n",
    "                                       )\n",
    "\n",
    "print(combined.shape,len(cat_cols),len(num_cols),n_train,n_test)"
   ]
  },
  {
   "cell_type": "code",
   "execution_count": 13,
   "metadata": {},
   "outputs": [
    {
     "name": "stdout",
     "output_type": "stream",
     "text": [
      "MSE Training set = 0.002953032311676396, MSE Validation set = 0.021156289256240524, score Training Set = 0.9814888797132599, score on Validation Set = 0.8669420574536971\n",
      "OOB Score = 0.8632735427983569\n"
     ]
    }
   ],
   "source": [
    "df = combined[:n_train]\n",
    "df_test = combined[n_train:]\n",
    "X_train,X_valid,y_train,y_valid = train_test_split(df,y,test_size=0.15,\n",
    "                                  stratify=stratify_col,shuffle = True,random_state=20)\n",
    "rf_model = RandomForestRegressor(n_estimators=1500,n_jobs=-1,oob_score=True).fit(X_train.values,\n",
    "                                                                                y_train)\n",
    "print_mse(rf_model, X_train,X_valid,y_train,y_valid)"
   ]
  },
  {
   "cell_type": "code",
   "execution_count": 14,
   "metadata": {},
   "outputs": [
    {
     "name": "stdout",
     "output_type": "stream",
     "text": [
      "0.0\n",
      "(2919, 662) 50 31 1460 1459\n"
     ]
    }
   ],
   "source": [
    "df_raw = pd.read_csv(f'{PATH}train.csv', low_memory=False)\n",
    "df_test = pd.read_csv(f'{PATH}test.csv', low_memory=False)\n",
    "df = df_raw.copy()\n",
    "stratify_col = df['OverallQual'].copy()\n",
    "combined,df,y,cat_cols,num_cols,test_id,n_train,n_test = preprocess_df(\n",
    "                                       df_train=df,df_test=df_test,\n",
    "                                       drop_target=True,\n",
    "                                       new_features_func=add_new_features2,\n",
    "                                       id_col='Id',\n",
    "                                       log_y=True,\n",
    "                                       convert_to_cat_cols=['CentralAir','MoSold','YrSold','YearBuilt','GarageYrBlt','YearRemodAdd'],\n",
    "                                       remove_skewness=True,\n",
    "                                       scale_mapper=RobustScaler(),\n",
    "                                       bin_columns_dict={'OverallQual':(1,11,10),'OverallCond':(1,11,10)}\n",
    "                                       )\n",
    "\n",
    "print(combined.shape,len(cat_cols),len(num_cols),n_train,n_test)"
   ]
  },
  {
   "cell_type": "code",
   "execution_count": 15,
   "metadata": {},
   "outputs": [
    {
     "name": "stdout",
     "output_type": "stream",
     "text": [
      "MSE Training set = 0.002697198780168739, MSE Validation set = 0.01869093233247271, score Training Set = 0.9830925754318588, score on Validation Set = 0.882447390924314\n",
      "OOB Score = 0.8752886442377765\n"
     ]
    }
   ],
   "source": [
    "df = combined[:n_train]\n",
    "df_test = combined[n_train:]\n",
    "X_train,X_valid,y_train,y_valid = train_test_split(df,y,test_size=0.15,\n",
    "                                  stratify=stratify_col,shuffle = True,random_state=20)\n",
    "rf_model = RandomForestRegressor(n_estimators=1500,n_jobs=-1,oob_score=True).fit(X_train.values,\n",
    "                                                                                y_train)\n",
    "print_mse(rf_model, X_train,X_valid,y_train,y_valid)"
   ]
  },
  {
   "cell_type": "code",
   "execution_count": 16,
   "metadata": {},
   "outputs": [
    {
     "name": "stdout",
     "output_type": "stream",
     "text": [
      "TotalSF                       0.617351\n",
      "OverallGrade                  0.068009\n",
      "ExterQual_TA                  0.052404\n",
      "GarageCars                    0.031969\n",
      "GarageArea                    0.016313\n",
      "KitchenQual_TA                0.013131\n",
      "LotArea                       0.011486\n",
      "GrLivArea                     0.010606\n",
      "BsmtFinSF1                    0.008698\n",
      "2ndFlrSF                      0.008690\n",
      "CentralAir_Y                  0.007541\n",
      "BsmtUnfSF                     0.006917\n",
      "1stFlrSF                      0.006353\n",
      "CentralAir_N                  0.005886\n",
      "FullBath                      0.005884\n",
      "TotalBsmtSF                   0.004374\n",
      "MSZoning_C (all)              0.004101\n",
      "LotFrontage                   0.003651\n",
      "BsmtQual_Gd                   0.003273\n",
      "OpenPorchSF                   0.003174\n",
      "BsmtQual_Ex                   0.003151\n",
      "KitchenQual_Gd                0.003094\n",
      "BsmtQual_TA                   0.003032\n",
      "MSSubClass                    0.002775\n",
      "GarageFinish_Unf              0.002694\n",
      "Foundation_PConc              0.002630\n",
      "Neighborhood_OldTown          0.002532\n",
      "WoodDeckSF                    0.002461\n",
      "MasVnrArea                    0.002367\n",
      "OverallQual_(6.556, 7.667]    0.002321\n",
      "TotRmsAbvGrd                  0.002278\n",
      "ExterQual_Gd                  0.002193\n",
      "KitchenQual_Ex                0.001495\n",
      "MSZoning_RM                   0.001471\n",
      "EnclosedPorch                 0.001463\n",
      "GarageType_Detchd             0.001431\n",
      "BedroomAbvGr                  0.001355\n",
      "KitchenQual_Fa                0.001313\n",
      "GarageType_Attchd             0.001311\n",
      "SaleCondition_Abnorml         0.001196\n",
      "YearRemodAdd_1950             0.001194\n",
      "KitchenAbvGr                  0.001158\n",
      "LandContour_Bnk               0.001149\n",
      "PavedDrive_N                  0.001132\n",
      "MSZoning_RL                   0.001097\n",
      "OverallQual_(4.333, 5.444]    0.001040\n",
      "GarageCond_TA                 0.001000\n",
      "OverallQual_(3.222, 4.333]    0.000985\n",
      "HalfBath                      0.000976\n",
      "Neighborhood_Crawfor          0.000972\n",
      "dtype: float64\n"
     ]
    }
   ],
   "source": [
    "print_feature_importances(rf_model,X_train)"
   ]
  },
  {
   "cell_type": "code",
   "execution_count": 18,
   "metadata": {},
   "outputs": [
    {
     "name": "stdout",
     "output_type": "stream",
     "text": [
      "0.0\n"
     ]
    }
   ],
   "source": [
    "df_raw = pd.read_csv(f'{PATH}train.csv', low_memory=False)\n",
    "df_test = pd.read_csv(f'{PATH}test.csv', low_memory=False)\n",
    "df = df_raw.copy()\n",
    "stratify_col = df['OverallQual'].copy()\n",
    "combined,df,y,cat_cols,num_cols,test_id,n_train,n_test = preprocess_df(\n",
    "                                       df_train=df,df_test=df_test,\n",
    "                                       drop_target=True,\n",
    "                                       new_features_func=add_new_features2,\n",
    "                                       id_col='Id',\n",
    "                                       log_y=True,\n",
    "                                       convert_to_cat_cols=['GarageCars','CentralAir','MoSold','YrSold','YearBuilt','GarageYrBlt','YearRemodAdd'],\n",
    "                                       remove_skewness=True,\n",
    "                                       scale_mapper=RobustScaler(),\n",
    "                                       bin_columns_dict={'OverallQual':(1,11,10),'OverallCond':(1,11,10)}\n",
    "                                       )\n"
   ]
  },
  {
   "cell_type": "code",
   "execution_count": 19,
   "metadata": {},
   "outputs": [
    {
     "name": "stdout",
     "output_type": "stream",
     "text": [
      "MSE Training set = 0.002710807382953243, MSE Validation set = 0.019106153475323618, score Training Set = 0.9830072697336847, score on Validation Set = 0.87983594662516\n",
      "OOB Score = 0.874226024149603\n"
     ]
    }
   ],
   "source": [
    "df = combined[:n_train]\n",
    "df_test = combined[n_train:]\n",
    "X_train,X_valid,y_train,y_valid = train_test_split(df,y,test_size=0.15,\n",
    "                                  stratify=stratify_col,shuffle = True,random_state=20)\n",
    "\n",
    "rf_model = RandomForestRegressor(n_estimators=1500,n_jobs=-1,oob_score=True).fit(X_train.values,\n",
    "                                                                                y_train)\n",
    "print_mse(rf_model, X_train,X_valid,y_train,y_valid)"
   ]
  },
  {
   "cell_type": "code",
   "execution_count": 20,
   "metadata": {},
   "outputs": [
    {
     "name": "stdout",
     "output_type": "stream",
     "text": [
      "TotalSF                       0.612176\n",
      "OverallGrade                  0.069905\n",
      "ExterQual_TA                  0.052796\n",
      "GarageCars_2.0                0.021756\n",
      "GarageCars_3.0                0.016421\n",
      "GarageArea                    0.016139\n",
      "KitchenQual_TA                0.011943\n",
      "LotArea                       0.011802\n",
      "GrLivArea                     0.010661\n",
      "2ndFlrSF                      0.008803\n",
      "BsmtFinSF1                    0.008613\n",
      "BsmtUnfSF                     0.006862\n",
      "CentralAir_Y                  0.006466\n",
      "1stFlrSF                      0.006369\n",
      "CentralAir_N                  0.005770\n",
      "FullBath                      0.004805\n",
      "TotalBsmtSF                   0.004615\n",
      "MSZoning_C (all)              0.004042\n",
      "LotFrontage                   0.003611\n",
      "KitchenQual_Gd                0.003406\n",
      "BsmtQual_Gd                   0.003295\n",
      "BsmtQual_Ex                   0.003226\n",
      "GarageFinish_Unf              0.003194\n",
      "OpenPorchSF                   0.003074\n",
      "Neighborhood_OldTown          0.002728\n",
      "MSSubClass                    0.002665\n",
      "BsmtQual_TA                   0.002647\n",
      "Foundation_PConc              0.002566\n",
      "ExterQual_Gd                  0.002551\n",
      "MasVnrArea                    0.002494\n",
      "WoodDeckSF                    0.002423\n",
      "TotRmsAbvGrd                  0.002316\n",
      "OverallQual_(6.556, 7.667]    0.002094\n",
      "MSZoning_RM                   0.001611\n",
      "EnclosedPorch                 0.001461\n",
      "KitchenAbvGr                  0.001404\n",
      "KitchenQual_Fa                0.001297\n",
      "BedroomAbvGr                  0.001283\n",
      "GarageType_Detchd             0.001280\n",
      "KitchenQual_Ex                0.001274\n",
      "GarageType_Attchd             0.001189\n",
      "SaleCondition_Abnorml         0.001164\n",
      "YearRemodAdd_1950             0.001130\n",
      "OverallQual_(4.333, 5.444]    0.001115\n",
      "PavedDrive_N                  0.001080\n",
      "OverallQual_(3.222, 4.333]    0.001072\n",
      "MSZoning_RL                   0.001060\n",
      "ExterCond_Fa                  0.001023\n",
      "SaleCondition_Family          0.000949\n",
      "GarageCond_TA                 0.000917\n",
      "dtype: float64\n"
     ]
    }
   ],
   "source": [
    "print_feature_importances(rf_model,X_train)"
   ]
  },
  {
   "cell_type": "code",
   "execution_count": 26,
   "metadata": {},
   "outputs": [
    {
     "name": "stdout",
     "output_type": "stream",
     "text": [
      "0.0\n"
     ]
    }
   ],
   "source": [
    "df_raw = pd.read_csv(f'{PATH}train.csv', low_memory=False)\n",
    "df_test = pd.read_csv(f'{PATH}test.csv', low_memory=False)\n",
    "df = df_raw.copy()\n",
    "stratify_col = df['OverallQual'].copy()\n",
    "combined,df,y,cat_cols,num_cols,test_id,n_train,n_test = preprocess_df(\n",
    "                                       df_train=df,df_test=df_test,\n",
    "                                       drop_target=True,\n",
    "                                       new_features_func=add_new_features3,\n",
    "                                       id_col='Id',\n",
    "                                       log_y=True,\n",
    "                                       convert_to_cat_cols=['GarageCars','CentralAir','MoSold','YrSold','YearBuilt','GarageYrBlt','YearRemodAdd'],\n",
    "                                       remove_skewness=True,\n",
    "                                       scale_mapper=RobustScaler(),\n",
    "                                       bin_columns_dict={'OverallQual':(1,11,10),'OverallCond':(1,11,10)}\n",
    "                                       )\n",
    "\n"
   ]
  },
  {
   "cell_type": "code",
   "execution_count": 27,
   "metadata": {},
   "outputs": [
    {
     "name": "stdout",
     "output_type": "stream",
     "text": [
      "MSE Training set = 0.0026590481516434376, MSE Validation set = 0.019138615415212473, score Training Set = 0.9833317231278912, score on Validation Set = 0.8796317842183995\n",
      "OOB Score = 0.8758496892238042\n"
     ]
    }
   ],
   "source": [
    "df = combined[:n_train]\n",
    "df_test = combined[n_train:]\n",
    "X_train,X_valid,y_train,y_valid = train_test_split(df,y,test_size=0.15,\n",
    "                                  stratify=stratify_col,shuffle = True,random_state=20)\n",
    "\n",
    "rf_model = RandomForestRegressor(n_estimators=1500,n_jobs=-1,oob_score=True).fit(X_train.values,\n",
    "                                                                                y_train)\n",
    "print_mse(rf_model, X_train,X_valid,y_train,y_valid)"
   ]
  },
  {
   "cell_type": "code",
   "execution_count": null,
   "metadata": {},
   "outputs": [],
   "source": [
    "print_feature_importances(rf_model,X_train)"
   ]
  },
  {
   "cell_type": "code",
   "execution_count": 30,
   "metadata": {},
   "outputs": [
    {
     "name": "stdout",
     "output_type": "stream",
     "text": [
      "0.0\n"
     ]
    }
   ],
   "source": [
    "df_raw = pd.read_csv(f'{PATH}train.csv', low_memory=False)\n",
    "df_test = pd.read_csv(f'{PATH}test.csv', low_memory=False)\n",
    "df = df_raw.copy()\n",
    "stratify_col = df['OverallQual'].copy()\n",
    "combined,df,y,cat_cols,num_cols,_,n_train,n_test = preprocess_df(\n",
    "                                       df_train=df,df_test=df_test,\n",
    "                                       drop_target=True,\n",
    "                                       new_features_func=add_new_features4,\n",
    "                                       id_col='Id',\n",
    "                                       log_y=True,\n",
    "                                       convert_to_cat_cols=['GarageCars','CentralAir','MoSold','YrSold','YearBuilt','GarageYrBlt','YearRemodAdd'],\n",
    "                                       remove_skewness=True,\n",
    "                                       scale_mapper=RobustScaler(),\n",
    "                                       bin_columns_dict={'OverallQual':(1,11,10),'OverallCond':(1,11,10)} \n",
    "                                       )\n"
   ]
  },
  {
   "cell_type": "code",
   "execution_count": 31,
   "metadata": {},
   "outputs": [
    {
     "name": "stdout",
     "output_type": "stream",
     "text": [
      "MSE Training set = 0.0027089454448156, MSE Validation set = 0.019072763711423676, score Training Set = 0.9830189413163815, score on Validation Set = 0.8800459443819887\n",
      "OOB Score = 0.8751070096068625\n"
     ]
    }
   ],
   "source": [
    "df = combined[:n_train]\n",
    "df_test = combined[n_train:]\n",
    "X_train,X_valid,y_train,y_valid = train_test_split(df,y,test_size=0.15,\n",
    "                                  stratify=stratify_col,shuffle = True,random_state=20)\n",
    "\n",
    "rf_model = RandomForestRegressor(n_estimators=1500,n_jobs=-1,oob_score=True).fit(X_train.values,\n",
    "                                                                                y_train)\n",
    "print_mse(rf_model, X_train,X_valid,y_train,y_valid)"
   ]
  },
  {
   "cell_type": "code",
   "execution_count": null,
   "metadata": {},
   "outputs": [],
   "source": [
    "print_feature_importances(rf_model,X_train)"
   ]
  },
  {
   "cell_type": "code",
   "execution_count": null,
   "metadata": {},
   "outputs": [],
   "source": []
  }
 ],
 "metadata": {
  "kernelspec": {
   "display_name": "Python 3",
   "language": "python",
   "name": "python3"
  },
  "language_info": {
   "codemirror_mode": {
    "name": "ipython",
    "version": 3
   },
   "file_extension": ".py",
   "mimetype": "text/x-python",
   "name": "python",
   "nbconvert_exporter": "python",
   "pygments_lexer": "ipython3",
   "version": "3.6.4"
  },
  "toc": {
   "colors": {
    "hover_highlight": "#DAA520",
    "navigate_num": "#000000",
    "navigate_text": "#333333",
    "running_highlight": "#FF0000",
    "selected_highlight": "#FFD700",
    "sidebar_border": "#EEEEEE",
    "wrapper_background": "#FFFFFF"
   },
   "moveMenuLeft": true,
   "nav_menu": {
    "height": "512px",
    "width": "252px"
   },
   "navigate_menu": true,
   "number_sections": true,
   "sideBar": true,
   "threshold": 4,
   "toc_cell": false,
   "toc_section_display": "block",
   "toc_window_display": false,
   "widenNotebook": false
  }
 },
 "nbformat": 4,
 "nbformat_minor": 2
}
