{
 "cells": [
  {
   "cell_type": "code",
   "execution_count": 1,
   "metadata": {
    "hidden": true
   },
   "outputs": [],
   "source": [
    "import numpy as np\n",
    "import os\n",
    "import matplotlib\n",
    "import matplotlib.pyplot as plt\n",
    "import pandas as pd\n",
    "from IPython.display import display\n",
    "import sklearn\n",
    "from sklearn.model_selection import train_test_split\n",
    "from sklearn.preprocessing import PolynomialFeatures\n",
    "from sklearn.preprocessing import MinMaxScaler, RobustScaler, StandardScaler, LabelEncoder\n",
    "from sklearn.ensemble import RandomForestRegressor, RandomForestClassifier\n",
    "from sklearn import metrics\n",
    "from sklearn.metrics import mean_squared_error,mean_squared_log_error,r2_score\n",
    "from sklearn_pandas import DataFrameMapper\n",
    "from pandas.api.types import is_string_dtype, is_numeric_dtype\n",
    "\n",
    "from scipy.stats import skew\n",
    "from scipy.special import boxcox1p\n",
    "\n",
    "%matplotlib inline"
   ]
  },
  {
   "cell_type": "code",
   "execution_count": 2,
   "metadata": {},
   "outputs": [],
   "source": [
    "def print_feature_importances(model,X):\n",
    "    important_features = pd.Series(data=rf_model.feature_importances_,index=X.columns)\n",
    "    important_features.sort_values(ascending=False,inplace=True)\n",
    "    print(important_features.head(50))\n",
    "    \n",
    "def get_cat_columns_by_type(df):\n",
    "    out = []\n",
    "    for colname,col_values in df.items():\n",
    "        if is_string_dtype(col_values):\n",
    "            out.append((colname,'string') )\n",
    "        elif not is_numeric_dtype(col_values):\n",
    "            out.append((colname,'categorical') )\n",
    "    return out       \n",
    "\n",
    "def get_numeric_columns(df):\n",
    "    out = []\n",
    "    for colname,col_values in df.items():\n",
    "        if is_numeric_dtype(col_values):\n",
    "            out.append(colname)\n",
    "    return out       \n",
    "    \n",
    "def get_missing_values_percentage(df):\n",
    "    missing_values_counts_list = df.isnull().sum()\n",
    "    total_values = np.product(df.shape)\n",
    "    total_missing = missing_values_counts_list.sum()\n",
    "    # percent of data that is missing\n",
    "    return (total_missing/total_values) * 100\n",
    "\n",
    "\n",
    "def convert_to_str_type(df_in,columns,inplace=False):\n",
    "    if(inplace):\n",
    "        df = df_in\n",
    "    else:\n",
    "        df = df_in.copy()\n",
    "        \n",
    "    for col in columns:\n",
    "        df[col] = df[col].astype(str)\n",
    "    return df\n",
    "\n",
    "    \n",
    "def handle_missing_values(df_in,cat_cols=[], num_cols=[],na_dict=None,add_nan_col=True,inplace=False):\n",
    "    if(inplace):\n",
    "        df = df_in\n",
    "    else:\n",
    "        df = df_in.copy()\n",
    " \n",
    "    if na_dict is None:\n",
    "        na_dict = {}\n",
    "\n",
    "    for colname, col_values in df.items():   \n",
    "        if colname not in num_cols:\n",
    "            continue\n",
    "        if pd.isnull(col_values).sum():\n",
    "            df[colname+'_na'] = pd.isnull(col_values)\n",
    "            filler = na_dict[colname] if colname in na_dict else col_values.median()\n",
    "            df[colname] = col_values.fillna(filler)\n",
    "            na_dict[colname] = filler\n",
    "    for colname in cat_cols:\n",
    "        if colname not in df.columns:\n",
    "            continue\n",
    "        df[colname].fillna(df[colname].mode()[0], inplace=True)\n",
    "        lbl = LabelEncoder() \n",
    "        lbl.fit(list(df[colname].values)) \n",
    "        df[colname] = lbl.transform(list(df[colname].values))\n",
    "    \n",
    "    return (df,na_dict)\n",
    "\n",
    "\n",
    "\n",
    "def scale_num_cols(df_in, mapper, inplace=False):\n",
    "    if(inplace):\n",
    "        df = df_in\n",
    "    else:\n",
    "        df = df_in.copy()\n",
    "        \n",
    "    if mapper is None:\n",
    "        map_f = [([c],StandardScaler()) for c in df.columns if is_numeric_dtype(df[c])]\n",
    "        mapper = DataFrameMapper(map_f).fit(df)\n",
    "    df[mapper.transformed_names_] = mapper.transform(df)\n",
    "    return (df,mapper)\n",
    "\n",
    "\n",
    "\n",
    "def extract_and_drop_target_column(df_in, y_name, inplace=False):\n",
    "    if(inplace):\n",
    "        df = df_in\n",
    "    else:\n",
    "        df = df_in.copy()\n",
    "    if not is_numeric_dtype(df[y_name]):\n",
    "        df[y_name] = df[y_name].cat.codes\n",
    "        y = df[y_name].values\n",
    "    else:\n",
    "        y = df[y_name]\n",
    "    df.drop([y_name], axis=1, inplace=True)\n",
    "    return (df,y)\n",
    "\n",
    "def print_mse(m,X_train, X_valid, y_train, y_valid):\n",
    "    res = [mean_squared_error(y_train,m.predict(X_train)),\n",
    "                mean_squared_error(y_valid,m.predict(X_valid)),\n",
    "                m.score(X_train, y_train), m.score(X_valid, y_valid)]\n",
    "    print('MSE Training set = {}, MSE Validation set = {}, score Training Set = {}, score on Validation Set = {}'.format(res[0],res[1],res[2], res[3]))\n",
    "    if hasattr(m, 'oob_score_'):\n",
    "          print('OOB Score = {}'.format(m.oob_score_))      \n",
    "\n",
    "def get_iqr_min_max(df,cols):\n",
    "    out = {}\n",
    "    for colname, col_values in df.items():\n",
    "        if colname not in cols:\n",
    "            continue\n",
    "        quartile75, quartile25 = np.percentile(col_values, [75 ,25])\n",
    "        ## Inter Quartile Range ##\n",
    "        IQR = quartile75 - quartile25\n",
    "        min_value = quartile25 - (IQR*1.5)\n",
    "        max_value = quartile75 + (IQR*1.5)\n",
    "        out[colname] = (min_value,max_value)\n",
    "    return out\n",
    "\n",
    "\n",
    "def bin_numerical_columns(df_in,cols,inplace=False):\n",
    "    if(inplace):\n",
    "        df = df_in\n",
    "    else:\n",
    "        df = df_in.copy()\n",
    "        \n",
    "    for col in cols.keys():\n",
    "        bins = cols[col]\n",
    "        buckets_ = np.linspace(bins[0],bins[1],bins[2])\n",
    "        df[col] = pd.cut(df[col],buckets_,include_lowest=True)\n",
    "    return df\n"
   ]
  },
  {
   "cell_type": "code",
   "execution_count": null,
   "metadata": {},
   "outputs": [],
   "source": [
    "def preprocess_df(df_train,df_test=None,\n",
    "                  log_y=True,\n",
    "                  id_col= None,\n",
    "                  drop_target=True,\n",
    "                  convert_to_cat_cols=None,\n",
    "                  remove_skewness=False,scale_mapper=None,\n",
    "                  bin_columns_dict=None,\n",
    "                  new_features_func=None):\n",
    "    \n",
    "    if drop_target:\n",
    "        df,y = extract_and_drop_target_column(df_train,'SalePrice',inplace=True)\n",
    "    if log_y:\n",
    "        y = np.log1p(y)\n",
    "    else:\n",
    "        y = None\n",
    "        \n",
    "    combined = pd.concat((df, df_test)).reset_index(drop=True)\n",
    "    \n",
    "    \n",
    "    if df_test is not None and id_col is not None:\n",
    "        test_id = df_test['Id'].copy()\n",
    "        combined.drop('Id', axis=1,inplace=True)\n",
    "    else: test_id = None\n",
    "   \n",
    "    if new_features_func is not None:\n",
    "        combined = new_features_func(combined)\n",
    "    \n",
    "    \n",
    "    if convert_to_cat_cols is not None:\n",
    "        combined = convert_to_str_type(combined,convert_to_cat_cols,inplace=True)\n",
    "    \n",
    "        \n",
    "    if bin_columns_dict is not None:\n",
    "        combined = bin_numerical_columns(combined,bin_columns_dict,inplace=True)\n",
    "    \n",
    "    \n",
    "    cat_cols = get_cat_columns_by_type(combined)\n",
    "    cat_cols = [cat_cols[i][0] for i in range(len(cat_cols))]\n",
    "    num_cols = [col for col in combined.columns if col not in cat_cols]\n",
    "    \n",
    "    combined = pd.get_dummies(combined,columns=cat_cols, dummy_na=True)\n",
    "    \n",
    "    n_train = df.shape[0]\n",
    "    n_test = df_test.shape[0]\n",
    "      \n",
    "    \n",
    "    combined,d = handle_missing_values(combined,cat_cols=cat_cols,\n",
    "                                       num_cols=num_cols,inplace=True)\n",
    "    \n",
    "    \n",
    "    if remove_skewness:\n",
    "        skewed_cols = combined[num_cols].apply(lambda x: skew(x)).sort_values(ascending=False)\n",
    "        skewness = pd.DataFrame({'Skew' :skewed_cols})\n",
    "        skewness_log = skewness[skewness > 4.0]\n",
    "        skewness_other = skewness[skewness <= 4.0]\n",
    "        skewed_features_log = skewness_log.index\n",
    "        skewed_features_other = skewness_other.index\n",
    "        lambda_ = 0.0\n",
    "        for feature in skewed_features_log:\n",
    "            combined[feature] = boxcox1p(combined[feature],lambda_)\n",
    "        lambda_ = 0.15\n",
    "        for feature in skewed_features_other:\n",
    "            combined[feature] = boxcox1p(combined[feature],lambda_)\n",
    "    \n",
    "    if scale_mapper is not None:\n",
    "        map_f = [([c],scale_mapper) for c in num_cols]\n",
    "        mapper = DataFrameMapper(map_f).fit(combined)\n",
    "    else:\n",
    "        mapper = None\n",
    "        \n",
    "    combined,_ = scale_num_cols(combined,mapper,inplace=True) \n",
    "    \n",
    "    print(get_missing_values_percentage(combined))\n",
    "    \n",
    "    return combined,df,y,cat_cols,num_cols,test_id,n_train,n_test\n"
   ]
  },
  {
   "cell_type": "code",
   "execution_count": null,
   "metadata": {},
   "outputs": [],
   "source": [
    "def add_new_features1(df):\n",
    "    df['TotalSF'] = df['TotalBsmtSF'] + df['1stFlrSF'] + df['2ndFlrSF']\n",
    "    return df\n",
    "def add_new_features2(df):\n",
    "    df['TotalSF'] = df['TotalBsmtSF'] + df['1stFlrSF'] + df['2ndFlrSF']\n",
    "    df[\"OverallGrade\"] = df[\"OverallQual\"] * df[\"OverallCond\"]\n",
    "    return df\n",
    "def add_new_features3(df):\n",
    "    df['TotalSF'] = df['TotalBsmtSF'] + df['1stFlrSF'] + df['2ndFlrSF']\n",
    "    df[\"OverallGrade\"] = df[\"OverallQual\"] * df[\"OverallCond\"]\n",
    "    df['TotalLivArea'] = df['GrLivArea'] + df['GarageArea'] + df['LotArea']\n",
    "    return df\n",
    "\n",
    "def add_new_features4(df):\n",
    "    df['TotalSF'] = df['TotalBsmtSF'] + df['1stFlrSF'] + df['2ndFlrSF']\n",
    "    df[\"OverallGrade\"] = df[\"OverallQual\"] * df[\"OverallCond\"]\n",
    "    df['TotalLivArea'] = df['GrLivArea'] + df['GarageArea'] + df['LotArea']\n",
    "    \n",
    "    df[\"GrLivArea-2\"] = df[\"GrLivArea\"] ** 2\n",
    "    df[\"GrLivArea-3\"] = df[\"GrLivArea\"] ** 3\n",
    "    df[\"GrLivArea-Sq\"] = np.sqrt(df[\"GrLivArea\"])\n",
    "    df[\"GarageArea-2\"] = df[\"GarageArea\"] ** 2\n",
    "    df[\"GarageArea-3\"] = df[\"GarageArea\"] ** 3\n",
    "    df[\"GarageArea-Sq\"] = np.sqrt(df[\"GarageArea\"])\n",
    "    return df\n",
    "\n",
    "    "
   ]
  },
  {
   "cell_type": "code",
   "execution_count": null,
   "metadata": {
    "hidden": true
   },
   "outputs": [],
   "source": [
    "PATH = \"data/iowa_housing/\""
   ]
  },
  {
   "cell_type": "code",
   "execution_count": null,
   "metadata": {},
   "outputs": [
    {
     "name": "stdout",
     "output_type": "stream",
     "text": [
      "0.0\n",
      "(2919, 659) 50 29 1460 1459\n"
     ]
    }
   ],
   "source": [
    "df_raw = pd.read_csv(f'{PATH}train.csv', low_memory=False)\n",
    "df_test = pd.read_csv(f'{PATH}test.csv', low_memory=False)\n",
    "df = df_raw.copy()\n",
    "stratify_col = df['OverallQual'].copy()\n",
    "\n",
    "combined,df,y,cat_cols,num_cols,test_id,n_train,n_test = preprocess_df(\n",
    "                                       df_train=df,df_test=df_test,\n",
    "                                       drop_target=True,\n",
    "                                       id_col='Id',\n",
    "                                       log_y=True,\n",
    "                                       convert_to_cat_cols=['CentralAir','MoSold','YrSold','YearBuilt','GarageYrBlt','YearRemodAdd'],\n",
    "                                       remove_skewness=True,\n",
    "                                       scale_mapper=RobustScaler(),\n",
    "                                       bin_columns_dict={'OverallQual':(1,11,10),'OverallCond':(1,11,10)}\n",
    "                                       \n",
    "                                       )\n",
    "\n",
    "print(combined.shape,len(cat_cols),len(num_cols),n_train,n_test)"
   ]
  },
  {
   "cell_type": "code",
   "execution_count": null,
   "metadata": {},
   "outputs": [
    {
     "name": "stdout",
     "output_type": "stream",
     "text": [
      "MSE Training set = 0.0030193402814424793, MSE Validation set = 0.021656989952280544, score Training Set = 0.9810732273685645, score on Validation Set = 0.8637930078429806\n",
      "OOB Score = 0.8600927383772609\n"
     ]
    }
   ],
   "source": [
    "df = combined[:n_train]\n",
    "df_test = combined[n_train:]\n",
    "X_train,X_valid,y_train,y_valid = train_test_split(df,y,test_size=0.15,\n",
    "                                  stratify=stratify_col,shuffle = True,random_state=20)\n",
    "\n",
    "rf_model = RandomForestRegressor(n_estimators=1500,n_jobs=-1,oob_score=True).fit(X_train.values,\n",
    "                                                                                y_train)\n",
    "print_mse(rf_model,X_train,X_valid,y_train,y_valid)"
   ]
  },
  {
   "cell_type": "code",
   "execution_count": null,
   "metadata": {},
   "outputs": [
    {
     "name": "stdout",
     "output_type": "stream",
     "text": [
      "GrLivArea                     0.320039\n",
      "ExterQual_TA                  0.215576\n",
      "TotalBsmtSF                   0.071321\n",
      "GarageCars                    0.053315\n",
      "GarageArea                    0.042996\n",
      "1stFlrSF                      0.028447\n",
      "BsmtFinSF1                    0.017132\n",
      "LotArea                       0.016112\n",
      "CentralAir_Y                  0.013451\n",
      "CentralAir_N                  0.013165\n",
      "2ndFlrSF                      0.011117\n",
      "ExterQual_Fa                  0.009236\n",
      "BsmtQual_Ex                   0.008515\n",
      "FullBath                      0.008180\n",
      "MSZoning_C (all)              0.006447\n",
      "BsmtUnfSF                     0.005574\n",
      "KitchenQual_TA                0.005081\n",
      "LotFrontage                   0.004732\n",
      "OpenPorchSF                   0.004719\n",
      "OverallQual_(3.222, 4.333]    0.004031\n",
      "KitchenQual_Gd                0.003830\n",
      "BsmtQual_Gd                   0.003823\n",
      "HalfBath                      0.003764\n",
      "TotRmsAbvGrd                  0.003673\n",
      "MSSubClass                    0.003300\n",
      "GarageType_Attchd             0.003243\n",
      "MasVnrArea                    0.003197\n",
      "ExterQual_Gd                  0.003007\n",
      "WoodDeckSF                    0.002847\n",
      "KitchenQual_Ex                0.002809\n",
      "KitchenAbvGr                  0.002769\n",
      "BedroomAbvGr                  0.002602\n",
      "OverallCond_(2.111, 3.222]    0.002381\n",
      "MSZoning_RM                   0.002380\n",
      "Fireplaces                    0.002370\n",
      "GarageCond_TA                 0.002202\n",
      "EnclosedPorch                 0.002115\n",
      "GarageQual_TA                 0.002045\n",
      "GarageFinish_Unf              0.002009\n",
      "OverallQual_(6.556, 7.667]    0.001995\n",
      "OverallQual_(7.667, 8.778]    0.001992\n",
      "ExterCond_Fa                  0.001975\n",
      "FireplaceQu_nan               0.001927\n",
      "OverallQual_(4.333, 5.444]    0.001875\n",
      "KitchenQual_Fa                0.001759\n",
      "PavedDrive_N                  0.001653\n",
      "YearRemodAdd_1950             0.001636\n",
      "BsmtQual_TA                   0.001402\n",
      "MSZoning_RL                   0.001239\n",
      "OverallQual_(8.778, 9.889]    0.001215\n",
      "dtype: float64\n"
     ]
    }
   ],
   "source": [
    "print_feature_importances(rf_model,X_train)"
   ]
  },
  {
   "cell_type": "code",
   "execution_count": null,
   "metadata": {},
   "outputs": [
    {
     "name": "stdout",
     "output_type": "stream",
     "text": [
      "0.0\n",
      "(2919, 661) 50 30 1460 1459\n"
     ]
    }
   ],
   "source": [
    "df_raw = pd.read_csv(f'{PATH}train.csv', low_memory=False)\n",
    "df_test = pd.read_csv(f'{PATH}test.csv', low_memory=False)\n",
    "df = df_raw.copy()\n",
    "stratify_col = df['OverallQual'].copy()\n",
    "combined,df,y,cat_cols,num_cols,test_id,n_train,n_test = preprocess_df(\n",
    "                                       df_train=df,df_test=df_test,\n",
    "                                       drop_target=True,\n",
    "                                       new_features_func=add_new_features1,\n",
    "                                       id_col='Id',\n",
    "                                       log_y=True,\n",
    "                                       convert_to_cat_cols=['CentralAir','MoSold','YrSold','YearBuilt','GarageYrBlt','YearRemodAdd'],\n",
    "                                       remove_skewness=True,\n",
    "                                       scale_mapper=RobustScaler(),\n",
    "                                       bin_columns_dict={'OverallQual':(1,11,10),'OverallCond':(1,11,10)}\n",
    "                                       )\n",
    "\n",
    "print(combined.shape,len(cat_cols),len(num_cols),n_train,n_test)"
   ]
  },
  {
   "cell_type": "code",
   "execution_count": null,
   "metadata": {},
   "outputs": [
    {
     "name": "stdout",
     "output_type": "stream",
     "text": [
      "MSE Training set = 0.002922005989641421, MSE Validation set = 0.02130034464721873, score Training Set = 0.9816833686042122, score on Validation Set = 0.866036051976834\n",
      "OOB Score = 0.8626689468435889\n"
     ]
    }
   ],
   "source": [
    "df = combined[:n_train]\n",
    "df_test = combined[n_train:]\n",
    "X_train,X_valid,y_train,y_valid = train_test_split(df,y,test_size=0.15,\n",
    "                                  stratify=stratify_col,shuffle = True,random_state=20)\n",
    "rf_model = RandomForestRegressor(n_estimators=1500,n_jobs=-1,oob_score=True).fit(X_train.values,\n",
    "                                                                                y_train)\n",
    "print_mse(rf_model, X_train,X_valid,y_train,y_valid)"
   ]
  },
  {
   "cell_type": "code",
   "execution_count": null,
   "metadata": {},
   "outputs": [
    {
     "name": "stdout",
     "output_type": "stream",
     "text": [
      "0.0\n",
      "(2919, 662) 50 31 1460 1459\n"
     ]
    }
   ],
   "source": [
    "df_raw = pd.read_csv(f'{PATH}train.csv', low_memory=False)\n",
    "df_test = pd.read_csv(f'{PATH}test.csv', low_memory=False)\n",
    "df = df_raw.copy()\n",
    "stratify_col = df['OverallQual'].copy()\n",
    "combined,df,y,cat_cols,num_cols,test_id,n_train,n_test = preprocess_df(\n",
    "                                       df_train=df,df_test=df_test,\n",
    "                                       drop_target=True,\n",
    "                                       new_features_func=add_new_features2,\n",
    "                                       id_col='Id',\n",
    "                                       log_y=True,\n",
    "                                       convert_to_cat_cols=['CentralAir','MoSold','YrSold','YearBuilt','GarageYrBlt','YearRemodAdd'],\n",
    "                                       remove_skewness=True,\n",
    "                                       scale_mapper=RobustScaler(),\n",
    "                                       bin_columns_dict={'OverallQual':(1,11,10),'OverallCond':(1,11,10)}\n",
    "                                       )\n",
    "\n",
    "print(combined.shape,len(cat_cols),len(num_cols),n_train,n_test)"
   ]
  },
  {
   "cell_type": "code",
   "execution_count": null,
   "metadata": {},
   "outputs": [
    {
     "name": "stdout",
     "output_type": "stream",
     "text": [
      "MSE Training set = 0.0027102876205698477, MSE Validation set = 0.018670977722303743, score Training Set = 0.9830105278707397, score on Validation Set = 0.8825728911640413\n",
      "OOB Score = 0.875238558298763\n"
     ]
    }
   ],
   "source": [
    "df = combined[:n_train]\n",
    "df_test = combined[n_train:]\n",
    "X_train,X_valid,y_train,y_valid = train_test_split(df,y,test_size=0.15,\n",
    "                                  stratify=stratify_col,shuffle = True,random_state=20)\n",
    "rf_model = RandomForestRegressor(n_estimators=1500,n_jobs=-1,oob_score=True).fit(X_train.values,\n",
    "                                                                                y_train)\n",
    "print_mse(rf_model, X_train,X_valid,y_train,y_valid)"
   ]
  },
  {
   "cell_type": "code",
   "execution_count": null,
   "metadata": {},
   "outputs": [
    {
     "name": "stdout",
     "output_type": "stream",
     "text": [
      "TotalSF                       0.617051\n",
      "OverallGrade                  0.069475\n",
      "ExterQual_TA                  0.050137\n",
      "GarageCars                    0.034046\n",
      "GarageArea                    0.016317\n",
      "KitchenQual_TA                0.013109\n",
      "LotArea                       0.011433\n",
      "GrLivArea                     0.010714\n",
      "BsmtFinSF1                    0.008689\n",
      "2ndFlrSF                      0.008448\n",
      "BsmtUnfSF                     0.007096\n",
      "CentralAir_Y                  0.006821\n",
      "CentralAir_N                  0.006396\n",
      "1stFlrSF                      0.006168\n",
      "FullBath                      0.005686\n",
      "TotalBsmtSF                   0.004562\n",
      "MSZoning_C (all)              0.004285\n",
      "LotFrontage                   0.003664\n",
      "BsmtQual_Ex                   0.003468\n",
      "BsmtQual_Gd                   0.003325\n",
      "KitchenQual_Gd                0.003275\n",
      "OpenPorchSF                   0.003244\n",
      "BsmtQual_TA                   0.002815\n",
      "MSSubClass                    0.002759\n",
      "GarageFinish_Unf              0.002680\n",
      "Neighborhood_OldTown          0.002643\n",
      "MasVnrArea                    0.002497\n",
      "Foundation_PConc              0.002473\n",
      "WoodDeckSF                    0.002443\n",
      "TotRmsAbvGrd                  0.002147\n",
      "OverallQual_(6.556, 7.667]    0.002024\n",
      "ExterQual_Gd                  0.001955\n",
      "MSZoning_RM                   0.001505\n",
      "KitchenQual_Ex                0.001448\n",
      "EnclosedPorch                 0.001443\n",
      "KitchenQual_Fa                0.001415\n",
      "GarageType_Detchd             0.001386\n",
      "YearRemodAdd_1950             0.001326\n",
      "GarageType_Attchd             0.001313\n",
      "KitchenAbvGr                  0.001312\n",
      "BedroomAbvGr                  0.001300\n",
      "SaleCondition_Abnorml         0.001197\n",
      "MSZoning_RL                   0.001176\n",
      "PavedDrive_N                  0.001160\n",
      "LandContour_Bnk               0.001153\n",
      "SaleCondition_Family          0.001093\n",
      "OverallQual_(4.333, 5.444]    0.001066\n",
      "ExterCond_Fa                  0.000925\n",
      "GarageQual_TA                 0.000913\n",
      "Fireplaces                    0.000897\n",
      "dtype: float64\n"
     ]
    }
   ],
   "source": [
    "print_feature_importances(rf_model,X_train)"
   ]
  },
  {
   "cell_type": "code",
   "execution_count": null,
   "metadata": {},
   "outputs": [
    {
     "name": "stdout",
     "output_type": "stream",
     "text": [
      "0.0\n"
     ]
    }
   ],
   "source": [
    "df_raw = pd.read_csv(f'{PATH}train.csv', low_memory=False)\n",
    "df_test = pd.read_csv(f'{PATH}test.csv', low_memory=False)\n",
    "df = df_raw.copy()\n",
    "stratify_col = df['OverallQual'].copy()\n",
    "combined,df,y,cat_cols,num_cols,test_id,n_train,n_test = preprocess_df(\n",
    "                                       df_train=df,df_test=df_test,\n",
    "                                       drop_target=True,\n",
    "                                       new_features_func=add_new_features2,\n",
    "                                       id_col='Id',\n",
    "                                       log_y=True,\n",
    "                                       convert_to_cat_cols=['GarageCars','CentralAir','MoSold','YrSold','YearBuilt','GarageYrBlt','YearRemodAdd'],\n",
    "                                       remove_skewness=True,\n",
    "                                       scale_mapper=RobustScaler(),\n",
    "                                       bin_columns_dict={'OverallQual':(1,11,10),'OverallCond':(1,11,10)}\n",
    "                                       )\n"
   ]
  },
  {
   "cell_type": "code",
   "execution_count": null,
   "metadata": {},
   "outputs": [
    {
     "name": "stdout",
     "output_type": "stream",
     "text": [
      "MSE Training set = 0.0027217679334127984, MSE Validation set = 0.019178245152996945, score Training Set = 0.9829385633849044, score on Validation Set = 0.8793825414845062\n",
      "OOB Score = 0.8744244489256909\n"
     ]
    }
   ],
   "source": [
    "df = combined[:n_train]\n",
    "df_test = combined[n_train:]\n",
    "X_train,X_valid,y_train,y_valid = train_test_split(df,y,test_size=0.15,\n",
    "                                  stratify=stratify_col,shuffle = True,random_state=20)\n",
    "\n",
    "rf_model = RandomForestRegressor(n_estimators=1500,n_jobs=-1,oob_score=True).fit(X_train.values,\n",
    "                                                                                y_train)\n",
    "print_mse(rf_model, X_train,X_valid,y_train,y_valid)"
   ]
  },
  {
   "cell_type": "code",
   "execution_count": null,
   "metadata": {},
   "outputs": [
    {
     "name": "stdout",
     "output_type": "stream",
     "text": [
      "TotalSF                       0.614101\n",
      "OverallGrade                  0.067279\n",
      "ExterQual_TA                  0.052831\n",
      "GarageCars_2.0                0.023071\n",
      "GarageArea                    0.016034\n",
      "GarageCars_3.0                0.014750\n",
      "KitchenQual_TA                0.012062\n",
      "LotArea                       0.011667\n",
      "GrLivArea                     0.010929\n",
      "2ndFlrSF                      0.008749\n",
      "BsmtFinSF1                    0.008395\n",
      "BsmtUnfSF                     0.006885\n",
      "CentralAir_Y                  0.006746\n",
      "CentralAir_N                  0.006335\n",
      "1stFlrSF                      0.006146\n",
      "FullBath                      0.005193\n",
      "TotalBsmtSF                   0.004762\n",
      "MSZoning_C (all)              0.003853\n",
      "LotFrontage                   0.003593\n",
      "OpenPorchSF                   0.003330\n",
      "BsmtQual_Ex                   0.003300\n",
      "BsmtQual_Gd                   0.003255\n",
      "KitchenQual_Gd                0.003248\n",
      "BsmtQual_TA                   0.003039\n",
      "GarageFinish_Unf              0.002897\n",
      "MSSubClass                    0.002829\n",
      "Neighborhood_OldTown          0.002580\n",
      "WoodDeckSF                    0.002473\n",
      "ExterQual_Gd                  0.002419\n",
      "Foundation_PConc              0.002371\n",
      "TotRmsAbvGrd                  0.002233\n",
      "MasVnrArea                    0.002180\n",
      "OverallQual_(6.556, 7.667]    0.002154\n",
      "MSZoning_RM                   0.001606\n",
      "KitchenAbvGr                  0.001542\n",
      "KitchenQual_Ex                0.001439\n",
      "GarageType_Attchd             0.001413\n",
      "EnclosedPorch                 0.001386\n",
      "BedroomAbvGr                  0.001338\n",
      "KitchenQual_Fa                0.001241\n",
      "GarageType_Detchd             0.001231\n",
      "SaleCondition_Abnorml         0.001196\n",
      "OverallQual_(3.222, 4.333]    0.001185\n",
      "PavedDrive_N                  0.001118\n",
      "MSZoning_RL                   0.001107\n",
      "OverallQual_(4.333, 5.444]    0.001080\n",
      "YearRemodAdd_1950             0.001079\n",
      "ExterCond_Fa                  0.001049\n",
      "SaleCondition_Family          0.001034\n",
      "LandContour_Bnk               0.001008\n",
      "dtype: float64\n"
     ]
    }
   ],
   "source": [
    "print_feature_importances(rf_model,X_train)"
   ]
  },
  {
   "cell_type": "code",
   "execution_count": null,
   "metadata": {},
   "outputs": [
    {
     "name": "stdout",
     "output_type": "stream",
     "text": [
      "0.0\n"
     ]
    }
   ],
   "source": [
    "df_raw = pd.read_csv(f'{PATH}train.csv', low_memory=False)\n",
    "df_test = pd.read_csv(f'{PATH}test.csv', low_memory=False)\n",
    "df = df_raw.copy()\n",
    "stratify_col = df['OverallQual'].copy()\n",
    "combined,df,y,cat_cols,num_cols,test_id,n_train,n_test = preprocess_df(\n",
    "                                       df_train=df,df_test=df_test,\n",
    "                                       drop_target=True,\n",
    "                                       new_features_func=add_new_features3,\n",
    "                                       id_col='Id',\n",
    "                                       log_y=True,\n",
    "                                       convert_to_cat_cols=['GarageCars','CentralAir','MoSold','YrSold','YearBuilt','GarageYrBlt','YearRemodAdd'],\n",
    "                                       remove_skewness=True,\n",
    "                                       scale_mapper=RobustScaler(),\n",
    "                                       bin_columns_dict={'OverallQual':(1,11,10),'OverallCond':(1,11,10)}\n",
    "                                       )\n",
    "\n"
   ]
  },
  {
   "cell_type": "code",
   "execution_count": null,
   "metadata": {},
   "outputs": [
    {
     "name": "stdout",
     "output_type": "stream",
     "text": [
      "MSE Training set = 0.002689138175527549, MSE Validation set = 0.019053090924821426, score Training Set = 0.9831431034337053, score on Validation Set = 0.8801696721528534\n",
      "OOB Score = 0.8752126557396414\n"
     ]
    }
   ],
   "source": [
    "df = combined[:n_train]\n",
    "df_test = combined[n_train:]\n",
    "X_train,X_valid,y_train,y_valid = train_test_split(df,y,test_size=0.15,\n",
    "                                  stratify=stratify_col,shuffle = True,random_state=20)\n",
    "\n",
    "rf_model = RandomForestRegressor(n_estimators=1500,n_jobs=-1,oob_score=True).fit(X_train.values,\n",
    "                                                                                y_train)\n",
    "print_mse(rf_model, X_train,X_valid,y_train,y_valid)"
   ]
  },
  {
   "cell_type": "code",
   "execution_count": null,
   "metadata": {},
   "outputs": [
    {
     "name": "stdout",
     "output_type": "stream",
     "text": [
      "TotalSF                       0.612296\n",
      "OverallGrade                  0.066018\n",
      "ExterQual_TA                  0.050531\n",
      "GarageCars_2.0                0.022494\n",
      "GarageCars_3.0                0.017362\n",
      "GarageArea                    0.016196\n",
      "TotalLivArea                  0.012867\n",
      "KitchenQual_TA                0.012278\n",
      "GrLivArea                     0.010239\n",
      "2ndFlrSF                      0.009158\n",
      "BsmtFinSF1                    0.008240\n",
      "CentralAir_Y                  0.006851\n",
      "BsmtUnfSF                     0.006834\n",
      "1stFlrSF                      0.006461\n",
      "CentralAir_N                  0.006258\n",
      "FullBath                      0.005246\n",
      "TotalBsmtSF                   0.004673\n",
      "LotArea                       0.004334\n",
      "MSZoning_C (all)              0.004128\n",
      "LotFrontage                   0.003531\n",
      "BsmtQual_Gd                   0.003292\n",
      "OpenPorchSF                   0.003120\n",
      "GarageFinish_Unf              0.002983\n",
      "BsmtQual_Ex                   0.002914\n",
      "BsmtQual_TA                   0.002822\n",
      "KitchenQual_Gd                0.002812\n",
      "MSSubClass                    0.002739\n",
      "Foundation_PConc              0.002616\n",
      "WoodDeckSF                    0.002363\n",
      "MasVnrArea                    0.002331\n",
      "TotRmsAbvGrd                  0.002265\n",
      "ExterQual_Gd                  0.002246\n",
      "Neighborhood_OldTown          0.002218\n",
      "OverallQual_(6.556, 7.667]    0.002104\n",
      "MSZoning_RM                   0.001522\n",
      "KitchenQual_Ex                0.001501\n",
      "KitchenQual_Fa                0.001446\n",
      "EnclosedPorch                 0.001430\n",
      "GarageType_Attchd             0.001428\n",
      "BedroomAbvGr                  0.001341\n",
      "GarageType_Detchd             0.001326\n",
      "OverallQual_(4.333, 5.444]    0.001222\n",
      "SaleCondition_Abnorml         0.001199\n",
      "OverallQual_(3.222, 4.333]    0.001136\n",
      "KitchenAbvGr                  0.001091\n",
      "LandContour_Bnk               0.001047\n",
      "ExterCond_Fa                  0.001042\n",
      "PavedDrive_N                  0.001029\n",
      "MSZoning_RL                   0.000981\n",
      "YearRemodAdd_1950             0.000976\n",
      "dtype: float64\n"
     ]
    }
   ],
   "source": [
    "print_feature_importances(rf_model,X_train)"
   ]
  },
  {
   "cell_type": "code",
   "execution_count": null,
   "metadata": {},
   "outputs": [
    {
     "name": "stdout",
     "output_type": "stream",
     "text": [
      "0.0\n"
     ]
    }
   ],
   "source": [
    "df_raw = pd.read_csv(f'{PATH}train.csv', low_memory=False)\n",
    "df_test = pd.read_csv(f'{PATH}test.csv', low_memory=False)\n",
    "df = df_raw.copy()\n",
    "stratify_col = df['OverallQual'].copy()\n",
    "combined,df,y,cat_cols,num_cols,_,n_train,n_test = preprocess_df(\n",
    "                                       df_train=df,df_test=df_test,\n",
    "                                       drop_target=True,\n",
    "                                       new_features_func=add_new_features4,\n",
    "                                       id_col='Id',\n",
    "                                       log_y=True,\n",
    "                                       convert_to_cat_cols=['GarageCars','CentralAir','MoSold','YrSold','YearBuilt','GarageYrBlt','YearRemodAdd'],\n",
    "                                       remove_skewness=True,\n",
    "                                       scale_mapper=RobustScaler(),\n",
    "                                       bin_columns_dict={'OverallQual':(1,11,10),'OverallCond':(1,11,10)} \n",
    "                                       )\n"
   ]
  },
  {
   "cell_type": "code",
   "execution_count": null,
   "metadata": {},
   "outputs": [],
   "source": [
    "df = combined[:n_train]\n",
    "df_test = combined[n_train:]\n",
    "X_train,X_valid,y_train,y_valid = train_test_split(df,y,test_size=0.15,\n",
    "                                  stratify=stratify_col,shuffle = True,random_state=20)\n",
    "\n",
    "rf_model = RandomForestRegressor(n_estimators=1500,n_jobs=-1,oob_score=True).fit(X_train.values,\n",
    "                                                                                y_train)\n",
    "print_mse(rf_model, X_train,X_valid,y_train,y_valid)"
   ]
  },
  {
   "cell_type": "code",
   "execution_count": null,
   "metadata": {},
   "outputs": [],
   "source": [
    "print_feature_importances(rf_model,X_train)"
   ]
  },
  {
   "cell_type": "code",
   "execution_count": null,
   "metadata": {},
   "outputs": [],
   "source": []
  },
  {
   "cell_type": "code",
   "execution_count": null,
   "metadata": {},
   "outputs": [],
   "source": []
  }
 ],
 "metadata": {
  "kernelspec": {
   "display_name": "Python 3",
   "language": "python",
   "name": "python3"
  },
  "language_info": {
   "codemirror_mode": {
    "name": "ipython",
    "version": 3
   },
   "file_extension": ".py",
   "mimetype": "text/x-python",
   "name": "python",
   "nbconvert_exporter": "python",
   "pygments_lexer": "ipython3",
   "version": "3.6.7"
  },
  "toc": {
   "colors": {
    "hover_highlight": "#DAA520",
    "navigate_num": "#000000",
    "navigate_text": "#333333",
    "running_highlight": "#FF0000",
    "selected_highlight": "#FFD700",
    "sidebar_border": "#EEEEEE",
    "wrapper_background": "#FFFFFF"
   },
   "moveMenuLeft": true,
   "nav_menu": {
    "height": "512px",
    "width": "252px"
   },
   "navigate_menu": true,
   "number_sections": true,
   "sideBar": true,
   "threshold": 4,
   "toc_cell": false,
   "toc_section_display": "block",
   "toc_window_display": false,
   "widenNotebook": false
  }
 },
 "nbformat": 4,
 "nbformat_minor": 2
}
