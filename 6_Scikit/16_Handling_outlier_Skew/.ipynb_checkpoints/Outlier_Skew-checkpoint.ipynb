{
 "cells": [
  {
   "cell_type": "code",
   "execution_count": 1,
   "metadata": {
    "hidden": true
   },
   "outputs": [],
   "source": [
    "import numpy as np\n",
    "import os\n",
    "import matplotlib\n",
    "import matplotlib.pyplot as plt\n",
    "import pandas as pd\n",
    "from IPython.display import display\n",
    "import sklearn\n",
    "from sklearn.model_selection import train_test_split\n",
    "from sklearn.preprocessing import PolynomialFeatures\n",
    "from sklearn.preprocessing import MinMaxScaler, RobustScaler, StandardScaler, LabelEncoder\n",
    "from sklearn.ensemble import RandomForestRegressor, RandomForestClassifier\n",
    "from sklearn import metrics\n",
    "from sklearn.metrics import mean_squared_error,mean_squared_log_error,r2_score\n",
    "from sklearn_pandas import DataFrameMapper\n",
    "from pandas.api.types import is_string_dtype, is_numeric_dtype\n",
    "\n",
    "from scipy.stats import skew\n",
    "from scipy.special import boxcox1p\n",
    "\n",
    "%matplotlib inline"
   ]
  },
  {
   "cell_type": "code",
   "execution_count": 2,
   "metadata": {},
   "outputs": [],
   "source": [
    "def get_cat_columns_by_type(df):\n",
    "    out = []\n",
    "    for colname,col_values in df.items():\n",
    "        if is_string_dtype(col_values):\n",
    "            out.append((colname,'string') )\n",
    "        elif not is_numeric_dtype(col_values):\n",
    "            out.append((colname,'categorical') )\n",
    "    return out       \n",
    "\n",
    "def get_numeric_columns(df):\n",
    "    out = []\n",
    "    for colname,col_values in df.items():\n",
    "        if is_numeric_dtype(col_values):\n",
    "            out.append(colname)\n",
    "    return out       \n",
    "    \n",
    "def get_missing_values_percentage(df):\n",
    "    missing_values_counts_list = df.isnull().sum()\n",
    "    total_values = np.product(df.shape)\n",
    "    total_missing = missing_values_counts_list.sum()\n",
    "    # percent of data that is missing\n",
    "    return (total_missing/total_values) * 100\n",
    "\n",
    "\n",
    "def convert_to_str_type(df_in,columns,inplace=False):\n",
    "    if(inplace):\n",
    "        df = df_in\n",
    "    else:\n",
    "        df = df_in.copy()\n",
    "        \n",
    "    for col in columns:\n",
    "        df[col] = df[col].astype(str)\n",
    "    return df\n",
    "\n",
    "    \n",
    "def handle_missing_values(df_in,cat_cols=[], num_cols=[],na_dict=None,add_nan_col=True,inplace=False):\n",
    "    if(inplace):\n",
    "        df = df_in\n",
    "    else:\n",
    "        df = df_in.copy()\n",
    " \n",
    "    if na_dict is None:\n",
    "        na_dict = {}\n",
    "\n",
    "    for colname, col_values in df.items():   \n",
    "        if colname not in num_cols:\n",
    "            continue\n",
    "        if pd.isnull(col_values).sum():\n",
    "            df[colname+'_na'] = pd.isnull(col_values)\n",
    "            filler = na_dict[colname] if colname in na_dict else col_values.median()\n",
    "            df[colname] = col_values.fillna(filler)\n",
    "            na_dict[colname] = filler\n",
    "    for colname in cat_cols:\n",
    "        df[colname].fillna(df[colname].mode()[0], inplace=True)\n",
    "        lbl = LabelEncoder() \n",
    "        lbl.fit(list(df[colname].values)) \n",
    "        df[colname] = lbl.transform(list(df[colname].values))\n",
    "    \n",
    "    return (df,na_dict)\n",
    "\n",
    "\n",
    "\n",
    "def scale_num_cols(df_in, mapper, inplace=False):\n",
    "    if(inplace):\n",
    "        df = df_in\n",
    "    else:\n",
    "        df = df_in.copy()\n",
    "        \n",
    "    if mapper is None:\n",
    "        map_f = [([c],StandardScaler()) for c in df.columns if is_numeric_dtype(df[c])]\n",
    "        mapper = DataFrameMapper(map_f).fit(df)\n",
    "    df[mapper.transformed_names_] = mapper.transform(df)\n",
    "    return (df,mapper)\n",
    "\n",
    "\n",
    "\n",
    "def extract_and_drop_target_column(df_in, y_name, inplace=False):\n",
    "    if(inplace):\n",
    "        df = df_in\n",
    "    else:\n",
    "        df = df_in.copy()\n",
    "    if not is_numeric_dtype(df[y_name]):\n",
    "        df[y_name] = df[y_name].cat.codes\n",
    "        y = df[y_name].values\n",
    "    else:\n",
    "        y = df[y_name]\n",
    "    df.drop([y_name], axis=1, inplace=True)\n",
    "    return (df,y)\n",
    "\n",
    "def print_mse(m,X_train, X_valid, y_train, y_valid):\n",
    "    res = [mean_squared_error(y_train,m.predict(X_train)),\n",
    "                mean_squared_error(y_valid,m.predict(X_valid)),\n",
    "                m.score(X_train, y_train), m.score(X_valid, y_valid)]\n",
    "    print('MSE Training set = {}, MSE Validation set = {}, score Training Set = {}, score on Validation Set = {}'.format(res[0],res[1],res[2], res[3]))\n",
    "    if hasattr(m, 'oob_score_'):\n",
    "          print('OOB Score = {}'.format(m.oob_score_))      \n",
    "\n",
    "def get_iqr_min_max(df,cols):\n",
    "    out = {}\n",
    "    for colname, col_values in df.items():\n",
    "        if colname not in cols:\n",
    "            continue\n",
    "        quartile75, quartile25 = np.percentile(col_values, [75 ,25])\n",
    "        ## Inter Quartile Range ##\n",
    "        IQR = quartile75 - quartile25\n",
    "        min_value = quartile25 - (IQR*1.5)\n",
    "        max_value = quartile75 + (IQR*1.5)\n",
    "        out[colname] = (min_value,max_value)\n",
    "    return out\n",
    "\n",
    "\n",
    "def bin_numerical_columns(df_in,cols,inplace=False):\n",
    "    if(inplace):\n",
    "        df = df_in\n",
    "    else:\n",
    "        df = df_in.copy()\n",
    "        \n",
    "    for col in cols.keys():\n",
    "        bins = cols[col]\n",
    "        buckets_ = np.linspace(bins[0],bins[1],bins[2])\n",
    "        df[col] = pd.cut(df[col],buckets_,include_lowest=True)\n",
    "    return df"
   ]
  },
  {
   "cell_type": "code",
   "execution_count": 29,
   "metadata": {},
   "outputs": [],
   "source": [
    "def preprocess_df(df_train,df_test=None,\n",
    "                  log_y=True,\n",
    "                  id_col= None,\n",
    "                  drop_target=True,\n",
    "                 convert_to_cat_cols=None,\n",
    "                 remove_skewness=False,scale_mapper=None,\n",
    "                 bin_columns_dict=None):\n",
    "    \n",
    "    if drop_target:\n",
    "        df,y = extract_and_drop_target_column(df_train,'SalePrice',inplace=True)\n",
    "    if log_y:\n",
    "        y = np.log1p(y)\n",
    "    else:\n",
    "        y = None\n",
    "        \n",
    "    combined = pd.concat((df, df_test)).reset_index(drop=True)\n",
    "    \n",
    "    if df_test is not None and id_col is not None:\n",
    "        test_id = df_test['Id'].copy()\n",
    "        combined.drop('Id', axis=1,inplace=True)\n",
    "    else: test_id = None\n",
    "    \n",
    "    if convert_to_cat_cols is not None:\n",
    "        combined = convert_to_str_type(combined,convert_to_cat_cols)\n",
    "    if bin_columns_dict is not None:\n",
    "        combined = bin_numerical_columns(combined,bin_columns_dict,inplace=True)\n",
    "\n",
    "    cat_cols = get_cat_columns_by_type(combined)\n",
    "    cat_cols = [cat_cols[i][0] for i in range(len(cat_cols))]\n",
    "    num_cols = [col for col in combined.columns if col not in cat_cols]\n",
    "    n_train = df.shape[0]\n",
    "    n_test = df_test.shape[0]\n",
    "   \n",
    "    if remove_skewness:\n",
    "        skewed_cols = combined[num_cols].apply(lambda x: skew(x)).sort_values(ascending=False)\n",
    "        skewness = pd.DataFrame({'Skew' :skewed_cols})\n",
    "        skewness_log = skewness[skewness > 4.0]\n",
    "        skewness_other = skewness[skewness <= 4.0]\n",
    "        skewed_features_log = skewness_log.index\n",
    "        skewed_features_other = skewness_other.index\n",
    "        lambda_ = 0.0\n",
    "        for feature in skewed_features_log:\n",
    "            combined[feature] = boxcox1p(combined[feature],lambda_)\n",
    "        lambda_ = 0.15\n",
    "        for feature in skewed_features_other:\n",
    "            combined[feature] = boxcox1p(combined[feature],lambda_)\n",
    "      \n",
    "    combined,d = handle_missing_values(combined,cat_cols=cat_cols,num_cols=num_cols,inplace=True)\n",
    "    \n",
    "    combined = pd.get_dummies(combined, dummy_na=True)\n",
    "    \n",
    "    if scale_mapper is not None:\n",
    "        map_f = [([c],scale_mapper) for c in num_cols]\n",
    "        mapper = DataFrameMapper(map_f).fit(combined)\n",
    "    else:\n",
    "        mapper = None\n",
    "        \n",
    "    combined,_ = scale_num_cols(combined,mapper) \n",
    "    \n",
    "    return combined,df,y,cat_cols,num_cols,test_id,n_train,n_test\n"
   ]
  },
  {
   "cell_type": "code",
   "execution_count": 3,
   "metadata": {
    "hidden": true
   },
   "outputs": [],
   "source": [
    "PATH = \"data/iowa_housing/\""
   ]
  },
  {
   "cell_type": "code",
   "execution_count": 5,
   "metadata": {
    "hidden": true,
    "scrolled": false
   },
   "outputs": [],
   "source": [
    "df_raw = pd.read_csv(f'{PATH}train.csv', low_memory=False)\n",
    "df_test = pd.read_csv(f'{PATH}test.csv', low_memory=False)\n",
    "df = df_raw.copy()"
   ]
  },
  {
   "cell_type": "code",
   "execution_count": 6,
   "metadata": {},
   "outputs": [
    {
     "name": "stdout",
     "output_type": "stream",
     "text": [
      "<class 'pandas.core.frame.DataFrame'>\n",
      "RangeIndex: 1460 entries, 0 to 1459\n",
      "Data columns (total 81 columns):\n",
      "Id               1460 non-null int64\n",
      "MSSubClass       1460 non-null int64\n",
      "MSZoning         1460 non-null object\n",
      "LotFrontage      1201 non-null float64\n",
      "LotArea          1460 non-null int64\n",
      "Street           1460 non-null object\n",
      "Alley            91 non-null object\n",
      "LotShape         1460 non-null object\n",
      "LandContour      1460 non-null object\n",
      "Utilities        1460 non-null object\n",
      "LotConfig        1460 non-null object\n",
      "LandSlope        1460 non-null object\n",
      "Neighborhood     1460 non-null object\n",
      "Condition1       1460 non-null object\n",
      "Condition2       1460 non-null object\n",
      "BldgType         1460 non-null object\n",
      "HouseStyle       1460 non-null object\n",
      "OverallQual      1460 non-null int64\n",
      "OverallCond      1460 non-null int64\n",
      "YearBuilt        1460 non-null int64\n",
      "YearRemodAdd     1460 non-null int64\n",
      "RoofStyle        1460 non-null object\n",
      "RoofMatl         1460 non-null object\n",
      "Exterior1st      1460 non-null object\n",
      "Exterior2nd      1460 non-null object\n",
      "MasVnrType       1452 non-null object\n",
      "MasVnrArea       1452 non-null float64\n",
      "ExterQual        1460 non-null object\n",
      "ExterCond        1460 non-null object\n",
      "Foundation       1460 non-null object\n",
      "BsmtQual         1423 non-null object\n",
      "BsmtCond         1423 non-null object\n",
      "BsmtExposure     1422 non-null object\n",
      "BsmtFinType1     1423 non-null object\n",
      "BsmtFinSF1       1460 non-null int64\n",
      "BsmtFinType2     1422 non-null object\n",
      "BsmtFinSF2       1460 non-null int64\n",
      "BsmtUnfSF        1460 non-null int64\n",
      "TotalBsmtSF      1460 non-null int64\n",
      "Heating          1460 non-null object\n",
      "HeatingQC        1460 non-null object\n",
      "CentralAir       1460 non-null object\n",
      "Electrical       1459 non-null object\n",
      "1stFlrSF         1460 non-null int64\n",
      "2ndFlrSF         1460 non-null int64\n",
      "LowQualFinSF     1460 non-null int64\n",
      "GrLivArea        1460 non-null int64\n",
      "BsmtFullBath     1460 non-null int64\n",
      "BsmtHalfBath     1460 non-null int64\n",
      "FullBath         1460 non-null int64\n",
      "HalfBath         1460 non-null int64\n",
      "BedroomAbvGr     1460 non-null int64\n",
      "KitchenAbvGr     1460 non-null int64\n",
      "KitchenQual      1460 non-null object\n",
      "TotRmsAbvGrd     1460 non-null int64\n",
      "Functional       1460 non-null object\n",
      "Fireplaces       1460 non-null int64\n",
      "FireplaceQu      770 non-null object\n",
      "GarageType       1379 non-null object\n",
      "GarageYrBlt      1379 non-null float64\n",
      "GarageFinish     1379 non-null object\n",
      "GarageCars       1460 non-null int64\n",
      "GarageArea       1460 non-null int64\n",
      "GarageQual       1379 non-null object\n",
      "GarageCond       1379 non-null object\n",
      "PavedDrive       1460 non-null object\n",
      "WoodDeckSF       1460 non-null int64\n",
      "OpenPorchSF      1460 non-null int64\n",
      "EnclosedPorch    1460 non-null int64\n",
      "3SsnPorch        1460 non-null int64\n",
      "ScreenPorch      1460 non-null int64\n",
      "PoolArea         1460 non-null int64\n",
      "PoolQC           7 non-null object\n",
      "Fence            281 non-null object\n",
      "MiscFeature      54 non-null object\n",
      "MiscVal          1460 non-null int64\n",
      "MoSold           1460 non-null int64\n",
      "YrSold           1460 non-null int64\n",
      "SaleType         1460 non-null object\n",
      "SaleCondition    1460 non-null object\n",
      "SalePrice        1460 non-null int64\n",
      "dtypes: float64(3), int64(35), object(43)\n",
      "memory usage: 924.0+ KB\n"
     ]
    }
   ],
   "source": [
    "df.info()"
   ]
  },
  {
   "cell_type": "code",
   "execution_count": 7,
   "metadata": {},
   "outputs": [
    {
     "name": "stderr",
     "output_type": "stream",
     "text": [
      "C:\\Users\\MASTER\\Anaconda3\\envs\\fastai\\lib\\site-packages\\sklearn\\utils\\validation.py:475: DataConversionWarning: Data with input dtype int64 was converted to float64 by StandardScaler.\n",
      "  warnings.warn(msg, DataConversionWarning)\n",
      "C:\\Users\\MASTER\\Anaconda3\\envs\\fastai\\lib\\site-packages\\sklearn\\utils\\validation.py:475: DataConversionWarning: Data with input dtype bool was converted to float64 by StandardScaler.\n",
      "  warnings.warn(msg, DataConversionWarning)\n"
     ]
    },
    {
     "name": "stdout",
     "output_type": "stream",
     "text": [
      "(2919, 89) 48 31 1460 1459\n"
     ]
    }
   ],
   "source": [
    "combined,df,y,cat_cols,num_cols,test_id,n_train,n_test = preprocess_df(df_train=df,df_test=df_test,id_col='Id',\n",
    "                                                                      convert_to_cat_cols=['MoSold','YrSold','YearBuilt','GarageYrBlt','YearRemodAdd'],\n",
    "                                                                      remove_skewness=False,\n",
    "                                                                      )\n",
    "print(combined.shape,len(cat_cols),len(num_cols),n_train,n_test)"
   ]
  },
  {
   "cell_type": "code",
   "execution_count": 8,
   "metadata": {},
   "outputs": [
    {
     "data": {
      "text/plain": [
       "MiscVal          24.451640\n",
       "PoolArea         14.813135\n",
       "LotArea          12.195142\n",
       "3SsnPorch        10.293752\n",
       "LowQualFinSF      9.002080\n",
       "KitchenAbvGr      4.483784\n",
       "BsmtFinSF2        4.250888\n",
       "ScreenPorch       4.117977\n",
       "BsmtHalfBath      4.099186\n",
       "EnclosedPorch     3.086696\n",
       "OpenPorchSF       2.361912\n",
       "SalePrice         1.880941\n",
       "BsmtFinSF1        1.683771\n",
       "WoodDeckSF        1.539792\n",
       "TotalBsmtSF       1.522688\n",
       "MSSubClass        1.406210\n",
       "1stFlrSF          1.375342\n",
       "GrLivArea         1.365156\n",
       "BsmtUnfSF         0.919323\n",
       "2ndFlrSF          0.812194\n",
       "OverallCond       0.692355\n",
       "TotRmsAbvGrd      0.675646\n",
       "HalfBath          0.675203\n",
       "Fireplaces        0.648898\n",
       "BsmtFullBath      0.595454\n",
       "OverallQual       0.216721\n",
       "MoSold            0.211835\n",
       "BedroomAbvGr      0.211572\n",
       "GarageArea        0.179796\n",
       "YrSold            0.096170\n",
       "FullBath          0.036524\n",
       "Id                0.000000\n",
       "GarageCars       -0.342197\n",
       "YearRemodAdd     -0.503044\n",
       "YearBuilt        -0.612831\n",
       "LotFrontage            NaN\n",
       "MasVnrArea             NaN\n",
       "GarageYrBlt            NaN\n",
       "dtype: float64"
      ]
     },
     "execution_count": 8,
     "metadata": {},
     "output_type": "execute_result"
    }
   ],
   "source": [
    "cat_cols = get_cat_columns_by_type(df_raw)\n",
    "cat_cols = [cat_cols[i][0] for i in range(len(cat_cols))]\n",
    "num_cols = [col for col in df_raw.columns if col not in cat_cols]\n",
    "skewed_cols = df_raw[num_cols].apply(lambda x: skew(x)).sort_values(ascending=False)\n",
    "skewed_cols"
   ]
  },
  {
   "cell_type": "code",
   "execution_count": 9,
   "metadata": {},
   "outputs": [
    {
     "name": "stderr",
     "output_type": "stream",
     "text": [
      "C:\\Users\\MASTER\\Anaconda3\\envs\\fastai\\lib\\site-packages\\numpy\\lib\\function_base.py:4291: RuntimeWarning: Invalid value encountered in percentile\n",
      "  interpolation=interpolation)\n"
     ]
    },
    {
     "data": {
      "text/plain": [
       "{'1stFlrSF': (118.125, 2155.125),\n",
       " '2ndFlrSF': (-1092.0, 1820.0),\n",
       " '3SsnPorch': (0.0, 0.0),\n",
       " 'BedroomAbvGr': (0.5, 4.5),\n",
       " 'BsmtFinSF1': (-1068.375, 1780.625),\n",
       " 'BsmtFinSF2': (0.0, 0.0),\n",
       " 'BsmtFullBath': (-1.5, 2.5),\n",
       " 'BsmtHalfBath': (0.0, 0.0),\n",
       " 'BsmtUnfSF': (-654.5, 1685.5),\n",
       " 'EnclosedPorch': (0.0, 0.0),\n",
       " 'Fireplaces': (-1.5, 2.5),\n",
       " 'FullBath': (-0.5, 3.5),\n",
       " 'GarageArea': (-27.75, 938.25),\n",
       " 'GarageCars': (-0.5, 3.5),\n",
       " 'GarageYrBlt': (nan, nan),\n",
       " 'GrLivArea': (158.625, 2747.625),\n",
       " 'HalfBath': (-1.5, 2.5),\n",
       " 'Id': (-728.5, 2189.5),\n",
       " 'KitchenAbvGr': (1.0, 1.0),\n",
       " 'LotArea': (1481.5, 17673.5),\n",
       " 'LotFrontage': (nan, nan),\n",
       " 'LowQualFinSF': (0.0, 0.0),\n",
       " 'MSSubClass': (-55.0, 145.0),\n",
       " 'MasVnrArea': (nan, nan),\n",
       " 'MiscVal': (0.0, 0.0),\n",
       " 'MoSold': (0.5, 12.5),\n",
       " 'OpenPorchSF': (-102.0, 170.0),\n",
       " 'OverallCond': (3.5, 7.5),\n",
       " 'OverallQual': (2.0, 10.0),\n",
       " 'PoolArea': (0.0, 0.0),\n",
       " 'ScreenPorch': (0.0, 0.0),\n",
       " 'TotRmsAbvGrd': (2.0, 10.0),\n",
       " 'TotalBsmtSF': (42.0, 2052.0),\n",
       " 'WoodDeckSF': (-252.0, 420.0),\n",
       " 'YearBuilt': (1885.0, 2069.0),\n",
       " 'YearRemodAdd': (1911.5, 2059.5),\n",
       " 'YrSold': (2004.0, 2012.0)}"
      ]
     },
     "execution_count": 9,
     "metadata": {},
     "output_type": "execute_result"
    }
   ],
   "source": [
    "iqr_ranges = get_iqr_min_max(df,num_cols)\n",
    "iqr_ranges"
   ]
  },
  {
   "cell_type": "code",
   "execution_count": 10,
   "metadata": {},
   "outputs": [
    {
     "data": {
      "text/plain": [
       "count    1460.000000\n",
       "mean     1515.463699\n",
       "std       525.480383\n",
       "min       334.000000\n",
       "25%      1129.500000\n",
       "50%      1464.000000\n",
       "75%      1776.750000\n",
       "max      5642.000000\n",
       "Name: GrLivArea, dtype: float64"
      ]
     },
     "execution_count": 10,
     "metadata": {},
     "output_type": "execute_result"
    }
   ],
   "source": [
    "df['GrLivArea'].describe()"
   ]
  },
  {
   "cell_type": "code",
   "execution_count": 11,
   "metadata": {},
   "outputs": [
    {
     "data": {
      "text/plain": [
       "1464.0"
      ]
     },
     "execution_count": 11,
     "metadata": {},
     "output_type": "execute_result"
    }
   ],
   "source": [
    "df['GrLivArea'].median()"
   ]
  },
  {
   "cell_type": "code",
   "execution_count": 12,
   "metadata": {},
   "outputs": [
    {
     "name": "stdout",
     "output_type": "stream",
     "text": [
      "Data Ready\n"
     ]
    }
   ],
   "source": [
    "df = combined[:n_train]\n",
    "df_test = combined[n_train:]\n",
    "\n",
    "X_train,X_valid,y_train,y_valid = train_test_split(df,y,test_size=0.15,\n",
    "                                  stratify=df['OverallQual'],shuffle = True,random_state=20)\n",
    "print('Data Ready')"
   ]
  },
  {
   "cell_type": "code",
   "execution_count": 13,
   "metadata": {},
   "outputs": [
    {
     "name": "stdout",
     "output_type": "stream",
     "text": [
      "MSE Training set = 0.0027234096054963835, MSE Validation set = 0.01874850029866925, score Training Set = 0.9829282725427451, score on Validation Set = 0.8820853295511727\n",
      "OOB Score = 0.872590971106644\n"
     ]
    }
   ],
   "source": [
    "rf_model = RandomForestRegressor(n_estimators=1500,n_jobs=-1,oob_score=True).fit(X_train.values,\n",
    "                                                                                y_train)\n",
    "print_mse(rf_model,X_train,X_valid,y_train,y_valid)"
   ]
  },
  {
   "cell_type": "code",
   "execution_count": 14,
   "metadata": {},
   "outputs": [
    {
     "name": "stderr",
     "output_type": "stream",
     "text": [
      "C:\\Users\\MASTER\\Anaconda3\\envs\\fastai\\lib\\site-packages\\sklearn\\utils\\validation.py:475: DataConversionWarning: Data with input dtype int64 was converted to float64 by StandardScaler.\n",
      "  warnings.warn(msg, DataConversionWarning)\n",
      "C:\\Users\\MASTER\\Anaconda3\\envs\\fastai\\lib\\site-packages\\sklearn\\utils\\validation.py:475: DataConversionWarning: Data with input dtype bool was converted to float64 by StandardScaler.\n",
      "  warnings.warn(msg, DataConversionWarning)\n"
     ]
    },
    {
     "name": "stdout",
     "output_type": "stream",
     "text": [
      "(2919, 89) 48 31 1460 1459\n"
     ]
    }
   ],
   "source": [
    "df_raw = pd.read_csv(f'{PATH}train.csv', low_memory=False)\n",
    "df_test = pd.read_csv(f'{PATH}test.csv', low_memory=False)\n",
    "df = df_raw.copy()\n",
    "combined,df,y,cat_cols,num_cols,_,n_train,n_test = preprocess_df(df_train=df,df_test=df_test,\n",
    "                                                                       drop_target=True,\n",
    "                                                                       id_col='Id',\n",
    "                                                                       log_y=True,\n",
    "                                                                       convert_to_cat_cols=['MoSold','YrSold','YearBuilt','GarageYrBlt','YearRemodAdd'],\n",
    "                                                                       remove_skewness=True\n",
    "                                                                       )\n",
    "print(combined.shape,len(cat_cols),len(num_cols),n_train,n_test)"
   ]
  },
  {
   "cell_type": "code",
   "execution_count": 15,
   "metadata": {},
   "outputs": [
    {
     "name": "stdout",
     "output_type": "stream",
     "text": [
      "Data Ready\n"
     ]
    }
   ],
   "source": [
    "df = combined[:n_train]\n",
    "df_test = combined[n_train:]\n",
    "\n",
    "X_train,X_valid,y_train,y_valid = train_test_split(df,y,test_size=0.15,\n",
    "                                  stratify=df['OverallQual'],shuffle = True,random_state=20)\n",
    "print('Data Ready')"
   ]
  },
  {
   "cell_type": "code",
   "execution_count": 16,
   "metadata": {},
   "outputs": [
    {
     "name": "stdout",
     "output_type": "stream",
     "text": [
      "MSE Training set = 0.002748774050126492, MSE Validation set = 0.018577351109317828, score Training Set = 0.9827692752017076, score on Validation Set = 0.8831617356603794\n",
      "OOB Score = 0.8730241561374701\n"
     ]
    }
   ],
   "source": [
    "rf_model = RandomForestRegressor(n_estimators=1500,n_jobs=-1,oob_score=True).fit(X_train.values,\n",
    "                                                                                y_train)\n",
    "print_mse(rf_model,X_train,X_valid,y_train,y_valid)"
   ]
  },
  {
   "cell_type": "code",
   "execution_count": 17,
   "metadata": {},
   "outputs": [],
   "source": [
    "df_raw = pd.read_csv(f'{PATH}train.csv', low_memory=False)\n",
    "df_test = pd.read_csv(f'{PATH}test.csv', low_memory=False)\n",
    "df = df_raw.copy()\n",
    "combined,df,y,cat_cols,num_cols,_,n_train,n_test = preprocess_df(df_train=df,df_test=df_test,\n",
    "                                                   drop_target=True,\n",
    "                                                   id_col='Id',\n",
    "                                                   log_y=True,\n",
    "                                                   convert_to_cat_cols=['MoSold','YrSold','YearBuilt','GarageYrBlt','YearRemodAdd'],\n",
    "                                                   remove_skewness=True,\n",
    "                                                   scale_mapper=RobustScaler()\n",
    "                                                  )"
   ]
  },
  {
   "cell_type": "code",
   "execution_count": 18,
   "metadata": {},
   "outputs": [
    {
     "name": "stdout",
     "output_type": "stream",
     "text": [
      "Data Ready\n"
     ]
    }
   ],
   "source": [
    "df = combined[:n_train]\n",
    "df_test = combined[n_train:]\n",
    "\n",
    "X_train,X_valid,y_train,y_valid = train_test_split(df,y,test_size=0.15,\n",
    "                                  stratify=df['OverallQual'],shuffle = True,random_state=20)\n",
    "print('Data Ready')"
   ]
  },
  {
   "cell_type": "code",
   "execution_count": 19,
   "metadata": {},
   "outputs": [
    {
     "name": "stdout",
     "output_type": "stream",
     "text": [
      "MSE Training set = 0.002790949101121589, MSE Validation set = 0.01860533563257507, score Training Set = 0.9825049003626708, score on Validation Set = 0.8829857330049683\n",
      "OOB Score = 0.8727200172778028\n"
     ]
    }
   ],
   "source": [
    "rf_model = RandomForestRegressor(n_estimators=1500,n_jobs=-1,oob_score=True).fit(X_train.values,\n",
    "                                                                                y_train)\n",
    "print_mse(rf_model,X_train,X_valid,y_train,y_valid)"
   ]
  },
  {
   "cell_type": "code",
   "execution_count": 20,
   "metadata": {},
   "outputs": [
    {
     "data": {
      "text/plain": [
       "OverallQual      0.546950\n",
       "GrLivArea        0.113999\n",
       "TotalBsmtSF      0.048865\n",
       "GarageArea       0.037303\n",
       "GarageCars       0.033802\n",
       "1stFlrSF         0.020012\n",
       "BsmtFinSF1       0.019736\n",
       "YearBuilt        0.014136\n",
       "CentralAir       0.012295\n",
       "OverallCond      0.012219\n",
       "LotArea          0.012084\n",
       "MSZoning         0.009105\n",
       "YearRemodAdd     0.007681\n",
       "GarageFinish     0.007309\n",
       "2ndFlrSF         0.007212\n",
       "BsmtUnfSF        0.005627\n",
       "Neighborhood     0.005136\n",
       "LotFrontage      0.004652\n",
       "GarageYrBlt      0.004190\n",
       "Fireplaces       0.003978\n",
       "OpenPorchSF      0.003914\n",
       "FullBath         0.003511\n",
       "MoSold           0.003367\n",
       "MasVnrArea       0.003246\n",
       "WoodDeckSF       0.003218\n",
       "GarageType       0.003210\n",
       "TotRmsAbvGrd     0.003075\n",
       "BsmtQual         0.003004\n",
       "EnclosedPorch    0.002635\n",
       "KitchenQual      0.002543\n",
       "ExterCond        0.002466\n",
       "BsmtFinType1     0.002340\n",
       "MSSubClass       0.002162\n",
       "SaleCondition    0.002042\n",
       "BedroomAbvGr     0.001997\n",
       "LandContour      0.001862\n",
       "LotShape         0.001852\n",
       "Exterior1st      0.001828\n",
       "Exterior2nd      0.001739\n",
       "BsmtExposure     0.001733\n",
       "YrSold           0.001644\n",
       "ExterQual        0.001626\n",
       "PavedDrive       0.001623\n",
       "HeatingQC        0.001146\n",
       "LandSlope        0.000882\n",
       "BsmtFullBath     0.000882\n",
       "HouseStyle       0.000845\n",
       "HalfBath         0.000800\n",
       "Foundation       0.000798\n",
       "RoofStyle        0.000794\n",
       "dtype: float64"
      ]
     },
     "execution_count": 20,
     "metadata": {},
     "output_type": "execute_result"
    }
   ],
   "source": [
    "important_features = pd.Series(data=rf_model.feature_importances_,index=X_train.columns)\n",
    "important_features.sort_values(ascending=False,inplace=True)\n",
    "important_features.head(50)"
   ]
  },
  {
   "cell_type": "code",
   "execution_count": 21,
   "metadata": {},
   "outputs": [
    {
     "data": {
      "text/plain": [
       "1    2723\n",
       "0     196\n",
       "Name: CentralAir, dtype: int64"
      ]
     },
     "execution_count": 21,
     "metadata": {},
     "output_type": "execute_result"
    }
   ],
   "source": [
    "combined['CentralAir'].value_counts()"
   ]
  },
  {
   "cell_type": "code",
   "execution_count": 23,
   "metadata": {},
   "outputs": [
    {
     "data": {
      "text/plain": [
       "1.109946    825\n",
       "1.172893    731\n",
       "1.225196    600\n",
       "1.269755    342\n",
       "1.031562    226\n",
       "1.308446    107\n",
       "0.929025     40\n",
       "1.342554     31\n",
       "0.784059     13\n",
       "0.547945      4\n",
       "Name: OverallQual, dtype: int64"
      ]
     },
     "execution_count": 23,
     "metadata": {},
     "output_type": "execute_result"
    }
   ],
   "source": [
    "combined['OverallQual'].value_counts()"
   ]
  },
  {
   "cell_type": "code",
   "execution_count": 24,
   "metadata": {},
   "outputs": [
    {
     "data": {
      "text/plain": [
       "1.109946    1645\n",
       "1.172893     531\n",
       "1.225196     390\n",
       "1.269755     144\n",
       "1.031562     101\n",
       "0.929025      50\n",
       "1.308446      41\n",
       "0.784059      10\n",
       "0.547945       7\n",
       "Name: OverallCond, dtype: int64"
      ]
     },
     "execution_count": 24,
     "metadata": {},
     "output_type": "execute_result"
    }
   ],
   "source": [
    "combined['OverallCond'].value_counts()"
   ]
  },
  {
   "cell_type": "code",
   "execution_count": 25,
   "metadata": {},
   "outputs": [],
   "source": [
    "df_raw = pd.read_csv(f'{PATH}train.csv', low_memory=False)\n",
    "df_test = pd.read_csv(f'{PATH}test.csv', low_memory=False)\n",
    "df = df_raw.copy()\n",
    "combined,df,y,cat_cols,num_cols,_,n_train,n_test = preprocess_df(df_train=df,df_test=df_test,\n",
    "                                                                       drop_target=True,\n",
    "                                                                       id_col='Id',\n",
    "                                                                       log_y=True,\n",
    "                                                                       convert_to_cat_cols=['CentralAir','MoSold','YrSold','YearBuilt','GarageYrBlt','YearRemodAdd'],\n",
    "                                                                       remove_skewness=True,\n",
    "                                                                       scale_mapper=RobustScaler(),\n",
    "                                                                       bin_columns_dict={'OverallQual':(1,11,10),'OverallCond':(1,11,10)}\n",
    "                                                                   )\n",
    "\n"
   ]
  },
  {
   "cell_type": "code",
   "execution_count": 26,
   "metadata": {},
   "outputs": [
    {
     "name": "stdout",
     "output_type": "stream",
     "text": [
      "MSE Training set = 0.002738803337995767, MSE Validation set = 0.020471771642935205, score Training Set = 0.9826390189427988, score on Validation Set = 0.8788730234364656\n",
      "OOB Score = 0.8722602640290695\n"
     ]
    }
   ],
   "source": [
    "df = combined[:n_train]\n",
    "df_test = combined[n_train:]\n",
    "\n",
    "X_train,X_valid,y_train,y_valid = train_test_split(df,y,test_size=0.15,\n",
    "                                  stratify=df['OverallQual'],shuffle = True,random_state=20)\n",
    "rf_model = RandomForestRegressor(n_estimators=1500,n_jobs=-1,oob_score=True).fit(X_train.values,\n",
    "                                                                                y_train)\n",
    "print_mse(rf_model,X_train,X_valid,y_train,y_valid)"
   ]
  },
  {
   "cell_type": "code",
   "execution_count": null,
   "metadata": {},
   "outputs": [],
   "source": [
    "df_raw = pd.read_csv(f'{PATH}train.csv', low_memory=False)\n",
    "df_test = pd.read_csv(f'{PATH}test.csv', low_memory=False)\n",
    "df = df_raw.copy()\n",
    "combined,df,y,cat_cols,num_cols,test_id,n_train,n_test = preprocess_df(df_train=df,df_test=df_test,\n",
    "                                                                       drop_target=True,\n",
    "                                                                       id_col='Id',\n",
    "                                                                       log_y=True,\n",
    "                                                                       convert_to_cat_cols=['MoSold','YrSold','YearBuilt','GarageYrBlt','YearRemodAdd'],\n",
    "                                                                       remove_skewness=True,\n",
    "                                                                       scale_mapper=RobustScaler(),\n",
    "                                                                       bin_columns_dict={'OverallQual':(1,11,10),'OverallCond':(1,11,10)}\n",
    "                                                                   )\n",
    "\n",
    "\n",
    "map_f = [([c],MinMaxScaler()) for c in combined.columns if is_numeric_dtype(combined[c])]\n",
    "mapper = DataFrameMapper(map_f).fit(combined)\n",
    "combined,_ = scale_num_cols(combined,mapper)"
   ]
  },
  {
   "cell_type": "code",
   "execution_count": null,
   "metadata": {},
   "outputs": [],
   "source": [
    "df = combined[:n_train]\n",
    "df_test = combined[n_train:]\n",
    "\n",
    "X_train,X_valid,y_train,y_valid = train_test_split(df,y,test_size=0.15,\n",
    "                                  stratify=df['OverallQual'],shuffle = True,random_state=20)\n",
    "rf_model = RandomForestRegressor(n_estimators=1500,n_jobs=-1,oob_score=True).fit(X_train.values,\n",
    "                                                                                y_train)\n",
    "print_mse(rf_model,X_train,X_valid,y_train,y_valid)"
   ]
  },
  {
   "cell_type": "code",
   "execution_count": 27,
   "metadata": {},
   "outputs": [
    {
     "name": "stderr",
     "output_type": "stream",
     "text": [
      "C:\\Users\\MASTER\\Anaconda3\\envs\\fastai\\lib\\site-packages\\sklearn\\utils\\validation.py:475: DataConversionWarning: Data with input dtype int64 was converted to float64 by StandardScaler.\n",
      "  warnings.warn(msg, DataConversionWarning)\n",
      "C:\\Users\\MASTER\\Anaconda3\\envs\\fastai\\lib\\site-packages\\sklearn\\utils\\validation.py:475: DataConversionWarning: Data with input dtype bool was converted to float64 by StandardScaler.\n",
      "  warnings.warn(msg, DataConversionWarning)\n"
     ]
    }
   ],
   "source": [
    "df_raw = pd.read_csv(f'{PATH}train.csv', low_memory=False)\n",
    "df_test = pd.read_csv(f'{PATH}test.csv', low_memory=False)\n",
    "df = df_raw.copy()\n",
    "combined,df,y,cat_cols,num_cols,test_id,n_train,n_test = preprocess_df(df_train=df,df_test=df_test,\n",
    "                                                                       drop_target=True,\n",
    "                                                                       id_col='Id',\n",
    "                                                                       log_y=True,\n",
    "                                                                       convert_to_cat_cols=['MoSold','YrSold','YearBuilt','GarageYrBlt','YearRemodAdd'],\n",
    "                                                                       remove_skewness=True,\n",
    "                                                                       scale_mapper=RobustScaler(),\n",
    "                                                                       bin_columns_dict={'OverallQual':(1,11,10),'OverallCond':(1,11,10)}\n",
    "                                                                   )\n",
    "\n",
    "\n",
    "combined,_ = scale_num_cols(combined,None)"
   ]
  },
  {
   "cell_type": "code",
   "execution_count": 28,
   "metadata": {},
   "outputs": [
    {
     "name": "stdout",
     "output_type": "stream",
     "text": [
      "MSE Training set = 0.002736632656335074, MSE Validation set = 0.020275714854714754, score Training Set = 0.9826527786613845, score on Validation Set = 0.8800330483921018\n",
      "OOB Score = 0.871883898198173\n"
     ]
    }
   ],
   "source": [
    "df = combined[:n_train]\n",
    "df_test = combined[n_train:]\n",
    "\n",
    "X_train,X_valid,y_train,y_valid = train_test_split(df,y,test_size=0.15,\n",
    "                                  stratify=df['OverallQual'],shuffle = True,random_state=20)\n",
    "rf_model = RandomForestRegressor(n_estimators=1500,n_jobs=-1,oob_score=True).fit(X_train.values,\n",
    "                                                                                y_train)\n",
    "print_mse(rf_model,X_train,X_valid,y_train,y_valid)"
   ]
  },
  {
   "cell_type": "code",
   "execution_count": null,
   "metadata": {},
   "outputs": [],
   "source": []
  }
 ],
 "metadata": {
  "kernelspec": {
   "display_name": "Python 3",
   "language": "python",
   "name": "python3"
  },
  "language_info": {
   "codemirror_mode": {
    "name": "ipython",
    "version": 3
   },
   "file_extension": ".py",
   "mimetype": "text/x-python",
   "name": "python",
   "nbconvert_exporter": "python",
   "pygments_lexer": "ipython3",
   "version": "3.6.4"
  },
  "toc": {
   "colors": {
    "hover_highlight": "#DAA520",
    "navigate_num": "#000000",
    "navigate_text": "#333333",
    "running_highlight": "#FF0000",
    "selected_highlight": "#FFD700",
    "sidebar_border": "#EEEEEE",
    "wrapper_background": "#FFFFFF"
   },
   "moveMenuLeft": true,
   "nav_menu": {
    "height": "512px",
    "width": "252px"
   },
   "navigate_menu": true,
   "number_sections": true,
   "sideBar": true,
   "threshold": 4,
   "toc_cell": false,
   "toc_section_display": "block",
   "toc_window_display": false,
   "widenNotebook": false
  }
 },
 "nbformat": 4,
 "nbformat_minor": 2
}
