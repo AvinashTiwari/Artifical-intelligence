{
 "cells": [
  {
   "cell_type": "code",
   "execution_count": 1,
   "metadata": {
    "hidden": true
   },
   "outputs": [],
   "source": [
    "import numpy as np\n",
    "import os\n",
    "import matplotlib\n",
    "import matplotlib.pyplot as plt\n",
    "import pandas as pd\n",
    "import datetime\n",
    "from time import time\n",
    "import sklearn\n",
    "from sklearn.model_selection import train_test_split,cross_val_score,KFold,StratifiedKFold,ShuffleSplit,StratifiedShuffleSplit, GridSearchCV, RandomizedSearchCV\n",
    "from sklearn.preprocessing import RobustScaler, StandardScaler, MinMaxScaler\n",
    "from sklearn.ensemble import RandomForestClassifier,GradientBoostingClassifier\n",
    "from sklearn.svm import SVC\n",
    "from sklearn import metrics\n",
    "from sklearn.feature_selection import RFE,SelectPercentile\n",
    "from sklearn.neighbors import KNeighborsClassifier\n",
    "from sklearn.naive_bayes import GaussianNB\n",
    "\n",
    "from sklearn.externals import joblib\n",
    "from sklearn.metrics import confusion_matrix,roc_auc_score, make_scorer\n",
    "from sklearn_pandas import DataFrameMapper\n",
    "from pandas.api.types import is_string_dtype, is_numeric_dtype\n",
    "from scipy import stats\n",
    "from scipy.stats import skew,randint\n",
    "from scipy.special import boxcox1p\n",
    "from scipy.stats import randint as sp_randint\n",
    "%matplotlib inline"
   ]
  },
  {
   "cell_type": "code",
   "execution_count": 2,
   "metadata": {},
   "outputs": [],
   "source": [
    "def print_feature_importances(model,X):\n",
    "    important_features = pd.Series(data=rf_model.feature_importances_,index=X.columns)\n",
    "    important_features.sort_values(ascending=False,inplace=True)\n",
    "    print(important_features.head(50))\n",
    "    \n",
    "def get_cat_columns_by_type(df):\n",
    "    out = []\n",
    "    for colname,col_values in df.items():\n",
    "        if is_string_dtype(col_values):\n",
    "            out.append((colname,'string') )\n",
    "        elif not is_numeric_dtype(col_values):\n",
    "            out.append((colname,'categorical') )\n",
    "    return out       \n",
    "\n",
    "def get_numeric_columns(df):\n",
    "    out = []\n",
    "    for colname,col_values in df.items():\n",
    "        if is_numeric_dtype(col_values):\n",
    "            out.append(colname)\n",
    "    return out       \n",
    "    \n",
    "def get_missing_values_percentage(df):\n",
    "    missing_values_counts_list = df.isnull().sum()\n",
    "    total_values = np.product(df.shape)\n",
    "    total_missing = missing_values_counts_list.sum()\n",
    "    # percent of data that is missing\n",
    "    return (total_missing/total_values) * 100\n",
    "\n",
    "def get_missing_columns(df1,df2):\n",
    "    missing1 = []\n",
    "    missing2 = []\n",
    "    for colname in df1.columns:\n",
    "        if colname not in df2.columns:\n",
    "            missing2.append(colname)\n",
    "    for colname in df2.columns:\n",
    "        if colname not in df1.columns:\n",
    "            missing1.append(colname)        \n",
    "    return (missing1,missing2)\n",
    "\n",
    "\n",
    "def convert_to_str_type(df_in,columns,inplace=False):\n",
    "    if(inplace):\n",
    "        df = df_in\n",
    "    else:\n",
    "        df = df_in.copy()\n",
    "        \n",
    "    for col in columns:\n",
    "        df[col] = df[col].astype(str)\n",
    "    return df\n",
    "\n",
    "    \n",
    "def handle_missing_values(df_in,cat_cols=[], num_cols=[],na_dict=None,add_nan_col=True,inplace=False):\n",
    "    if(inplace):\n",
    "        df = df_in\n",
    "    else:\n",
    "        df = df_in.copy()\n",
    " \n",
    "    if na_dict is None:\n",
    "        na_dict = {}\n",
    "\n",
    "    for colname, col_values in df.items():   \n",
    "        if colname not in num_cols:\n",
    "            continue\n",
    "        if pd.isnull(col_values).sum():\n",
    "            df[colname+'_na'] = pd.isnull(col_values)\n",
    "            filler = na_dict[colname] if colname in na_dict else col_values.median()\n",
    "            df[colname] = col_values.fillna(filler)\n",
    "            na_dict[colname] = filler\n",
    "    for colname in cat_cols:\n",
    "        if colname not in df.columns:\n",
    "            continue\n",
    "        df[colname].fillna(df[colname].mode()[0], inplace=True)\n",
    "        lbl = LabelEncoder() \n",
    "        lbl.fit(list(df[colname].values)) \n",
    "        df[colname] = lbl.transform(list(df[colname].values))\n",
    "    \n",
    "    return (df,na_dict)\n",
    "\n",
    "\n",
    "\n",
    "def scale_num_cols(df_in, mapper, inplace=False):\n",
    "    if(inplace):\n",
    "        df = df_in\n",
    "    else:\n",
    "        df = df_in.copy()\n",
    "        \n",
    "    if mapper is None:\n",
    "        map_f = [([c],StandardScaler()) for c in df.columns if is_numeric_dtype(df[c])]\n",
    "        mapper = DataFrameMapper(map_f).fit(df)\n",
    "    df[mapper.transformed_names_] = mapper.transform(df)\n",
    "    return (df,mapper)\n",
    "\n",
    "\n",
    "\n",
    "def extract_and_drop_target_column(df_in, y_name, inplace=False):\n",
    "    if(inplace):\n",
    "        df = df_in\n",
    "    else:\n",
    "        df = df_in.copy()\n",
    "    if not is_numeric_dtype(df[y_name]):\n",
    "        df[y_name] = df[y_name].cat.codes\n",
    "        y = df[y_name].values\n",
    "    else:\n",
    "        y = df[y_name]\n",
    "    df.drop([y_name], axis=1, inplace=True)\n",
    "    return (df,y)\n",
    "\n",
    "def print_mse(m,X_train, X_valid, y_train, y_valid):\n",
    "    res = [mean_squared_error(y_train,m.predict(X_train)),\n",
    "                mean_squared_error(y_valid,m.predict(X_valid)),\n",
    "                m.score(X_train, y_train), m.score(X_valid, y_valid)]\n",
    "    print('MSE Training set = {}, MSE Validation set = {}, score Training Set = {}, score on Validation Set = {}'.format(res[0],res[1],res[2], res[3]))\n",
    "    if hasattr(m, 'oob_score_'):\n",
    "          print('OOB Score = {}'.format(m.oob_score_))      \n",
    "\n",
    "def get_iqr_min_max(df,cols):\n",
    "    out = {}\n",
    "    for colname, col_values in df.items():\n",
    "        if colname not in cols:\n",
    "            continue\n",
    "        quartile75, quartile25 = np.percentile(col_values, [75 ,25])\n",
    "        ## Inter Quartile Range ##\n",
    "        IQR = quartile75 - quartile25\n",
    "        min_value = quartile25 - (IQR*1.5)\n",
    "        max_value = quartile75 + (IQR*1.5)\n",
    "        out[colname] = (min_value,max_value)\n",
    "    return out\n",
    "\n",
    "\n",
    "def bin_numerical_columns(df_in,cols,inplace=False):\n",
    "    if(inplace):\n",
    "        df = df_in\n",
    "    else:\n",
    "        df = df_in.copy()\n",
    "        \n",
    "    for col in cols.keys():\n",
    "        bins = cols[col]\n",
    "        buckets_ = np.linspace(bins[0],bins[1],bins[2])\n",
    "        df[col] = pd.cut(df[col],buckets_,include_lowest=True)\n",
    "    return df"
   ]
  },
  {
   "cell_type": "code",
   "execution_count": 3,
   "metadata": {},
   "outputs": [],
   "source": [
    "def preprocess_df(df_train,df_test=None,\n",
    "                  log_y=False,\n",
    "                  id_col= None,test_id=None,\n",
    "                  target_col=None,\n",
    "                  convert_to_cat_cols=None,\n",
    "                  remove_skewness=False,\n",
    "                  skew_threshold=0.75,\n",
    "                  boxcox_lambda=0.15,\n",
    "                  scale_mapper=None,\n",
    "                  bin_columns_dict=None,\n",
    "                  new_features_func=None):\n",
    "    \n",
    "    if target_col is not None:\n",
    "        df,y = extract_and_drop_target_column(df_train,target_col,inplace=True)\n",
    "        print(y.head())\n",
    "        if log_y:\n",
    "            y = np.log1p(y)\n",
    "            \n",
    "    else:\n",
    "        y = None\n",
    "        \n",
    "        \n",
    "    combined = pd.concat((df, df_test)).reset_index(drop=True)\n",
    "    \n",
    "    \n",
    "    if id_col is not None:\n",
    "        combined.drop(id_col, axis=1,inplace=True)\n",
    "        if test_id is not None:\n",
    "            test_id = df_test[id_col].copy()\n",
    "        else: test_id = None\n",
    "   \n",
    "    if new_features_func is not None:\n",
    "        combined = new_features_func(combined)\n",
    "    \n",
    "    \n",
    "    if convert_to_cat_cols is not None:\n",
    "        combined = convert_to_str_type(combined,convert_to_cat_cols,inplace=True)\n",
    "    \n",
    "        \n",
    "    if bin_columns_dict is not None:\n",
    "        combined = bin_numerical_columns(combined,bin_columns_dict,inplace=True)\n",
    "    \n",
    "    \n",
    "    cat_cols = get_cat_columns_by_type(combined)\n",
    "    cat_cols = [cat_cols[i][0] for i in range(len(cat_cols))]\n",
    "    num_cols = [col for col in combined.columns if col not in cat_cols]\n",
    "    \n",
    "    combined = pd.get_dummies(combined,columns=cat_cols, dummy_na=True)\n",
    "    \n",
    "    n_train = df.shape[0]\n",
    "    n_test = df_test.shape[0]\n",
    "      \n",
    "    \n",
    "    combined,d = handle_missing_values(combined,cat_cols=cat_cols,\n",
    "                                       num_cols=num_cols,inplace=True)\n",
    "    \n",
    "    print(d)\n",
    "    if remove_skewness:\n",
    "        skewed_cols = combined[num_cols].apply(lambda x: skew(x)).sort_values(ascending=False)\n",
    "        skewness = pd.DataFrame({'Skew' :skewed_cols})\n",
    "        skewness_log = skewness[abs(skewness) > skew_threshold]\n",
    "        skewness_other = skewness[abs(skewness) <= skew_threshold]\n",
    "        skewed_features_log = skewness_log.index\n",
    "        skewed_features_other = skewness_other.index\n",
    "        lambda_ = 0.0\n",
    "        for feature in skewed_features_log:\n",
    "            combined[feature] = boxcox1p(combined[feature],lambda_)\n",
    "        lambda_ = boxcox_lambda\n",
    "        for feature in skewed_features_other:\n",
    "            combined[feature] = boxcox1p(combined[feature],lambda_)\n",
    "    \n",
    "    if scale_mapper is not None:\n",
    "        map_f = [([c],scale_mapper) for c in num_cols]\n",
    "        mapper = DataFrameMapper(map_f).fit(combined)\n",
    "    else:\n",
    "        mapper = None\n",
    "        \n",
    "    combined,_ = scale_num_cols(combined,mapper,inplace=True) \n",
    "    \n",
    "    print(get_missing_values_percentage(combined))\n",
    "    \n",
    "    return combined,df,y,cat_cols,num_cols,test_id,n_train,n_test\n"
   ]
  },
  {
   "cell_type": "code",
   "execution_count": 4,
   "metadata": {},
   "outputs": [],
   "source": [
    "def add_new_features1(df):\n",
    "    df['DepsIncomeComined'] = df['NumberOfDependents'] * df['MonthlyIncome']\n",
    "    df['Times90DaysLateDebtRatio'] = df['NumberOfTimes90DaysLate'] * df['DebtRatio']\n",
    "    df['Times90DaysLateRevolving'] = df['NumberOfTimes90DaysLate'] * df['RevolvingUtilizationOfUnsecuredLines']\n",
    "    return df\n",
    "def add_new_features2(df):\n",
    "    df['DepsIncomeComined'] = df['NumberOfDependents'] * df['MonthlyIncome']\n",
    "    df['Times90DaysLateDebtRatio'] = df['NumberOfTimes90DaysLate'] * df['DebtRatio']\n",
    "    df['Times90DaysLateRevolving'] = df['NumberOfTimes90DaysLate'] * df['RevolvingUtilizationOfUnsecuredLines']\n",
    "    df['RevolvingUtilizationOfUnsecuredLines-2'] = df['RevolvingUtilizationOfUnsecuredLines'] ** 2\n",
    "    df['RevolvingUtilizationOfUnsecuredLines-3'] = df['RevolvingUtilizationOfUnsecuredLines'] ** 3\n",
    "    df['RevolvingUtilizationOfUnsecuredLines-sqrt'] = np.sqrt(df['RevolvingUtilizationOfUnsecuredLines'])\n",
    "    \n",
    "    return df\n"
   ]
  },
  {
   "cell_type": "code",
   "execution_count": 5,
   "metadata": {},
   "outputs": [
    {
     "name": "stdout",
     "output_type": "stream",
     "text": [
      "0    1\n",
      "1    0\n",
      "2    0\n",
      "3    0\n",
      "4    0\n",
      "Name: SeriousDlqin2yrs, dtype: int64\n",
      "{'MonthlyIncome': 5400.0, 'NumberOfDependents': 0.0, 'DepsIncomeComined': 0.0}\n",
      "0.0\n"
     ]
    },
    {
     "data": {
      "text/plain": [
       "((108000, 49), (27000, 49), (108000,), (27000,))"
      ]
     },
     "execution_count": 5,
     "metadata": {},
     "output_type": "execute_result"
    }
   ],
   "source": [
    "PATH = \"data/give_me_credit/\"\n",
    "df_raw = pd.read_csv(f'{PATH}train.csv', low_memory=False)\n",
    "df_test = pd.read_csv(f'{PATH}test.csv', low_memory=False)\n",
    "columns = ['Id', 'SeriousDlqin2yrs','RevolvingUtilizationOfUnsecuredLines', 'age',\n",
    "                 'NumberOfTime30-59DaysPastDueNotWorse', 'DebtRatio', 'MonthlyIncome',\n",
    "                 'NumberOfOpenCreditLinesAndLoans', 'NumberOfTimes90DaysLate',\n",
    "                 'NumberRealEstateLoansOrLines', 'NumberOfTime60-89DaysPastDueNotWorse',\n",
    "                 'NumberOfDependents']\n",
    "df_raw.columns= columns\n",
    "df_test.columns = columns\n",
    "df_test.drop(['SeriousDlqin2yrs'], axis=1, inplace=True)\n",
    "df = df_raw.copy()\n",
    "combined,df,y,cat_cols,num_cols,test_id,n_train,n_test = preprocess_df(\n",
    "                                       df_train=df,df_test=df_test,\n",
    "                                       target_col='SeriousDlqin2yrs',\n",
    "                                       id_col='Id',test_id='Id',\n",
    "                                       convert_to_cat_cols=[\n",
    "                                       'NumberOfTime30-59DaysPastDueNotWorse',\n",
    "                                       'NumberOfTime60-89DaysPastDueNotWorse'\n",
    "                                       ],\n",
    "                                       new_features_func=add_new_features2,\n",
    "                                       remove_skewness=True,\n",
    "                                       skew_threshold=0.75,\n",
    "                                       boxcox_lambda=0.2,\n",
    "                                       scale_mapper=RobustScaler()\n",
    "                                       )\n",
    "\n",
    "df = combined[:n_train]\n",
    "df_test = combined[n_train:]\n",
    "stratify_col = y\n",
    "\n",
    "X_train,X_test,y_train,y_test = train_test_split(df,y,test_size=0.10,\n",
    "                                  stratify=y,shuffle = True,random_state=20)\n",
    "\n",
    "stratify_X_train = stratify_col[:X_train.shape[0]].copy()\n",
    "X_train.shape,X_test.shape,y_train.shape,y_test.shape, stratify_X_train.shape\n",
    "X_train,X_valid,y_train,y_valid = train_test_split(X_train,y_train,test_size=0.2,\n",
    "                                  stratify=stratify_X_train,shuffle = True,random_state=20)\n",
    "X_train.shape,X_valid.shape,y_train.shape,y_valid.shape"
   ]
  },
  {
   "cell_type": "code",
   "execution_count": 6,
   "metadata": {},
   "outputs": [],
   "source": [
    "# Utility function to report best scores\n",
    "def report(results, n_top=3):\n",
    "    for i in range(1, n_top + 1):\n",
    "        candidates = np.flatnonzero(results['rank_test_score'] == i)\n",
    "        for candidate in candidates:\n",
    "            print(\"Model with rank: {0}\".format(i))\n",
    "            print(\"Mean validation score: {0:.3f} (std: {1:.3f})\".format(\n",
    "                  results['mean_test_score'][candidate],\n",
    "                  results['std_test_score'][candidate]))\n",
    "            print(\"Parameters: {0}\".format(results['params'][candidate]))\n",
    "            print(\"\")"
   ]
  },
  {
   "cell_type": "code",
   "execution_count": null,
   "metadata": {},
   "outputs": [
    {
     "name": "stderr",
     "output_type": "stream",
     "text": [
      "C:\\Users\\avinash.tiwari\\AppData\\Local\\Continuum\\anaconda3\\lib\\site-packages\\sklearn\\model_selection\\_split.py:2053: FutureWarning: You should specify a value for 'cv' instead of relying on the default value. The default value will change from 3 to 5 in version 0.22.\n",
      "  warnings.warn(CV_WARNING, FutureWarning)\n"
     ]
    }
   ],
   "source": [
    "params = {'n_estimators':[200,300,500,800,1000,1500],\n",
    "              \"max_features\": randint(10,50),\n",
    "              \"min_samples_split\": randint(2, 11),\n",
    "              \"min_samples_leaf\": randint(1, 11)\n",
    "              \n",
    "         }\n",
    "start = time()\n",
    "randomSearch_rf = RandomizedSearchCV(RandomForestClassifier(warm_start=True,n_jobs=6),scoring='roc_auc',param_distributions=params,n_iter=20,n_jobs=6)        \n",
    "randomSearch_rf.fit(X_train,y_train)\n",
    "print('training took {} mins'.format((time() - start)/60.))\n",
    "randomSearch_rf_auc = roc_auc_score(y_valid,randomSearch_rf.predict_proba(X_valid)[:, 1])\n",
    "print(\"AUC for Randomized Search Random Forest: {:.6f}\".format(randomSearch_rf_auc))"
   ]
  },
  {
   "cell_type": "code",
   "execution_count": null,
   "metadata": {},
   "outputs": [],
   "source": [
    "joblib.dump(randomSearch_rf,'randomSearch_rf_credit.pkl')"
   ]
  },
  {
   "cell_type": "code",
   "execution_count": null,
   "metadata": {},
   "outputs": [],
   "source": [
    "randomSearch_rf = joblib.load('randomSearch_rf_credit.pkl')"
   ]
  },
  {
   "cell_type": "code",
   "execution_count": null,
   "metadata": {},
   "outputs": [],
   "source": [
    "report(randomSearch_rf.cv_results_)"
   ]
  },
  {
   "cell_type": "code",
   "execution_count": null,
   "metadata": {},
   "outputs": [],
   "source": [
    "randomSearch_rf_auc = roc_auc_score(y_valid,randomSearch_rf.predict_proba(X_valid)[:, 1])\n",
    "print(\"AUC for Randomized Search Random Forest: {:.6f}\".format(randomSearch_rf_auc))"
   ]
  },
  {
   "cell_type": "code",
   "execution_count": null,
   "metadata": {},
   "outputs": [],
   "source": [
    "rf_model_rank1 = RandomForestClassifier(n_estimators=1500,\n",
    "                                        max_features=15,\n",
    "                                        min_samples_leaf=9,min_samples_split=8,\n",
    "                                        n_jobs=6).fit(X_train,y_train)\n",
    "\n",
    "joblib.dump(rf_model_rank1,'rf_model_credit_rank1.pkl')"
   ]
  },
  {
   "cell_type": "code",
   "execution_count": null,
   "metadata": {},
   "outputs": [],
   "source": [
    "rf_model_rank2 = RandomForestClassifier(n_estimators=1000,\n",
    "                                        max_features=18,\n",
    "                                        min_samples_leaf=8,min_samples_split=8,\n",
    "                                        n_jobs=6).fit(X_train,y_train)\n",
    "joblib.dump(rf_model_rank2,'rf_model_credit_rank2.pkl')"
   ]
  },
  {
   "cell_type": "code",
   "execution_count": null,
   "metadata": {},
   "outputs": [],
   "source": [
    "rf_model_rank3 = RandomForestClassifier(n_estimators=200,\n",
    "                                        max_features=27,\n",
    "                                        min_samples_leaf=10,min_samples_split=6,\n",
    "                                        n_jobs=6).fit(X_train,y_train)\n",
    "joblib.dump(rf_model_rank3,'rf_model_credit_rank3.pkl')"
   ]
  },
  {
   "cell_type": "code",
   "execution_count": null,
   "metadata": {},
   "outputs": [],
   "source": [
    "rf_model_rank1 = joblib.load('rf_model_credit_rank1.pkl')\n",
    "rf_model_rank2 = joblib.load('rf_model_credit_rank2.pkl')\n",
    "rf_model_rank3 = joblib.load('rf_model_credit_rank3.pkl')"
   ]
  },
  {
   "cell_type": "code",
   "execution_count": null,
   "metadata": {},
   "outputs": [],
   "source": [
    "rf_model_rank1_auc = roc_auc_score(y_valid,rf_model_rank1.predict_proba(X_valid)[:, 1])\n",
    "print(\"AUC for Randomized Search RF Rank 1: {:.6f}\".format(rf_model_rank1_auc))"
   ]
  },
  {
   "cell_type": "code",
   "execution_count": null,
   "metadata": {},
   "outputs": [],
   "source": [
    "rf_model_rank2_auc = roc_auc_score(y_valid,rf_model_rank2.predict_proba(X_valid)[:, 1])\n",
    "print(\"AUC for Randomized Search RF Rank 2: {:.6f}\".format(rf_model_rank2_auc))"
   ]
  },
  {
   "cell_type": "code",
   "execution_count": null,
   "metadata": {},
   "outputs": [],
   "source": [
    "rf_model_rank3_auc = roc_auc_score(y_valid,rf_model_rank3.predict_proba(X_valid)[:, 1])\n",
    "print(\"AUC for Randomized Search RF Rank 3: {:.6f}\".format(rf_model_rank3_auc))"
   ]
  },
  {
   "cell_type": "code",
   "execution_count": null,
   "metadata": {},
   "outputs": [],
   "source": [
    "params = {'n_estimators':[200,300,500,800,1000,1500],\n",
    "              \"max_features\": randint(10,50),\n",
    "              \"min_samples_split\": randint(2, 11),\n",
    "              \"min_samples_leaf\": randint(1, 11),\n",
    "              \"subsample\":[0.6,0.7,0.75,0.8,0.9]\n",
    "         }\n",
    "start = time()\n",
    "randomSearch_gb = RandomizedSearchCV(GradientBoostingClassifier(warm_start=True),scoring='roc_auc',param_distributions=params,n_iter=20,n_jobs=6)        \n",
    "randomSearch_gb.fit(X_train,y_train)\n",
    "print('training took {} mins'.format((time() - start)/60.))"
   ]
  },
  {
   "cell_type": "code",
   "execution_count": null,
   "metadata": {},
   "outputs": [],
   "source": [
    "joblib.dump(randomSearch_gb,'randomSearch_gb_credit.pkl')"
   ]
  },
  {
   "cell_type": "code",
   "execution_count": null,
   "metadata": {},
   "outputs": [],
   "source": [
    "randomSearch_gb = joblib.load('randomSearch_gb_credit.pkl')"
   ]
  },
  {
   "cell_type": "code",
   "execution_count": null,
   "metadata": {},
   "outputs": [],
   "source": [
    "randomSearch_gb_auc = roc_auc_score(y_valid,randomSearch_gb.predict_proba(X_valid)[:, 1])\n",
    "print(\"AUC for Randomized Search Gradient Boost: {:.6f}\".format(randomSearch_gb_auc))"
   ]
  },
  {
   "cell_type": "code",
   "execution_count": null,
   "metadata": {},
   "outputs": [],
   "source": [
    "report(randomSearch_gb.cv_results_)"
   ]
  },
  {
   "cell_type": "code",
   "execution_count": null,
   "metadata": {},
   "outputs": [],
   "source": [
    "gb_model_rank1 = GradientBoostingClassifier(max_features=34,min_samples_leaf=4,\n",
    "                                           min_samples_split=3, n_estimators=300,\n",
    "                                           subsample=0.75,\n",
    "                                           warm_start=True).fit(X_train,y_train)\n",
    "\n",
    "gb_model_rank2 = GradientBoostingClassifier(max_features=31,min_samples_leaf=8,\n",
    "                                           min_samples_split=2, n_estimators=200,\n",
    "                                           subsample=0.6,\n",
    "                                           warm_start=True).fit(X_train,y_train)\n",
    "\n",
    "gb_model_rank3 = GradientBoostingClassifier(max_features=23,min_samples_leaf=3,\n",
    "                                           min_samples_split=6, n_estimators=200,\n",
    "                                           subsample=0.8,\n",
    "                                           warm_start=True).fit(X_train,y_train)\n"
   ]
  },
  {
   "cell_type": "code",
   "execution_count": null,
   "metadata": {},
   "outputs": [],
   "source": [
    "joblib.dump(gb_model_rank1,'gb_model_credit_rank1.pkl')\n",
    "joblib.dump(gb_model_rank2,'gb_model_credit_rank2.pkl')\n",
    "joblib.dump(gb_model_rank3,'gb_model_credit_rank3.pkl')"
   ]
  },
  {
   "cell_type": "code",
   "execution_count": null,
   "metadata": {},
   "outputs": [],
   "source": [
    "gb_model_rank1 = joblib.load('gb_model_credit_rank1.pkl')\n",
    "gb_model_rank2 = joblib.load('gb_model_credit_rank2.pkl')\n",
    "gb_model_rank3 = joblib.load('gb_model_credit_rank3.pkl')\n"
   ]
  },
  {
   "cell_type": "code",
   "execution_count": null,
   "metadata": {},
   "outputs": [],
   "source": [
    "gb_model_rank1_auc = roc_auc_score(y_valid,gb_model_rank1.predict_proba(X_valid)[:, 1])\n",
    "print(\"AUC for Randomized Search Gradient Boost 1: {:.6f}\".format(gb_model_rank1_auc))"
   ]
  },
  {
   "cell_type": "code",
   "execution_count": null,
   "metadata": {},
   "outputs": [],
   "source": [
    "gb_model_rank2_auc = roc_auc_score(y_valid,gb_model_rank2.predict_proba(X_valid)[:, 1])\n",
    "print(\"AUC for Randomized Search Gradient Boost 2: {:.6f}\".format(gb_model_rank2_auc))\n"
   ]
  },
  {
   "cell_type": "code",
   "execution_count": null,
   "metadata": {},
   "outputs": [],
   "source": [
    "gb_model_rank3_auc = roc_auc_score(y_valid,gb_model_rank3.predict_proba(X_valid)[:, 1])\n",
    "print(\"AUC for Randomized Search Gradient Boost 3: {:.6f}\".format(gb_model_rank3_auc))\n"
   ]
  },
  {
   "cell_type": "code",
   "execution_count": null,
   "metadata": {},
   "outputs": [],
   "source": [
    "best_gb_auc = roc_auc_score(y_test,gb_model_rank3.predict_proba(X_test)[:, 1])\n",
    "print(\"AUC for Random Forest: {:.6f}\".format(best_gb_auc))"
   ]
  },
  {
   "cell_type": "code",
   "execution_count": null,
   "metadata": {},
   "outputs": [],
   "source": [
    "rfe_model = RFE(gb_model_rank3).fit(X_train,y_train)\n",
    "joblib.dump(rfe_model,'rfe_model_credit.pkl')"
   ]
  },
  {
   "cell_type": "code",
   "execution_count": null,
   "metadata": {},
   "outputs": [],
   "source": [
    "rfe_model = joblib.load('rfe_model_credit.pkl')"
   ]
  },
  {
   "cell_type": "code",
   "execution_count": null,
   "metadata": {},
   "outputs": [],
   "source": [
    "rfe_model_auc = roc_auc_score(y_valid,rfe_model.predict_proba(X_valid)[:, 1])\n",
    "print(\"AUC for GB RFE: {:.6f}\".format(rfe_model_auc))"
   ]
  },
  {
   "cell_type": "code",
   "execution_count": null,
   "metadata": {},
   "outputs": [],
   "source": [
    "preds_rfe_model = rfe_model.predict(X_valid)\n",
    "confusion = confusion_matrix(y_valid, preds_rfe_model)\n",
    "print(\"Confusion matrix:\\n{}\".format(confusion))"
   ]
  },
  {
   "cell_type": "code",
   "execution_count": null,
   "metadata": {},
   "outputs": [],
   "source": [
    "preds_gb_rank1 = gb_model_rank1.predict(X_valid)\n",
    "confusion = confusion_matrix(y_valid, preds_gb_rank1)\n",
    "print(\"Confusion matrix:\\n{}\".format(confusion))"
   ]
  },
  {
   "cell_type": "code",
   "execution_count": null,
   "metadata": {},
   "outputs": [],
   "source": [
    "preds_gb_rank2 = gb_model_rank2.predict(X_valid)\n",
    "confusion = confusion_matrix(y_valid, preds_gb_rank2)\n",
    "print(\"Confusion matrix:\\n{}\".format(confusion))"
   ]
  },
  {
   "cell_type": "code",
   "execution_count": null,
   "metadata": {},
   "outputs": [],
   "source": [
    "preds_gb_rank3 = gb_model_rank3.predict(X_valid)\n",
    "confusion = confusion_matrix(y_valid, preds_gb_rank3)\n",
    "print(\"Confusion matrix:\\n{}\".format(confusion))"
   ]
  },
  {
   "cell_type": "code",
   "execution_count": null,
   "metadata": {},
   "outputs": [],
   "source": [
    "knn_model = KNeighborsClassifier(n_neighbors=150,n_jobs=-1).fit(X_train,y_train)\n",
    "joblib.dump(knn_model,'knn_model.pkl')"
   ]
  },
  {
   "cell_type": "code",
   "execution_count": null,
   "metadata": {},
   "outputs": [],
   "source": [
    "knn_model = joblib.load('knn_model.pkl')"
   ]
  },
  {
   "cell_type": "code",
   "execution_count": null,
   "metadata": {},
   "outputs": [],
   "source": [
    "knn_model_auc = roc_auc_score(y_valid,knn_model.predict_proba(X_valid)[:, 1])\n",
    "print(\"AUC for KNN: {:.6f}\".format(knn_model_auc))"
   ]
  },
  {
   "cell_type": "code",
   "execution_count": null,
   "metadata": {},
   "outputs": [],
   "source": [
    "params = {'n_neighbors':[10,20,30,50,80,100,125,150,170],\n",
    "              \"weights\": ['distance','uniform'],\n",
    "              \"p\": [1,2]             \n",
    "         }\n",
    "start = time()\n",
    "randomSearch_knn = RandomizedSearchCV(KNeighborsClassifier(n_jobs=6),scoring='roc_auc',param_distributions=params,n_iter=20,n_jobs=6)        \n",
    "randomSearch_knn.fit(X_train,y_train)\n",
    "print('training took {} mins'.format((time() - start)/60.))\n"
   ]
  },
  {
   "cell_type": "code",
   "execution_count": null,
   "metadata": {},
   "outputs": [],
   "source": [
    "report(randomSearch_knn.cv_results_)"
   ]
  },
  {
   "cell_type": "code",
   "execution_count": null,
   "metadata": {},
   "outputs": [],
   "source": [
    "joblib.dump(randomSearch_knn,'randomSearch_knn.pkl')"
   ]
  },
  {
   "cell_type": "code",
   "execution_count": null,
   "metadata": {},
   "outputs": [],
   "source": [
    "randomSearch_knn = joblib.load('randomSearch_knn.pkl')"
   ]
  },
  {
   "cell_type": "code",
   "execution_count": null,
   "metadata": {},
   "outputs": [],
   "source": [
    "randomSearch_knn_auc = roc_auc_score(y_valid,randomSearch_knn.predict_proba(X_valid)[:, 1])\n",
    "print(\"AUC for Randomized Search KNN: {:.6f}\".format(randomSearch_knn_auc))"
   ]
  },
  {
   "cell_type": "code",
   "execution_count": null,
   "metadata": {},
   "outputs": [],
   "source": [
    "knn_model_rank1 = KNeighborsClassifier(n_neighbors=50,n_jobs=-1,weights='distance',p=2).fit(X_train,y_train)\n",
    "joblib.dump(knn_model_rank1,'knn_model_rank1.pkl')"
   ]
  },
  {
   "cell_type": "code",
   "execution_count": null,
   "metadata": {},
   "outputs": [],
   "source": [
    "knn_model_rank2 = KNeighborsClassifier(n_neighbors=50,n_jobs=-1,weights='uniform',p=2).fit(X_train,y_train)\n",
    "joblib.dump(knn_model_rank2,'knn_model_rank2.pkl')"
   ]
  },
  {
   "cell_type": "code",
   "execution_count": null,
   "metadata": {},
   "outputs": [],
   "source": [
    "knn_model_rank3 = KNeighborsClassifier(n_neighbors=150,n_jobs=-1,weights='distance',p=2).fit(X_train,y_train)\n",
    "joblib.dump(knn_model_rank3,'knn_model_rank3.pkl')"
   ]
  },
  {
   "cell_type": "code",
   "execution_count": null,
   "metadata": {},
   "outputs": [],
   "source": [
    "knn_model_rank1 = joblib.load('knn_model_rank1.pkl')\n",
    "knn_model_rank2 = joblib.load('knn_model_rank2.pkl')\n",
    "knn_model_rank3 = joblib.load('knn_model_rank3.pkl')"
   ]
  },
  {
   "cell_type": "code",
   "execution_count": null,
   "metadata": {},
   "outputs": [],
   "source": [
    "knn_model_auc_rank1 = roc_auc_score(y_valid,knn_model_rank1.predict_proba(X_valid)[:, 1])\n",
    "print(\"AUC for KNN 1: {:.6f}\".format(knn_model_auc_rank1))\n"
   ]
  },
  {
   "cell_type": "code",
   "execution_count": null,
   "metadata": {},
   "outputs": [],
   "source": [
    "knn_model_auc_rank2 = roc_auc_score(y_valid,knn_model_rank2.predict_proba(X_valid)[:, 1])\n",
    "print(\"AUC for KNN 2: {:.6f}\".format(knn_model_auc_rank2))"
   ]
  },
  {
   "cell_type": "code",
   "execution_count": null,
   "metadata": {},
   "outputs": [],
   "source": [
    "knn_model_auc_rank3 = roc_auc_score(y_valid,knn_model_rank3.predict_proba(X_valid)[:, 1])\n",
    "print(\"AUC for KNN 3: {:.6f}\".format(knn_model_auc_rank3))"
   ]
  },
  {
   "cell_type": "code",
   "execution_count": null,
   "metadata": {},
   "outputs": [],
   "source": [
    "nb_model = GaussianNB().fit(X_train,y_train)\n",
    "joblib.dump(nb_model,'nb_model.pkl')"
   ]
  },
  {
   "cell_type": "code",
   "execution_count": null,
   "metadata": {},
   "outputs": [],
   "source": [
    "nb_model = joblib.load('nb_model.pkl')"
   ]
  },
  {
   "cell_type": "code",
   "execution_count": null,
   "metadata": {},
   "outputs": [],
   "source": [
    "nb_model_auc = roc_auc_score(y_valid,nb_model.predict_proba(X_valid)[:, 1])\n",
    "print(\"AUC for NB on Valid: {:.6f}\".format(nb_model_auc))"
   ]
  },
  {
   "cell_type": "code",
   "execution_count": null,
   "metadata": {},
   "outputs": [],
   "source": [
    "nb_model_auc = roc_auc_score(y_test,nb_model.predict_proba(X_test)[:, 1])\n",
    "print(\"AUC for NB on Test : {:.6f}\".format(nb_model_auc))"
   ]
  },
  {
   "cell_type": "code",
   "execution_count": null,
   "metadata": {},
   "outputs": [],
   "source": []
  }
 ],
 "metadata": {
  "kernelspec": {
   "display_name": "Python 3",
   "language": "python",
   "name": "python3"
  },
  "language_info": {
   "codemirror_mode": {
    "name": "ipython",
    "version": 3
   },
   "file_extension": ".py",
   "mimetype": "text/x-python",
   "name": "python",
   "nbconvert_exporter": "python",
   "pygments_lexer": "ipython3",
   "version": "3.7.3"
  },
  "toc": {
   "colors": {
    "hover_highlight": "#DAA520",
    "navigate_num": "#000000",
    "navigate_text": "#333333",
    "running_highlight": "#FF0000",
    "selected_highlight": "#FFD700",
    "sidebar_border": "#EEEEEE",
    "wrapper_background": "#FFFFFF"
   },
   "moveMenuLeft": true,
   "nav_menu": {
    "height": "512px",
    "width": "252px"
   },
   "navigate_menu": true,
   "number_sections": true,
   "sideBar": true,
   "threshold": 4,
   "toc_cell": false,
   "toc_section_display": "block",
   "toc_window_display": false,
   "widenNotebook": false
  }
 },
 "nbformat": 4,
 "nbformat_minor": 2
}
