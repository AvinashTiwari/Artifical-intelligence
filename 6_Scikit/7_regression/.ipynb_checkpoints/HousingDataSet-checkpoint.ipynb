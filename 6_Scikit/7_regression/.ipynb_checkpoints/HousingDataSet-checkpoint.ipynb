{
 "cells": [
  {
   "cell_type": "code",
   "execution_count": 1,
   "metadata": {},
   "outputs": [],
   "source": [
    "import numpy as np\n",
    "import os\n",
    "%matplotlib inline\n",
    "import matplotlib\n",
    "import matplotlib.pyplot as plt\n",
    "import pandas as pd"
   ]
  },
  {
   "cell_type": "code",
   "execution_count": 2,
   "metadata": {},
   "outputs": [],
   "source": [
    "LOCAL_DIR = os.path.join(\"data\",\"housing\")\n",
    "LOCA_FILE = os.path.join(LOCAL_DIR, \"train.csv\")"
   ]
  },
  {
   "cell_type": "code",
   "execution_count": 3,
   "metadata": {},
   "outputs": [],
   "source": [
    "df = pd.read_csv(LOCA_FILE)"
   ]
  },
  {
   "cell_type": "code",
   "execution_count": 4,
   "metadata": {},
   "outputs": [
    {
     "data": {
      "text/html": [
       "<div>\n",
       "<style scoped>\n",
       "    .dataframe tbody tr th:only-of-type {\n",
       "        vertical-align: middle;\n",
       "    }\n",
       "\n",
       "    .dataframe tbody tr th {\n",
       "        vertical-align: top;\n",
       "    }\n",
       "\n",
       "    .dataframe thead th {\n",
       "        text-align: right;\n",
       "    }\n",
       "</style>\n",
       "<table border=\"1\" class=\"dataframe\">\n",
       "  <thead>\n",
       "    <tr style=\"text-align: right;\">\n",
       "      <th></th>\n",
       "      <th>Id</th>\n",
       "      <th>longitude</th>\n",
       "      <th>latitude</th>\n",
       "      <th>median_age</th>\n",
       "      <th>total_rooms</th>\n",
       "      <th>total_bedrooms</th>\n",
       "      <th>population</th>\n",
       "      <th>households</th>\n",
       "      <th>median_income</th>\n",
       "      <th>median_house_value</th>\n",
       "    </tr>\n",
       "  </thead>\n",
       "  <tbody>\n",
       "    <tr>\n",
       "      <th>0</th>\n",
       "      <td>15817</td>\n",
       "      <td>-120.85</td>\n",
       "      <td>37.57</td>\n",
       "      <td>27</td>\n",
       "      <td>819</td>\n",
       "      <td>157</td>\n",
       "      <td>451</td>\n",
       "      <td>150</td>\n",
       "      <td>34934</td>\n",
       "      <td>193800</td>\n",
       "    </tr>\n",
       "    <tr>\n",
       "      <th>1</th>\n",
       "      <td>6236</td>\n",
       "      <td>-117.74</td>\n",
       "      <td>34.06</td>\n",
       "      <td>48</td>\n",
       "      <td>2438</td>\n",
       "      <td>599</td>\n",
       "      <td>1508</td>\n",
       "      <td>548</td>\n",
       "      <td>28983</td>\n",
       "      <td>129200</td>\n",
       "    </tr>\n",
       "    <tr>\n",
       "      <th>2</th>\n",
       "      <td>19262</td>\n",
       "      <td>-118.11</td>\n",
       "      <td>33.92</td>\n",
       "      <td>32</td>\n",
       "      <td>1016</td>\n",
       "      <td>190</td>\n",
       "      <td>729</td>\n",
       "      <td>177</td>\n",
       "      <td>43000</td>\n",
       "      <td>151300</td>\n",
       "    </tr>\n",
       "    <tr>\n",
       "      <th>3</th>\n",
       "      <td>19743</td>\n",
       "      <td>-118.12</td>\n",
       "      <td>34.15</td>\n",
       "      <td>35</td>\n",
       "      <td>1760</td>\n",
       "      <td>447</td>\n",
       "      <td>984</td>\n",
       "      <td>384</td>\n",
       "      <td>34167</td>\n",
       "      <td>198200</td>\n",
       "    </tr>\n",
       "    <tr>\n",
       "      <th>4</th>\n",
       "      <td>7272</td>\n",
       "      <td>-120.63</td>\n",
       "      <td>37.41</td>\n",
       "      <td>27</td>\n",
       "      <td>2083</td>\n",
       "      <td>444</td>\n",
       "      <td>1462</td>\n",
       "      <td>479</td>\n",
       "      <td>26439</td>\n",
       "      <td>69100</td>\n",
       "    </tr>\n",
       "  </tbody>\n",
       "</table>\n",
       "</div>"
      ],
      "text/plain": [
       "      Id  longitude  latitude  median_age  total_rooms  total_bedrooms  \\\n",
       "0  15817    -120.85     37.57          27          819             157   \n",
       "1   6236    -117.74     34.06          48         2438             599   \n",
       "2  19262    -118.11     33.92          32         1016             190   \n",
       "3  19743    -118.12     34.15          35         1760             447   \n",
       "4   7272    -120.63     37.41          27         2083             444   \n",
       "\n",
       "   population  households  median_income  median_house_value  \n",
       "0         451         150          34934              193800  \n",
       "1        1508         548          28983              129200  \n",
       "2         729         177          43000              151300  \n",
       "3         984         384          34167              198200  \n",
       "4        1462         479          26439               69100  "
      ]
     },
     "execution_count": 4,
     "metadata": {},
     "output_type": "execute_result"
    }
   ],
   "source": [
    "df.head()"
   ]
  },
  {
   "cell_type": "code",
   "execution_count": 5,
   "metadata": {},
   "outputs": [
    {
     "name": "stdout",
     "output_type": "stream",
     "text": [
      "<class 'pandas.core.frame.DataFrame'>\n",
      "RangeIndex: 14448 entries, 0 to 14447\n",
      "Data columns (total 10 columns):\n",
      "Id                    14448 non-null int64\n",
      "longitude             14448 non-null float64\n",
      "latitude              14448 non-null float64\n",
      "median_age            14448 non-null int64\n",
      "total_rooms           14448 non-null int64\n",
      "total_bedrooms        14448 non-null int64\n",
      "population            14448 non-null int64\n",
      "households            14448 non-null int64\n",
      "median_income         14448 non-null int64\n",
      "median_house_value    14448 non-null int64\n",
      "dtypes: float64(2), int64(8)\n",
      "memory usage: 1.1 MB\n"
     ]
    }
   ],
   "source": [
    "df.info()"
   ]
  },
  {
   "cell_type": "code",
   "execution_count": 6,
   "metadata": {},
   "outputs": [
    {
     "data": {
      "text/plain": [
       "array([[<matplotlib.axes._subplots.AxesSubplot object at 0x00000194081A6828>,\n",
       "        <matplotlib.axes._subplots.AxesSubplot object at 0x00000194081FAC18>,\n",
       "        <matplotlib.axes._subplots.AxesSubplot object at 0x000001940822D2E8>],\n",
       "       [<matplotlib.axes._subplots.AxesSubplot object at 0x0000019408253978>,\n",
       "        <matplotlib.axes._subplots.AxesSubplot object at 0x0000019408287048>,\n",
       "        <matplotlib.axes._subplots.AxesSubplot object at 0x0000019408287080>],\n",
       "       [<matplotlib.axes._subplots.AxesSubplot object at 0x00000194082D5D68>,\n",
       "        <matplotlib.axes._subplots.AxesSubplot object at 0x0000019408308438>,\n",
       "        <matplotlib.axes._subplots.AxesSubplot object at 0x000001940832EAC8>],\n",
       "       [<matplotlib.axes._subplots.AxesSubplot object at 0x000001940835E198>,\n",
       "        <matplotlib.axes._subplots.AxesSubplot object at 0x0000019408386828>,\n",
       "        <matplotlib.axes._subplots.AxesSubplot object at 0x00000194083AEEB8>]],\n",
       "      dtype=object)"
      ]
     },
     "execution_count": 6,
     "metadata": {},
     "output_type": "execute_result"
    },
    {
     "data": {
      "image/png": "[encoded data removed]",
      "text/plain": [
       "<Figure size 1440x1080 with 12 Axes>"
      ]
     },
     "metadata": {
      "needs_background": "light"
     },
     "output_type": "display_data"
    }
   ],
   "source": [
    "df.hist(bins=50,figsize=(20,15))"
   ]
  },
  {
   "cell_type": "code",
   "execution_count": 7,
   "metadata": {},
   "outputs": [],
   "source": [
    "df = pd.get_dummies(df)"
   ]
  },
  {
   "cell_type": "code",
   "execution_count": 8,
   "metadata": {},
   "outputs": [
    {
     "data": {
      "text/html": [
       "<div>\n",
       "<style scoped>\n",
       "    .dataframe tbody tr th:only-of-type {\n",
       "        vertical-align: middle;\n",
       "    }\n",
       "\n",
       "    .dataframe tbody tr th {\n",
       "        vertical-align: top;\n",
       "    }\n",
       "\n",
       "    .dataframe thead th {\n",
       "        text-align: right;\n",
       "    }\n",
       "</style>\n",
       "<table border=\"1\" class=\"dataframe\">\n",
       "  <thead>\n",
       "    <tr style=\"text-align: right;\">\n",
       "      <th></th>\n",
       "      <th>Id</th>\n",
       "      <th>longitude</th>\n",
       "      <th>latitude</th>\n",
       "      <th>median_age</th>\n",
       "      <th>total_rooms</th>\n",
       "      <th>total_bedrooms</th>\n",
       "      <th>population</th>\n",
       "      <th>households</th>\n",
       "      <th>median_income</th>\n",
       "      <th>median_house_value</th>\n",
       "    </tr>\n",
       "  </thead>\n",
       "  <tbody>\n",
       "    <tr>\n",
       "      <th>0</th>\n",
       "      <td>15817</td>\n",
       "      <td>-120.85</td>\n",
       "      <td>37.57</td>\n",
       "      <td>27</td>\n",
       "      <td>819</td>\n",
       "      <td>157</td>\n",
       "      <td>451</td>\n",
       "      <td>150</td>\n",
       "      <td>34934</td>\n",
       "      <td>193800</td>\n",
       "    </tr>\n",
       "    <tr>\n",
       "      <th>1</th>\n",
       "      <td>6236</td>\n",
       "      <td>-117.74</td>\n",
       "      <td>34.06</td>\n",
       "      <td>48</td>\n",
       "      <td>2438</td>\n",
       "      <td>599</td>\n",
       "      <td>1508</td>\n",
       "      <td>548</td>\n",
       "      <td>28983</td>\n",
       "      <td>129200</td>\n",
       "    </tr>\n",
       "    <tr>\n",
       "      <th>2</th>\n",
       "      <td>19262</td>\n",
       "      <td>-118.11</td>\n",
       "      <td>33.92</td>\n",
       "      <td>32</td>\n",
       "      <td>1016</td>\n",
       "      <td>190</td>\n",
       "      <td>729</td>\n",
       "      <td>177</td>\n",
       "      <td>43000</td>\n",
       "      <td>151300</td>\n",
       "    </tr>\n",
       "    <tr>\n",
       "      <th>3</th>\n",
       "      <td>19743</td>\n",
       "      <td>-118.12</td>\n",
       "      <td>34.15</td>\n",
       "      <td>35</td>\n",
       "      <td>1760</td>\n",
       "      <td>447</td>\n",
       "      <td>984</td>\n",
       "      <td>384</td>\n",
       "      <td>34167</td>\n",
       "      <td>198200</td>\n",
       "    </tr>\n",
       "    <tr>\n",
       "      <th>4</th>\n",
       "      <td>7272</td>\n",
       "      <td>-120.63</td>\n",
       "      <td>37.41</td>\n",
       "      <td>27</td>\n",
       "      <td>2083</td>\n",
       "      <td>444</td>\n",
       "      <td>1462</td>\n",
       "      <td>479</td>\n",
       "      <td>26439</td>\n",
       "      <td>69100</td>\n",
       "    </tr>\n",
       "  </tbody>\n",
       "</table>\n",
       "</div>"
      ],
      "text/plain": [
       "      Id  longitude  latitude  median_age  total_rooms  total_bedrooms  \\\n",
       "0  15817    -120.85     37.57          27          819             157   \n",
       "1   6236    -117.74     34.06          48         2438             599   \n",
       "2  19262    -118.11     33.92          32         1016             190   \n",
       "3  19743    -118.12     34.15          35         1760             447   \n",
       "4   7272    -120.63     37.41          27         2083             444   \n",
       "\n",
       "   population  households  median_income  median_house_value  \n",
       "0         451         150          34934              193800  \n",
       "1        1508         548          28983              129200  \n",
       "2         729         177          43000              151300  \n",
       "3         984         384          34167              198200  \n",
       "4        1462         479          26439               69100  "
      ]
     },
     "execution_count": 8,
     "metadata": {},
     "output_type": "execute_result"
    }
   ],
   "source": [
    "df.head()"
   ]
  },
  {
   "cell_type": "code",
   "execution_count": 9,
   "metadata": {},
   "outputs": [
    {
     "name": "stderr",
     "output_type": "stream",
     "text": [
      "C:\\Users\\avinash.t\\Anaconda3\\lib\\site-packages\\sklearn\\utils\\deprecation.py:58: DeprecationWarning: Class Imputer is deprecated; Imputer was deprecated in version 0.20 and will be removed in 0.22. Import impute.SimpleImputer from sklearn instead.\n",
      "  warnings.warn(msg, category=DeprecationWarning)\n"
     ]
    }
   ],
   "source": [
    "from sklearn.preprocessing import Imputer\n",
    "imputer = Imputer(strategy=\"median\")"
   ]
  },
  {
   "cell_type": "code",
   "execution_count": 10,
   "metadata": {},
   "outputs": [],
   "source": [
    "imputer = imputer.fit_transform(df)"
   ]
  },
  {
   "cell_type": "code",
   "execution_count": 11,
   "metadata": {},
   "outputs": [
    {
     "data": {
      "text/plain": [
       "array([[ 1.5817e+04, -1.2085e+02,  3.7570e+01, ...,  1.5000e+02,\n",
       "         3.4934e+04,  1.9380e+05],\n",
       "       [ 6.2360e+03, -1.1774e+02,  3.4060e+01, ...,  5.4800e+02,\n",
       "         2.8983e+04,  1.2920e+05],\n",
       "       [ 1.9262e+04, -1.1811e+02,  3.3920e+01, ...,  1.7700e+02,\n",
       "         4.3000e+04,  1.5130e+05],\n",
       "       ...,\n",
       "       [ 1.2871e+04, -1.2133e+02,  3.8650e+01, ...,  5.1300e+02,\n",
       "         2.6266e+04,  1.9850e+05],\n",
       "       [ 7.1820e+03, -1.1837e+02,  3.4020e+01, ...,  3.7700e+02,\n",
       "         2.6154e+04,  1.9320e+05],\n",
       "       [ 9.7560e+03, -1.1795e+02,  3.4040e+01, ...,  2.0500e+02,\n",
       "         4.7679e+04,  1.5390e+05]])"
      ]
     },
     "execution_count": 11,
     "metadata": {},
     "output_type": "execute_result"
    }
   ],
   "source": [
    "imputer"
   ]
  },
  {
   "cell_type": "code",
   "execution_count": 12,
   "metadata": {},
   "outputs": [],
   "source": [
    "df = pd.DataFrame(imputer,columns=df.columns)"
   ]
  },
  {
   "cell_type": "code",
   "execution_count": 13,
   "metadata": {},
   "outputs": [
    {
     "data": {
      "text/html": [
       "<div>\n",
       "<style scoped>\n",
       "    .dataframe tbody tr th:only-of-type {\n",
       "        vertical-align: middle;\n",
       "    }\n",
       "\n",
       "    .dataframe tbody tr th {\n",
       "        vertical-align: top;\n",
       "    }\n",
       "\n",
       "    .dataframe thead th {\n",
       "        text-align: right;\n",
       "    }\n",
       "</style>\n",
       "<table border=\"1\" class=\"dataframe\">\n",
       "  <thead>\n",
       "    <tr style=\"text-align: right;\">\n",
       "      <th></th>\n",
       "      <th>Id</th>\n",
       "      <th>longitude</th>\n",
       "      <th>latitude</th>\n",
       "      <th>median_age</th>\n",
       "      <th>total_rooms</th>\n",
       "      <th>total_bedrooms</th>\n",
       "      <th>population</th>\n",
       "      <th>households</th>\n",
       "      <th>median_income</th>\n",
       "      <th>median_house_value</th>\n",
       "    </tr>\n",
       "  </thead>\n",
       "  <tbody>\n",
       "    <tr>\n",
       "      <th>0</th>\n",
       "      <td>15817.0</td>\n",
       "      <td>-120.85</td>\n",
       "      <td>37.57</td>\n",
       "      <td>27.0</td>\n",
       "      <td>819.0</td>\n",
       "      <td>157.0</td>\n",
       "      <td>451.0</td>\n",
       "      <td>150.0</td>\n",
       "      <td>34934.0</td>\n",
       "      <td>193800.0</td>\n",
       "    </tr>\n",
       "    <tr>\n",
       "      <th>1</th>\n",
       "      <td>6236.0</td>\n",
       "      <td>-117.74</td>\n",
       "      <td>34.06</td>\n",
       "      <td>48.0</td>\n",
       "      <td>2438.0</td>\n",
       "      <td>599.0</td>\n",
       "      <td>1508.0</td>\n",
       "      <td>548.0</td>\n",
       "      <td>28983.0</td>\n",
       "      <td>129200.0</td>\n",
       "    </tr>\n",
       "    <tr>\n",
       "      <th>2</th>\n",
       "      <td>19262.0</td>\n",
       "      <td>-118.11</td>\n",
       "      <td>33.92</td>\n",
       "      <td>32.0</td>\n",
       "      <td>1016.0</td>\n",
       "      <td>190.0</td>\n",
       "      <td>729.0</td>\n",
       "      <td>177.0</td>\n",
       "      <td>43000.0</td>\n",
       "      <td>151300.0</td>\n",
       "    </tr>\n",
       "    <tr>\n",
       "      <th>3</th>\n",
       "      <td>19743.0</td>\n",
       "      <td>-118.12</td>\n",
       "      <td>34.15</td>\n",
       "      <td>35.0</td>\n",
       "      <td>1760.0</td>\n",
       "      <td>447.0</td>\n",
       "      <td>984.0</td>\n",
       "      <td>384.0</td>\n",
       "      <td>34167.0</td>\n",
       "      <td>198200.0</td>\n",
       "    </tr>\n",
       "    <tr>\n",
       "      <th>4</th>\n",
       "      <td>7272.0</td>\n",
       "      <td>-120.63</td>\n",
       "      <td>37.41</td>\n",
       "      <td>27.0</td>\n",
       "      <td>2083.0</td>\n",
       "      <td>444.0</td>\n",
       "      <td>1462.0</td>\n",
       "      <td>479.0</td>\n",
       "      <td>26439.0</td>\n",
       "      <td>69100.0</td>\n",
       "    </tr>\n",
       "  </tbody>\n",
       "</table>\n",
       "</div>"
      ],
      "text/plain": [
       "        Id  longitude  latitude  median_age  total_rooms  total_bedrooms  \\\n",
       "0  15817.0    -120.85     37.57        27.0        819.0           157.0   \n",
       "1   6236.0    -117.74     34.06        48.0       2438.0           599.0   \n",
       "2  19262.0    -118.11     33.92        32.0       1016.0           190.0   \n",
       "3  19743.0    -118.12     34.15        35.0       1760.0           447.0   \n",
       "4   7272.0    -120.63     37.41        27.0       2083.0           444.0   \n",
       "\n",
       "   population  households  median_income  median_house_value  \n",
       "0       451.0       150.0        34934.0            193800.0  \n",
       "1      1508.0       548.0        28983.0            129200.0  \n",
       "2       729.0       177.0        43000.0            151300.0  \n",
       "3       984.0       384.0        34167.0            198200.0  \n",
       "4      1462.0       479.0        26439.0             69100.0  "
      ]
     },
     "execution_count": 13,
     "metadata": {},
     "output_type": "execute_result"
    }
   ],
   "source": [
    "df.head()"
   ]
  },
  {
   "cell_type": "code",
   "execution_count": 14,
   "metadata": {},
   "outputs": [
    {
     "name": "stdout",
     "output_type": "stream",
     "text": [
      "<class 'pandas.core.frame.DataFrame'>\n",
      "RangeIndex: 14448 entries, 0 to 14447\n",
      "Data columns (total 10 columns):\n",
      "Id                    14448 non-null float64\n",
      "longitude             14448 non-null float64\n",
      "latitude              14448 non-null float64\n",
      "median_age            14448 non-null float64\n",
      "total_rooms           14448 non-null float64\n",
      "total_bedrooms        14448 non-null float64\n",
      "population            14448 non-null float64\n",
      "households            14448 non-null float64\n",
      "median_income         14448 non-null float64\n",
      "median_house_value    14448 non-null float64\n",
      "dtypes: float64(10)\n",
      "memory usage: 1.1 MB\n"
     ]
    }
   ],
   "source": [
    "df.info()"
   ]
  },
  {
   "cell_type": "code",
   "execution_count": 15,
   "metadata": {},
   "outputs": [],
   "source": [
    "corr_matrix = df.corr()"
   ]
  },
  {
   "cell_type": "code",
   "execution_count": 16,
   "metadata": {},
   "outputs": [
    {
     "name": "stdout",
     "output_type": "stream",
     "text": [
      "                          Id  longitude  latitude  median_age  total_rooms  \\\n",
      "Id                  1.000000   0.004611 -0.005752   -0.013078     0.000441   \n",
      "longitude           0.004611   1.000000 -0.924038   -0.108722     0.039412   \n",
      "latitude           -0.005752  -0.924038  1.000000    0.014320    -0.033607   \n",
      "median_age         -0.013078  -0.108722  0.014320    1.000000    -0.363453   \n",
      "total_rooms         0.000441   0.039412 -0.033607   -0.363453     1.000000   \n",
      "total_bedrooms      0.003612   0.061997 -0.062063   -0.320720     0.927056   \n",
      "population          0.007047   0.091558 -0.104018   -0.300629     0.859914   \n",
      "households          0.000591   0.046091 -0.065010   -0.302986     0.913999   \n",
      "median_income      -0.009329  -0.014650 -0.083089   -0.125571     0.199281   \n",
      "median_house_value -0.007060  -0.044062 -0.147024    0.099341     0.139242   \n",
      "\n",
      "                    total_bedrooms  population  households  median_income  \\\n",
      "Id                        0.003612    0.007047    0.000591      -0.009329   \n",
      "longitude                 0.061997    0.091558    0.046091      -0.014650   \n",
      "latitude                 -0.062063   -0.104018   -0.065010      -0.083089   \n",
      "median_age               -0.320720   -0.300629   -0.302986      -0.125571   \n",
      "total_rooms               0.927056    0.859914    0.913999       0.199281   \n",
      "total_bedrooms            1.000000    0.881080    0.978051      -0.009742   \n",
      "population                0.881080    1.000000    0.911964       0.006025   \n",
      "households                0.978051    0.911964    1.000000       0.012455   \n",
      "median_income            -0.009742    0.006025    0.012455       1.000000   \n",
      "median_house_value        0.055533   -0.020434    0.071622       0.687604   \n",
      "\n",
      "                    median_house_value  \n",
      "Id                           -0.007060  \n",
      "longitude                    -0.044062  \n",
      "latitude                     -0.147024  \n",
      "median_age                    0.099341  \n",
      "total_rooms                   0.139242  \n",
      "total_bedrooms                0.055533  \n",
      "population                   -0.020434  \n",
      "households                    0.071622  \n",
      "median_income                 0.687604  \n",
      "median_house_value            1.000000  \n"
     ]
    }
   ],
   "source": [
    "print(corr_matrix)"
   ]
  },
  {
   "cell_type": "code",
   "execution_count": 17,
   "metadata": {},
   "outputs": [
    {
     "data": {
      "text/plain": [
       "median_house_value    1.000000\n",
       "median_income         0.687604\n",
       "total_rooms           0.139242\n",
       "median_age            0.099341\n",
       "households            0.071622\n",
       "total_bedrooms        0.055533\n",
       "Id                   -0.007060\n",
       "population           -0.020434\n",
       "longitude            -0.044062\n",
       "latitude             -0.147024\n",
       "Name: median_house_value, dtype: float64"
      ]
     },
     "execution_count": 17,
     "metadata": {},
     "output_type": "execute_result"
    }
   ],
   "source": [
    "corr_matrix[\"median_house_value\"].sort_values(ascending=False)"
   ]
  },
  {
   "cell_type": "code",
   "execution_count": 18,
   "metadata": {},
   "outputs": [
    {
     "data": {
      "text/plain": [
       "<matplotlib.axes._subplots.AxesSubplot at 0x19409364748>"
      ]
     },
     "execution_count": 18,
     "metadata": {},
     "output_type": "execute_result"
    },
    {
     "data": {
      "image/png": "[encoded data removed]",
      "text/plain": [
       "<Figure size 432x288 with 1 Axes>"
      ]
     },
     "metadata": {
      "needs_background": "light"
     },
     "output_type": "display_data"
    }
   ],
   "source": [
    "df[\"median_income\"].hist()"
   ]
  },
  {
   "cell_type": "code",
   "execution_count": 19,
   "metadata": {},
   "outputs": [],
   "source": [
    "buckets = np.linspace(0,16,6)\n",
    "df['median_income_cats'] = pd.cut(df['median_income'],buckets)"
   ]
  },
  {
   "cell_type": "code",
   "execution_count": 21,
   "metadata": {},
   "outputs": [
    {
     "data": {
      "text/plain": [
       "(12.8, 16.0]    0\n",
       "(9.6, 12.8]     0\n",
       "(6.4, 9.6]      0\n",
       "(3.2, 6.4]      0\n",
       "(0.0, 3.2]      0\n",
       "Name: median_income_cats, dtype: int64"
      ]
     },
     "execution_count": 21,
     "metadata": {},
     "output_type": "execute_result"
    }
   ],
   "source": [
    "df['median_income_cats'].value_counts()"
   ]
  },
  {
   "cell_type": "code",
   "execution_count": 22,
   "metadata": {},
   "outputs": [
    {
     "data": {
      "text/plain": [
       "(12.8, 16.0]    0.0\n",
       "(9.6, 12.8]     0.0\n",
       "(6.4, 9.6]      0.0\n",
       "(3.2, 6.4]      0.0\n",
       "(0.0, 3.2]      0.0\n",
       "Name: median_income_cats, dtype: float64"
      ]
     },
     "execution_count": 22,
     "metadata": {},
     "output_type": "execute_result"
    }
   ],
   "source": [
    "df['median_income_cats'].value_counts() / len(df)"
   ]
  },
  {
   "cell_type": "code",
   "execution_count": null,
   "metadata": {},
   "outputs": [],
   "source": [
    "from sklearn.model_selection import train_test_split\n",
    "X_train, X_test = train_test_split(df, test_size=0.2, stratify=df['median_income_cats'],\n",
    "                                  shuffle = True,  random_state =44)"
   ]
  }
 ],
 "metadata": {
  "kernelspec": {
   "display_name": "Python 3",
   "language": "python",
   "name": "python3"
  },
  "language_info": {
   "codemirror_mode": {
    "name": "ipython",
    "version": 3
   },
   "file_extension": ".py",
   "mimetype": "text/x-python",
   "name": "python",
   "nbconvert_exporter": "python",
   "pygments_lexer": "ipython3",
   "version": "3.6.7"
  }
 },
 "nbformat": 4,
 "nbformat_minor": 2
}
