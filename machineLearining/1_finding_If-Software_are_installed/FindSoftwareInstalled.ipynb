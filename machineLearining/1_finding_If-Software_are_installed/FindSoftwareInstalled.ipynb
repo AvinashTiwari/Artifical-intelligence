{
 "cells": [
  {
   "cell_type": "code",
   "execution_count": 17,
   "metadata": {},
   "outputs": [
    {
     "name": "stdout",
     "output_type": "stream",
     "text": [
      "IPhyton 6.2.1\n",
      "numpy 1.12.1\n",
      "scipy 1.0.0\n",
      "matplotlib 2.1.1\n",
      "sklearn 0.19.1\n",
      "seaborn 0.8.1\n",
      "pandas 0.21.1\n"
     ]
    },
    {
     "name": "stderr",
     "output_type": "stream",
     "text": [
      "Using TensorFlow backend.\n"
     ]
    },
    {
     "name": "stdout",
     "output_type": "stream",
     "text": [
      "keras 2.0.8\n",
      "tensorflow 1.1.0\n"
     ]
    }
   ],
   "source": [
    "from __future__ import print_function\n",
    "import IPython\n",
    "print ('IPhyton', IPython.__version__)\n",
    "\n",
    "import numpy\n",
    "print ('numpy', numpy.__version__)\n",
    "\n",
    "import scipy\n",
    "print ('scipy', scipy.__version__)\n",
    "\n",
    "import matplotlib\n",
    "print ('matplotlib', matplotlib.__version__)\n",
    "\n",
    "import sklearn\n",
    "print ('sklearn', sklearn.__version__)\n",
    "\n",
    "import seaborn\n",
    "print ('seaborn', seaborn.__version__)\n",
    "\n",
    "import pandas\n",
    "print ('pandas', pandas.__version__)\n",
    "\n",
    "import keras\n",
    "print ('keras', keras.__version__)\n",
    "\n",
    "import tensorflow\n",
    "print ('tensorflow', tensorflow.__version__)\n"
   ]
  },
  {
   "cell_type": "code",
   "execution_count": null,
   "metadata": {},
   "outputs": [],
   "source": []
  }
 ],
 "metadata": {
  "kernelspec": {
   "display_name": "Python 3",
   "language": "python",
   "name": "python3"
  },
  "language_info": {
   "codemirror_mode": {
    "name": "ipython",
    "version": 3
   },
   "file_extension": ".py",
   "mimetype": "text/x-python",
   "name": "python",
   "nbconvert_exporter": "python",
   "pygments_lexer": "ipython3",
   "version": "3.5.4"
  }
 },
 "nbformat": 4,
 "nbformat_minor": 2
}
