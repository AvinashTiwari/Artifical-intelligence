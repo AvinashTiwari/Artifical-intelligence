{
 "cells": [
  {
   "cell_type": "code",
   "execution_count": 1,
   "metadata": {},
   "outputs": [
    {
     "name": "stderr",
     "output_type": "stream",
     "text": [
      "C:\\Users\\avinash.t\\Anaconda3\\lib\\site-packages\\h5py\\__init__.py:36: FutureWarning: Conversion of the second argument of issubdtype from `float` to `np.floating` is deprecated. In future, it will be treated as `np.float64 == np.dtype(float).type`.\n",
      "  from ._conv import register_converters as _register_converters\n"
     ]
    }
   ],
   "source": [
    "import pandas as pd\n",
    "import numpy as np\n",
    "import matplotlib.pyplot as plt\n",
    "import tensorflow as tf"
   ]
  },
  {
   "cell_type": "code",
   "execution_count": 2,
   "metadata": {},
   "outputs": [],
   "source": [
    "GAS_TRAIN_DATA = 'CSV_Files/Gas Data Last Year.csv'\n",
    "GAS_TEST_DATA = 'CSV_Files/Gas Data Last Month.csv'\n",
    "GOLD_TRAIN_DATA = 'CSV_Files/Gold Data Last Year.csv'\n",
    "GOLD_TEST_DATA = 'CSV_Files/Gold Data Last Month.csv'\n",
    "OIL_TRAIN_DATA = 'CSV_Files/Oil Data Last Year.csv'\n",
    "OIL_TEST_DATA = 'CSV_Files/Oil Data Last Month.csv'\n",
    "SILVER_TRAIN_DATA = 'CSV_Files/Silver Data Last Year.csv'\n",
    "SILVER_TEST_DATA = 'CSV_Files/Silver Data Last Month.csv'\n",
    "\n",
    "\n",
    "current_train_data = GOLD_TRAIN_DATA\n",
    "current_test_data = GOLD_TEST_DATA\n",
    "\n",
    "\n",
    "NUM_TRAIN_DATA_POINTS = 266\n",
    "NUM_TEST_DATA_POINTS = 22\n",
    "\n",
    "LEARNING_RATE = 0.1\n",
    "NUM_EPOCHS = 100\n"
   ]
  },
  {
   "cell_type": "code",
   "execution_count": 3,
   "metadata": {},
   "outputs": [],
   "source": [
    "def load_stock_data(stock_name, num_data_points):\n",
    "    data = pd.read_csv(stock_name,\n",
    "                       skiprows=0,\n",
    "                       nrows=num_data_points,\n",
    "                       usecols=['Price', 'Open', 'Vol.'])\n",
    "    \n",
    "    final_prices = data['Price'].astype(str).str.replace(',','').astype(np.float)\n",
    "    \n",
    "    opening_prices = data['Open'].astype(str).str.replace(',', '').astype(np.float)\n",
    "\n",
    "    volumes = data['Vol.'].str.strip('MK').astype(np.float)\n",
    "    return final_prices, opening_prices, volumes\n"
   ]
  },
  {
   "cell_type": "code",
   "execution_count": 4,
   "metadata": {},
   "outputs": [],
   "source": [
    "def calculate_price_differences(final_prices, opening_prices):\n",
    "    price_differences = []\n",
    "    for d_i in range(len(final_prices) - 1):\n",
    "        price_difference = opening_prices[d_i + 1] - final_prices[d_i]\n",
    "        price_differences.append(price_difference)\n",
    "    return price_differences"
   ]
  },
  {
   "cell_type": "code",
   "execution_count": 5,
   "metadata": {},
   "outputs": [],
   "source": [
    "def calculate_accuracy(expected_values, actual_values):\n",
    "    num_correct = 0\n",
    "    for a_i in range(len(actual_values)):\n",
    "        if actual_values[a_i] < 0 < expected_values[a_i]:\n",
    "            num_correct += 1\n",
    "        elif actual_values[a_i] > 0 > expected_values[a_i]:\n",
    "            num_correct += 1\n",
    "    return (num_correct / len(actual_values)) * 100\n"
   ]
  },
  {
   "cell_type": "code",
   "execution_count": 6,
   "metadata": {},
   "outputs": [],
   "source": [
    "train_final_prices, train_opening_prices, train_volumes = load_stock_data(current_train_data, NUM_TRAIN_DATA_POINTS)\n",
    "train_price_differences = calculate_price_differences(train_final_prices, train_opening_prices)\n",
    "train_volumes = train_volumes[:-1]\n",
    "\n",
    "\n",
    "test_final_prices, test_opening_prices, test_volumes = load_stock_data(current_test_data, NUM_TEST_DATA_POINTS)\n",
    "test_price_differences = calculate_price_differences(test_final_prices, test_opening_prices)\n",
    "test_volumes = test_volumes[:-1]\n",
    "\n",
    "x = tf.placeholder(tf.float32, name='x')\n",
    "\n",
    "W = tf.Variable([.1], name='W')\n",
    "b = tf.Variable([.1], name='b')\n",
    "\n",
    "y = W * x + b\n",
    "\n",
    "y_predicted = tf.placeholder(tf.float32, name='y_predicted')\n",
    "\n",
    "\n",
    "loss = tf.reduce_sum(tf.square(y - y_predicted))\n",
    "\n",
    "optimizer = tf.train.AdamOptimizer(LEARNING_RATE).minimize(loss)\n",
    "\n"
   ]
  },
  {
   "cell_type": "code",
   "execution_count": 7,
   "metadata": {},
   "outputs": [
    {
     "name": "stdout",
     "output_type": "stream",
     "text": [
      "Accuracy of model: 61.90%\n"
     ]
    }
   ],
   "source": [
    "session = tf.Session()\n",
    "\n",
    "session.run(tf.global_variables_initializer())\n",
    "for _ in range(NUM_EPOCHS):\n",
    "\n",
    "    session.run(optimizer, feed_dict={x: train_volumes, y_predicted: train_price_differences})\n",
    "\n",
    "results = session.run(y, feed_dict={x: test_volumes})\n",
    "accuracy = calculate_accuracy(test_price_differences, results)\n",
    "print(\"Accuracy of model: {0:.2f}%\".format(accuracy))\n"
   ]
  },
  {
   "cell_type": "code",
   "execution_count": 8,
   "metadata": {},
   "outputs": [
    {
     "data": {
      "image/png": "[encoded data removed]",
      "text/plain": [
       "<matplotlib.figure.Figure at 0x4fbce90d30>"
      ]
     },
     "metadata": {},
     "output_type": "display_data"
    }
   ],
   "source": [
    " plt.figure(1)\n",
    " plt.plot(train_volumes, train_price_differences, 'bo')\n",
    " plt.title('Price Differences for Given Volumes for the Past Year')\n",
    " plt.xlabel('Volumes')\n",
    " plt.ylabel('Price differences')\n",
    " plt.show()\n"
   ]
  },
  {
   "cell_type": "code",
   "execution_count": null,
   "metadata": {},
   "outputs": [],
   "source": []
  }
 ],
 "metadata": {
  "kernelspec": {
   "display_name": "Python 3",
   "language": "python",
   "name": "python3"
  },
  "language_info": {
   "codemirror_mode": {
    "name": "ipython",
    "version": 3
   },
   "file_extension": ".py",
   "mimetype": "text/x-python",
   "name": "python",
   "nbconvert_exporter": "python",
   "pygments_lexer": "ipython3",
   "version": "3.5.5"
  }
 },
 "nbformat": 4,
 "nbformat_minor": 2
}
