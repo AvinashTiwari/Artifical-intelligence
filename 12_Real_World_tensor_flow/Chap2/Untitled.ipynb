{
 "cells": [
  {
   "cell_type": "code",
   "execution_count": 1,
   "metadata": {},
   "outputs": [
    {
     "name": "stdout",
     "output_type": "stream",
     "text": [
      "Imported sucessesfully\n"
     ]
    }
   ],
   "source": [
    "import tensorflow as tf\n",
    "import numpy as np \n",
    "import matplotlib.pyplot as plt \n",
    "import scipy.io as sio \n",
    "import math \n",
    "rng=np.random\n",
    "#parameters\n",
    "learning_rate=0.01\n",
    "training_epochs=1000\n",
    "display_step=50\n",
    "print(\"Imported sucessesfully\")"
   ]
  },
  {
   "cell_type": "code",
   "execution_count": 2,
   "metadata": {},
   "outputs": [],
   "source": [
    "data_set=sio.loadmat('restaurant_profit.mat')"
   ]
  },
  {
   "cell_type": "code",
   "execution_count": 3,
   "metadata": {},
   "outputs": [],
   "source": [
    "train_X=data_set['X1_one_var']\n",
    "train_Y=data_set['Y1_one_var']"
   ]
  },
  {
   "cell_type": "code",
   "execution_count": 4,
   "metadata": {},
   "outputs": [
    {
     "data": {
      "image/png": "[encoded data removed]",
      "text/plain": [
       "<Figure size 432x288 with 1 Axes>"
      ]
     },
     "metadata": {
      "needs_background": "light"
     },
     "output_type": "display_data"
    }
   ],
   "source": [
    "plt.plot(train_X,train_Y,'bx')\n",
    "plt.show()"
   ]
  },
  {
   "cell_type": "code",
   "execution_count": 5,
   "metadata": {},
   "outputs": [],
   "source": [
    "\n",
    "n_samples = train_X.shape[0]\n",
    "X= tf.placeholder(\"float\")\n",
    "Y= tf.placeholder(\"float\")\n",
    "\n",
    "W=tf.Variable(rng.rand(),name=\"weight\")\n",
    "b=tf.Variable(rng.randn(),name=\"bias\")\n"
   ]
  },
  {
   "cell_type": "code",
   "execution_count": 6,
   "metadata": {},
   "outputs": [],
   "source": [
    "pred=tf.add(tf.multiply(X,W),b)\n",
    "n_samples=train_X.shape[0]\n",
    "cost=tf.reduce_sum(tf.pow(pred-Y,2))/n_samples"
   ]
  },
  {
   "cell_type": "code",
   "execution_count": 7,
   "metadata": {},
   "outputs": [
    {
     "name": "stdout",
     "output_type": "stream",
     "text": [
      "WARNING:tensorflow:From C:\\Users\\avinash.tiwari\\.conda\\envs\\tensorflow1.x\\lib\\site-packages\\tensorflow_core\\python\\ops\\math_grad.py:1375: where (from tensorflow.python.ops.array_ops) is deprecated and will be removed in a future version.\n",
      "Instructions for updating:\n",
      "Use tf.where in 2.0, which has the same broadcast rule as np.where\n"
     ]
    }
   ],
   "source": [
    "optimizer = tf.train.GradientDescentOptimizer(learning_rate).minimize(cost)\n",
    "init=tf.global_variables_initializer()"
   ]
  },
  {
   "cell_type": "code",
   "execution_count": 11,
   "metadata": {},
   "outputs": [
    {
     "name": "stdout",
     "output_type": "stream",
     "text": [
      "Epoch_value: 0050 cost_value= 11.446009636 W= 0.7830108 b= -0.5667055\n",
      "Epoch_value: 0100 cost_value= 10.832789421 W= 0.8380877 b= -1.1068376\n",
      "Epoch_value: 0150 cost_value= 10.403117180 W= 0.8839757 b= -1.5568534\n",
      "Epoch_value: 0200 cost_value= 10.101530075 W= 0.9222069 b= -1.9317851\n",
      "Epoch_value: 0250 cost_value= 9.889398575 W= 0.95405996 b= -2.244162\n",
      "Epoch_value: 0300 cost_value= 9.739825249 W= 0.9806 b= -2.5044363\n",
      "Epoch_value: 0350 cost_value= 9.634081841 W= 1.0027105 b= -2.7212758\n",
      "Epoch_value: 0400 cost_value= 9.559066772 W= 1.0211326 b= -2.9019372\n",
      "Epoch_value: 0450 cost_value= 9.505654335 W= 1.036481 b= -3.052455\n",
      "Epoch_value: 0500 cost_value= 9.467463493 W= 1.0492685 b= -3.1778588\n",
      "Epoch_value: 0550 cost_value= 9.440026283 W= 1.0599223 b= -3.282342\n",
      "Epoch_value: 0600 cost_value= 9.420205116 W= 1.0687991 b= -3.3693938\n",
      "Epoch_value: 0650 cost_value= 9.405804634 W= 1.076194 b= -3.4419186\n",
      "Epoch_value: 0700 cost_value= 9.395259857 W= 1.0823568 b= -3.5023491\n",
      "Epoch_value: 0750 cost_value= 9.387508392 W= 1.0874891 b= -3.5526884\n",
      "Epoch_value: 0800 cost_value= 9.381743431 W= 1.0917665 b= -3.5946336\n",
      "Epoch_value: 0850 cost_value= 9.377436638 W= 1.0953301 b= -3.629583\n",
      "Epoch_value: 0900 cost_value= 9.374183655 W= 1.0982991 b= -3.6586978\n",
      "Epoch_value: 0950 cost_value= 9.371712685 W= 1.1007725 b= -3.682955\n",
      "Epoch_value: 1000 cost_value= 9.369813919 W= 1.1028343 b= -3.7031744\n",
      "Optimization Finished !\n",
      "training_cost= 9.369814 W= 1.1028343 b= -3.7031744 \n",
      "\n"
     ]
    },
    {
     "data": {
      "image/png": "[encoded data removed]",
      "text/plain": [
       "<Figure size 432x288 with 1 Axes>"
      ]
     },
     "metadata": {
      "needs_background": "light"
     },
     "output_type": "display_data"
    },
    {
     "ename": "NameError",
     "evalue": "name 'h' is not defined",
     "output_type": "error",
     "traceback": [
      "\u001b[1;31m---------------------------------------------------------------------------\u001b[0m",
      "\u001b[1;31mNameError\u001b[0m                                 Traceback (most recent call last)",
      "\u001b[1;32m<ipython-input-11-6802c3eff912>\u001b[0m in \u001b[0;36m<module>\u001b[1;34m()\u001b[0m\n\u001b[0;32m     21\u001b[0m \u001b[1;33m\u001b[0m\u001b[0m\n\u001b[0;32m     22\u001b[0m     \u001b[0mwriter\u001b[0m \u001b[1;33m=\u001b[0m \u001b[0mtf\u001b[0m\u001b[1;33m.\u001b[0m\u001b[0msummary\u001b[0m\u001b[1;33m.\u001b[0m\u001b[0mFileWriter\u001b[0m\u001b[1;33m(\u001b[0m\u001b[1;34m\"output\"\u001b[0m\u001b[1;33m,\u001b[0m \u001b[0msess\u001b[0m\u001b[1;33m.\u001b[0m\u001b[0mgraph\u001b[0m\u001b[1;33m)\u001b[0m\u001b[1;33m\u001b[0m\u001b[0m\n\u001b[1;32m---> 23\u001b[1;33m     \u001b[0mprint\u001b[0m\u001b[1;33m(\u001b[0m\u001b[0msess\u001b[0m\u001b[1;33m.\u001b[0m\u001b[0mrun\u001b[0m\u001b[1;33m(\u001b[0m\u001b[0mh\u001b[0m\u001b[1;33m)\u001b[0m\u001b[1;33m)\u001b[0m\u001b[1;33m\u001b[0m\u001b[0m\n\u001b[0m",
      "\u001b[1;31mNameError\u001b[0m: name 'h' is not defined"
     ]
    }
   ],
   "source": [
    "with tf.Session() as sess:\n",
    "    \n",
    "    sess.run(init)\n",
    "    for epoch in range (training_epochs):\n",
    "        for ( x,y) in zip ( train_X, train_Y):\n",
    "            sess.run(optimizer,feed_dict={X:x,Y:y})\n",
    "        if (epoch+1)% display_step ==0:\n",
    "                c=sess.run(cost,feed_dict={X:train_X,Y:train_Y})\n",
    "                print(\"Epoch_value:\", '%04d' % (epoch+1), \"cost_value=\", \"{:.9f}\".format(c),                 \"W=\", sess.run(W), \"b=\", sess.run(b))\n",
    "    print(\"Optimization Finished !\")\n",
    "    \n",
    "    training_cost=sess.run(cost,feed_dict={X:train_X,Y:train_Y})\n",
    "    print( \"training_cost=\", training_cost,\"W=\",sess.run(W),\"b=\",sess.run(b),'\\n')\n",
    "    writer=tf.summary.FileWriter('folderrr',sess.graph)\n",
    "    writer.add_graph(sess.graph)\n",
    "    writer.close()\n",
    "    plt.plot(train_X, train_Y, 'ro', label='Original data')\n",
    "    plt.plot(train_X, sess.run(W) * train_X + sess.run(b), label='Fitted line')\n",
    "    plt.legend()\n",
    "    plt.show()\n",
    "    "
   ]
  },
  {
   "cell_type": "code",
   "execution_count": null,
   "metadata": {},
   "outputs": [],
   "source": [
    "print ( \"Gg\")"
   ]
  },
  {
   "cell_type": "code",
   "execution_count": null,
   "metadata": {},
   "outputs": [],
   "source": [
    "tf.VERSION"
   ]
  }
 ],
 "metadata": {
  "kernelspec": {
   "display_name": "Python 3",
   "language": "python",
   "name": "python3"
  },
  "language_info": {
   "codemirror_mode": {
    "name": "ipython",
    "version": 3
   },
   "file_extension": ".py",
   "mimetype": "text/x-python",
   "name": "python",
   "nbconvert_exporter": "python",
   "pygments_lexer": "ipython3",
   "version": "3.5.6"
  }
 },
 "nbformat": 4,
 "nbformat_minor": 4
}
