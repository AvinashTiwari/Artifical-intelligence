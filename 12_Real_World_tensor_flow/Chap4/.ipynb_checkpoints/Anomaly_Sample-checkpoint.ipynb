{
 "cells": [
  {
   "cell_type": "code",
   "execution_count": 2,
   "metadata": {},
   "outputs": [
    {
     "name": "stdout",
     "output_type": "stream",
     "text": [
      "imported libraries sucessfully\n"
     ]
    }
   ],
   "source": [
    "import tensorflow as tf \n",
    "import numpy as np\n",
    "import warnings\n",
    "warnings.filterwarnings('ignore')\n",
    "import seaborn as sns\n",
    "import h5py\n",
    "import matplotlib.pyplot as plt\n",
    "import matplotlib.cbook as cbook\n",
    "from numpy import ma\n",
    "from matplotlib import ticker, cm\n",
    "import matplotlib.cm as cm\n",
    "from pylab import rcParams\n",
    "import scipy.io as sio\n",
    "from scipy import stats\n",
    "import math\n",
    "import pandas as pd \n",
    "import shutil \n",
    "from IPython.core import display as ICD\n",
    "import tensorflow_probability as tfp\n",
    "tfd = tfp.distributions\n",
    "print ( \"imported libraries sucessfully\")"
   ]
  },
  {
   "cell_type": "code",
   "execution_count": 3,
   "metadata": {},
   "outputs": [],
   "source": [
    "data_set=sio.loadmat('Anomaly_detection_1.mat')"
   ]
  },
  {
   "cell_type": "code",
   "execution_count": 4,
   "metadata": {},
   "outputs": [],
   "source": [
    "X=data_set['X']\n",
    "Xval=data_set['Xval']\n",
    "yval=data_set['yval']"
   ]
  },
  {
   "cell_type": "code",
   "execution_count": 5,
   "metadata": {},
   "outputs": [],
   "source": [
    "Data_set={'throughput':X[:,0],'Latency':X[:,1]}"
   ]
  },
  {
   "cell_type": "code",
   "execution_count": 6,
   "metadata": {},
   "outputs": [],
   "source": [
    "Data_set=pd.DataFrame(Data_set)"
   ]
  },
  {
   "cell_type": "code",
   "execution_count": 7,
   "metadata": {},
   "outputs": [
    {
     "data": {
      "text/html": [
       "<div>\n",
       "<style scoped>\n",
       "    .dataframe tbody tr th:only-of-type {\n",
       "        vertical-align: middle;\n",
       "    }\n",
       "\n",
       "    .dataframe tbody tr th {\n",
       "        vertical-align: top;\n",
       "    }\n",
       "\n",
       "    .dataframe thead th {\n",
       "        text-align: right;\n",
       "    }\n",
       "</style>\n",
       "<table border=\"1\" class=\"dataframe\">\n",
       "  <thead>\n",
       "    <tr style=\"text-align: right;\">\n",
       "      <th></th>\n",
       "      <th>Latency</th>\n",
       "      <th>throughput</th>\n",
       "    </tr>\n",
       "  </thead>\n",
       "  <tbody>\n",
       "    <tr>\n",
       "      <th>0</th>\n",
       "      <td>14.741152</td>\n",
       "      <td>13.046815</td>\n",
       "    </tr>\n",
       "    <tr>\n",
       "      <th>1</th>\n",
       "      <td>13.763270</td>\n",
       "      <td>13.408520</td>\n",
       "    </tr>\n",
       "    <tr>\n",
       "      <th>2</th>\n",
       "      <td>15.853181</td>\n",
       "      <td>14.195915</td>\n",
       "    </tr>\n",
       "    <tr>\n",
       "      <th>3</th>\n",
       "      <td>16.174260</td>\n",
       "      <td>14.914701</td>\n",
       "    </tr>\n",
       "    <tr>\n",
       "      <th>4</th>\n",
       "      <td>14.042849</td>\n",
       "      <td>13.576700</td>\n",
       "    </tr>\n",
       "  </tbody>\n",
       "</table>\n",
       "</div>"
      ],
      "text/plain": [
       "     Latency  throughput\n",
       "0  14.741152   13.046815\n",
       "1  13.763270   13.408520\n",
       "2  15.853181   14.195915\n",
       "3  16.174260   14.914701\n",
       "4  14.042849   13.576700"
      ]
     },
     "execution_count": 7,
     "metadata": {},
     "output_type": "execute_result"
    }
   ],
   "source": [
    "Data_set.head()"
   ]
  },
  {
   "cell_type": "code",
   "execution_count": 8,
   "metadata": {},
   "outputs": [
    {
     "data": {
      "text/plain": [
       "Text(0, 0.5, 'Throughput')"
      ]
     },
     "execution_count": 8,
     "metadata": {},
     "output_type": "execute_result"
    },
    {
     "data": {
      "image/png": "[encoded data removed]",
      "text/plain": [
       "<Figure size 432x288 with 1 Axes>"
      ]
     },
     "metadata": {
      "needs_background": "light"
     },
     "output_type": "display_data"
    }
   ],
   "source": [
    "plt.plot(X[:,0],X[:,1],'bx')\n",
    "plt.axis([0,26,0,26])\n",
    "plt.xlabel('Letancy')\n",
    "plt.ylabel('Throughput')"
   ]
  },
  {
   "cell_type": "code",
   "execution_count": 9,
   "metadata": {},
   "outputs": [],
   "source": [
    "details_information=Data_set.describe()"
   ]
  },
  {
   "cell_type": "code",
   "execution_count": 10,
   "metadata": {},
   "outputs": [
    {
     "name": "stdout",
     "output_type": "stream",
     "text": [
      "          Latency  throughput\n",
      "count  307.000000  307.000000\n",
      "mean    14.997711   14.112226\n",
      "std      1.309707    1.355957\n",
      "min      4.126232    4.752613\n",
      "25%     14.361997   13.403351\n",
      "50%     15.023113   14.059507\n",
      "75%     15.654394   14.675503\n",
      "max     24.350407   23.339868\n"
     ]
    }
   ],
   "source": [
    "print ( details_information)"
   ]
  },
  {
   "cell_type": "code",
   "execution_count": 11,
   "metadata": {},
   "outputs": [],
   "source": [
    "x=tf.constant(Data_set)\n",
    "mean,Varaince=tf.nn.moments(x,[0])"
   ]
  },
  {
   "cell_type": "code",
   "execution_count": 12,
   "metadata": {},
   "outputs": [
    {
     "name": "stdout",
     "output_type": "stream",
     "text": [
      "[14.99771051 14.11222578] [1.70974533 1.83263141]\n"
     ]
    }
   ],
   "source": [
    "with tf.Session() as sess:\n",
    "    m,v = sess.run([mean,Varaince])\n",
    "    print ( m,v)"
   ]
  },
  {
   "cell_type": "code",
   "execution_count": 13,
   "metadata": {},
   "outputs": [
    {
     "name": "stdout",
     "output_type": "stream",
     "text": [
      "Visualizing Gaussian in terms of sigma fit \n",
      "\n"
     ]
    },
    {
     "data": {
      "text/plain": [
       "<matplotlib.axes._subplots.AxesSubplot at 0x229ec5664e0>"
      ]
     },
     "execution_count": 13,
     "metadata": {},
     "output_type": "execute_result"
    },
    {
     "data": {
      "image/png": "[encoded data removed]",
      "text/plain": [
       "<Figure size 432x288 with 1 Axes>"
      ]
     },
     "metadata": {
      "needs_background": "light"
     },
     "output_type": "display_data"
    }
   ],
   "source": [
    "print ( \"Visualizing Gaussian in terms of sigma fit \\n\")\n",
    "plt.axis([10,20,10,20])\n",
    "plt.xlabel('Letancy(ms)')\n",
    "plt.ylabel('Throughput(mb/s)')\n",
    "sns.kdeplot(Data_set,v,n_levels=7,cmap=\"Purples_d\")"
   ]
  },
  {
   "cell_type": "code",
   "execution_count": 14,
   "metadata": {},
   "outputs": [],
   "source": [
    "def selectThresholdlimits(yval, pval):\n",
    "    \"\"\"\n",
    "        SELECTTHRESHOLD Find the best threshold (epsilon) to use for selecting\n",
    "        outliers\n",
    "       [bestEpsilon bestF1] = SELECTTHRESHOLD(yval, pval) finds the best\n",
    "       threshold to use for selecting outliers based on the results from a\n",
    "       validation set (pval) and the ground truth (yval).\n",
    "       \n",
    "       \n",
    "    \"\"\"\n",
    "    sess = tf.InteractiveSession()\n",
    "    m=np.size(yval)\n",
    "#     print(np.max(pval),np.min(pval))\n",
    "    stepsize = (np.max(pval.eval()) - np.min(pval.eval())) / 100\n",
    "    for_loopiteration=np.arange( np.min(pval.eval()),np.max(pval.eval()),stepsize)\n",
    "    length =len(for_loopiteration)\n",
    "    length_yval=len(yval)\n",
    "    cv_prediction=np.zeros((m,1))\n",
    "    bestEpsilon = 0\n",
    "    bestF1 = 0\n",
    "    F1=0\n",
    "    for j in range(0, length):\n",
    "        print (\"Step_Number\",j)\n",
    "    \n",
    "        for i in range ( 1,m):\n",
    "            tp=0\n",
    "            fp=0\n",
    "            fn=0 \n",
    "\n",
    "#             if (pval.eval()[i]<for_loopiteration[j]):\n",
    "#             np.all((pval.eval()[i]<for_loopiteration[j]))\n",
    "            for  DD in pval.eval()[i] < for_loopiteration[j] :\n",
    "    #Anamoly    \n",
    "                if DD:\n",
    "                    cv_prediction[i]=1\n",
    "   \n",
    "                else:\n",
    "    #Normal \n",
    "                    cv_prediction[i]=0\n",
    "        \n",
    "\n",
    "            for i in range ( 0,m):\n",
    "                        if (cv_prediction[i]==1 and yval[i]==1):\n",
    "                                    tp=tp+1\n",
    "                        if (cv_prediction[i]==1 and yval[i]==0):\n",
    "                                    fp=fp+1\n",
    "                                \n",
    "                        if (cv_prediction[i]==0 and yval[i]==1):\n",
    "                                    fn=fn+1\n",
    "            \n",
    "\n",
    "            if (tp ==0 and  fp==0 ):\n",
    "                    precesion=0\n",
    "                    \n",
    "            if (tp ==0 or fn==0 ):\n",
    "                    Recall=0\n",
    "                    \n",
    "            else :       \n",
    "                    precesion=tp/(tp+fp)\n",
    "                    Recall=tp/(tp+fn)\n",
    "                    F1=(2*precesion*Recall)/(precesion+Recall)\n",
    "\n",
    "            if (F1 > bestF1):\n",
    "                   bestF1 = F1\n",
    "                   bestEpsilon = for_loopiteration[j]\n",
    "\n",
    "    \n",
    "    return bestEpsilon,bestF1"
   ]
  },
  {
   "cell_type": "code",
   "execution_count": 15,
   "metadata": {},
   "outputs": [],
   "source": [
    "tfd=tfp.distributions\n",
    "dist=tfd.Normal(mean,Varaince)\n",
    "p_val=dist.prob(Xval)\n"
   ]
  },
  {
   "cell_type": "code",
   "execution_count": 16,
   "metadata": {},
   "outputs": [],
   "source": [
    "tfd=tfp.distributions\n",
    "dist=tfd.Normal(mean,Varaince)\n",
    "p=dist.prob(X)\n"
   ]
  },
  {
   "cell_type": "code",
   "execution_count": null,
   "metadata": {},
   "outputs": [],
   "source": [
    "epsilon,F1=selectThresholdlimits(yval,p_val)"
   ]
  },
  {
   "cell_type": "code",
   "execution_count": null,
   "metadata": {},
   "outputs": [],
   "source": [
    "print(outliers)"
   ]
  }
 ],
 "metadata": {
  "kernelspec": {
   "display_name": "Python 3",
   "language": "python",
   "name": "python3"
  },
  "language_info": {
   "codemirror_mode": {
    "name": "ipython",
    "version": 3
   },
   "file_extension": ".py",
   "mimetype": "text/x-python",
   "name": "python",
   "nbconvert_exporter": "python",
   "pygments_lexer": "ipython3",
   "version": "3.5.6"
  }
 },
 "nbformat": 4,
 "nbformat_minor": 4
}
