{
 "cells": [
  {
   "cell_type": "code",
   "execution_count": 1,
   "metadata": {},
   "outputs": [],
   "source": [
    "import spacy"
   ]
  },
  {
   "cell_type": "code",
   "execution_count": 2,
   "metadata": {},
   "outputs": [],
   "source": [
    "nlp = spacy.load(\"en_core_web_sm\")"
   ]
  },
  {
   "cell_type": "code",
   "execution_count": 3,
   "metadata": {},
   "outputs": [
    {
     "name": "stdout",
     "output_type": "stream",
     "text": [
      "{'twenty', 'in', 'who', 'hereby', 'not', 'put', 'amount', 'therein', 'beyond', 'everything', 'forty', 'me', 'somehow', 'thru', 'her', 'ca', 'one', 'a', 'you', 'itself', 'why', 'so', 'must', 'be', 'and', 'full', 'under', 'until', 'himself', 'along', 'should', 'here', 'otherwise', 'against', 'least', 'four', 'empty', 'never', 'them', 'what', 'do', 'where', 'to', 'quite', 'we', 'at', 'none', 'someone', 'seemed', 'whether', 'amongst', 'every', 'some', 'without', 'two', 'few', 'were', 'after', 'much', 're', 'if', 'during', 'more', 'nothing', 'many', 'part', 'elsewhere', 'sometime', 'the', 'toward', 'whereby', 'will', 'take', 'first', 'whose', 'for', 'still', 'several', 'between', 'onto', 'hers', 'him', 'these', 'whereupon', 'either', 'only', 'anyway', 'hundred', 'before', 'fifteen', 'though', \"n't\", 'give', 'over', 'herein', 'was', 'within', 'no', 'cannot', 'such', 'throughout', 'eleven', 'whereas', 'by', 'anything', 'mostly', 'formerly', \"'ll\", 'am', 'becomes', 'besides', 'seems', 'doing', 'our', 'anyone', 'make', 'sometimes', 'six', 'each', 'his', 'back', 'nowhere', 'towards', 'than', 'upon', 'used', 'because', 'afterwards', 'becoming', 'us', \"'d\", 'really', 'hereupon', 'mine', 'last', 'i', 'thereupon', 'always', 'your', 'call', 'beside', 'whence', 'across', 'indeed', 'five', 'nor', 'former', 'noone', 'moreover', 'whom', 'with', 'see', 'own', 'beforehand', 'various', 'once', 'above', 'seeming', 'except', 'while', 'sixty', 'enough', 'twelve', 'whither', 'does', 'please', 'myself', 'about', 'therefore', 'nine', 'side', 'well', 'regarding', 'go', 'ten', 'meanwhile', 'around', 'via', 'whoever', 'somewhere', 'often', 'hence', 'its', 'front', 'or', 'thereafter', 'on', 'down', 'neither', 'being', 'other', 'which', 'same', 'also', 'bottom', 'behind', 'it', 'are', 'made', 'of', 'done', 'would', 'next', \"'m\", 'had', 'is', 'an', 'yet', 'can', 'into', 'although', \"'s\", 'both', 'show', 'their', 'everywhere', 'seem', 'became', 'has', 'serious', 'very', 'most', 'this', 'nevertheless', 'ourselves', 'everyone', 'those', 'when', \"'ve\", 'off', 'together', 'among', 'keep', 'latter', 'nobody', 'might', 'three', 'been', 'get', 'have', 'thereby', 'due', 'fifty', 'hereafter', 'even', 'less', 'just', 'now', 'herself', 'she', 'through', 'below', 'that', 'rather', 'thus', 'yours', 'name', 'whereafter', 'all', 'alone', 'he', 'my', 'then', 'become', 'ever', 'whenever', 'how', 'since', 'they', 'from', 'up', 'as', 'yourself', 'may', 'however', 'thence', 'whole', 'something', 'any', 'themselves', 'did', 'too', 'top', 'anywhere', 'move', 'namely', 'third', 'could', 'another', 'latterly', 'using', 'again', 'almost', 'anyhow', 'others', 'ours', 'wherever', 'else', 'out', 'perhaps', 'per', 'whatever', 'eight', 'unless', 'yourselves', 'already', 'further', \"'re\", 'say', 'there', 'but', 'wherein'}\n"
     ]
    }
   ],
   "source": [
    "print(nlp.Defaults.stop_words)"
   ]
  },
  {
   "cell_type": "code",
   "execution_count": 4,
   "metadata": {},
   "outputs": [
    {
     "data": {
      "text/plain": [
       "312"
      ]
     },
     "execution_count": 4,
     "metadata": {},
     "output_type": "execute_result"
    }
   ],
   "source": [
    "len(nlp.Defaults.stop_words)"
   ]
  },
  {
   "cell_type": "code",
   "execution_count": 6,
   "metadata": {},
   "outputs": [
    {
     "data": {
      "text/plain": [
       "True"
      ]
     },
     "execution_count": 6,
     "metadata": {},
     "output_type": "execute_result"
    }
   ],
   "source": [
    "nlp.vocab['is'].is_stop"
   ]
  },
  {
   "cell_type": "code",
   "execution_count": 7,
   "metadata": {},
   "outputs": [
    {
     "data": {
      "text/plain": [
       "False"
      ]
     },
     "execution_count": 7,
     "metadata": {},
     "output_type": "execute_result"
    }
   ],
   "source": [
    "nlp.vocab['mystery'].is_stop"
   ]
  },
  {
   "cell_type": "code",
   "execution_count": 10,
   "metadata": {},
   "outputs": [],
   "source": [
    "nlp.Defaults.stop_words.add('bte')"
   ]
  },
  {
   "cell_type": "code",
   "execution_count": 11,
   "metadata": {},
   "outputs": [
    {
     "data": {
      "text/plain": [
       "True"
      ]
     },
     "execution_count": 11,
     "metadata": {},
     "output_type": "execute_result"
    }
   ],
   "source": [
    "nlp.vocab['btw'].is_stop"
   ]
  },
  {
   "cell_type": "code",
   "execution_count": null,
   "metadata": {},
   "outputs": [],
   "source": [
    "nlp.vocab['bte'].is_stop"
   ]
  }
 ],
 "metadata": {
  "kernelspec": {
   "display_name": "Python 3",
   "language": "python",
   "name": "python3"
  },
  "language_info": {
   "codemirror_mode": {
    "name": "ipython",
    "version": 3
   },
   "file_extension": ".py",
   "mimetype": "text/x-python",
   "name": "python",
   "nbconvert_exporter": "python",
   "pygments_lexer": "ipython3",
   "version": "3.6.7"
  }
 },
 "nbformat": 4,
 "nbformat_minor": 2
}
