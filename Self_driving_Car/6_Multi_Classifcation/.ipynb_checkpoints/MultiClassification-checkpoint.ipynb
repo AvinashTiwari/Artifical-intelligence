{
 "cells": [
  {
   "cell_type": "code",
   "execution_count": 1,
   "metadata": {},
   "outputs": [
    {
     "name": "stderr",
     "output_type": "stream",
     "text": [
      "Using TensorFlow backend.\n"
     ]
    }
   ],
   "source": [
    "import numpy as np\n",
    "import matplotlib.pyplot as plt\n",
    "from sklearn import datasets\n",
    "import keras\n",
    "from keras.models import Sequential\n",
    "from keras.layers import Dense\n",
    "from keras.optimizers import Adam\n",
    "from keras.utils.np_utils import to_categorical"
   ]
  },
  {
   "cell_type": "code",
   "execution_count": 2,
   "metadata": {},
   "outputs": [],
   "source": [
    "n_pts = 500\n",
    "centers = [[-1,1],[-1,-1],[1,-1]]\n",
    "\n",
    "X,y = datasets.make_blobs(n_samples=n_pts, random_state=123, centers=centers, cluster_std=0.4)\n"
   ]
  },
  {
   "cell_type": "code",
   "execution_count": 3,
   "metadata": {},
   "outputs": [
    {
     "data": {
      "text/plain": [
       "<matplotlib.collections.PathCollection at 0xb164002588>"
      ]
     },
     "execution_count": 3,
     "metadata": {},
     "output_type": "execute_result"
    },
    {
     "data": {
      "image/png": "[encoded data removed]",
      "text/plain": [
       "<Figure size 432x288 with 1 Axes>"
      ]
     },
     "metadata": {
      "needs_background": "light"
     },
     "output_type": "display_data"
    }
   ],
   "source": [
    "plt.scatter(X[y==0,0] , X[y==0 , 1])\n",
    "plt.scatter(X[y==1,0] , X[y==1 , 1])\n",
    "plt.scatter(X[y==2,0] , X[y==2 , 1])"
   ]
  },
  {
   "cell_type": "code",
   "execution_count": 4,
   "metadata": {},
   "outputs": [
    {
     "name": "stdout",
     "output_type": "stream",
     "text": [
      "[2 2 2 0 1 0 0 2 2 2 1 1 0 0 1 2 2 2 2 0 2 0 1 2 1 2 0 0 2 1 1 0 0 2 1 0 2\n",
      " 0 2 0 0 2 1 0 2 0 1 2 0 2 0 1 1 0 1 2 2 0 1 2 0 2 0 2 1 0 1 1 1 1 2 1 1 1\n",
      " 1 1 2 1 1 2 0 1 2 2 1 0 2 1 1 2 0 0 2 1 2 2 0 1 2 0 2 1 1 2 2 0 0 1 2 1 1\n",
      " 2 0 0 1 0 2 2 2 2 1 2 1 2 0 2 2 0 1 0 0 0 0 2 0 1 0 2 2 0 2 2 2 2 1 2 0 0\n",
      " 0 2 1 0 2 0 0 1 1 0 2 0 0 1 1 2 2 0 2 1 2 2 2 1 1 1 2 0 0 1 0 1 2 2 1 1 2\n",
      " 1 1 0 0 2 2 1 0 0 0 0 2 2 0 2 1 1 2 0 0 2 2 0 1 0 2 0 2 2 0 0 2 1 2 0 2 0\n",
      " 1 1 2 0 0 0 2 1 2 2 2 0 0 1 0 2 0 2 0 2 1 1 1 2 2 1 1 1 0 1 2 1 0 1 2 2 0\n",
      " 0 0 1 1 1 2 1 1 2 1 1 2 0 0 0 2 0 2 0 0 0 2 1 1 0 2 1 0 0 1 1 1 1 2 1 1 0\n",
      " 0 0 2 1 1 1 0 0 0 0 0 0 0 1 2 1 2 1 0 2 0 0 1 2 0 1 2 2 2 2 2 0 1 2 0 2 1\n",
      " 0 0 1 2 0 2 0 1 1 0 2 1 0 1 1 1 0 2 0 2 0 1 1 0 1 1 1 2 2 0 2 0 2 2 1 1 0\n",
      " 2 2 2 1 1 1 2 2 0 1 2 1 2 0 1 2 2 2 0 1 1 1 2 0 2 0 0 2 1 1 1 2 0 1 0 0 1\n",
      " 1 2 0 0 1 2 1 1 0 2 0 1 0 2 0 0 0 1 1 1 2 0 1 1 0 2 1 2 1 1 1 1 0 0 0 0 0\n",
      " 2 2 1 1 0 1 0 2 2 2 2 0 0 1 1 0 0 1 1 1 2 2 1 1 1 1 0 0 2 0 1 0 1 0 1 1 2\n",
      " 2 0 2 2 1 0 1 2 0 2 0 2 1 0 2 0 1 1 0]\n",
      "[[0. 0. 1.]\n",
      " [0. 0. 1.]\n",
      " [0. 0. 1.]\n",
      " ...\n",
      " [0. 1. 0.]\n",
      " [0. 1. 0.]\n",
      " [1. 0. 0.]]\n"
     ]
    }
   ],
   "source": [
    "print(y)\n",
    "y_cat = to_categorical(y,3)\n",
    "print(y_cat)\n"
   ]
  },
  {
   "cell_type": "code",
   "execution_count": 6,
   "metadata": {},
   "outputs": [],
   "source": [
    "model = Sequential()\n",
    "model.add(Dense(units=3,input_shape =(2,) , activation='softmax'))\n",
    "model.compile(Adam(0.1), loss='categorical_crossentropy', metrics=['accuracy'])"
   ]
  },
  {
   "cell_type": "code",
   "execution_count": 9,
   "metadata": {},
   "outputs": [
    {
     "name": "stdout",
     "output_type": "stream",
     "text": [
      "Epoch 1/100\n",
      "500/500 [==============================] - 5s 10ms/step - loss: 0.7636 - acc: 0.7080\n",
      "Epoch 2/100\n",
      "500/500 [==============================] - 0s 94us/step - loss: 0.2178 - acc: 0.9900\n",
      "Epoch 3/100\n",
      "500/500 [==============================] - 0s 316us/step - loss: 0.1162 - acc: 0.9880\n",
      "Epoch 4/100\n",
      "500/500 [==============================] - 0s 128us/step - loss: 0.0843 - acc: 0.9900\n",
      "Epoch 5/100\n",
      "500/500 [==============================] - 0s 214us/step - loss: 0.0713 - acc: 0.9880\n",
      "Epoch 6/100\n",
      "500/500 [==============================] - 0s 132us/step - loss: 0.0638 - acc: 0.9880\n",
      "Epoch 7/100\n",
      "500/500 [==============================] - 0s 166us/step - loss: 0.0592 - acc: 0.9880\n",
      "Epoch 8/100\n",
      "500/500 [==============================] - 0s 304us/step - loss: 0.0557 - acc: 0.9880\n",
      "Epoch 9/100\n",
      "500/500 [==============================] - 0s 134us/step - loss: 0.0530 - acc: 0.9880\n",
      "Epoch 10/100\n",
      "500/500 [==============================] - 0s 116us/step - loss: 0.0508 - acc: 0.9880\n",
      "Epoch 11/100\n",
      "500/500 [==============================] - 0s 162us/step - loss: 0.0487 - acc: 0.9880\n",
      "Epoch 12/100\n",
      "500/500 [==============================] - 0s 114us/step - loss: 0.0472 - acc: 0.9880\n",
      "Epoch 13/100\n",
      "500/500 [==============================] - 0s 208us/step - loss: 0.0454 - acc: 0.9880\n",
      "Epoch 14/100\n",
      "500/500 [==============================] - 0s 98us/step - loss: 0.0444 - acc: 0.9880\n",
      "Epoch 15/100\n",
      "500/500 [==============================] - 0s 114us/step - loss: 0.0436 - acc: 0.9880\n",
      "Epoch 16/100\n",
      "500/500 [==============================] - 0s 238us/step - loss: 0.0418 - acc: 0.9880\n",
      "Epoch 17/100\n",
      "500/500 [==============================] - 0s 158us/step - loss: 0.0416 - acc: 0.9900\n",
      "Epoch 18/100\n",
      "500/500 [==============================] - 0s 128us/step - loss: 0.0405 - acc: 0.9880\n",
      "Epoch 19/100\n",
      "500/500 [==============================] - 0s 202us/step - loss: 0.0394 - acc: 0.9900\n",
      "Epoch 20/100\n",
      "500/500 [==============================] - 0s 120us/step - loss: 0.0390 - acc: 0.9880\n",
      "Epoch 21/100\n",
      "500/500 [==============================] - 0s 254us/step - loss: 0.0377 - acc: 0.9880\n",
      "Epoch 22/100\n",
      "500/500 [==============================] - 0s 284us/step - loss: 0.0376 - acc: 0.9900\n",
      "Epoch 23/100\n",
      "500/500 [==============================] - 0s 210us/step - loss: 0.0367 - acc: 0.9900\n",
      "Epoch 24/100\n",
      "500/500 [==============================] - 0s 363us/step - loss: 0.0361 - acc: 0.9880\n",
      "Epoch 25/100\n",
      "500/500 [==============================] - 0s 232us/step - loss: 0.0358 - acc: 0.9880\n",
      "Epoch 26/100\n",
      "500/500 [==============================] - 0s 196us/step - loss: 0.0349 - acc: 0.9900\n",
      "Epoch 27/100\n",
      "500/500 [==============================] - 0s 96us/step - loss: 0.0346 - acc: 0.9900\n",
      "Epoch 28/100\n",
      "500/500 [==============================] - 0s 112us/step - loss: 0.0344 - acc: 0.9900\n",
      "Epoch 29/100\n",
      "500/500 [==============================] - 0s 156us/step - loss: 0.0348 - acc: 0.9900\n",
      "Epoch 30/100\n",
      "500/500 [==============================] - 0s 192us/step - loss: 0.0336 - acc: 0.9880\n",
      "Epoch 31/100\n",
      "500/500 [==============================] - 0s 238us/step - loss: 0.0331 - acc: 0.9900\n",
      "Epoch 32/100\n",
      "500/500 [==============================] - 0s 274us/step - loss: 0.0328 - acc: 0.9900\n",
      "Epoch 33/100\n",
      "500/500 [==============================] - 0s 180us/step - loss: 0.0328 - acc: 0.9900\n",
      "Epoch 34/100\n",
      "500/500 [==============================] - 0s 180us/step - loss: 0.0322 - acc: 0.9900\n",
      "Epoch 35/100\n",
      "500/500 [==============================] - 0s 204us/step - loss: 0.0321 - acc: 0.9900\n",
      "Epoch 36/100\n",
      "500/500 [==============================] - 0s 937us/step - loss: 0.0332 - acc: 0.9880\n",
      "Epoch 37/100\n",
      " 50/500 [==>...........................] - ETA: 0s - loss: 0.0347 - acc: 0.9800"
     ]
    },
    {
     "name": "stderr",
     "output_type": "stream",
     "text": [
      "C:\\Users\\avinash.t\\Anaconda3\\envs\\IrisProject\\lib\\site-packages\\keras\\callbacks.py:122: UserWarning: Method on_batch_end() is slow compared to the batch update (0.123181). Check your callbacks.\n",
      "  % delta_t_median)\n"
     ]
    },
    {
     "name": "stdout",
     "output_type": "stream",
     "text": [
      "500/500 [==============================] - 0s 112us/step - loss: 0.0314 - acc: 0.9900\n",
      "Epoch 38/100\n",
      "500/500 [==============================] - 0s 110us/step - loss: 0.0314 - acc: 0.9900\n",
      "Epoch 39/100\n",
      "500/500 [==============================] - 0s 246us/step - loss: 0.0311 - acc: 0.9900\n",
      "Epoch 40/100\n",
      "500/500 [==============================] - 0s 204us/step - loss: 0.0310 - acc: 0.9900\n",
      "Epoch 41/100\n",
      "500/500 [==============================] - 0s 182us/step - loss: 0.0307 - acc: 0.9900\n",
      "Epoch 42/100\n",
      "500/500 [==============================] - 0s 108us/step - loss: 0.0305 - acc: 0.9900\n",
      "Epoch 43/100\n",
      "500/500 [==============================] - 0s 158us/step - loss: 0.0306 - acc: 0.9900\n",
      "Epoch 44/100\n",
      "500/500 [==============================] - 0s 200us/step - loss: 0.0301 - acc: 0.9900\n",
      "Epoch 45/100\n",
      "500/500 [==============================] - 0s 114us/step - loss: 0.0303 - acc: 0.9900\n",
      "Epoch 46/100\n",
      "500/500 [==============================] - 0s 110us/step - loss: 0.0298 - acc: 0.9900\n",
      "Epoch 47/100\n",
      "500/500 [==============================] - 0s 168us/step - loss: 0.0295 - acc: 0.9900\n",
      "Epoch 48/100\n",
      "500/500 [==============================] - 0s 132us/step - loss: 0.0294 - acc: 0.9900\n",
      "Epoch 49/100\n",
      "500/500 [==============================] - 0s 122us/step - loss: 0.0291 - acc: 0.9900\n",
      "Epoch 50/100\n",
      "500/500 [==============================] - 0s 158us/step - loss: 0.0290 - acc: 0.9900\n",
      "Epoch 51/100\n",
      "500/500 [==============================] - 0s 158us/step - loss: 0.0290 - acc: 0.9900\n",
      "Epoch 52/100\n",
      "500/500 [==============================] - 0s 216us/step - loss: 0.0290 - acc: 0.9900\n",
      "Epoch 53/100\n",
      "500/500 [==============================] - 0s 224us/step - loss: 0.0285 - acc: 0.9900\n",
      "Epoch 54/100\n",
      "500/500 [==============================] - 0s 156us/step - loss: 0.0284 - acc: 0.9900\n",
      "Epoch 55/100\n",
      "500/500 [==============================] - 0s 208us/step - loss: 0.0288 - acc: 0.9900\n",
      "Epoch 56/100\n",
      "500/500 [==============================] - 0s 172us/step - loss: 0.0287 - acc: 0.9900\n",
      "Epoch 57/100\n",
      "500/500 [==============================] - 0s 188us/step - loss: 0.0291 - acc: 0.9900\n",
      "Epoch 58/100\n",
      "500/500 [==============================] - 0s 120us/step - loss: 0.0293 - acc: 0.9900\n",
      "Epoch 59/100\n",
      "500/500 [==============================] - 0s 180us/step - loss: 0.0279 - acc: 0.9900\n",
      "Epoch 60/100\n",
      "500/500 [==============================] - 0s 238us/step - loss: 0.0283 - acc: 0.9900\n",
      "Epoch 61/100\n",
      "500/500 [==============================] - 0s 112us/step - loss: 0.0277 - acc: 0.9900\n",
      "Epoch 62/100\n",
      "500/500 [==============================] - 0s 214us/step - loss: 0.0275 - acc: 0.9900\n",
      "Epoch 63/100\n",
      "500/500 [==============================] - 0s 184us/step - loss: 0.0281 - acc: 0.9900\n",
      "Epoch 64/100\n",
      "500/500 [==============================] - 0s 164us/step - loss: 0.0281 - acc: 0.9900\n",
      "Epoch 65/100\n",
      "500/500 [==============================] - 0s 112us/step - loss: 0.0274 - acc: 0.9900\n",
      "Epoch 66/100\n",
      "500/500 [==============================] - 0s 194us/step - loss: 0.0281 - acc: 0.9900\n",
      "Epoch 67/100\n",
      "500/500 [==============================] - 0s 214us/step - loss: 0.0274 - acc: 0.9900\n",
      "Epoch 68/100\n",
      "500/500 [==============================] - 0s 152us/step - loss: 0.0279 - acc: 0.9900\n",
      "Epoch 69/100\n",
      "500/500 [==============================] - 0s 308us/step - loss: 0.0285 - acc: 0.9900\n",
      "Epoch 70/100\n",
      "500/500 [==============================] - 0s 256us/step - loss: 0.0277 - acc: 0.9920\n",
      "Epoch 71/100\n",
      "500/500 [==============================] - 0s 112us/step - loss: 0.0277 - acc: 0.9880\n",
      "Epoch 72/100\n",
      "500/500 [==============================] - 0s 148us/step - loss: 0.0273 - acc: 0.9900\n",
      "Epoch 73/100\n",
      "500/500 [==============================] - 0s 114us/step - loss: 0.0279 - acc: 0.9900\n",
      "Epoch 74/100\n",
      "500/500 [==============================] - 0s 106us/step - loss: 0.0269 - acc: 0.9900\n",
      "Epoch 75/100\n",
      "500/500 [==============================] - 0s 156us/step - loss: 0.0267 - acc: 0.9900\n",
      "Epoch 76/100\n",
      "500/500 [==============================] - 0s 172us/step - loss: 0.0269 - acc: 0.9900\n",
      "Epoch 77/100\n",
      "500/500 [==============================] - 0s 208us/step - loss: 0.0270 - acc: 0.9900\n",
      "Epoch 78/100\n",
      "500/500 [==============================] - 0s 186us/step - loss: 0.0265 - acc: 0.9900\n",
      "Epoch 79/100\n",
      "500/500 [==============================] - 0s 100us/step - loss: 0.0264 - acc: 0.9900\n",
      "Epoch 80/100\n",
      "500/500 [==============================] - 0s 244us/step - loss: 0.0266 - acc: 0.9900\n",
      "Epoch 81/100\n",
      "500/500 [==============================] - 0s 224us/step - loss: 0.0265 - acc: 0.9900\n",
      "Epoch 82/100\n",
      "500/500 [==============================] - 0s 140us/step - loss: 0.0264 - acc: 0.9900\n",
      "Epoch 83/100\n",
      "500/500 [==============================] - 0s 154us/step - loss: 0.0263 - acc: 0.9900\n",
      "Epoch 84/100\n",
      "500/500 [==============================] - 0s 128us/step - loss: 0.0265 - acc: 0.9900\n",
      "Epoch 85/100\n",
      "500/500 [==============================] - 0s 98us/step - loss: 0.0265 - acc: 0.9900\n",
      "Epoch 86/100\n",
      "500/500 [==============================] - 0s 116us/step - loss: 0.0264 - acc: 0.9900\n",
      "Epoch 87/100\n",
      "500/500 [==============================] - 0s 188us/step - loss: 0.0262 - acc: 0.9900\n",
      "Epoch 88/100\n",
      "500/500 [==============================] - 0s 112us/step - loss: 0.0261 - acc: 0.9900\n",
      "Epoch 89/100\n",
      "500/500 [==============================] - 0s 112us/step - loss: 0.0278 - acc: 0.9900\n",
      "Epoch 90/100\n",
      "500/500 [==============================] - 0s 150us/step - loss: 0.0259 - acc: 0.9900\n",
      "Epoch 91/100\n",
      "500/500 [==============================] - 0s 198us/step - loss: 0.0277 - acc: 0.9920\n",
      "Epoch 92/100\n",
      "500/500 [==============================] - 0s 168us/step - loss: 0.0260 - acc: 0.9900\n",
      "Epoch 93/100\n",
      "500/500 [==============================] - 0s 192us/step - loss: 0.0262 - acc: 0.9900\n",
      "Epoch 94/100\n",
      "500/500 [==============================] - 0s 106us/step - loss: 0.0255 - acc: 0.9900\n",
      "Epoch 95/100\n",
      "500/500 [==============================] - 0s 244us/step - loss: 0.0260 - acc: 0.9900\n",
      "Epoch 96/100\n",
      "500/500 [==============================] - 0s 182us/step - loss: 0.0256 - acc: 0.9900\n",
      "Epoch 97/100\n",
      "500/500 [==============================] - 0s 341us/step - loss: 0.0266 - acc: 0.9900\n",
      "Epoch 98/100\n",
      "500/500 [==============================] - 0s 196us/step - loss: 0.0258 - acc: 0.9900\n",
      "Epoch 99/100\n",
      "500/500 [==============================] - 0s 324us/step - loss: 0.0254 - acc: 0.9900\n",
      "Epoch 100/100\n",
      "500/500 [==============================] - 0s 108us/step - loss: 0.0264 - acc: 0.9900\n"
     ]
    },
    {
     "data": {
      "text/plain": [
       "<keras.callbacks.History at 0xb1640475c0>"
      ]
     },
     "execution_count": 9,
     "metadata": {},
     "output_type": "execute_result"
    }
   ],
   "source": [
    "model.fit(x=X, y=y_cat,verbose=1, batch_size =50, epochs=100)"
   ]
  },
  {
   "cell_type": "code",
   "execution_count": 10,
   "metadata": {},
   "outputs": [],
   "source": [
    "def plot_multiclass_decision_boundary(X, y, model):\n",
    "    x_span = np.linspace(min(X[:,0]) - 1, max(X[:,0]) + 1)\n",
    "    y_span = np.linspace(min(X[:,1]) - 1, max(X[:,1]) + 1)\n",
    "    xx, yy = np.meshgrid(x_span, y_span)\n",
    "    grid = np.c_[xx.ravel(), yy.ravel()]\n",
    "    pred_func = model.predict_classes(grid)\n",
    "    z = pred_func.reshape(xx.shape)\n",
    "    plt.contourf(xx, yy, z)"
   ]
  },
  {
   "cell_type": "code",
   "execution_count": 12,
   "metadata": {},
   "outputs": [
    {
     "data": {
      "text/plain": [
       "<matplotlib.collections.PathCollection at 0xb15e5d82b0>"
      ]
     },
     "execution_count": 12,
     "metadata": {},
     "output_type": "execute_result"
    },
    {
     "data": {
      "image/png": "[encoded data removed]",
      "text/plain": [
       "<Figure size 432x288 with 1 Axes>"
      ]
     },
     "metadata": {
      "needs_background": "light"
     },
     "output_type": "display_data"
    }
   ],
   "source": [
    "plot_multiclass_decision_boundary(X, y_cat, model)\n",
    "plt.scatter(X[y==0,0] , X[y==0 , 1])\n",
    "plt.scatter(X[y==1,0] , X[y==1 , 1])\n",
    "plt.scatter(X[y==2,0] , X[y==2 , 1])"
   ]
  },
  {
   "cell_type": "code",
   "execution_count": null,
   "metadata": {},
   "outputs": [],
   "source": [
    "plot_multiclass_decision_boundary(X, y_cat, model)\n",
    "plt.scatter(X[y==0,0] , X[y==0 , 1])\n",
    "plt.scatter(X[y==1,0] , X[y==1 , 1])\n",
    "plt.scatter(X[y==2,0] , X[y==2 , 1])\n",
    "x= 0.5\n",
    "y= 0.5\n",
    "point = np.array([[x,y]])\n",
    "prediction = model.predict_classes(point)\n",
    "plt.plot([x],[y], marker='o', markersize=10, color='red')\n",
    "print('Prediticon is ', prediction)"
   ]
  }
 ],
 "metadata": {
  "kernelspec": {
   "display_name": "Python 3",
   "language": "python",
   "name": "python3"
  },
  "language_info": {
   "codemirror_mode": {
    "name": "ipython",
    "version": 3
   },
   "file_extension": ".py",
   "mimetype": "text/x-python",
   "name": "python",
   "nbconvert_exporter": "python",
   "pygments_lexer": "ipython3",
   "version": "3.6.6"
  }
 },
 "nbformat": 4,
 "nbformat_minor": 2
}
