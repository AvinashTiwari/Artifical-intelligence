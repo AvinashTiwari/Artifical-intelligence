{
 "cells": [
  {
   "cell_type": "code",
   "execution_count": 16,
   "metadata": {},
   "outputs": [],
   "source": [
    "import numpy as np\n",
    "import matplotlib.pyplot as plt\n",
    "from sklearn import datasets\n",
    "import keras\n",
    "from keras.models import Sequential\n",
    "from keras.layers import Dense\n",
    "from keras.optimizers import Adam\n",
    "from keras.utils.np_utils import to_categorical"
   ]
  },
  {
   "cell_type": "code",
   "execution_count": 17,
   "metadata": {},
   "outputs": [],
   "source": [
    "n_pts = 500\n",
    "centers = [[-1,1],[-1,-1],[1,-1], [1,1], [0,0]]\n",
    "\n",
    "X,y = datasets.make_blobs(n_samples=n_pts, random_state=123, centers=centers, cluster_std=0.4)\n"
   ]
  },
  {
   "cell_type": "code",
   "execution_count": 18,
   "metadata": {},
   "outputs": [
    {
     "data": {
      "text/plain": [
       "<matplotlib.collections.PathCollection at 0xb166003c88>"
      ]
     },
     "execution_count": 18,
     "metadata": {},
     "output_type": "execute_result"
    },
    {
     "data": {
      "image/png": "[encoded data removed]",
      "text/plain": [
       "<Figure size 432x288 with 1 Axes>"
      ]
     },
     "metadata": {
      "needs_background": "light"
     },
     "output_type": "display_data"
    }
   ],
   "source": [
    "plt.scatter(X[y==0,0] , X[y==0 , 1])\n",
    "plt.scatter(X[y==1,0] , X[y==1 , 1])\n",
    "plt.scatter(X[y==2,0] , X[y==2 , 1])\n",
    "\n",
    "plt.scatter(X[y==3,0] , X[y==3 , 1])\n",
    "plt.scatter(X[y==4,0] , X[y==4 , 1])"
   ]
  },
  {
   "cell_type": "code",
   "execution_count": 19,
   "metadata": {},
   "outputs": [
    {
     "name": "stdout",
     "output_type": "stream",
     "text": [
      "[3 3 4 0 2 1 1 4 4 4 3 2 1 0 2 4 4 4 3 0 3 0 3 4 1 3 1 0 4 2 3 1 0 4 1 0 4\n",
      " 0 4 0 1 3 3 0 3 1 3 4 0 4 0 2 3 0 2 4 4 0 3 4 1 3 0 4 2 1 1 2 3 2 3 2 1 1\n",
      " 3 2 4 2 2 3 0 2 4 3 2 1 3 3 3 3 1 1 4 2 4 4 1 2 4 1 4 2 2 3 4 1 1 3 3 2 1\n",
      " 3 1 0 1 0 4 4 4 3 1 3 3 3 1 4 4 0 2 0 1 1 0 4 0 1 1 4 4 0 4 3 4 4 2 4 0 0\n",
      " 0 4 2 0 4 1 0 2 2 1 3 0 1 2 2 4 4 1 3 2 3 3 3 2 2 2 4 0 1 1 0 1 4 4 3 2 3\n",
      " 2 3 1 0 3 4 2 1 0 0 0 4 3 0 4 2 2 3 1 0 4 4 1 2 1 3 1 4 4 0 1 4 2 4 0 4 0\n",
      " 1 2 3 0 1 0 3 3 4 3 4 0 0 1 1 3 0 4 1 4 2 1 2 4 4 3 3 1 1 1 4 1 1 1 4 3 1\n",
      " 0 0 2 2 2 3 2 3 4 2 3 3 1 1 0 4 0 3 0 0 0 3 2 2 1 4 2 0 0 2 2 1 3 3 1 3 0\n",
      " 0 1 4 2 2 2 1 0 0 1 0 0 1 2 4 2 4 2 1 3 0 0 1 4 1 2 4 4 4 3 4 1 2 3 1 3 1\n",
      " 0 0 2 4 1 3 1 1 2 1 4 3 1 2 3 2 0 4 1 4 0 2 2 0 1 2 2 4 4 0 4 1 3 3 2 2 0\n",
      " 4 3 3 1 2 2 4 3 0 3 3 3 3 0 1 4 4 4 0 3 3 2 4 0 4 0 0 4 2 2 2 3 0 2 0 0 1\n",
      " 2 3 0 0 2 4 2 3 0 3 0 1 0 4 1 0 0 1 3 1 4 0 2 1 1 3 2 3 2 2 2 3 1 0 0 0 1\n",
      " 3 4 2 1 0 2 1 4 3 3 4 0 0 2 2 0 0 2 2 3 4 3 2 2 2 2 0 1 3 0 2 1 2 0 2 3 4\n",
      " 3 1 4 3 3 0 2 4 0 4 1 3 2 1 3 0 1 2 1]\n",
      "[[0. 0. 0. 1. 0.]\n",
      " [0. 0. 0. 1. 0.]\n",
      " [0. 0. 0. 0. 1.]\n",
      " ...\n",
      " [0. 1. 0. 0. 0.]\n",
      " [0. 0. 1. 0. 0.]\n",
      " [0. 1. 0. 0. 0.]]\n"
     ]
    }
   ],
   "source": [
    "print(y)\n",
    "y_cat = to_categorical(y,5)\n",
    "print(y_cat)\n"
   ]
  },
  {
   "cell_type": "code",
   "execution_count": 20,
   "metadata": {},
   "outputs": [],
   "source": [
    "model = Sequential()\n",
    "model.add(Dense(units=5,input_shape =(2,) , activation='softmax'))\n",
    "model.compile(Adam(0.1), loss='categorical_crossentropy', metrics=['accuracy'])"
   ]
  },
  {
   "cell_type": "code",
   "execution_count": 21,
   "metadata": {},
   "outputs": [
    {
     "name": "stdout",
     "output_type": "stream",
     "text": [
      "Epoch 1/100\n",
      "500/500 [==============================] - 1s 3ms/step - loss: 1.3745 - acc: 0.4560\n",
      "Epoch 2/100\n",
      "500/500 [==============================] - 0s 106us/step - loss: 0.6629 - acc: 0.8400\n",
      "Epoch 3/100\n",
      "500/500 [==============================] - 0s 172us/step - loss: 0.4340 - acc: 0.9020\n",
      "Epoch 4/100\n",
      "500/500 [==============================] - 0s 244us/step - loss: 0.3458 - acc: 0.9280\n",
      "Epoch 5/100\n",
      "500/500 [==============================] - 0s 120us/step - loss: 0.2971 - acc: 0.9420\n",
      "Epoch 6/100\n",
      "500/500 [==============================] - 0s 190us/step - loss: 0.2693 - acc: 0.9400\n",
      "Epoch 7/100\n",
      "500/500 [==============================] - 0s 226us/step - loss: 0.2518 - acc: 0.9520\n",
      "Epoch 8/100\n",
      "500/500 [==============================] - 0s 98us/step - loss: 0.2389 - acc: 0.9440\n",
      "Epoch 9/100\n",
      "500/500 [==============================] - 0s 208us/step - loss: 0.2263 - acc: 0.9460\n",
      "Epoch 10/100\n",
      "500/500 [==============================] - 0s 198us/step - loss: 0.2173 - acc: 0.9480\n",
      "Epoch 11/100\n",
      "500/500 [==============================] - 0s 120us/step - loss: 0.2102 - acc: 0.9480\n",
      "Epoch 12/100\n",
      "500/500 [==============================] - 0s 367us/step - loss: 0.2057 - acc: 0.9420\n",
      "Epoch 13/100\n",
      "500/500 [==============================] - 0s 290us/step - loss: 0.1997 - acc: 0.9480\n",
      "Epoch 14/100\n",
      "500/500 [==============================] - 0s 106us/step - loss: 0.1949 - acc: 0.9480\n",
      "Epoch 15/100\n",
      "500/500 [==============================] - 0s 108us/step - loss: 0.1903 - acc: 0.9500\n",
      "Epoch 16/100\n",
      "500/500 [==============================] - 0s 300us/step - loss: 0.1869 - acc: 0.9500\n",
      "Epoch 17/100\n",
      "500/500 [==============================] - 0s 140us/step - loss: 0.1836 - acc: 0.9480\n",
      "Epoch 18/100\n",
      "500/500 [==============================] - 0s 355us/step - loss: 0.1811 - acc: 0.9500\n",
      "Epoch 19/100\n",
      "500/500 [==============================] - 0s 266us/step - loss: 0.1800 - acc: 0.9500\n",
      "Epoch 20/100\n",
      "500/500 [==============================] - 0s 272us/step - loss: 0.1793 - acc: 0.9440\n",
      "Epoch 21/100\n",
      "500/500 [==============================] - 0s 355us/step - loss: 0.1743 - acc: 0.9480\n",
      "Epoch 22/100\n",
      "500/500 [==============================] - 0s 186us/step - loss: 0.1733 - acc: 0.9500\n",
      "Epoch 23/100\n",
      "500/500 [==============================] - 0s 200us/step - loss: 0.1712 - acc: 0.9480\n",
      "Epoch 24/100\n",
      "500/500 [==============================] - 0s 98us/step - loss: 0.1702 - acc: 0.9520\n",
      "Epoch 25/100\n",
      "500/500 [==============================] - 0s 228us/step - loss: 0.1689 - acc: 0.9480\n",
      "Epoch 26/100\n",
      "500/500 [==============================] - 0s 100us/step - loss: 0.1676 - acc: 0.9480\n",
      "Epoch 27/100\n",
      "500/500 [==============================] - 0s 557us/step - loss: 0.1666 - acc: 0.9440\n",
      "Epoch 28/100\n",
      "500/500 [==============================] - 0s 391us/step - loss: 0.1648 - acc: 0.9480\n",
      "Epoch 29/100\n",
      "500/500 [==============================] - 0s 90us/step - loss: 0.1643 - acc: 0.9480\n",
      "Epoch 30/100\n",
      "500/500 [==============================] - 0s 266us/step - loss: 0.1634 - acc: 0.9480\n",
      "Epoch 31/100\n",
      "500/500 [==============================] - 0s 122us/step - loss: 0.1657 - acc: 0.9420\n",
      "Epoch 32/100\n",
      "500/500 [==============================] - 0s 212us/step - loss: 0.1627 - acc: 0.9460\n",
      "Epoch 33/100\n",
      "500/500 [==============================] - 0s 338us/step - loss: 0.1615 - acc: 0.9460\n",
      "Epoch 34/100\n",
      "350/500 [====================>.........] - ETA: 0s - loss: 0.1730 - acc: 0.945"
     ]
    },
    {
     "name": "stderr",
     "output_type": "stream",
     "text": [
      "C:\\Users\\avinash.t\\Anaconda3\\envs\\IrisProject\\lib\\site-packages\\keras\\callbacks.py:122: UserWarning: Method on_batch_end() is slow compared to the batch update (0.116169). Check your callbacks.\n",
      "  % delta_t_median)\n"
     ]
    },
    {
     "name": "stdout",
     "output_type": "stream",
     "text": [
      "500/500 [==============================] - 0s 353us/step - loss: 0.1622 - acc: 0.9500\n",
      "Epoch 35/100\n",
      "500/500 [==============================] - 0s 96us/step - loss: 0.1600 - acc: 0.9460\n",
      "Epoch 36/100\n",
      "500/500 [==============================] - 0s 192us/step - loss: 0.1595 - acc: 0.9500\n",
      "Epoch 37/100\n",
      "500/500 [==============================] - 0s 242us/step - loss: 0.1597 - acc: 0.9500\n",
      "Epoch 38/100\n",
      "500/500 [==============================] - 0s 222us/step - loss: 0.1600 - acc: 0.9500\n",
      "Epoch 39/100\n",
      "500/500 [==============================] - 0s 479us/step - loss: 0.1579 - acc: 0.9460\n",
      "Epoch 40/100\n",
      "500/500 [==============================] - 0s 260us/step - loss: 0.1580 - acc: 0.9500\n",
      "Epoch 41/100\n",
      "500/500 [==============================] - 0s 98us/step - loss: 0.1582 - acc: 0.9460\n",
      "Epoch 42/100\n",
      "500/500 [==============================] - 0s 128us/step - loss: 0.1567 - acc: 0.9500\n",
      "Epoch 43/100\n",
      "500/500 [==============================] - 0s 409us/step - loss: 0.1561 - acc: 0.9520\n",
      "Epoch 44/100\n",
      "500/500 [==============================] - 0s 98us/step - loss: 0.1557 - acc: 0.9520\n",
      "Epoch 45/100\n",
      "500/500 [==============================] - 0s 461us/step - loss: 0.1576 - acc: 0.9480\n",
      "Epoch 46/100\n",
      "500/500 [==============================] - 0s 104us/step - loss: 0.1567 - acc: 0.9500\n",
      "Epoch 47/100\n",
      "500/500 [==============================] - 0s 252us/step - loss: 0.1561 - acc: 0.9520\n",
      "Epoch 48/100\n",
      " 50/500 [==>...........................] - ETA: 0s - loss: 0.1726 - acc: 0.9400"
     ]
    },
    {
     "name": "stderr",
     "output_type": "stream",
     "text": [
      "C:\\Users\\avinash.t\\Anaconda3\\envs\\IrisProject\\lib\\site-packages\\keras\\callbacks.py:122: UserWarning: Method on_batch_end() is slow compared to the batch update (0.174255). Check your callbacks.\n",
      "  % delta_t_median)\n"
     ]
    },
    {
     "name": "stdout",
     "output_type": "stream",
     "text": [
      "500/500 [==============================] - 0s 363us/step - loss: 0.1568 - acc: 0.9460\n",
      "Epoch 49/100\n",
      "500/500 [==============================] - 0s 519us/step - loss: 0.1550 - acc: 0.9500\n",
      "Epoch 50/100\n",
      "500/500 [==============================] - 0s 347us/step - loss: 0.1569 - acc: 0.9460\n",
      "Epoch 51/100\n",
      "500/500 [==============================] - 0s 216us/step - loss: 0.1551 - acc: 0.9520\n",
      "Epoch 52/100\n",
      "500/500 [==============================] - 0s 278us/step - loss: 0.1556 - acc: 0.9520\n",
      "Epoch 53/100\n",
      "500/500 [==============================] - 0s 190us/step - loss: 0.1531 - acc: 0.9500\n",
      "Epoch 54/100\n",
      "500/500 [==============================] - 0s 114us/step - loss: 0.1541 - acc: 0.9460\n",
      "Epoch 55/100\n",
      "500/500 [==============================] - 0s 110us/step - loss: 0.1549 - acc: 0.9480\n",
      "Epoch 56/100\n",
      "500/500 [==============================] - 0s 172us/step - loss: 0.1549 - acc: 0.9520\n",
      "Epoch 57/100\n",
      "500/500 [==============================] - 0s 186us/step - loss: 0.1535 - acc: 0.9540\n",
      "Epoch 58/100\n",
      "500/500 [==============================] - 0s 184us/step - loss: 0.1535 - acc: 0.9520\n",
      "Epoch 59/100\n",
      "500/500 [==============================] - 0s 232us/step - loss: 0.1534 - acc: 0.9460\n",
      "Epoch 60/100\n",
      "500/500 [==============================] - 0s 130us/step - loss: 0.1528 - acc: 0.9480\n",
      "Epoch 61/100\n",
      "500/500 [==============================] - 0s 106us/step - loss: 0.1534 - acc: 0.9480\n",
      "Epoch 62/100\n",
      "500/500 [==============================] - 0s 218us/step - loss: 0.1535 - acc: 0.9540\n",
      "Epoch 63/100\n",
      "500/500 [==============================] - 0s 262us/step - loss: 0.1534 - acc: 0.9540\n",
      "Epoch 64/100\n",
      "500/500 [==============================] - 0s 204us/step - loss: 0.1525 - acc: 0.9500\n",
      "Epoch 65/100\n",
      "500/500 [==============================] - 0s 172us/step - loss: 0.1523 - acc: 0.9480\n",
      "Epoch 66/100\n",
      "500/500 [==============================] - 0s 172us/step - loss: 0.1542 - acc: 0.9500\n",
      "Epoch 67/100\n",
      "500/500 [==============================] - 0s 154us/step - loss: 0.1567 - acc: 0.9500\n",
      "Epoch 68/100\n",
      "500/500 [==============================] - 0s 334us/step - loss: 0.1542 - acc: 0.9500\n",
      "Epoch 69/100\n",
      "500/500 [==============================] - 0s 218us/step - loss: 0.1528 - acc: 0.9500\n",
      "Epoch 70/100\n",
      "500/500 [==============================] - 0s 495us/step - loss: 0.1526 - acc: 0.9480\n",
      "Epoch 71/100\n",
      "500/500 [==============================] - 0s 196us/step - loss: 0.1531 - acc: 0.9480\n",
      "Epoch 72/100\n",
      "500/500 [==============================] - 0s 280us/step - loss: 0.1529 - acc: 0.9500\n",
      "Epoch 73/100\n",
      "500/500 [==============================] - 0s 375us/step - loss: 0.1530 - acc: 0.9500\n",
      "Epoch 74/100\n",
      "500/500 [==============================] - 0s 198us/step - loss: 0.1520 - acc: 0.9500\n",
      "Epoch 75/100\n",
      "500/500 [==============================] - 0s 212us/step - loss: 0.1515 - acc: 0.9540\n",
      "Epoch 76/100\n",
      "500/500 [==============================] - 0s 168us/step - loss: 0.1518 - acc: 0.9520\n",
      "Epoch 77/100\n",
      "500/500 [==============================] - 0s 186us/step - loss: 0.1513 - acc: 0.9520\n",
      "Epoch 78/100\n",
      "500/500 [==============================] - 0s 188us/step - loss: 0.1516 - acc: 0.9520\n",
      "Epoch 79/100\n",
      "500/500 [==============================] - 0s 260us/step - loss: 0.1533 - acc: 0.9500\n",
      "Epoch 80/100\n",
      "500/500 [==============================] - 0s 226us/step - loss: 0.1523 - acc: 0.9520\n",
      "Epoch 81/100\n",
      "500/500 [==============================] - 0s 176us/step - loss: 0.1533 - acc: 0.9500\n",
      "Epoch 82/100\n",
      "500/500 [==============================] - 0s 106us/step - loss: 0.1519 - acc: 0.9500\n",
      "Epoch 83/100\n",
      "500/500 [==============================] - 0s 232us/step - loss: 0.1516 - acc: 0.9480\n",
      "Epoch 84/100\n",
      "500/500 [==============================] - 0s 200us/step - loss: 0.1518 - acc: 0.9520\n",
      "Epoch 85/100\n",
      "500/500 [==============================] - 0s 212us/step - loss: 0.1516 - acc: 0.9520\n",
      "Epoch 86/100\n",
      "500/500 [==============================] - 0s 288us/step - loss: 0.1528 - acc: 0.9520\n",
      "Epoch 87/100\n",
      "500/500 [==============================] - 0s 126us/step - loss: 0.1518 - acc: 0.9500\n",
      "Epoch 88/100\n",
      "500/500 [==============================] - 0s 379us/step - loss: 0.1518 - acc: 0.9520\n",
      "Epoch 89/100\n",
      "500/500 [==============================] - 0s 178us/step - loss: 0.1508 - acc: 0.9520\n",
      "Epoch 90/100\n",
      "500/500 [==============================] - 0s 212us/step - loss: 0.1514 - acc: 0.9520\n",
      "Epoch 91/100\n",
      "500/500 [==============================] - 0s 114us/step - loss: 0.1513 - acc: 0.9480\n",
      "Epoch 92/100\n",
      "500/500 [==============================] - 0s 120us/step - loss: 0.1540 - acc: 0.9480\n",
      "Epoch 93/100\n",
      "500/500 [==============================] - 0s 162us/step - loss: 0.1555 - acc: 0.9500\n",
      "Epoch 94/100\n",
      "500/500 [==============================] - 0s 471us/step - loss: 0.1510 - acc: 0.9500\n",
      "Epoch 95/100\n",
      "500/500 [==============================] - 0s 194us/step - loss: 0.1525 - acc: 0.9520\n",
      "Epoch 96/100\n",
      "500/500 [==============================] - 0s 258us/step - loss: 0.1515 - acc: 0.9500\n",
      "Epoch 97/100\n",
      "500/500 [==============================] - 0s 178us/step - loss: 0.1523 - acc: 0.9520\n",
      "Epoch 98/100\n",
      "500/500 [==============================] - 0s 369us/step - loss: 0.1525 - acc: 0.9540\n",
      "Epoch 99/100\n",
      "500/500 [==============================] - 0s 116us/step - loss: 0.1517 - acc: 0.9480\n",
      "Epoch 100/100\n",
      "500/500 [==============================] - 0s 192us/step - loss: 0.1517 - acc: 0.9500\n"
     ]
    },
    {
     "data": {
      "text/plain": [
       "<keras.callbacks.History at 0xb1650065c0>"
      ]
     },
     "execution_count": 21,
     "metadata": {},
     "output_type": "execute_result"
    }
   ],
   "source": [
    "model.fit(x=X, y=y_cat,verbose=1, batch_size =50, epochs=100)"
   ]
  },
  {
   "cell_type": "code",
   "execution_count": 22,
   "metadata": {},
   "outputs": [],
   "source": [
    "def plot_multiclass_decision_boundary(X, y, model):\n",
    "    x_span = np.linspace(min(X[:,0]) - 1, max(X[:,0]) + 1)\n",
    "    y_span = np.linspace(min(X[:,1]) - 1, max(X[:,1]) + 1)\n",
    "    xx, yy = np.meshgrid(x_span, y_span)\n",
    "    grid = np.c_[xx.ravel(), yy.ravel()]\n",
    "    pred_func = model.predict_classes(grid)\n",
    "    z = pred_func.reshape(xx.shape)\n",
    "    plt.contourf(xx, yy, z)"
   ]
  },
  {
   "cell_type": "code",
   "execution_count": 23,
   "metadata": {},
   "outputs": [
    {
     "data": {
      "text/plain": [
       "<matplotlib.collections.PathCollection at 0xb1663f3400>"
      ]
     },
     "execution_count": 23,
     "metadata": {},
     "output_type": "execute_result"
    },
    {
     "data": {
      "image/png": "[encoded data removed]",
      "text/plain": [
       "<Figure size 432x288 with 1 Axes>"
      ]
     },
     "metadata": {
      "needs_background": "light"
     },
     "output_type": "display_data"
    }
   ],
   "source": [
    "plot_multiclass_decision_boundary(X, y_cat, model)\n",
    "plt.scatter(X[y==0,0] , X[y==0 , 1])\n",
    "plt.scatter(X[y==1,0] , X[y==1 , 1])\n",
    "plt.scatter(X[y==2,0] , X[y==2 , 1])\n",
    "plt.scatter(X[y==3,0] , X[y==3 , 1])\n",
    "plt.scatter(X[y==4,0] , X[y==4 , 1])"
   ]
  },
  {
   "cell_type": "code",
   "execution_count": 24,
   "metadata": {},
   "outputs": [
    {
     "name": "stdout",
     "output_type": "stream",
     "text": [
      "Prediticon is  [3]\n"
     ]
    },
    {
     "data": {
      "image/png": "[encoded data removed]",
      "text/plain": [
       "<Figure size 432x288 with 1 Axes>"
      ]
     },
     "metadata": {
      "needs_background": "light"
     },
     "output_type": "display_data"
    }
   ],
   "source": [
    "plot_multiclass_decision_boundary(X, y_cat, model)\n",
    "plt.scatter(X[y==0,0] , X[y==0 , 1])\n",
    "plt.scatter(X[y==1,0] , X[y==1 , 1])\n",
    "plt.scatter(X[y==2,0] , X[y==2 , 1])\n",
    "plt.scatter(X[y==3,0] , X[y==3 , 1])\n",
    "plt.scatter(X[y==4,0] , X[y==4 , 1])\n",
    "x= 0.5\n",
    "y= 0.5\n",
    "point = np.array([[x,y]])\n",
    "prediction = model.predict_classes(point)\n",
    "plt.plot([x],[y], marker='o', markersize=10, color='red')\n",
    "print('Prediticon is ', prediction)"
   ]
  },
  {
   "cell_type": "code",
   "execution_count": null,
   "metadata": {},
   "outputs": [],
   "source": []
  }
 ],
 "metadata": {
  "kernelspec": {
   "display_name": "Python 3",
   "language": "python",
   "name": "python3"
  },
  "language_info": {
   "codemirror_mode": {
    "name": "ipython",
    "version": 3
   },
   "file_extension": ".py",
   "mimetype": "text/x-python",
   "name": "python",
   "nbconvert_exporter": "python",
   "pygments_lexer": "ipython3",
   "version": "3.6.6"
  }
 },
 "nbformat": 4,
 "nbformat_minor": 2
}
