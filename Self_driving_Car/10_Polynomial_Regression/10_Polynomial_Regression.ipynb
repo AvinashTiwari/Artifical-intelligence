{
 "cells": [
  {
   "cell_type": "code",
   "execution_count": 1,
   "metadata": {},
   "outputs": [
    {
     "name": "stderr",
     "output_type": "stream",
     "text": [
      "Using TensorFlow backend.\n"
     ]
    }
   ],
   "source": [
    "import numpy as np\n",
    "import matplotlib.pyplot as plt\n",
    "from keras.models import Sequential\n",
    "from keras.layers import Dense\n",
    "from keras.optimizers import Adam"
   ]
  },
  {
   "cell_type": "code",
   "execution_count": 7,
   "metadata": {},
   "outputs": [],
   "source": [
    "np.random.seed(0)\n",
    "points = 500\n",
    "X = np.linspace(-3, 3, points)\n",
    "y = np.sin(X) + np.random.uniform(-0.5, 0.5, points)"
   ]
  },
  {
   "cell_type": "code",
   "execution_count": 4,
   "metadata": {},
   "outputs": [],
   "source": [
    "model = Sequential()\n",
    "model.add(Dense(50, activation='sigmoid', input_dim=1))\n",
    "model.add(Dense(30, activation='sigmoid'))\n",
    "model.add(Dense(1))"
   ]
  },
  {
   "cell_type": "code",
   "execution_count": 5,
   "metadata": {},
   "outputs": [
    {
     "name": "stdout",
     "output_type": "stream",
     "text": [
      "Epoch 1/50\n",
      "500/500 [==============================] - 2s 3ms/step - loss: 0.4563\n",
      "Epoch 2/50\n",
      "500/500 [==============================] - 0s 202us/step - loss: 0.2401\n",
      "Epoch 3/50\n",
      "500/500 [==============================] - 0s 220us/step - loss: 0.2623\n",
      "Epoch 4/50\n",
      "500/500 [==============================] - 0s 238us/step - loss: 0.2258\n",
      "Epoch 5/50\n",
      "500/500 [==============================] - 0s 202us/step - loss: 0.2283\n",
      "Epoch 6/50\n",
      "500/500 [==============================] - 0s 194us/step - loss: 0.2252\n",
      "Epoch 7/50\n",
      "500/500 [==============================] - 0s 202us/step - loss: 0.2179\n",
      "Epoch 8/50\n",
      "500/500 [==============================] - 0s 260us/step - loss: 0.2204\n",
      "Epoch 9/50\n",
      "500/500 [==============================] - 0s 232us/step - loss: 0.2048\n",
      "Epoch 10/50\n",
      "500/500 [==============================] - 0s 200us/step - loss: 0.1914\n",
      "Epoch 11/50\n",
      "500/500 [==============================] - 0s 280us/step - loss: 0.1915\n",
      "Epoch 12/50\n",
      "500/500 [==============================] - 0s 212us/step - loss: 0.1783\n",
      "Epoch 13/50\n",
      "500/500 [==============================] - 0s 210us/step - loss: 0.1689\n",
      "Epoch 14/50\n",
      "500/500 [==============================] - 0s 256us/step - loss: 0.1583\n",
      "Epoch 15/50\n",
      "500/500 [==============================] - 0s 308us/step - loss: 0.1559\n",
      "Epoch 16/50\n",
      "500/500 [==============================] - 0s 226us/step - loss: 0.1451\n",
      "Epoch 17/50\n",
      "500/500 [==============================] - 0s 222us/step - loss: 0.1388\n",
      "Epoch 18/50\n",
      "500/500 [==============================] - 0s 206us/step - loss: 0.1313\n",
      "Epoch 19/50\n",
      "500/500 [==============================] - 0s 162us/step - loss: 0.1224\n",
      "Epoch 20/50\n",
      "500/500 [==============================] - 0s 236us/step - loss: 0.1272\n",
      "Epoch 21/50\n",
      "500/500 [==============================] - 0s 224us/step - loss: 0.1181\n",
      "Epoch 22/50\n",
      "500/500 [==============================] - 0s 214us/step - loss: 0.1170\n",
      "Epoch 23/50\n",
      "500/500 [==============================] - 0s 264us/step - loss: 0.1185\n",
      "Epoch 24/50\n",
      "500/500 [==============================] - 0s 246us/step - loss: 0.1176\n",
      "Epoch 25/50\n",
      "500/500 [==============================] - 0s 232us/step - loss: 0.1114\n",
      "Epoch 26/50\n",
      "500/500 [==============================] - 0s 242us/step - loss: 0.1081\n",
      "Epoch 27/50\n",
      "500/500 [==============================] - 0s 228us/step - loss: 0.1111\n",
      "Epoch 28/50\n",
      "500/500 [==============================] - 0s 204us/step - loss: 0.1244\n",
      "Epoch 29/50\n",
      "500/500 [==============================] - 0s 214us/step - loss: 0.1239\n",
      "Epoch 30/50\n",
      "500/500 [==============================] - 0s 218us/step - loss: 0.1129\n",
      "Epoch 31/50\n",
      "500/500 [==============================] - 0s 222us/step - loss: 0.1079\n",
      "Epoch 32/50\n",
      "500/500 [==============================] - 0s 294us/step - loss: 0.1144\n",
      "Epoch 33/50\n",
      "500/500 [==============================] - 0s 214us/step - loss: 0.1080\n",
      "Epoch 34/50\n",
      "500/500 [==============================] - 0s 288us/step - loss: 0.1112\n",
      "Epoch 35/50\n",
      "500/500 [==============================] - 0s 204us/step - loss: 0.1047\n",
      "Epoch 36/50\n",
      "500/500 [==============================] - 0s 226us/step - loss: 0.1088\n",
      "Epoch 37/50\n",
      "500/500 [==============================] - 0s 218us/step - loss: 0.1069\n",
      "Epoch 38/50\n",
      "500/500 [==============================] - 0s 272us/step - loss: 0.1057\n",
      "Epoch 39/50\n",
      "500/500 [==============================] - 0s 250us/step - loss: 0.1052\n",
      "Epoch 40/50\n",
      "500/500 [==============================] - 0s 208us/step - loss: 0.1048\n",
      "Epoch 41/50\n",
      "500/500 [==============================] - 0s 228us/step - loss: 0.1152\n",
      "Epoch 42/50\n",
      "500/500 [==============================] - 0s 196us/step - loss: 0.1032\n",
      "Epoch 43/50\n",
      "500/500 [==============================] - 0s 238us/step - loss: 0.1034\n",
      "Epoch 44/50\n",
      "500/500 [==============================] - 0s 218us/step - loss: 0.1060\n",
      "Epoch 45/50\n",
      "500/500 [==============================] - 0s 200us/step - loss: 0.1021\n",
      "Epoch 46/50\n",
      "500/500 [==============================] - 0s 246us/step - loss: 0.1019\n",
      "Epoch 47/50\n",
      "500/500 [==============================] - 0s 214us/step - loss: 0.1124\n",
      "Epoch 48/50\n",
      "500/500 [==============================] - 0s 272us/step - loss: 0.1088\n",
      "Epoch 49/50\n",
      "500/500 [==============================] - 0s 274us/step - loss: 0.1042\n",
      "Epoch 50/50\n",
      "500/500 [==============================] - 0s 262us/step - loss: 0.1079\n"
     ]
    },
    {
     "data": {
      "text/plain": [
       "<keras.callbacks.History at 0xb142da82b0>"
      ]
     },
     "execution_count": 5,
     "metadata": {},
     "output_type": "execute_result"
    }
   ],
   "source": [
    "adam = Adam(lr=0.01)\n",
    "model.compile(loss='mse', optimizer=adam)\n",
    "model.fit(X, y, epochs=50)"
   ]
  },
  {
   "cell_type": "code",
   "execution_count": 6,
   "metadata": {},
   "outputs": [
    {
     "data": {
      "image/png": "[encoded data removed]",
      "text/plain": [
       "<Figure size 432x288 with 1 Axes>"
      ]
     },
     "metadata": {
      "needs_background": "light"
     },
     "output_type": "display_data"
    }
   ],
   "source": [
    "predictions = model.predict(X)\n",
    "plt.scatter(X, y)\n",
    "plt.plot(X, predictions, 'ro')\n",
    "plt.show()"
   ]
  },
  {
   "cell_type": "code",
   "execution_count": null,
   "metadata": {},
   "outputs": [],
   "source": []
  }
 ],
 "metadata": {
  "kernelspec": {
   "display_name": "Python 3",
   "language": "python",
   "name": "python3"
  },
  "language_info": {
   "codemirror_mode": {
    "name": "ipython",
    "version": 3
   },
   "file_extension": ".py",
   "mimetype": "text/x-python",
   "name": "python",
   "nbconvert_exporter": "python",
   "pygments_lexer": "ipython3",
   "version": "3.6.7"
  }
 },
 "nbformat": 4,
 "nbformat_minor": 2
}
