{
 "cells": [
  {
   "cell_type": "code",
   "execution_count": null,
   "metadata": {},
   "outputs": [
    {
     "name": "stdout",
     "output_type": "stream",
     "text": [
      "IPhyton 7.1.1\n",
      "numpy 1.15.3\n",
      "scipy 1.1.0\n",
      "matplotlib 2.2.3\n",
      "sklearn 0.20.0\n",
      "seaborn 0.9.0\n",
      "pandas 0.23.4\n"
     ]
    }
   ],
   "source": [
    "\n",
    "\n",
    "from __future__ import print_function\n",
    "import IPython\n",
    "print ('IPhyton', IPython.__version__)\n",
    "\n",
    "import numpy\n",
    "print ('numpy', numpy.__version__)\n",
    "\n",
    "import scipy\n",
    "print ('scipy', scipy.__version__)\n",
    "\n",
    "import matplotlib\n",
    "print ('matplotlib', matplotlib.__version__)\n",
    "\n",
    "import sklearn\n",
    "print ('sklearn', sklearn.__version__)\n",
    "\n",
    "import seaborn\n",
    "print ('seaborn', seaborn.__version__)\n",
    "\n",
    "import pandas\n",
    "print ('pandas', pandas.__version__)\n",
    "\n",
    "\n",
    "\n",
    "\n",
    "\n"
   ]
  },
  {
   "cell_type": "code",
   "execution_count": null,
   "metadata": {},
   "outputs": [],
   "source": [
    "import keras\n",
    "print ('keras', keras.__version__)"
   ]
  },
  {
   "cell_type": "code",
   "execution_count": null,
   "metadata": {},
   "outputs": [],
   "source": [
    "import tensorflow\n",
    "print ('tensorflow', tensorflow.__version__)"
   ]
  }
 ],
 "metadata": {
  "kernelspec": {
   "display_name": "Python 3",
   "language": "python",
   "name": "python3"
  },
  "language_info": {
   "codemirror_mode": {
    "name": "ipython",
    "version": 3
   },
   "file_extension": ".py",
   "mimetype": "text/x-python",
   "name": "python",
   "nbconvert_exporter": "python",
   "pygments_lexer": "ipython3",
   "version": "3.6.7"
  }
 },
 "nbformat": 4,
 "nbformat_minor": 2
}
