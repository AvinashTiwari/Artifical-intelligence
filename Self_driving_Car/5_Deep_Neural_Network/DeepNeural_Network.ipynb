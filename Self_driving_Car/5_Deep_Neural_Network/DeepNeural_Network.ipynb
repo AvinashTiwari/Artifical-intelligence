{
 "cells": [
  {
   "cell_type": "code",
   "execution_count": 1,
   "metadata": {},
   "outputs": [
    {
     "name": "stderr",
     "output_type": "stream",
     "text": [
      "Using TensorFlow backend.\n"
     ]
    }
   ],
   "source": [
    "import numpy as np\n",
    "import matplotlib.pyplot as plt\n",
    "from sklearn import datasets\n",
    "import keras\n",
    "from keras.models import Sequential\n",
    "from keras.layers import Dense\n",
    "from keras.optimizers import Adam"
   ]
  },
  {
   "cell_type": "code",
   "execution_count": 11,
   "metadata": {},
   "outputs": [
    {
     "data": {
      "text/plain": [
       "<matplotlib.collections.PathCollection at 0x56c3245898>"
      ]
     },
     "execution_count": 11,
     "metadata": {},
     "output_type": "execute_result"
    },
    {
     "data": {
      "image/png": "[encoded data removed]",
      "text/plain": [
       "<Figure size 432x288 with 1 Axes>"
      ]
     },
     "metadata": {
      "needs_background": "light"
     },
     "output_type": "display_data"
    }
   ],
   "source": [
    "np.random.seed(0)\n",
    "n_pts = 500\n",
    "X, y = datasets.make_circles(n_samples=n_pts, random_state = 123, noise=0.1, factor=0.2)\n",
    " \n",
    "plt.scatter(X[y==0, 0], X[y==0, 1])\n",
    "plt.scatter(X[y==1, 0], X[y==1, 1])\n"
   ]
  },
  {
   "cell_type": "code",
   "execution_count": 12,
   "metadata": {},
   "outputs": [
    {
     "name": "stdout",
     "output_type": "stream",
     "text": [
      "Epoch 1/100\n",
      "500/500 [==============================] - 2s 4ms/step - loss: 0.6960 - acc: 0.5100\n",
      "Epoch 2/100\n",
      "500/500 [==============================] - 0s 360us/step - loss: 0.6937 - acc: 0.6200\n",
      "Epoch 3/100\n",
      "500/500 [==============================] - 0s 381us/step - loss: 0.6926 - acc: 0.5140\n",
      "Epoch 4/100\n",
      "500/500 [==============================] - 0s 375us/step - loss: 0.6916 - acc: 0.6780\n",
      "Epoch 5/100\n",
      "500/500 [==============================] - 0s 395us/step - loss: 0.6905 - acc: 0.6300\n",
      "Epoch 6/100\n",
      "500/500 [==============================] - 0s 385us/step - loss: 0.6890 - acc: 0.3640\n",
      "Epoch 7/100\n",
      "500/500 [==============================] - 0s 399us/step - loss: 0.6865 - acc: 0.6460\n",
      "Epoch 8/100\n",
      "500/500 [==============================] - 0s 359us/step - loss: 0.6838 - acc: 0.6740\n",
      "Epoch 9/100\n",
      "500/500 [==============================] - 0s 343us/step - loss: 0.6796 - acc: 0.7580\n",
      "Epoch 10/100\n",
      "500/500 [==============================] - 0s 338us/step - loss: 0.6734 - acc: 0.7980\n",
      "Epoch 11/100\n",
      "500/500 [==============================] - 0s 359us/step - loss: 0.6659 - acc: 0.8380\n",
      "Epoch 12/100\n",
      "500/500 [==============================] - 0s 377us/step - loss: 0.6547 - acc: 0.8600\n",
      "Epoch 13/100\n",
      "500/500 [==============================] - 0s 401us/step - loss: 0.6421 - acc: 0.8780\n",
      "Epoch 14/100\n",
      "500/500 [==============================] - 0s 379us/step - loss: 0.6269 - acc: 0.8920\n",
      "Epoch 15/100\n",
      "500/500 [==============================] - 0s 353us/step - loss: 0.6077 - acc: 0.8800\n",
      "Epoch 16/100\n",
      "500/500 [==============================] - 0s 369us/step - loss: 0.5883 - acc: 0.8700\n",
      "Epoch 17/100\n",
      "500/500 [==============================] - 0s 379us/step - loss: 0.5677 - acc: 0.8860\n",
      "Epoch 18/100\n",
      "500/500 [==============================] - 0s 407us/step - loss: 0.5443 - acc: 0.8560\n",
      "Epoch 19/100\n",
      "500/500 [==============================] - 0s 345us/step - loss: 0.5222 - acc: 0.8860\n",
      "Epoch 20/100\n",
      "500/500 [==============================] - 0s 310us/step - loss: 0.4978 - acc: 0.8880\n",
      "Epoch 21/100\n",
      "500/500 [==============================] - 0s 330us/step - loss: 0.4753 - acc: 0.8880\n",
      "Epoch 22/100\n",
      "500/500 [==============================] - 0s 401us/step - loss: 0.4526 - acc: 0.8920\n",
      "Epoch 23/100\n",
      "500/500 [==============================] - 0s 336us/step - loss: 0.4303 - acc: 0.8920\n",
      "Epoch 24/100\n",
      "500/500 [==============================] - 0s 338us/step - loss: 0.4095 - acc: 0.9040\n",
      "Epoch 25/100\n",
      "500/500 [==============================] - 0s 332us/step - loss: 0.3901 - acc: 0.9000\n",
      "Epoch 26/100\n",
      "500/500 [==============================] - 0s 381us/step - loss: 0.3703 - acc: 0.9140\n",
      "Epoch 27/100\n",
      "500/500 [==============================] - 0s 316us/step - loss: 0.3519 - acc: 0.9100\n",
      "Epoch 28/100\n",
      "500/500 [==============================] - 0s 328us/step - loss: 0.3347 - acc: 0.9160\n",
      "Epoch 29/100\n",
      "500/500 [==============================] - 0s 312us/step - loss: 0.3178 - acc: 0.9180\n",
      "Epoch 30/100\n",
      "500/500 [==============================] - 0s 306us/step - loss: 0.3023 - acc: 0.9220\n",
      "Epoch 31/100\n",
      "500/500 [==============================] - 0s 347us/step - loss: 0.2873 - acc: 0.9240\n",
      "Epoch 32/100\n",
      "500/500 [==============================] - 0s 363us/step - loss: 0.2737 - acc: 0.9320\n",
      "Epoch 33/100\n",
      "500/500 [==============================] - 0s 363us/step - loss: 0.2608 - acc: 0.9400\n",
      "Epoch 34/100\n",
      "500/500 [==============================] - 0s 330us/step - loss: 0.2488 - acc: 0.9440\n",
      "Epoch 35/100\n",
      "500/500 [==============================] - 0s 395us/step - loss: 0.2371 - acc: 0.9640\n",
      "Epoch 36/100\n",
      "500/500 [==============================] - 0s 338us/step - loss: 0.2260 - acc: 0.9780\n",
      "Epoch 37/100\n",
      "500/500 [==============================] - 0s 280us/step - loss: 0.2161 - acc: 0.9860\n",
      "Epoch 38/100\n",
      "500/500 [==============================] - 0s 363us/step - loss: 0.2061 - acc: 0.9860\n",
      "Epoch 39/100\n",
      "500/500 [==============================] - 0s 310us/step - loss: 0.1968 - acc: 0.9900\n",
      "Epoch 40/100\n",
      "500/500 [==============================] - 0s 375us/step - loss: 0.1877 - acc: 0.9940\n",
      "Epoch 41/100\n",
      "500/500 [==============================] - 0s 320us/step - loss: 0.1794 - acc: 0.9940\n",
      "Epoch 42/100\n",
      "500/500 [==============================] - 0s 310us/step - loss: 0.1713 - acc: 0.9940\n",
      "Epoch 43/100\n",
      "500/500 [==============================] - 0s 373us/step - loss: 0.1637 - acc: 0.9960\n",
      "Epoch 44/100\n",
      "500/500 [==============================] - 0s 330us/step - loss: 0.1563 - acc: 0.9960\n",
      "Epoch 45/100\n",
      "500/500 [==============================] - 0s 336us/step - loss: 0.1493 - acc: 0.9960\n",
      "Epoch 46/100\n",
      "500/500 [==============================] - 0s 367us/step - loss: 0.1422 - acc: 0.9960\n",
      "Epoch 47/100\n",
      "500/500 [==============================] - 0s 318us/step - loss: 0.1354 - acc: 0.9960\n",
      "Epoch 48/100\n",
      "500/500 [==============================] - 0s 363us/step - loss: 0.1285 - acc: 0.9960\n",
      "Epoch 49/100\n",
      "500/500 [==============================] - 0s 371us/step - loss: 0.1214 - acc: 0.9960\n",
      "Epoch 50/100\n",
      "500/500 [==============================] - 0s 320us/step - loss: 0.1149 - acc: 0.9960\n",
      "Epoch 51/100\n",
      "500/500 [==============================] - 0s 276us/step - loss: 0.1082 - acc: 0.9960\n",
      "Epoch 52/100\n",
      "500/500 [==============================] - 0s 347us/step - loss: 0.1022 - acc: 0.9960\n",
      "Epoch 53/100\n",
      "500/500 [==============================] - 0s 375us/step - loss: 0.0967 - acc: 0.9960\n",
      "Epoch 54/100\n",
      "500/500 [==============================] - 0s 399us/step - loss: 0.0915 - acc: 0.9960\n",
      "Epoch 55/100\n",
      "500/500 [==============================] - 0s 365us/step - loss: 0.0868 - acc: 0.9960\n",
      "Epoch 56/100\n",
      "500/500 [==============================] - 0s 369us/step - loss: 0.0824 - acc: 0.9960\n",
      "Epoch 57/100\n",
      "500/500 [==============================] - 0s 357us/step - loss: 0.0784 - acc: 0.9980\n",
      "Epoch 58/100\n",
      "500/500 [==============================] - 0s 351us/step - loss: 0.0747 - acc: 0.9980\n",
      "Epoch 59/100\n",
      "500/500 [==============================] - 0s 385us/step - loss: 0.0714 - acc: 0.9980\n",
      "Epoch 60/100\n",
      "500/500 [==============================] - 0s 417us/step - loss: 0.0683 - acc: 0.9980\n",
      "Epoch 61/100\n",
      "500/500 [==============================] - 0s 377us/step - loss: 0.0654 - acc: 0.9980\n",
      "Epoch 62/100\n",
      "500/500 [==============================] - 0s 359us/step - loss: 0.0627 - acc: 0.9980\n",
      "Epoch 63/100\n",
      "500/500 [==============================] - 0s 349us/step - loss: 0.0602 - acc: 0.9980\n",
      "Epoch 64/100\n",
      "500/500 [==============================] - 0s 369us/step - loss: 0.0579 - acc: 0.9980\n",
      "Epoch 65/100\n",
      "500/500 [==============================] - 0s 427us/step - loss: 0.0557 - acc: 0.9980\n",
      "Epoch 66/100\n",
      "500/500 [==============================] - 0s 397us/step - loss: 0.0537 - acc: 0.9980\n",
      "Epoch 67/100\n",
      "500/500 [==============================] - 0s 411us/step - loss: 0.0518 - acc: 0.9980\n",
      "Epoch 68/100\n",
      "500/500 [==============================] - 0s 387us/step - loss: 0.0500 - acc: 0.9980\n",
      "Epoch 69/100\n",
      "500/500 [==============================] - 0s 369us/step - loss: 0.0484 - acc: 0.9980\n",
      "Epoch 70/100\n",
      "500/500 [==============================] - 0s 493us/step - loss: 0.0467 - acc: 0.9980\n",
      "Epoch 71/100\n",
      "500/500 [==============================] - 0s 409us/step - loss: 0.0453 - acc: 0.9980\n",
      "Epoch 72/100\n",
      "500/500 [==============================] - 0s 469us/step - loss: 0.0438 - acc: 0.9980\n",
      "Epoch 73/100\n",
      "500/500 [==============================] - 0s 451us/step - loss: 0.0425 - acc: 0.9980\n",
      "Epoch 74/100\n",
      "500/500 [==============================] - 0s 407us/step - loss: 0.0411 - acc: 0.9980\n",
      "Epoch 75/100\n",
      "500/500 [==============================] - 0s 407us/step - loss: 0.0399 - acc: 0.9980\n",
      "Epoch 76/100\n",
      "500/500 [==============================] - 0s 439us/step - loss: 0.0388 - acc: 0.9980\n",
      "Epoch 77/100\n",
      "500/500 [==============================] - 0s 449us/step - loss: 0.0377 - acc: 0.9980\n",
      "Epoch 78/100\n",
      "500/500 [==============================] - 0s 405us/step - loss: 0.0367 - acc: 0.9980\n",
      "Epoch 79/100\n",
      "500/500 [==============================] - 0s 415us/step - loss: 0.0356 - acc: 0.9980\n",
      "Epoch 80/100\n",
      "500/500 [==============================] - 0s 417us/step - loss: 0.0347 - acc: 0.9980\n",
      "Epoch 81/100\n",
      "500/500 [==============================] - 0s 451us/step - loss: 0.0340 - acc: 0.9980\n",
      "Epoch 82/100\n",
      "500/500 [==============================] - 0s 467us/step - loss: 0.0329 - acc: 0.9980\n",
      "Epoch 83/100\n",
      "500/500 [==============================] - 0s 413us/step - loss: 0.0321 - acc: 0.9980\n",
      "Epoch 84/100\n",
      "500/500 [==============================] - 0s 463us/step - loss: 0.0312 - acc: 0.9980\n",
      "Epoch 85/100\n",
      "500/500 [==============================] - 0s 471us/step - loss: 0.0305 - acc: 0.9980\n",
      "Epoch 86/100\n",
      "500/500 [==============================] - 0s 459us/step - loss: 0.0298 - acc: 1.0000\n",
      "Epoch 87/100\n",
      "500/500 [==============================] - 0s 449us/step - loss: 0.0290 - acc: 1.0000\n",
      "Epoch 88/100\n",
      "500/500 [==============================] - 0s 405us/step - loss: 0.0283 - acc: 1.0000\n",
      "Epoch 89/100\n",
      "500/500 [==============================] - 0s 461us/step - loss: 0.0277 - acc: 1.0000\n",
      "Epoch 90/100\n",
      "500/500 [==============================] - 0s 363us/step - loss: 0.0270 - acc: 1.0000\n",
      "Epoch 91/100\n",
      "500/500 [==============================] - 0s 401us/step - loss: 0.0264 - acc: 1.0000\n",
      "Epoch 92/100\n",
      "500/500 [==============================] - 0s 332us/step - loss: 0.0259 - acc: 1.0000\n",
      "Epoch 93/100\n",
      "500/500 [==============================] - 0s 402us/step - loss: 0.0253 - acc: 1.0000\n",
      "Epoch 94/100\n",
      "500/500 [==============================] - 0s 375us/step - loss: 0.0247 - acc: 1.0000\n",
      "Epoch 95/100\n",
      "500/500 [==============================] - 0s 397us/step - loss: 0.0242 - acc: 1.0000\n",
      "Epoch 96/100\n",
      "500/500 [==============================] - 0s 395us/step - loss: 0.0237 - acc: 1.0000\n",
      "Epoch 97/100\n",
      "500/500 [==============================] - 0s 437us/step - loss: 0.0232 - acc: 1.0000\n",
      "Epoch 98/100\n",
      "500/500 [==============================] - 0s 409us/step - loss: 0.0227 - acc: 1.0000\n",
      "Epoch 99/100\n",
      "500/500 [==============================] - 0s 469us/step - loss: 0.0222 - acc: 1.0000\n",
      "Epoch 100/100\n",
      "500/500 [==============================] - 0s 427us/step - loss: 0.0217 - acc: 1.0000\n"
     ]
    },
    {
     "data": {
      "text/plain": [
       "Text(0.5,0,'epoch')"
      ]
     },
     "execution_count": 12,
     "metadata": {},
     "output_type": "execute_result"
    },
    {
     "data": {
      "image/png": "[encoded data removed]",
      "text/plain": [
       "<Figure size 432x288 with 1 Axes>"
      ]
     },
     "metadata": {
      "needs_background": "light"
     },
     "output_type": "display_data"
    }
   ],
   "source": [
    "\n",
    "model = Sequential()\n",
    "model.add(Dense(4, input_shape=(2,), activation='sigmoid'))\n",
    "model.add(Dense(1, activation='sigmoid'))\n",
    "model.compile(Adam(lr = 0.01), 'binary_crossentropy', metrics=['accuracy'])\n",
    "h =model.fit(x=X, y=y, verbose = 1, batch_size=20, epochs=100, shuffle='true')\n",
    "\n",
    "plt.plot(h.history['acc'])\n",
    "plt.legend(['accuracy'])\n",
    "plt.ylabel('accuracy')\n",
    "plt.xlabel('epoch')\n",
    " \n",
    "plt.plot(h.history['loss'])\n",
    "plt.legend(['loss'])\n",
    "plt.title('loss')\n",
    "plt.xlabel('epoch')\n",
    "\n"
   ]
  },
  {
   "cell_type": "code",
   "execution_count": 13,
   "metadata": {},
   "outputs": [
    {
     "name": "stdout",
     "output_type": "stream",
     "text": [
      "Prediction is:  [[0.02547495]]\n"
     ]
    },
    {
     "data": {
      "image/png": "[encoded data removed]",
      "text/plain": [
       "<Figure size 432x288 with 1 Axes>"
      ]
     },
     "metadata": {
      "needs_background": "light"
     },
     "output_type": "display_data"
    }
   ],
   "source": [
    "\n",
    "def plot_decision_boundary(X, y, model):\n",
    "    x_span = np.linspace(min(X[:,0]) - 0.25, max(X[:,0]) + 0.25)\n",
    "    y_span = np.linspace(min(X[:,1]) - 0.25, max(X[:,1]) + 0.25)\n",
    "    xx, yy = np.meshgrid(x_span, y_span)\n",
    "    grid = np.c_[xx.ravel(), yy.ravel()]\n",
    "    pred_func = model.predict(grid)\n",
    "    z = pred_func.reshape(xx.shape)\n",
    "    plt.contourf(xx, yy, z)\n",
    "plot_decision_boundary(X, y, model)\n",
    "plt.scatter(X[y==0, 0], X[y==0, 1])\n",
    "plt.scatter(X[y==1, 0], X[y==1, 1])\n",
    "plot_decision_boundary(X, y, model)\n",
    "plt.scatter(X[y==0, 0], X[y==0, 1])\n",
    "plt.scatter(X[y==1, 0], X[y==1, 1])\n",
    " \n",
    "x = 0\n",
    "y = 0.75\n",
    " \n",
    "point = np.array([[x, y]])\n",
    "predict = model.predict(point)\n",
    "plt.plot([x], [y], marker='o', markersize=10, color=\"red\")\n",
    "print(\"Prediction is: \", predict)"
   ]
  },
  {
   "cell_type": "code",
   "execution_count": null,
   "metadata": {},
   "outputs": [],
   "source": []
  }
 ],
 "metadata": {
  "kernelspec": {
   "display_name": "Python 3",
   "language": "python",
   "name": "python3"
  },
  "language_info": {
   "codemirror_mode": {
    "name": "ipython",
    "version": 3
   },
   "file_extension": ".py",
   "mimetype": "text/x-python",
   "name": "python",
   "nbconvert_exporter": "python",
   "pygments_lexer": "ipython3",
   "version": "3.6.7"
  }
 },
 "nbformat": 4,
 "nbformat_minor": 2
}
