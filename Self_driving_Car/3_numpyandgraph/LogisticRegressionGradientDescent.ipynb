{
 "cells": [
  {
   "cell_type": "code",
   "execution_count": 6,
   "metadata": {},
   "outputs": [],
   "source": [
    "import numpy as np\n",
    "import matplotlib.pyplot as plt\n",
    "%matplotlib inline"
   ]
  },
  {
   "cell_type": "code",
   "execution_count": 27,
   "metadata": {},
   "outputs": [],
   "source": [
    "def draw(x1,x2):\n",
    "    ln = plt.plot(x1,x2)\n",
    "\n",
    "    \n",
    "def sigmoid(score):\n",
    "    return 1/(1 + np.exp(-score))\n",
    "\n",
    "def calclate_error(lineparameter, points,y):\n",
    "    m = points.shape[0]\n",
    "    p = sigmoid(points * line_parameter)\n",
    "    cross_entopy = -(1/m)*(np.log(p).T * y + np.log(1-p).T*(1-y))\n",
    "    return cross_entopy\n",
    "\n",
    "def gradient_descent(line_paameters, points, y, alpha):\n",
    "    m = points.shape[0]    \n",
    "    for i in range(5000):\n",
    "        p = sigmoid(points * line_paameters)\n",
    "        gradient = (points.T * (p - y)) * (alpha/m)\n",
    "        line_paameters = line_paameters - gradient\n",
    "        w1 = line_paameters.item(0)\n",
    "        w2 = line_paameters.item(1)\n",
    "        b = line_paameters.item(2)\n",
    "        x1 =  np.array([ points[:,0].min(),points[:,0].max()])\n",
    "        x2 = -b / w2 + x1 * (- w1 / w2)\n",
    "    draw(x1,x2)\n"
   ]
  },
  {
   "cell_type": "code",
   "execution_count": 28,
   "metadata": {},
   "outputs": [],
   "source": [
    "n_pts=100\n",
    "np.random.seed(0)\n",
    "bias= np.ones(n_pts)\n",
    "top_region=np.array([np.random.normal(10,2,n_pts), np.random.normal(12,2,n_pts), bias]).T\n",
    "bottom_region= np.array([np.random.normal(5,2, n_pts), np.random.normal(6,2, n_pts), bias]).T\n",
    "all_points=np.vstack((top_region, bottom_region))\n",
    " \n",
    "line_parameters = np.matrix([np.zeros(3)]).T\n",
    "# x1=np.array([bottom_region[:,0].min(), top_region[:,0].max()])\n",
    "# x2= -b/w2 + (x1*(-w1/w2))\n",
    "y=np.array([np.zeros(n_pts), np.ones(n_pts)]).reshape(n_pts*2, 1)\n"
   ]
  },
  {
   "cell_type": "code",
   "execution_count": 29,
   "metadata": {},
   "outputs": [
    {
     "data": {
      "image/png": "[encoded data removed]",
      "text/plain": [
       "<Figure size 288x288 with 1 Axes>"
      ]
     },
     "metadata": {},
     "output_type": "display_data"
    }
   ],
   "source": [
    "_, ax= plt.subplots(figsize=(4,4))\n",
    "ax.scatter(top_region[:,0], top_region[:,1], color='r')\n",
    "ax.scatter(bottom_region[:,0], bottom_region[:,1], color='b')\n",
    "gradient_descent(line_parameters, all_points, y , 0.06)\n",
    "plt.show()"
   ]
  },
  {
   "cell_type": "code",
   "execution_count": 14,
   "metadata": {},
   "outputs": [
    {
     "name": "stdout",
     "output_type": "stream",
     "text": [
      "[[0.69314718]]\n"
     ]
    }
   ],
   "source": [
    "print(calclate_error(line_parameter,all_points,y))"
   ]
  },
  {
   "cell_type": "code",
   "execution_count": null,
   "metadata": {},
   "outputs": [],
   "source": []
  }
 ],
 "metadata": {
  "kernelspec": {
   "display_name": "Python 3",
   "language": "python",
   "name": "python3"
  },
  "language_info": {
   "codemirror_mode": {
    "name": "ipython",
    "version": 3
   },
   "file_extension": ".py",
   "mimetype": "text/x-python",
   "name": "python",
   "nbconvert_exporter": "python",
   "pygments_lexer": "ipython3",
   "version": "3.6.5"
  }
 },
 "nbformat": 4,
 "nbformat_minor": 2
}
