{
 "cells": [
  {
   "cell_type": "code",
   "execution_count": 8,
   "metadata": {},
   "outputs": [],
   "source": [
    "import tensorflow as tf\n",
    "from tensorflow.python.tools import freeze_graph, optimize_for_inference, optimize_for_inference_lib"
   ]
  },
  {
   "cell_type": "code",
   "execution_count": 6,
   "metadata": {},
   "outputs": [
    {
     "name": "stdout",
     "output_type": "stream",
     "text": [
      "INFO:tensorflow:Restoring parameters from linear_regression.ckpt\n",
      "INFO:tensorflow:Froze 2 variables.\n",
      "Converted 2 variables to const ops.\n"
     ]
    }
   ],
   "source": [
    "freeze_graph.freeze_graph(input_graph='linear_regression.pbtxt',\n",
    "                          input_saver='',\n",
    "                          input_binary=True,\n",
    "                         input_checkpoint='linear_regression.ckpt',\n",
    "                          output_node_names='y_output',\n",
    "                         restore_op_name='save/restore_all',\n",
    "                         filename_tensor_name='save/Const:0',\n",
    "                         output_graph='frozen_linear_regression.pb',\n",
    "                         clear_devices=True,\n",
    "                         initializer_nodes= '',\n",
    "                         variable_names_blacklist= '',\n",
    "                         )"
   ]
  },
  {
   "cell_type": "code",
   "execution_count": 12,
   "metadata": {},
   "outputs": [],
   "source": [
    "input_graph_def = tf.GraphDef()\n",
    "with tf.gfile.Open('frozen_linear_regression.pb', 'rb') as f:\n",
    "    data = f.read()\n",
    "    input_graph_def.ParseFromString(data)\n",
    "    \n",
    "\n",
    "output_graph_def = optimize_for_inference_lib.optimize_for_inference(input_graph_def=input_graph_def,\n",
    "                                                                    input_node_names=['x'],\n",
    "                                                                    output_node_names=['y_output'],\n",
    "                                                                     placeholder_type_enum=tf.float32.as_datatype_enum                       \n",
    "                                                                    )\n",
    "\n",
    "f = tf.gfile.FastGFile(name='optimized_frozen_linear_regression.pb',\n",
    "                      mode='w')\n",
    "f.write(file_content=output_graph_def.SerializeToString())"
   ]
  },
  {
   "cell_type": "code",
   "execution_count": null,
   "metadata": {},
   "outputs": [],
   "source": []
  }
 ],
 "metadata": {
  "kernelspec": {
   "display_name": "Python 3",
   "language": "python",
   "name": "python3"
  },
  "language_info": {
   "codemirror_mode": {
    "name": "ipython",
    "version": 3
   },
   "file_extension": ".py",
   "mimetype": "text/x-python",
   "name": "python",
   "nbconvert_exporter": "python",
   "pygments_lexer": "ipython3",
   "version": "3.5.5"
  }
 },
 "nbformat": 4,
 "nbformat_minor": 2
}
