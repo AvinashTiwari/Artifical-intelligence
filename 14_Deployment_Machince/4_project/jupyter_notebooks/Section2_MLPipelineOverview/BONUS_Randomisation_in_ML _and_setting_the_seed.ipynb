{
 "cells": [
  {
   "cell_type": "markdown",
   "metadata": {},
   "source": [
    "## Reproducibility in Machine Learning\n",
    "\n",
    "Reproducibility in machine learning modeling is an important problem faced by data scientists and companies seeking to put machine learning models into production. Reproducibility means that given the same inputs, we should obtain exactly the same outputs. And this is for both our research and our production environment. In other words, our research models and our deployed models should produce the same score for the same input.\n",
    "\n",
    "There are tremendous costs to irreproducible machine learning models including:\n",
    "\n",
    "- Financial costs\n",
    "- Time costs (lost time)\n",
    "- Reputational costs\n",
    "- Compliance costs\n",
    "- Regulatory costs\n",
    "\n",
    "The problems with reproducibility can arise in any and all of the machine learning building pipeline steps:\n",
    "\n",
    "- Data gathering\n",
    "- Feature extraction and feature engineering\n",
    "- Feature selection\n",
    "- Model building\n",
    "- Data scoring\n",
    "\n",
    "This is because all these steps involve elements of randomness. For example, if gathering data with SQL, there is an element of randomness when retrieving the rows from the database. During feature engineering, if we replace missing information by a random extraction of non-missing observations, we are introducing another layer of randomness. Machine learning models and feature selection algorithms involve randomness during model fitting. Think for example Random Forests; there is an element of randomness to select the features at each split, as well as to bootrstrap a sample of the dataset to fit each tree. For neural networks there is an element of randomness to initialise the network weights.\n",
    "\n",
    "In a future section, we will show you how to tackle reproducibility between research and deployment pipelines.\n",
    "\n",
    "For this section, please go ahead and get familiar with randomness in computer science and machine learning by visiting the following resources:\n",
    "\n",
    "- [Why do we need randomness?](https://www.kdnuggets.com/2017/06/surprising-complexity-randomness.html)\n",
    "- [Embrace Randomness in Machine Learning](https://machinelearningmastery.com/randomness-in-machine-learning/)\n",
    "- [Random Number Generators for ML in python](https://machinelearningmastery.com/introduction-to-random-number-generators-for-machine-learning/)"
   ]
  },
  {
   "cell_type": "code",
   "execution_count": null,
   "metadata": {
    "collapsed": true
   },
   "outputs": [],
   "source": []
  }
 ],
 "metadata": {
  "kernelspec": {
   "display_name": "Python 3",
   "language": "python",
   "name": "python3"
  },
  "language_info": {
   "codemirror_mode": {
    "name": "ipython",
    "version": 3
   },
   "file_extension": ".py",
   "mimetype": "text/x-python",
   "name": "python",
   "nbconvert_exporter": "python",
   "pygments_lexer": "ipython3",
   "version": "3.6.1"
  },
  "toc": {
   "nav_menu": {},
   "number_sections": true,
   "sideBar": true,
   "skip_h1_title": false,
   "toc_cell": false,
   "toc_position": {},
   "toc_section_display": "block",
   "toc_window_display": false
  }
 },
 "nbformat": 4,
 "nbformat_minor": 2
}
